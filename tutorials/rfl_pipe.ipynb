{
 "cells": [
  {
   "cell_type": "markdown",
   "metadata": {},
   "source": [
    "# Test of the new Reflected Bkg with Gammapy (run pipeline)\n",
    "\n",
    "In this tutorial we will learn how to perform a 1d spectral analysis.\n",
    "\n",
    "We will use a \"pipeline\" or \"workflow\" class to run a standard analysis. If you're interested in implementation detail of the analysis in order to create a custom analysis class, you should read ([spectrum_analysis.ipynb](spectrum_analysis.ipynb)) that executes the analysis using lower-level classes and methods in Gammapy. \n",
    "\n",
    "In this tutorial we will use the folling Gammapy classes:\n",
    "\n",
    "- [gammapy.data.DataStore](https://docs.gammapy.org/dev/api/gammapy.data.DataStore.html) to load the data to \n",
    "- [gammapy.scripts.SpectrumAnalysisIACT](https://docs.gammapy.org/dev/api/gammapy.scripts.SpectrumAnalysisIACT.html) to run the analysis\n",
    "\n",
    "We use 4 Crab observations from H.E.S.S. for testing."
   ]
  },
  {
   "cell_type": "markdown",
   "metadata": {},
   "source": [
    "## Setup\n",
    "\n",
    "As usual, we'll start with some setup for the notebook, and import the functionality we need."
   ]
  },
  {
   "cell_type": "code",
   "execution_count": 1,
   "metadata": {},
   "outputs": [],
   "source": [
    "%matplotlib inline\n",
    "import numpy as np\n",
    "import matplotlib.pyplot as plt\n",
    "\n",
    "import astropy.units as u\n",
    "from astropy.coordinates import SkyCoord, Angle\n",
    "from regions import PixCoord, CircleSkyRegion, CircleAnnulusSkyRegion, EllipseSkyRegion, EllipseAnnulusSkyRegion, RectangleSkyRegion, RectangleAnnulusSkyRegion, PolygonSkyRegion\n",
    "\n",
    "from gammapy.data import DataStore\n",
    "from gammapy.catalog import SourceCatalogGammaCat\n",
    "from gammapy.maps import Map\n",
    "from gammapy.background import ReflectedRegionsBackgroundEstimator, ReflectedRegionsBackgroundEstimator_BK\n",
    "from gammapy.stats import significance_on_off"
   ]
  },
  {
   "cell_type": "markdown",
   "metadata": {},
   "source": [
    "## Select data\n",
    "\n",
    "First, we select and load some H.E.S.S. data (simulated events for now). In real life you would do something fancy here, or just use the list of observations someone send you (and hope they have done something fancy before). We'll just use the standard gammapy 4 crab runs."
   ]
  },
  {
   "cell_type": "code",
   "execution_count": 2,
   "metadata": {},
   "outputs": [
    {
     "name": "stdout",
     "output_type": "stream",
     "text": [
      "[23523 23526 23559 23592]\n"
     ]
    }
   ],
   "source": [
    "data_store = DataStore.from_dir(\"$GAMMAPY_DATA/hess-dl3-dr1/\")\n",
    "mask = data_store.obs_table[\"TARGET_NAME\"] == \"Crab\"\n",
    "obs_ids = data_store.obs_table[\"OBS_ID\"][mask].data\n",
    "observations = data_store.get_observations(obs_ids)\n",
    "print(obs_ids)"
   ]
  },
  {
   "cell_type": "markdown",
   "metadata": {},
   "source": [
    "## Configure the analysis\n",
    "\n",
    "Now we'll define the input for the spectrum analysis. It will be done the python way, i.e. by creating a config dict containing python objects. We plan to add also the convenience to configure the analysis using a plain text config file."
   ]
  },
  {
   "cell_type": "code",
   "execution_count": 3,
   "metadata": {},
   "outputs": [
    {
     "name": "stdout",
     "output_type": "stream",
     "text": [
      "<SkyCoord (ICRS): (ra, dec) in deg\n",
      "    (83.63308333, 22.0145)>\n"
     ]
    }
   ],
   "source": [
    "crab_pos = SkyCoord.from_name(\"crab\")\n",
    "print(crab_pos)\n",
    "on_region = CircleSkyRegion(crab_pos, 0.15 * u.deg)"
   ]
  },
  {
   "cell_type": "code",
   "execution_count": 4,
   "metadata": {
    "scrolled": true
   },
   "outputs": [
    {
     "data": {
      "image/png": "[encoded data removed]",
      "text/plain": [
       "<Figure size 432x288 with 1 Axes>"
      ]
     },
     "metadata": {},
     "output_type": "display_data"
    }
   ],
   "source": [
    "exclusion_mask = Map.create(skydir=crab_pos, width=(10, 10), binsz=0.02)\n",
    "\n",
    "gammacat = SourceCatalogGammaCat(\"$GAMMAPY_DATA/catalogs/gammacat/gammacat.fits.gz\")\n",
    "\n",
    "regions = []\n",
    "for source in gammacat:\n",
    "    if not exclusion_mask.geom.contains(source.position):\n",
    "        continue\n",
    "    region = CircleSkyRegion(source.position, 0.15 * u.deg)\n",
    "    regions.append(region)\n",
    "\n",
    "region = RectangleSkyRegion(center=SkyCoord(80.3,22.0,unit=\"deg\"),\n",
    "                                    width=1.2 * u.deg, height=0.4 * u.deg,\n",
    "                                    angle=0 * u.deg)\n",
    "regions.append(region)\n",
    "\n",
    "exclusion_mask.data = exclusion_mask.geom.region_mask(regions, inside=False)\n",
    "exclusion_mask.plot();"
   ]
  },
  {
   "cell_type": "code",
   "execution_count": 5,
   "metadata": {},
   "outputs": [],
   "source": [
    "config = dict(\n",
    "    outdir=\".\",\n",
    "    background=dict(\n",
    "        on_region=on_region,\n",
    "        exclusion_mask=exclusion_mask,\n",
    "        min_distance=0.1 * u.rad,\n",
    "    )\n",
    ")"
   ]
  },
  {
   "cell_type": "markdown",
   "metadata": {},
   "source": [
    "## Test different region types"
   ]
  },
  {
   "cell_type": "code",
   "execution_count": 6,
   "metadata": {},
   "outputs": [
    {
     "name": "stdout",
     "output_type": "stream",
     "text": [
      "CoG=<SkyCoord (ICRS): (ra, dec) in deg\n",
      "    (83.49335254, 21.51444058)> \n",
      "Radius=0.7003274046925362 deg\n"
     ]
    },
    {
     "data": {
      "image/png": "[encoded data removed]",
      "text/plain": [
       "<Figure size 432x288 with 1 Axes>"
      ]
     },
     "metadata": {},
     "output_type": "display_data"
    }
   ],
   "source": [
    "polygon_sky = PolygonSkyRegion(vertices=SkyCoord([83, 84, 84], [21, 21, 22], unit='deg', frame='icrs'))\n",
    "exclusion_mask.plot();\n",
    "polygon_pix = polygon_sky.to_pixel(exclusion_mask.geom.wcs)\n",
    "polygon_pix.plot();\n",
    "\n",
    "ixmin=polygon_pix.bounding_box.ixmin\n",
    "ixmax=polygon_pix.bounding_box.ixmax\n",
    "iymin=polygon_pix.bounding_box.iymin\n",
    "iymax=polygon_pix.bounding_box.iymax\n",
    "CoG = PixCoord((ixmin+ixmax)/2., (iymin+iymax)/2.).to_sky(exclusion_mask.geom.wcs)\n",
    "Radius = CoG.separation(PixCoord(ixmin,iymin).to_sky(exclusion_mask.geom.wcs))\n",
    "print(\"CoG={0} \\nRadius={1}\".format(CoG, Radius))"
   ]
  },
  {
   "cell_type": "code",
   "execution_count": 7,
   "metadata": {},
   "outputs": [
    {
     "name": "stdout",
     "output_type": "stream",
     "text": [
      "ICRS frame\n",
      "BoundingBox(ixmin=132, ixmax=333, iymin=99, iymax=300)\n",
      "CoG=<SkyCoord (ICRS): (ra, dec) in deg\n",
      "    (83.99725187, 21.01409498)>\n",
      "Radius=2.841626076086742 deg\n"
     ]
    },
    {
     "data": {
      "image/png": "[encoded data removed]",
      "text/plain": [
       "<Figure size 432x288 with 1 Axes>"
      ]
     },
     "metadata": {},
     "output_type": "display_data"
    }
   ],
   "source": [
    "center = SkyCoord(84, 21, unit='deg')\n",
    "radius = Angle(2, 'deg')\n",
    "circle = CircleSkyRegion(center, radius)\n",
    "if 'l' in circle.center.representation_component_names:\n",
    "    print(\"Galactic frame\")\n",
    "else:\n",
    "    print(\"ICRS frame\")\n",
    "exclusion_mask.plot();\n",
    "circle_pix = circle.to_pixel(exclusion_mask.geom.wcs)\n",
    "circle_pix.plot();\n",
    "\n",
    "print(circle_pix.bounding_box)\n",
    "ixmin=circle_pix.bounding_box.ixmin\n",
    "ixmax=circle_pix.bounding_box.ixmax\n",
    "iymin=circle_pix.bounding_box.iymin\n",
    "iymax=circle_pix.bounding_box.iymax\n",
    "CoG = PixCoord((ixmin+ixmax)/2., (iymin+iymax)/2.).to_sky(exclusion_mask.geom.wcs)\n",
    "Radius = CoG.separation(PixCoord(ixmin,iymin).to_sky(exclusion_mask.geom.wcs))\n",
    "print(\"CoG={0}\\nRadius={1}\".format(CoG, Radius))"
   ]
  },
  {
   "cell_type": "code",
   "execution_count": 8,
   "metadata": {},
   "outputs": [
    {
     "name": "stdout",
     "output_type": "stream",
     "text": [
      "BoundingBox(ixmin=146, ixmax=320, iymin=119, iymax=280)\n",
      "CoG=<SkyCoord (ICRS): (ra, dec) in deg\n",
      "    (83.98654107, 21.01411846)>\n",
      "Radius=2.3699148510581876 deg\n"
     ]
    },
    {
     "data": {
      "image/png": "[encoded data removed]",
      "text/plain": [
       "<Figure size 432x288 with 1 Axes>"
      ]
     },
     "metadata": {},
     "output_type": "display_data"
    }
   ],
   "source": [
    "ellipse_annulus_sky = EllipseAnnulusSkyRegion(center=center,\n",
    "                                               inner_width=1.5 * u.deg,\n",
    "                                               outer_width=2.5 * u.deg,\n",
    "                                               inner_height=3 * u.deg,\n",
    "                                               outer_height=4 * u.deg,\n",
    "                                               angle=130 * u.deg)\n",
    "exclusion_mask.plot();\n",
    "ellipse_annulus_pix = ellipse_annulus_sky.to_pixel(exclusion_mask.geom.wcs)\n",
    "ellipse_annulus_pix.plot();\n",
    "\n",
    "print(ellipse_annulus_pix.bounding_box)\n",
    "ixmin=ellipse_annulus_pix.bounding_box.ixmin\n",
    "ixmax=ellipse_annulus_pix.bounding_box.ixmax\n",
    "iymin=ellipse_annulus_pix.bounding_box.iymin\n",
    "iymax=ellipse_annulus_pix.bounding_box.iymax\n",
    "CoG = PixCoord((ixmin+ixmax)/2., (iymin+iymax)/2.).to_sky(exclusion_mask.geom.wcs)\n",
    "Radius = CoG.separation(PixCoord(ixmin,iymin).to_sky(exclusion_mask.geom.wcs))\n",
    "print(\"CoG={0}\\nRadius={1}\".format(CoG, Radius))"
   ]
  },
  {
   "cell_type": "code",
   "execution_count": 9,
   "metadata": {},
   "outputs": [
    {
     "name": "stdout",
     "output_type": "stream",
     "text": [
      "BoundingBox(ixmin=124, ixmax=342, iymin=96, iymax=302)\n",
      "CoG=<SkyCoord (ICRS): (ra, dec) in deg\n",
      "    (83.9865163, 21.00411848)>\n",
      "Radius=2.998243478870509 deg\n"
     ]
    },
    {
     "data": {
      "image/png": "[encoded data removed]",
      "text/plain": [
       "<Figure size 432x288 with 1 Axes>"
      ]
     },
     "metadata": {},
     "output_type": "display_data"
    }
   ],
   "source": [
    "rectangle_sky = RectangleSkyRegion(center=center,\n",
    "                                    width=2. * u.deg, height=4. * u.deg,\n",
    "                                    angle=50 * u.deg)\n",
    "exclusion_mask.plot();\n",
    "rectangle_pix = rectangle_sky.to_pixel(exclusion_mask.geom.wcs)\n",
    "rectangle_pix.plot();\n",
    "\n",
    "print(rectangle_pix.bounding_box)\n",
    "ixmin=rectangle_pix.bounding_box.ixmin\n",
    "ixmax=rectangle_pix.bounding_box.ixmax\n",
    "iymin=rectangle_pix.bounding_box.iymin\n",
    "iymax=rectangle_pix.bounding_box.iymax\n",
    "CoG = PixCoord((ixmin+ixmax)/2., (iymin+iymax)/2.).to_sky(exclusion_mask.geom.wcs)\n",
    "Radius = CoG.separation(PixCoord(ixmin,iymin).to_sky(exclusion_mask.geom.wcs))\n",
    "print(\"CoG={0}\\nRadius={1}\".format(CoG, Radius))"
   ]
  },
  {
   "cell_type": "markdown",
   "metadata": {},
   "source": [
    "## Configuration of the Reflected Bg Makers\n"
   ]
  },
  {
   "cell_type": "code",
   "execution_count": 10,
   "metadata": {},
   "outputs": [],
   "source": [
    "background_estimator = ReflectedRegionsBackgroundEstimator(\n",
    "            observations=observations, **config[\"background\"]\n",
    "        )"
   ]
  },
  {
   "cell_type": "code",
   "execution_count": 11,
   "metadata": {},
   "outputs": [],
   "source": [
    "# rectangle_sky = RectangleSkyRegion(center=crab_pos.transform_to('galactic'),\n",
    "#                                     width=0.5 * u.deg, height=0.4 * u.deg,\n",
    "#                                     angle=0 * u.deg)\n",
    "# rectangle_sky = RectangleSkyRegion(center=crab_pos,\n",
    "#                                     width=0.5 * u.deg, height=0.4 * u.deg,\n",
    "#                                     angle=0 * u.deg)\n",
    "# config = dict(\n",
    "#     outdir=\".\",\n",
    "#     background=dict(\n",
    "#         on_region=rectangle_sky,\n",
    "#         exclusion_mask=exclusion_mask,\n",
    "#         min_distance=0.1 * u.rad,\n",
    "#     )\n",
    "# )\n",
    "\n",
    "config = dict(\n",
    "    outdir=\".\",\n",
    "    background=dict(\n",
    "        on_region = CircleSkyRegion(crab_pos.transform_to('galactic'), 0.15 * u.deg),\n",
    "        exclusion_mask=exclusion_mask,\n",
    "        min_distance=0.1 * u.rad,\n",
    "    )\n",
    ")\n",
    "background_bk_estimator = ReflectedRegionsBackgroundEstimator_BK(\n",
    "            observations=observations, **config[\"background\"]\n",
    "        )"
   ]
  },
  {
   "cell_type": "markdown",
   "metadata": {},
   "source": [
    "## Results from initial class\n",
    "\n",
    "Let's look at the results, and also compare with a previously published Crab nebula spectrum for reference."
   ]
  },
  {
   "cell_type": "code",
   "execution_count": 12,
   "metadata": {},
   "outputs": [],
   "source": [
    "background_estimator.run()"
   ]
  },
  {
   "cell_type": "code",
   "execution_count": 13,
   "metadata": {
    "scrolled": true
   },
   "outputs": [
    {
     "name": "stderr",
     "output_type": "stream",
     "text": [
      "/home/khelifi/MesProgrammes/anaconda3/lib/python3.6/site-packages/matplotlib/patches.py:83: UserWarning: Setting the 'color' property will overridethe edgecolor or facecolor properties. \n",
      "  warnings.warn(\"Setting the 'color' property will override\"\n"
     ]
    },
    {
     "data": {
      "image/png": "[encoded data removed]",
      "text/plain": [
       "<Figure size 432x288 with 1 Axes>"
      ]
     },
     "metadata": {},
     "output_type": "display_data"
    }
   ],
   "source": [
    "background_estimator.plot();"
   ]
  },
  {
   "cell_type": "code",
   "execution_count": 14,
   "metadata": {},
   "outputs": [
    {
     "name": "stdout",
     "output_type": "stream",
     "text": [
      "BackgroundEstimate\n",
      " Method: Reflected Regions\n",
      " on region\n",
      " Region: CircleSkyRegion\n",
      "center: <SkyCoord (ICRS): (ra, dec) in deg\n",
      "    (83.63308333, 22.0145)>\n",
      "radius: 0.15 deg\n",
      " EventList info:\n",
      "- Number of events: 255\n",
      "- Median energy: 0.97 TeV\n",
      "- OBS_ID = 23523\n",
      " off region\n",
      " [<CircleSkyRegion(<SkyCoord (Galactic): (l, b) in deg\n",
      "    (184.49445147, -6.17309691)>, radius=0.15000538537959704 deg)>, <CircleSkyRegion(<SkyCoord (Galactic): (l, b) in deg\n",
      "    (184.69165367, -6.45982442)>, radius=0.15000192030559253 deg)>, <CircleSkyRegion(<SkyCoord (Galactic): (l, b) in deg\n",
      "    (185.02935512, -6.54955664)>, radius=0.15000006265358506 deg)>, <CircleSkyRegion(<SkyCoord (Galactic): (l, b) in deg\n",
      "    (185.34431034, -6.39890795)>, radius=0.15000297126018794 deg)>, <CircleSkyRegion(<SkyCoord (Galactic): (l, b) in deg\n",
      "    (185.48434371, -6.0807053)>, radius=0.1500057008221304 deg)>, <CircleSkyRegion(<SkyCoord (Galactic): (l, b) in deg\n",
      "    (185.38216315, -5.74858995)>, radius=0.15000361453508604 deg)>, <CircleSkyRegion(<SkyCoord (Galactic): (l, b) in deg\n",
      "    (185.08735689, -5.56267604)>, radius=0.15000024940374765 deg)>]\n",
      " EventList info:\n",
      "- Number of events: 243\n",
      "- Median energy: 0.735 TeV\n",
      "- OBS_ID = 23523\n",
      "\n",
      "\n",
      "BackgroundEstimate\n",
      " Method: Reflected Regions\n",
      " on region\n",
      " Region: CircleSkyRegion\n",
      "center: <SkyCoord (ICRS): (ra, dec) in deg\n",
      "    (83.63308333, 22.0145)>\n",
      "radius: 0.15 deg\n",
      " EventList info:\n",
      "- Number of events: 273\n",
      "- Median energy: 0.807 TeV\n",
      "- OBS_ID = 23526\n",
      " off region\n",
      " [<CircleSkyRegion(<SkyCoord (Galactic): (l, b) in deg\n",
      "    (184.6207057, -5.39568591)>, radius=0.15000536871888087 deg)>, <CircleSkyRegion(<SkyCoord (Galactic): (l, b) in deg\n",
      "    (184.42412101, -5.10880471)>, radius=0.15000190240022676 deg)>, <CircleSkyRegion(<SkyCoord (Galactic): (l, b) in deg\n",
      "    (184.0874378, -5.01852756)>, radius=0.1500000350456613 deg)>, <CircleSkyRegion(<SkyCoord (Galactic): (l, b) in deg\n",
      "    (183.77286285, -5.16834439)>, radius=0.1500029306019422 deg)>, <CircleSkyRegion(<SkyCoord (Galactic): (l, b) in deg\n",
      "    (183.63200578, -5.48607511)>, radius=0.15000568249833474 deg)>, <CircleSkyRegion(<SkyCoord (Galactic): (l, b) in deg\n",
      "    (183.73305731, -5.81850573)>, radius=0.15000362432527198 deg)>, <CircleSkyRegion(<SkyCoord (Galactic): (l, b) in deg\n",
      "    (184.02753922, -6.00511467)>, radius=0.15000025323676244 deg)>]\n",
      " EventList info:\n",
      "- Number of events: 237\n",
      "- Median energy: 0.696 TeV\n",
      "- OBS_ID = 23526\n",
      "\n",
      "\n",
      "BackgroundEstimate\n",
      " Method: Reflected Regions\n",
      " on region\n",
      " Region: CircleSkyRegion\n",
      "center: <SkyCoord (ICRS): (ra, dec) in deg\n",
      "    (83.63308333, 22.0145)>\n",
      "radius: 0.15 deg\n",
      " EventList info:\n",
      "- Number of events: 212\n",
      "- Median energy: 0.889 TeV\n",
      "- OBS_ID = 23559\n",
      " off region\n",
      " [<CircleSkyRegion(<SkyCoord (Galactic): (l, b) in deg\n",
      "    (185.11923044, -5.99415259)>, radius=0.14994976052884798 deg)>, <CircleSkyRegion(<SkyCoord (Galactic): (l, b) in deg\n",
      "    (185.57069179, -5.99786889)>, radius=0.1499495079036881 deg)>, <CircleSkyRegion(<SkyCoord (Galactic): (l, b) in deg\n",
      "    (186.0029431, -5.86839912)>, radius=0.1499579348368408 deg)>, <CircleSkyRegion(<SkyCoord (Galactic): (l, b) in deg\n",
      "    (186.37712029, -5.6173997)>, radius=0.14997207880105756 deg)>, <CircleSkyRegion(<SkyCoord (Galactic): (l, b) in deg\n",
      "    (186.65970282, -5.2674385)>, radius=0.14998697393518354 deg)>, <CircleSkyRegion(<SkyCoord (Galactic): (l, b) in deg\n",
      "    (186.82553279, -4.84992024)>, radius=0.14999740207628862 deg)>, <CircleSkyRegion(<SkyCoord (Galactic): (l, b) in deg\n",
      "    (186.86001041, -4.40223041)>, radius=0.14999972259229913 deg)>, <CircleSkyRegion(<SkyCoord (Galactic): (l, b) in deg\n",
      "    (186.76030272, -3.96437373)>, radius=0.14999313763229039 deg)>, <CircleSkyRegion(<SkyCoord (Galactic): (l, b) in deg\n",
      "    (186.5355054, -3.57541105)>, radius=0.14997995703732672 deg)>, <CircleSkyRegion(<SkyCoord (Galactic): (l, b) in deg\n",
      "    (186.20577847, -3.27000137)>, radius=0.14996478155395626 deg)>, <CircleSkyRegion(<SkyCoord (Galactic): (l, b) in deg\n",
      "    (185.80054099, -3.07534036)>, radius=0.14995289663084105 deg)>, <CircleSkyRegion(<SkyCoord (Galactic): (l, b) in deg\n",
      "    (185.35587187, -3.00875647)>, radius=0.14994843637880012 deg)>, <CircleSkyRegion(<SkyCoord (Galactic): (l, b) in deg\n",
      "    (184.9113289, -3.07617626)>, radius=0.149952951343148 deg)>, <CircleSkyRegion(<SkyCoord (Galactic): (l, b) in deg\n",
      "    (184.50645875, -3.27159876)>, radius=0.14996487196497335 deg)>, <CircleSkyRegion(<SkyCoord (Galactic): (l, b) in deg\n",
      "    (184.17730791, -3.57762771)>, radius=0.14998005166889916 deg)>, <CircleSkyRegion(<SkyCoord (Galactic): (l, b) in deg\n",
      "    (183.95324464, -3.96701224)>, radius=0.14999320350617687 deg)>, <CircleSkyRegion(<SkyCoord (Galactic): (l, b) in deg\n",
      "    (183.85436414, -4.40505554)>, radius=0.14999973666901642 deg)>, <CircleSkyRegion(<SkyCoord (Galactic): (l, b) in deg\n",
      "    (183.88968876, -4.85267977)>, radius=0.14999735935125275 deg)>, <CircleSkyRegion(<SkyCoord (Galactic): (l, b) in deg\n",
      "    (184.05631001, -5.26988561)>, radius=0.14998688928324255 deg)>]\n",
      " EventList info:\n",
      "- Number of events: 447\n",
      "- Median energy: 0.638 TeV\n",
      "- OBS_ID = 23559\n",
      "\n",
      "\n",
      "BackgroundEstimate\n",
      " Method: Reflected Regions\n",
      " on region\n",
      " Region: CircleSkyRegion\n",
      "center: <SkyCoord (ICRS): (ra, dec) in deg\n",
      "    (83.63308333, 22.0145)>\n",
      "radius: 0.15 deg\n",
      " EventList info:\n",
      "- Number of events: 178\n",
      "- Median energy: 1.07 TeV\n",
      "- OBS_ID = 23592\n",
      " off region\n",
      " [<CircleSkyRegion(<SkyCoord (Galactic): (l, b) in deg\n",
      "    (183.99844157, -5.56819402)>, radius=0.14994996146894574 deg)>, <CircleSkyRegion(<SkyCoord (Galactic): (l, b) in deg\n",
      "    (183.54746078, -5.5585546)>, radius=0.14994930964521505 deg)>, <CircleSkyRegion(<SkyCoord (Galactic): (l, b) in deg\n",
      "    (183.1136296, -5.68168343)>, radius=0.14995731948860805 deg)>, <CircleSkyRegion(<SkyCoord (Galactic): (l, b) in deg\n",
      "    (182.73545165, -5.92665151)>, radius=0.14997121332471564 deg)>, <CircleSkyRegion(<SkyCoord (Galactic): (l, b) in deg\n",
      "    (182.44657931, -6.2717024)>, radius=0.1499861658350374 deg)>, <CircleSkyRegion(<SkyCoord (Galactic): (l, b) in deg\n",
      "    (182.27286413, -6.68615679)>, radius=0.14999697000006249 deg)>, <CircleSkyRegion(<SkyCoord (Galactic): (l, b) in deg\n",
      "    (182.23005567, -7.13310088)>, radius=0.14999984565715468 deg)>, <CircleSkyRegion(<SkyCoord (Galactic): (l, b) in deg\n",
      "    (182.32233726, -7.57263322)>, radius=0.14999376731630995 deg)>, <CircleSkyRegion(<SkyCoord (Galactic): (l, b) in deg\n",
      "    (182.54183395, -7.9654014)>, radius=0.1499808429465003 deg)>, <CircleSkyRegion(<SkyCoord (Galactic): (l, b) in deg\n",
      "    (183.27490578, -8.47676897)>, radius=0.14995338897241672 deg)>, <CircleSkyRegion(<SkyCoord (Galactic): (l, b) in deg\n",
      "    (183.87454865, -8.54363521)>, radius=0.14994890861794302 deg)>, <CircleSkyRegion(<SkyCoord (Galactic): (l, b) in deg\n",
      "    (184.31557119, -8.43731413)>, radius=0.14995593592035736 deg)>, <CircleSkyRegion(<SkyCoord (Galactic): (l, b) in deg\n",
      "    (184.70470296, -8.20641645)>, radius=0.1499694031208352 deg)>, <CircleSkyRegion(<SkyCoord (Galactic): (l, b) in deg\n",
      "    (185.00697609, -7.87177747)>, radius=0.1499845666569912 deg)>, <CircleSkyRegion(<SkyCoord (Galactic): (l, b) in deg\n",
      "    (185.19544867, -7.46351815)>, radius=0.14999610176965408 deg)>, <CircleSkyRegion(<SkyCoord (Galactic): (l, b) in deg\n",
      "    (185.25356607, -7.01827541)>, radius=0.14999997753379382 deg)>, <CircleSkyRegion(<SkyCoord (Galactic): (l, b) in deg\n",
      "    (185.17651637, -6.5758824)>, radius=0.14999485895814083 deg)>]\n",
      " EventList info:\n",
      "- Number of events: 399\n",
      "- Median energy: 0.818 TeV\n",
      "- OBS_ID = 23592\n",
      "\n",
      "\n",
      "\n",
      " Total ON : 918 | Total OFF : 1326 | Alpha : 0.0800\n",
      " Total Excess : 811.92 | Sigma = 44.12\n"
     ]
    }
   ],
   "source": [
    "on_s = 0\n",
    "off_s = 0\n",
    "a_on_s = 0\n",
    "a_off_s = 0\n",
    "for obs_result in background_estimator.result:\n",
    "    on_s += len(obs_result.on_events.table)\n",
    "    off_s += len(obs_result.off_events.table)\n",
    "    a_on_s += obs_result.a_on\n",
    "    a_off_s += obs_result.a_off\n",
    "    print(obs_result)\n",
    "    print(\"\\n\")\n",
    "\n",
    "alpha = a_on_s/a_off_s\n",
    "excess = on_s - off_s*alpha\n",
    "sigma = significance_on_off(on_s, off_s, alpha)\n",
    "print(\"\\n Total ON : {0} | Total OFF : {1} | Alpha : {2:.4f}\".format(on_s, off_s, alpha))\n",
    "print(\" Total Excess : {0:.2f} | Sigma = {1:.2f}\".format(excess, sigma))"
   ]
  },
  {
   "cell_type": "markdown",
   "metadata": {},
   "source": [
    "## Results from the new class"
   ]
  },
  {
   "cell_type": "code",
   "execution_count": 15,
   "metadata": {
    "scrolled": true
   },
   "outputs": [
    {
     "name": "stdout",
     "output_type": "stream",
     "text": [
      "Found 7 reflected regions for the Obs #23523\n",
      "Found 7 reflected regions for the Obs #23526\n",
      "Found 19 reflected regions for the Obs #23559\n",
      "Found 18 reflected regions for the Obs #23592\n"
     ]
    }
   ],
   "source": [
    "background_bk_estimator.run()"
   ]
  },
  {
   "cell_type": "code",
   "execution_count": 16,
   "metadata": {},
   "outputs": [
    {
     "name": "stderr",
     "output_type": "stream",
     "text": [
      "/home/khelifi/MesProgrammes/anaconda3/lib/python3.6/site-packages/matplotlib/patches.py:83: UserWarning: Setting the 'color' property will overridethe edgecolor or facecolor properties. \n",
      "  warnings.warn(\"Setting the 'color' property will override\"\n",
      "/home/khelifi/MesProgrammes/anaconda3/lib/python3.6/site-packages/astropy/visualization/mpl_normalize.py:111: RuntimeWarning: invalid value encountered in true_divide\n",
      "  np.true_divide(values, self.vmax - self.vmin, out=values)\n",
      "/home/khelifi/MesProgrammes/anaconda3/lib/python3.6/site-packages/matplotlib/colors.py:504: RuntimeWarning: invalid value encountered in less\n",
      "  xa[xa < 0] = -1\n",
      "/home/khelifi/MesProgrammes/anaconda3/lib/python3.6/site-packages/astropy/visualization/mpl_normalize.py:111: RuntimeWarning: invalid value encountered in true_divide\n",
      "  np.true_divide(values, self.vmax - self.vmin, out=values)\n",
      "/home/khelifi/MesProgrammes/anaconda3/lib/python3.6/site-packages/matplotlib/colors.py:504: RuntimeWarning: invalid value encountered in less\n",
      "  xa[xa < 0] = -1\n",
      "/home/khelifi/MesProgrammes/anaconda3/lib/python3.6/site-packages/astropy/visualization/mpl_normalize.py:111: RuntimeWarning: invalid value encountered in true_divide\n",
      "  np.true_divide(values, self.vmax - self.vmin, out=values)\n",
      "/home/khelifi/MesProgrammes/anaconda3/lib/python3.6/site-packages/matplotlib/colors.py:504: RuntimeWarning: invalid value encountered in less\n",
      "  xa[xa < 0] = -1\n"
     ]
    },
    {
     "data": {
      "image/png": "[encoded data removed]",
      "text/plain": [
       "<Figure size 504x504 with 1 Axes>"
      ]
     },
     "metadata": {},
     "output_type": "display_data"
    }
   ],
   "source": [
    "background_bk_estimator.plot();"
   ]
  },
  {
   "cell_type": "code",
   "execution_count": 17,
   "metadata": {},
   "outputs": [
    {
     "name": "stdout",
     "output_type": "stream",
     "text": [
      "BackgroundEstimate\n",
      " Method: Reflected Regions\n",
      " on region\n",
      " Region: CircleSkyRegion\n",
      "center: <SkyCoord (Galactic): (l, b) in deg\n",
      "    (184.55745788, -5.78435671)>\n",
      "radius: 0.15 deg\n",
      " EventList info:\n",
      "- Number of events: 7613\n",
      "- Median energy: 0.953 TeV\n",
      "- OBS_ID = 23523\n",
      " off region\n",
      " [<CircleSkyRegion(<SkyCoord (Galactic): (l, b) in deg\n",
      "    (184.87936521, -5.5622377)>, radius=0.1499961585618612 deg)>, <CircleSkyRegion(<SkyCoord (Galactic): (l, b) in deg\n",
      "    (185.22072688, -5.61145877)>, radius=0.1499972038147529 deg)>, <CircleSkyRegion(<SkyCoord (Galactic): (l, b) in deg\n",
      "    (185.44995267, -5.86802695)>, radius=0.1500008635117745 deg)>, <CircleSkyRegion(<SkyCoord (Galactic): (l, b) in deg\n",
      "    (185.45898053, -6.21119666)>, radius=0.1500010604738155 deg)>, <CircleSkyRegion(<SkyCoord (Galactic): (l, b) in deg\n",
      "    (185.24319978, -6.47925175)>, radius=0.14999746832349906 deg)>, <CircleSkyRegion(<SkyCoord (Galactic): (l, b) in deg\n",
      "    (184.90421446, -6.54568392)>, radius=0.14999606941445762 deg)>, <CircleSkyRegion(<SkyCoord (Galactic): (l, b) in deg\n",
      "    (184.60212799, -6.37911292)>, radius=0.14999919506889137 deg)>]\n",
      " EventList info:\n",
      "- Number of events: 7613\n",
      "- Median energy: 0.953 TeV\n",
      "- OBS_ID = 23523\n",
      "\n",
      "\n",
      "BackgroundEstimate\n",
      " Method: Reflected Regions\n",
      " on region\n",
      " Region: CircleSkyRegion\n",
      "center: <SkyCoord (Galactic): (l, b) in deg\n",
      "    (184.55745788, -5.78435671)>\n",
      "radius: 0.15 deg\n",
      " EventList info:\n",
      "- Number of events: 7581\n",
      "- Median energy: 0.836 TeV\n",
      "- OBS_ID = 23526\n",
      " off region\n",
      " [<CircleSkyRegion(<SkyCoord (Galactic): (l, b) in deg\n",
      "    (184.2351645, -6.00595009)>, radius=0.14999616599287843 deg)>, <CircleSkyRegion(<SkyCoord (Galactic): (l, b) in deg\n",
      "    (183.89377346, -5.95583896)>, radius=0.14999722972523602 deg)>, <CircleSkyRegion(<SkyCoord (Galactic): (l, b) in deg\n",
      "    (183.66550744, -5.69849597)>, radius=0.15000088150678592 deg)>, <CircleSkyRegion(<SkyCoord (Galactic): (l, b) in deg\n",
      "    (183.65789375, -5.35536892)>, radius=0.1500010397206961 deg)>, <CircleSkyRegion(<SkyCoord (Galactic): (l, b) in deg\n",
      "    (183.87419474, -5.08817031)>, radius=0.14999743972217391 deg)>, <CircleSkyRegion(<SkyCoord (Galactic): (l, b) in deg\n",
      "    (184.2124136, -5.02267317)>, radius=0.1499960603506994 deg)>, <CircleSkyRegion(<SkyCoord (Galactic): (l, b) in deg\n",
      "    (184.51344056, -5.18968886)>, radius=0.1499991911650385 deg)>]\n",
      " EventList info:\n",
      "- Number of events: 7581\n",
      "- Median energy: 0.836 TeV\n",
      "- OBS_ID = 23526\n",
      "\n",
      "\n",
      "BackgroundEstimate\n",
      " Method: Reflected Regions\n",
      " on region\n",
      " Region: CircleSkyRegion\n",
      "center: <SkyCoord (Galactic): (l, b) in deg\n",
      "    (184.55745788, -5.78435671)>\n",
      "radius: 0.15 deg\n",
      " EventList info:\n",
      "- Number of events: 7601\n",
      "- Median energy: 0.794 TeV\n",
      "- OBS_ID = 23559\n",
      " off region\n",
      " [<CircleSkyRegion(<SkyCoord (Galactic): (l, b) in deg\n",
      "    (184.12416979, -5.37519648)>, radius=0.15001999806858232 deg)>, <CircleSkyRegion(<SkyCoord (Galactic): (l, b) in deg\n",
      "    (183.92397659, -4.97563031)>, radius=0.15003211721835902 deg)>, <CircleSkyRegion(<SkyCoord (Galactic): (l, b) in deg\n",
      "    (183.85068348, -4.53509742)>, radius=0.15003700618582919 deg)>, <CircleSkyRegion(<SkyCoord (Galactic): (l, b) in deg\n",
      "    (183.91052234, -4.09255504)>, radius=0.15003298618507474 deg)>, <CircleSkyRegion(<SkyCoord (Galactic): (l, b) in deg\n",
      "    (184.09799589, -3.68706802)>, radius=0.15002145825357543 deg)>, <CircleSkyRegion(<SkyCoord (Galactic): (l, b) in deg\n",
      "    (184.39642724, -3.35438347)>, radius=0.15000640724038167 deg)>, <CircleSkyRegion(<SkyCoord (Galactic): (l, b) in deg\n",
      "    (184.77945091, -3.12380679)>, radius=0.14999302210178567 deg)>, <CircleSkyRegion(<SkyCoord (Galactic): (l, b) in deg\n",
      "    (185.21332204, -3.0156407)>, radius=0.14998591056004074 deg)>, <CircleSkyRegion(<SkyCoord (Galactic): (l, b) in deg\n",
      "    (185.65985927, -3.03940792)>, radius=0.14998751871823424 deg)>, <CircleSkyRegion(<SkyCoord (Galactic): (l, b) in deg\n",
      "    (186.07977579, -3.19301611)>, radius=0.1499972935494959 deg)>, <CircleSkyRegion(<SkyCoord (Galactic): (l, b) in deg\n",
      "    (186.43610799, -3.4629414)>, radius=0.1500118721139023 deg)>, <CircleSkyRegion(<SkyCoord (Galactic): (l, b) in deg\n",
      "    (186.69743935, -3.82541377)>, radius=0.1500262336632894 deg)>, <CircleSkyRegion(<SkyCoord (Galactic): (l, b) in deg\n",
      "    (186.84064198, -4.24849639)>, radius=0.15003542311860982 deg)>, <CircleSkyRegion(<SkyCoord (Galactic): (l, b) in deg\n",
      "    (186.85291122, -4.69487576)>, radius=0.15003625903082693 deg)>, <CircleSkyRegion(<SkyCoord (Galactic): (l, b) in deg\n",
      "    (186.7329312, -5.12512509)>, radius=0.15002843945727515 deg)>, <CircleSkyRegion(<SkyCoord (Galactic): (l, b) in deg\n",
      "    (186.49106921, -5.50116864)>, radius=0.15001465966139804 deg)>, <CircleSkyRegion(<SkyCoord (Galactic): (l, b) in deg\n",
      "    (186.14855649, -5.78965558)>, radius=0.14999969059902948 deg)>, <CircleSkyRegion(<SkyCoord (Galactic): (l, b) in deg\n",
      "    (185.73568312, -5.96494757)>, radius=0.14998872810683206 deg)>, <CircleSkyRegion(<SkyCoord (Galactic): (l, b) in deg\n",
      "    (185.28912651, -6.01144136)>, radius=0.14998558351240668 deg)>]\n",
      " EventList info:\n",
      "- Number of events: 7601\n",
      "- Median energy: 0.794 TeV\n",
      "- OBS_ID = 23559\n",
      "\n",
      "\n",
      "BackgroundEstimate\n",
      " Method: Reflected Regions\n",
      " on region\n",
      " Region: CircleSkyRegion\n",
      "center: <SkyCoord (Galactic): (l, b) in deg\n",
      "    (184.55745788, -5.78435671)>\n",
      "radius: 0.15 deg\n",
      " EventList info:\n",
      "- Number of events: 7334\n",
      "- Median energy: 0.942 TeV\n",
      "- OBS_ID = 23592\n",
      " off region\n",
      " [<CircleSkyRegion(<SkyCoord (Galactic): (l, b) in deg\n",
      "    (184.98579246, -6.19599954)>, radius=0.15001987935915165 deg)>, <CircleSkyRegion(<SkyCoord (Galactic): (l, b) in deg\n",
      "    (185.1827994, -6.5950713)>, radius=0.15003180004928326 deg)>, <CircleSkyRegion(<SkyCoord (Galactic): (l, b) in deg\n",
      "    (185.25382023, -7.03395095)>, radius=0.15003653012047127 deg)>, <CircleSkyRegion(<SkyCoord (Galactic): (l, b) in deg\n",
      "    (185.19230559, -7.47425149)>, radius=0.15003243041123893 deg)>, <CircleSkyRegion(<SkyCoord (Galactic): (l, b) in deg\n",
      "    (185.00327408, -7.87735569)>, radius=0.15002088735711638 deg)>, <CircleSkyRegion(<SkyCoord (Galactic): (l, b) in deg\n",
      "    (184.70300838, -8.20780063)>, radius=0.15000585731492327 deg)>, <CircleSkyRegion(<SkyCoord (Galactic): (l, b) in deg\n",
      "    (184.317746, -8.43642871)>, radius=0.14999251661703103 deg)>, <CircleSkyRegion(<SkyCoord (Galactic): (l, b) in deg\n",
      "    (183.88142417, -8.54301627)>, radius=0.14998547368718304 deg)>, <CircleSkyRegion(<SkyCoord (Galactic): (l, b) in deg\n",
      "    (183.28581588, -8.48021687)>, radius=0.14998968664749746 deg)>, <CircleSkyRegion(<SkyCoord (Galactic): (l, b) in deg\n",
      "    (182.55164964, -7.97789425)>, radius=0.15001684589659814 deg)>, <CircleSkyRegion(<SkyCoord (Galactic): (l, b) in deg\n",
      "    (182.32960429, -7.59164443)>, radius=0.15002983820848362 deg)>, <CircleSkyRegion(<SkyCoord (Galactic): (l, b) in deg\n",
      "    (182.23164225, -7.15788198)>, radius=0.15003627314753007 deg)>, <CircleSkyRegion(<SkyCoord (Galactic): (l, b) in deg\n",
      "    (182.26598699, -6.71468235)>, radius=0.15003396030856722 deg)>, <CircleSkyRegion(<SkyCoord (Galactic): (l, b) in deg\n",
      "    (182.42927783, -6.30083819)>, radius=0.15002371274166085 deg)>, <CircleSkyRegion(<SkyCoord (Galactic): (l, b) in deg\n",
      "    (182.70697959, -5.95248684)>, radius=0.150009048436491 deg)>, <CircleSkyRegion(<SkyCoord (Galactic): (l, b) in deg\n",
      "    (183.07471458, -5.69999335)>, radius=0.14999497694200017 deg)>, <CircleSkyRegion(<SkyCoord (Galactic): (l, b) in deg\n",
      "    (183.50039393, -5.56534172)>, radius=0.149986291882477 deg)>, <CircleSkyRegion(<SkyCoord (Galactic): (l, b) in deg\n",
      "    (183.94697693, -5.5602483)>, radius=0.1499859472446681 deg)>]\n",
      " EventList info:\n",
      "- Number of events: 7334\n",
      "- Median energy: 0.942 TeV\n",
      "- OBS_ID = 23592\n",
      "\n",
      "\n",
      "\n",
      " Total ON : 30129 | Total OFF : 30129 | Alpha : 0.0784\n",
      " Total Excess : 27765.94 | Sigma = 280.99\n"
     ]
    }
   ],
   "source": [
    "on_s = 0\n",
    "off_s = 0\n",
    "a_on_s = 0\n",
    "a_off_s = 0\n",
    "for obs_result in background_bk_estimator.result:\n",
    "    on_s += len(obs_result.on_events.table)\n",
    "    off_s += len(obs_result.off_events.table)\n",
    "    a_on_s += obs_result.a_on\n",
    "    a_off_s += obs_result.a_off\n",
    "    print(obs_result)\n",
    "    print(\"\\n\")\n",
    "\n",
    "alpha = a_on_s/a_off_s\n",
    "excess = on_s - off_s*alpha\n",
    "sigma = significance_on_off(on_s, off_s, alpha)\n",
    "print(\"\\n Total ON : {0} | Total OFF : {1} | Alpha : {2:.4f}\".format(on_s, off_s, alpha))\n",
    "print(\" Total Excess : {0:.2f} | Sigma = {1:.2f}\".format(excess, sigma))"
   ]
  },
  {
   "cell_type": "code",
   "execution_count": 18,
   "metadata": {},
   "outputs": [
    {
     "name": "stdout",
     "output_type": "stream",
     "text": [
      "0.01 deg\n"
     ]
    }
   ],
   "source": [
    "toto = CircleSkyRegion(crab_pos.transform_to('galactic'), 0.15 * u.deg)\n",
    "print(background_bk_estimator.binsz)"
   ]
  },
  {
   "cell_type": "code",
   "execution_count": null,
   "metadata": {},
   "outputs": [],
   "source": []
  }
 ],
 "metadata": {
  "kernelspec": {
   "display_name": "Python 3",
   "language": "python",
   "name": "python3"
  },
  "language_info": {
   "codemirror_mode": {
    "name": "ipython",
    "version": 3
   },
   "file_extension": ".py",
   "mimetype": "text/x-python",
   "name": "python",
   "nbconvert_exporter": "python",
   "pygments_lexer": "ipython3",
   "version": "3.6.5"
  }
 },
 "nbformat": 4,
 "nbformat_minor": 2
}
