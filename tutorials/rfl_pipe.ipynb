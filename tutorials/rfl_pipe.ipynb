{
 "cells": [
  {
   "cell_type": "markdown",
   "metadata": {},
   "source": [
    "# Test of the new Reflected Bkg with Gammapy (run pipeline)\n",
    "\n",
    "In this tutorial we will learn how to perform a 1d spectral analysis.\n",
    "\n",
    "We will use a \"pipeline\" or \"workflow\" class to run a standard analysis. If you're interested in implementation detail of the analysis in order to create a custom analysis class, you should read ([spectrum_analysis.ipynb](spectrum_analysis.ipynb)) that executes the analysis using lower-level classes and methods in Gammapy. \n",
    "\n",
    "In this tutorial we will use the folling Gammapy classes:\n",
    "\n",
    "- [gammapy.data.DataStore](https://docs.gammapy.org/dev/api/gammapy.data.DataStore.html) to load the data to \n",
    "- [gammapy.scripts.SpectrumAnalysisIACT](https://docs.gammapy.org/dev/api/gammapy.scripts.SpectrumAnalysisIACT.html) to run the analysis\n",
    "\n",
    "We use 4 Crab observations from H.E.S.S. for testing."
   ]
  },
  {
   "cell_type": "markdown",
   "metadata": {},
   "source": [
    "## Setup\n",
    "\n",
    "As usual, we'll start with some setup for the notebook, and import the functionality we need."
   ]
  },
  {
   "cell_type": "code",
   "execution_count": 1,
   "metadata": {},
   "outputs": [],
   "source": [
    "%matplotlib inline\n",
    "import numpy as np\n",
    "import matplotlib.pyplot as plt\n",
    "\n",
    "import astropy.units as u\n",
    "from astropy.coordinates import SkyCoord, Angle\n",
    "from regions import PixCoord, CircleSkyRegion, CircleAnnulusSkyRegion, EllipseSkyRegion, EllipseAnnulusSkyRegion, RectangleSkyRegion, RectangleAnnulusSkyRegion, PolygonSkyRegion\n",
    "\n",
    "from gammapy.data import DataStore\n",
    "from gammapy.catalog import SourceCatalogGammaCat\n",
    "from gammapy.maps import Map\n",
    "from gammapy.background import ReflectedRegionsBackgroundEstimator, ReflectedRegionsBackgroundEstimator_BK\n",
    "from gammapy.stats import significance_on_off"
   ]
  },
  {
   "cell_type": "markdown",
   "metadata": {},
   "source": [
    "## Select data\n",
    "\n",
    "First, we select and load some H.E.S.S. data (simulated events for now). In real life you would do something fancy here, or just use the list of observations someone send you (and hope they have done something fancy before). We'll just use the standard gammapy 4 crab runs."
   ]
  },
  {
   "cell_type": "code",
   "execution_count": 2,
   "metadata": {},
   "outputs": [
    {
     "name": "stdout",
     "output_type": "stream",
     "text": [
      "[23523 23526 23559 23592]\n"
     ]
    }
   ],
   "source": [
    "data_store = DataStore.from_dir(\"$GAMMAPY_DATA/hess-dl3-dr1/\")\n",
    "mask = data_store.obs_table[\"TARGET_NAME\"] == \"Crab\"\n",
    "obs_ids = data_store.obs_table[\"OBS_ID\"][mask].data\n",
    "observations = data_store.get_observations(obs_ids)\n",
    "print(obs_ids)"
   ]
  },
  {
   "cell_type": "markdown",
   "metadata": {},
   "source": [
    "## Configure the analysis\n",
    "\n",
    "Now we'll define the input for the spectrum analysis. It will be done the python way, i.e. by creating a config dict containing python objects. We plan to add also the convenience to configure the analysis using a plain text config file."
   ]
  },
  {
   "cell_type": "code",
   "execution_count": 3,
   "metadata": {},
   "outputs": [
    {
     "name": "stdout",
     "output_type": "stream",
     "text": [
      "<SkyCoord (ICRS): (ra, dec) in deg\n",
      "    (83.63308333, 22.0145)>\n"
     ]
    }
   ],
   "source": [
    "crab_pos = SkyCoord.from_name(\"crab\")\n",
    "print(crab_pos)\n",
    "on_region = CircleSkyRegion(crab_pos, 0.15 * u.deg)"
   ]
  },
  {
   "cell_type": "code",
   "execution_count": 4,
   "metadata": {
    "scrolled": true
   },
   "outputs": [
    {
     "data": {
      "image/png": "[encoded data removed]",
      "text/plain": [
       "<Figure size 432x288 with 1 Axes>"
      ]
     },
     "metadata": {},
     "output_type": "display_data"
    }
   ],
   "source": [
    "exclusion_mask = Map.create(skydir=crab_pos, width=(10, 10), binsz=0.02)\n",
    "\n",
    "gammacat = SourceCatalogGammaCat(\"$GAMMAPY_DATA/catalogs/gammacat/gammacat.fits.gz\")\n",
    "\n",
    "regions = []\n",
    "for source in gammacat:\n",
    "    if not exclusion_mask.geom.contains(source.position):\n",
    "        continue\n",
    "    region = CircleSkyRegion(source.position, 0.15 * u.deg)\n",
    "    regions.append(region)\n",
    "\n",
    "exclusion_mask.data = exclusion_mask.geom.region_mask(regions, inside=False)\n",
    "exclusion_mask.plot();"
   ]
  },
  {
   "cell_type": "code",
   "execution_count": 5,
   "metadata": {},
   "outputs": [],
   "source": [
    "config = dict(\n",
    "    outdir=\".\",\n",
    "    background=dict(\n",
    "        on_region=on_region,\n",
    "        exclusion_mask=exclusion_mask,\n",
    "        min_distance=0.1 * u.rad,\n",
    "    )\n",
    ")"
   ]
  },
  {
   "cell_type": "markdown",
   "metadata": {},
   "source": [
    "## Test different region types"
   ]
  },
  {
   "cell_type": "code",
   "execution_count": 6,
   "metadata": {},
   "outputs": [
    {
     "name": "stdout",
     "output_type": "stream",
     "text": [
      "CoG=<SkyCoord (ICRS): (ra, dec) in deg\n",
      "    (83.49335254, 21.51444058)> \n",
      "Radius=0.7003274046925362 deg\n"
     ]
    },
    {
     "data": {
      "image/png": "[encoded data removed]",
      "text/plain": [
       "<Figure size 432x288 with 1 Axes>"
      ]
     },
     "metadata": {},
     "output_type": "display_data"
    }
   ],
   "source": [
    "polygon_sky = PolygonSkyRegion(vertices=SkyCoord([83, 84, 84], [21, 21, 22], unit='deg', frame='icrs'))\n",
    "exclusion_mask.plot();\n",
    "polygon_pix = polygon_sky.to_pixel(exclusion_mask.geom.wcs)\n",
    "polygon_pix.plot();\n",
    "\n",
    "ixmin=polygon_pix.bounding_box.ixmin\n",
    "ixmax=polygon_pix.bounding_box.ixmax\n",
    "iymin=polygon_pix.bounding_box.iymin\n",
    "iymax=polygon_pix.bounding_box.iymax\n",
    "CoG = PixCoord((ixmin+ixmax)/2., (iymin+iymax)/2.).to_sky(exclusion_mask.geom.wcs)\n",
    "Radius = CoG.separation(PixCoord(ixmin,iymin).to_sky(exclusion_mask.geom.wcs))\n",
    "print(\"CoG={0} \\nRadius={1}\".format(CoG, Radius))"
   ]
  },
  {
   "cell_type": "code",
   "execution_count": 7,
   "metadata": {},
   "outputs": [
    {
     "name": "stdout",
     "output_type": "stream",
     "text": [
      "ICRS frame\n",
      "BoundingBox(ixmin=132, ixmax=333, iymin=99, iymax=300)\n",
      "CoG=<SkyCoord (ICRS): (ra, dec) in deg\n",
      "    (83.99725187, 21.01409498)>\n",
      "Radius=2.841626076086742 deg\n"
     ]
    },
    {
     "data": {
      "image/png": "[encoded data removed]",
      "text/plain": [
       "<Figure size 432x288 with 1 Axes>"
      ]
     },
     "metadata": {},
     "output_type": "display_data"
    }
   ],
   "source": [
    "center = SkyCoord(84, 21, unit='deg')\n",
    "radius = Angle(2, 'deg')\n",
    "circle = CircleSkyRegion(center, radius)\n",
    "if 'l' in circle.center.representation_component_names:\n",
    "    print(\"Galactic frame\")\n",
    "else:\n",
    "    print(\"ICRS frame\")\n",
    "exclusion_mask.plot();\n",
    "circle_pix = circle.to_pixel(exclusion_mask.geom.wcs)\n",
    "circle_pix.plot();\n",
    "\n",
    "print(circle_pix.bounding_box)\n",
    "ixmin=circle_pix.bounding_box.ixmin\n",
    "ixmax=circle_pix.bounding_box.ixmax\n",
    "iymin=circle_pix.bounding_box.iymin\n",
    "iymax=circle_pix.bounding_box.iymax\n",
    "CoG = PixCoord((ixmin+ixmax)/2., (iymin+iymax)/2.).to_sky(exclusion_mask.geom.wcs)\n",
    "Radius = CoG.separation(PixCoord(ixmin,iymin).to_sky(exclusion_mask.geom.wcs))\n",
    "print(\"CoG={0}\\nRadius={1}\".format(CoG, Radius))"
   ]
  },
  {
   "cell_type": "code",
   "execution_count": 8,
   "metadata": {},
   "outputs": [
    {
     "name": "stdout",
     "output_type": "stream",
     "text": [
      "BoundingBox(ixmin=146, ixmax=320, iymin=119, iymax=280)\n",
      "CoG=<SkyCoord (ICRS): (ra, dec) in deg\n",
      "    (83.98654107, 21.01411846)>\n",
      "Radius=2.3699148510581876 deg\n"
     ]
    },
    {
     "data": {
      "image/png": "[encoded data removed]",
      "text/plain": [
       "<Figure size 432x288 with 1 Axes>"
      ]
     },
     "metadata": {},
     "output_type": "display_data"
    }
   ],
   "source": [
    "ellipse_annulus_sky = EllipseAnnulusSkyRegion(center=center,\n",
    "                                               inner_width=1.5 * u.deg,\n",
    "                                               outer_width=2.5 * u.deg,\n",
    "                                               inner_height=3 * u.deg,\n",
    "                                               outer_height=4 * u.deg,\n",
    "                                               angle=130 * u.deg)\n",
    "exclusion_mask.plot();\n",
    "ellipse_annulus_pix = ellipse_annulus_sky.to_pixel(exclusion_mask.geom.wcs)\n",
    "ellipse_annulus_pix.plot();\n",
    "\n",
    "print(ellipse_annulus_pix.bounding_box)\n",
    "ixmin=ellipse_annulus_pix.bounding_box.ixmin\n",
    "ixmax=ellipse_annulus_pix.bounding_box.ixmax\n",
    "iymin=ellipse_annulus_pix.bounding_box.iymin\n",
    "iymax=ellipse_annulus_pix.bounding_box.iymax\n",
    "CoG = PixCoord((ixmin+ixmax)/2., (iymin+iymax)/2.).to_sky(exclusion_mask.geom.wcs)\n",
    "Radius = CoG.separation(PixCoord(ixmin,iymin).to_sky(exclusion_mask.geom.wcs))\n",
    "print(\"CoG={0}\\nRadius={1}\".format(CoG, Radius))"
   ]
  },
  {
   "cell_type": "code",
   "execution_count": 9,
   "metadata": {},
   "outputs": [
    {
     "name": "stdout",
     "output_type": "stream",
     "text": [
      "BoundingBox(ixmin=124, ixmax=342, iymin=96, iymax=302)\n",
      "CoG=<SkyCoord (ICRS): (ra, dec) in deg\n",
      "    (83.9865163, 21.00411848)>\n",
      "Radius=2.998243478870509 deg\n"
     ]
    },
    {
     "data": {
      "image/png": "[encoded data removed]",
      "text/plain": [
       "<Figure size 432x288 with 1 Axes>"
      ]
     },
     "metadata": {},
     "output_type": "display_data"
    }
   ],
   "source": [
    "rectangle_sky = RectangleSkyRegion(center=,\n",
    "                                    width=2. * u.deg, height=4. * u.deg,\n",
    "                                    angle=50 * u.deg)\n",
    "exclusion_mask.plot();\n",
    "rectangle_pix = rectangle_sky.to_pixel(exclusion_mask.geom.wcs)\n",
    "rectangle_pix.plot();\n",
    "\n",
    "print(rectangle_pix.bounding_box)\n",
    "ixmin=rectangle_pix.bounding_box.ixmin\n",
    "ixmax=rectangle_pix.bounding_box.ixmax\n",
    "iymin=rectangle_pix.bounding_box.iymin\n",
    "iymax=rectangle_pix.bounding_box.iymax\n",
    "CoG = PixCoord((ixmin+ixmax)/2., (iymin+iymax)/2.).to_sky(exclusion_mask.geom.wcs)\n",
    "Radius = CoG.separation(PixCoord(ixmin,iymin).to_sky(exclusion_mask.geom.wcs))\n",
    "print(\"CoG={0}\\nRadius={1}\".format(CoG, Radius))"
   ]
  },
  {
   "cell_type": "markdown",
   "metadata": {},
   "source": [
    "## Configuration of the Reflected Bg Makers\n"
   ]
  },
  {
   "cell_type": "code",
   "execution_count": 10,
   "metadata": {},
   "outputs": [],
   "source": [
    "background_estimator = ReflectedRegionsBackgroundEstimator(\n",
    "            observations=observations, **config[\"background\"]\n",
    "        )"
   ]
  },
  {
   "cell_type": "code",
   "execution_count": 21,
   "metadata": {},
   "outputs": [],
   "source": [
    "# rectangle_sky = RectangleSkyRegion(center=crab_pos,\n",
    "#                                     width=0.2 * u.deg, height=0.25 * u.deg,\n",
    "#                                     angle=50 * u.deg)\n",
    "# config = dict(\n",
    "#     outdir=\".\",\n",
    "#     background=dict(\n",
    "#         on_region=rectangle_sky,\n",
    "#         exclusion_mask=exclusion_mask,\n",
    "#         min_distance=0.1 * u.rad,\n",
    "#     )\n",
    "# )\n",
    "background_bk_estimator = ReflectedRegionsBackgroundEstimator_BK(\n",
    "            observations=observations, **config[\"background\"]\n",
    "        )"
   ]
  },
  {
   "cell_type": "markdown",
   "metadata": {},
   "source": [
    "## Results from initial class\n",
    "\n",
    "Let's look at the results, and also compare with a previously published Crab nebula spectrum for reference."
   ]
  },
  {
   "cell_type": "code",
   "execution_count": 12,
   "metadata": {},
   "outputs": [],
   "source": [
    "background_estimator.run()"
   ]
  },
  {
   "cell_type": "code",
   "execution_count": 13,
   "metadata": {},
   "outputs": [
    {
     "name": "stderr",
     "output_type": "stream",
     "text": [
      "/home/khelifi/MesProgrammes/anaconda3/lib/python3.6/site-packages/matplotlib/patches.py:83: UserWarning: Setting the 'color' property will overridethe edgecolor or facecolor properties. \n",
      "  warnings.warn(\"Setting the 'color' property will override\"\n"
     ]
    },
    {
     "data": {
      "image/png": "[encoded data removed]",
      "text/plain": [
       "<Figure size 432x288 with 1 Axes>"
      ]
     },
     "metadata": {},
     "output_type": "display_data"
    }
   ],
   "source": [
    "background_estimator.plot();"
   ]
  },
  {
   "cell_type": "code",
   "execution_count": 14,
   "metadata": {},
   "outputs": [
    {
     "name": "stdout",
     "output_type": "stream",
     "text": [
      "BackgroundEstimate\n",
      " Method: Reflected Regions\n",
      " on region\n",
      " Region: CircleSkyRegion\n",
      "center: <SkyCoord (ICRS): (ra, dec) in deg\n",
      "    (83.63308333, 22.0145)>\n",
      "radius: 0.15 deg\n",
      " EventList info:\n",
      "- Number of events: 255\n",
      "- Median energy: 0.97 TeV\n",
      "- OBS_ID = 23523\n",
      " off region\n",
      " [<CircleSkyRegion(<SkyCoord (Galactic): (l, b) in deg\n",
      "    (184.49445147, -6.17309691)>, radius=0.15000538537959704 deg)>, <CircleSkyRegion(<SkyCoord (Galactic): (l, b) in deg\n",
      "    (184.69165367, -6.45982442)>, radius=0.15000192030559253 deg)>, <CircleSkyRegion(<SkyCoord (Galactic): (l, b) in deg\n",
      "    (185.02935512, -6.54955664)>, radius=0.15000006265358506 deg)>, <CircleSkyRegion(<SkyCoord (Galactic): (l, b) in deg\n",
      "    (185.34431034, -6.39890795)>, radius=0.15000297126018794 deg)>, <CircleSkyRegion(<SkyCoord (Galactic): (l, b) in deg\n",
      "    (185.48434371, -6.0807053)>, radius=0.1500057008221304 deg)>, <CircleSkyRegion(<SkyCoord (Galactic): (l, b) in deg\n",
      "    (185.38216315, -5.74858995)>, radius=0.15000361453508604 deg)>, <CircleSkyRegion(<SkyCoord (Galactic): (l, b) in deg\n",
      "    (185.08735689, -5.56267604)>, radius=0.15000024940374765 deg)>]\n",
      " EventList info:\n",
      "- Number of events: 243\n",
      "- Median energy: 0.735 TeV\n",
      "- OBS_ID = 23523\n",
      "\n",
      "\n",
      "BackgroundEstimate\n",
      " Method: Reflected Regions\n",
      " on region\n",
      " Region: CircleSkyRegion\n",
      "center: <SkyCoord (ICRS): (ra, dec) in deg\n",
      "    (83.63308333, 22.0145)>\n",
      "radius: 0.15 deg\n",
      " EventList info:\n",
      "- Number of events: 273\n",
      "- Median energy: 0.807 TeV\n",
      "- OBS_ID = 23526\n",
      " off region\n",
      " [<CircleSkyRegion(<SkyCoord (Galactic): (l, b) in deg\n",
      "    (184.6207057, -5.39568591)>, radius=0.15000536871888087 deg)>, <CircleSkyRegion(<SkyCoord (Galactic): (l, b) in deg\n",
      "    (184.42412101, -5.10880471)>, radius=0.15000190240022676 deg)>, <CircleSkyRegion(<SkyCoord (Galactic): (l, b) in deg\n",
      "    (184.0874378, -5.01852756)>, radius=0.1500000350456613 deg)>, <CircleSkyRegion(<SkyCoord (Galactic): (l, b) in deg\n",
      "    (183.77286285, -5.16834439)>, radius=0.1500029306019422 deg)>, <CircleSkyRegion(<SkyCoord (Galactic): (l, b) in deg\n",
      "    (183.63200578, -5.48607511)>, radius=0.15000568249833474 deg)>, <CircleSkyRegion(<SkyCoord (Galactic): (l, b) in deg\n",
      "    (183.73305731, -5.81850573)>, radius=0.15000362432527198 deg)>, <CircleSkyRegion(<SkyCoord (Galactic): (l, b) in deg\n",
      "    (184.02753922, -6.00511467)>, radius=0.15000025323676244 deg)>]\n",
      " EventList info:\n",
      "- Number of events: 237\n",
      "- Median energy: 0.696 TeV\n",
      "- OBS_ID = 23526\n",
      "\n",
      "\n",
      "BackgroundEstimate\n",
      " Method: Reflected Regions\n",
      " on region\n",
      " Region: CircleSkyRegion\n",
      "center: <SkyCoord (ICRS): (ra, dec) in deg\n",
      "    (83.63308333, 22.0145)>\n",
      "radius: 0.15 deg\n",
      " EventList info:\n",
      "- Number of events: 212\n",
      "- Median energy: 0.889 TeV\n",
      "- OBS_ID = 23559\n",
      " off region\n",
      " [<CircleSkyRegion(<SkyCoord (Galactic): (l, b) in deg\n",
      "    (185.11923044, -5.99415259)>, radius=0.14994976052884798 deg)>, <CircleSkyRegion(<SkyCoord (Galactic): (l, b) in deg\n",
      "    (185.57069179, -5.99786889)>, radius=0.1499495079036881 deg)>, <CircleSkyRegion(<SkyCoord (Galactic): (l, b) in deg\n",
      "    (186.0029431, -5.86839912)>, radius=0.1499579348368408 deg)>, <CircleSkyRegion(<SkyCoord (Galactic): (l, b) in deg\n",
      "    (186.37712029, -5.6173997)>, radius=0.14997207880105756 deg)>, <CircleSkyRegion(<SkyCoord (Galactic): (l, b) in deg\n",
      "    (186.65970282, -5.2674385)>, radius=0.14998697393518354 deg)>, <CircleSkyRegion(<SkyCoord (Galactic): (l, b) in deg\n",
      "    (186.82553279, -4.84992024)>, radius=0.14999740207628862 deg)>, <CircleSkyRegion(<SkyCoord (Galactic): (l, b) in deg\n",
      "    (186.86001041, -4.40223041)>, radius=0.14999972259229913 deg)>, <CircleSkyRegion(<SkyCoord (Galactic): (l, b) in deg\n",
      "    (186.76030272, -3.96437373)>, radius=0.14999313763229039 deg)>, <CircleSkyRegion(<SkyCoord (Galactic): (l, b) in deg\n",
      "    (186.5355054, -3.57541105)>, radius=0.14997995703732672 deg)>, <CircleSkyRegion(<SkyCoord (Galactic): (l, b) in deg\n",
      "    (186.20577847, -3.27000137)>, radius=0.14996478155395626 deg)>, <CircleSkyRegion(<SkyCoord (Galactic): (l, b) in deg\n",
      "    (185.80054099, -3.07534036)>, radius=0.14995289663084105 deg)>, <CircleSkyRegion(<SkyCoord (Galactic): (l, b) in deg\n",
      "    (185.35587187, -3.00875647)>, radius=0.14994843637880012 deg)>, <CircleSkyRegion(<SkyCoord (Galactic): (l, b) in deg\n",
      "    (184.9113289, -3.07617626)>, radius=0.149952951343148 deg)>, <CircleSkyRegion(<SkyCoord (Galactic): (l, b) in deg\n",
      "    (184.50645875, -3.27159876)>, radius=0.14996487196497335 deg)>, <CircleSkyRegion(<SkyCoord (Galactic): (l, b) in deg\n",
      "    (184.17730791, -3.57762771)>, radius=0.14998005166889916 deg)>, <CircleSkyRegion(<SkyCoord (Galactic): (l, b) in deg\n",
      "    (183.95324464, -3.96701224)>, radius=0.14999320350617687 deg)>, <CircleSkyRegion(<SkyCoord (Galactic): (l, b) in deg\n",
      "    (183.85436414, -4.40505554)>, radius=0.14999973666901642 deg)>, <CircleSkyRegion(<SkyCoord (Galactic): (l, b) in deg\n",
      "    (183.88968876, -4.85267977)>, radius=0.14999735935125275 deg)>, <CircleSkyRegion(<SkyCoord (Galactic): (l, b) in deg\n",
      "    (184.05631001, -5.26988561)>, radius=0.14998688928324255 deg)>]\n",
      " EventList info:\n",
      "- Number of events: 447\n",
      "- Median energy: 0.638 TeV\n",
      "- OBS_ID = 23559\n",
      "\n",
      "\n",
      "BackgroundEstimate\n",
      " Method: Reflected Regions\n",
      " on region\n",
      " Region: CircleSkyRegion\n",
      "center: <SkyCoord (ICRS): (ra, dec) in deg\n",
      "    (83.63308333, 22.0145)>\n",
      "radius: 0.15 deg\n",
      " EventList info:\n",
      "- Number of events: 178\n",
      "- Median energy: 1.07 TeV\n",
      "- OBS_ID = 23592\n",
      " off region\n",
      " [<CircleSkyRegion(<SkyCoord (Galactic): (l, b) in deg\n",
      "    (183.99844157, -5.56819402)>, radius=0.14994996146894574 deg)>, <CircleSkyRegion(<SkyCoord (Galactic): (l, b) in deg\n",
      "    (183.54746078, -5.5585546)>, radius=0.14994930964521505 deg)>, <CircleSkyRegion(<SkyCoord (Galactic): (l, b) in deg\n",
      "    (183.1136296, -5.68168343)>, radius=0.14995731948860805 deg)>, <CircleSkyRegion(<SkyCoord (Galactic): (l, b) in deg\n",
      "    (182.73545165, -5.92665151)>, radius=0.14997121332471564 deg)>, <CircleSkyRegion(<SkyCoord (Galactic): (l, b) in deg\n",
      "    (182.44657931, -6.2717024)>, radius=0.1499861658350374 deg)>, <CircleSkyRegion(<SkyCoord (Galactic): (l, b) in deg\n",
      "    (182.27286413, -6.68615679)>, radius=0.14999697000006249 deg)>, <CircleSkyRegion(<SkyCoord (Galactic): (l, b) in deg\n",
      "    (182.23005567, -7.13310088)>, radius=0.14999984565715468 deg)>, <CircleSkyRegion(<SkyCoord (Galactic): (l, b) in deg\n",
      "    (182.32233726, -7.57263322)>, radius=0.14999376731630995 deg)>, <CircleSkyRegion(<SkyCoord (Galactic): (l, b) in deg\n",
      "    (182.54183395, -7.9654014)>, radius=0.1499808429465003 deg)>, <CircleSkyRegion(<SkyCoord (Galactic): (l, b) in deg\n",
      "    (182.8691728, -8.27613075)>, radius=0.1499655957642529 deg)>, <CircleSkyRegion(<SkyCoord (Galactic): (l, b) in deg\n",
      "    (183.27510494, -8.47683272)>, radius=0.14995338479099546 deg)>, <CircleSkyRegion(<SkyCoord (Galactic): (l, b) in deg\n",
      "    (183.8747572, -8.5436169)>, radius=0.14994890988403314 deg)>, <CircleSkyRegion(<SkyCoord (Galactic): (l, b) in deg\n",
      "    (184.31576481, -8.43723546)>, radius=0.1499559409231701 deg)>, <CircleSkyRegion(<SkyCoord (Galactic): (l, b) in deg\n",
      "    (184.7048642, -8.20628453)>, radius=0.14996941011526418 deg)>, <CircleSkyRegion(<SkyCoord (Galactic): (l, b) in deg\n",
      "    (185.0070905, -7.8716042)>, radius=0.14998457317298447 deg)>, <CircleSkyRegion(<SkyCoord (Galactic): (l, b) in deg\n",
      "    (185.19550613, -7.46331909)>, radius=0.1499961055289585 deg)>, <CircleSkyRegion(<SkyCoord (Galactic): (l, b) in deg\n",
      "    (185.25356161, -7.01806842)>, radius=0.14999997722655506 deg)>, <CircleSkyRegion(<SkyCoord (Galactic): (l, b) in deg\n",
      "    (185.17645056, -6.57568595)>, radius=0.1499948547036424 deg)>]\n",
      " EventList info:\n",
      "- Number of events: 424\n",
      "- Median energy: 0.814 TeV\n",
      "- OBS_ID = 23592\n",
      "\n",
      "\n",
      "\n",
      " Total ON : 918 | Total OFF : 1351 | Alpha : 0.0784\n",
      " Total Excess : 812.04 | Sigma = 44.20\n"
     ]
    }
   ],
   "source": [
    "on_s = 0\n",
    "off_s = 0\n",
    "a_on_s = 0\n",
    "a_off_s = 0\n",
    "for obs_result in background_estimator.result:\n",
    "    on_s += len(obs_result.on_events.table)\n",
    "    off_s += len(obs_result.off_events.table)\n",
    "    a_on_s += obs_result.a_on\n",
    "    a_off_s += obs_result.a_off\n",
    "    print(obs_result)\n",
    "    print(\"\\n\")\n",
    "\n",
    "alpha = a_on_s/a_off_s\n",
    "excess = on_s - off_s*alpha\n",
    "sigma = significance_on_off(on_s, off_s, alpha)\n",
    "print(\"\\n Total ON : {0} | Total OFF : {1} | Alpha : {2:.4f}\".format(on_s, off_s, alpha))\n",
    "print(\" Total Excess : {0:.2f} | Sigma = {1:.2f}\".format(excess, sigma))"
   ]
  },
  {
   "cell_type": "markdown",
   "metadata": {},
   "source": [
    "## Results from the new class"
   ]
  },
  {
   "cell_type": "code",
   "execution_count": 22,
   "metadata": {},
   "outputs": [
    {
     "ename": "AttributeError",
     "evalue": "'RectanglePixelRegion' object has no attribute 'radius'",
     "output_type": "error",
     "traceback": [
      "\u001b[0;31m---------------------------------------------------------------------------\u001b[0m",
      "\u001b[0;31mAttributeError\u001b[0m                            Traceback (most recent call last)",
      "\u001b[0;32m<ipython-input-22-6d00837f4d37>\u001b[0m in \u001b[0;36m<module>\u001b[0;34m()\u001b[0m\n\u001b[0;32m----> 1\u001b[0;31m \u001b[0mbackground_bk_estimator\u001b[0m\u001b[0;34m.\u001b[0m\u001b[0mrun\u001b[0m\u001b[0;34m(\u001b[0m\u001b[0;34m)\u001b[0m\u001b[0;34m\u001b[0m\u001b[0m\n\u001b[0m",
      "\u001b[0;32m~/MesProgrammes/gammapy_dev/gammapy/background/reflected_bk.py\u001b[0m in \u001b[0;36mrun\u001b[0;34m(self)\u001b[0m\n\u001b[1;32m    399\u001b[0m         \u001b[0mresult\u001b[0m \u001b[0;34m=\u001b[0m \u001b[0;34m[\u001b[0m\u001b[0;34m]\u001b[0m\u001b[0;34m\u001b[0m\u001b[0m\n\u001b[1;32m    400\u001b[0m         \u001b[0;32mfor\u001b[0m \u001b[0mobs\u001b[0m \u001b[0;32min\u001b[0m \u001b[0mself\u001b[0m\u001b[0;34m.\u001b[0m\u001b[0mobservations\u001b[0m\u001b[0;34m:\u001b[0m\u001b[0;34m\u001b[0m\u001b[0m\n\u001b[0;32m--> 401\u001b[0;31m             \u001b[0mtemp\u001b[0m \u001b[0;34m=\u001b[0m \u001b[0mself\u001b[0m\u001b[0;34m.\u001b[0m\u001b[0mprocess\u001b[0m\u001b[0;34m(\u001b[0m\u001b[0mobs\u001b[0m\u001b[0;34m)\u001b[0m\u001b[0;34m\u001b[0m\u001b[0m\n\u001b[0m\u001b[1;32m    402\u001b[0m             \u001b[0mresult\u001b[0m\u001b[0;34m.\u001b[0m\u001b[0mappend\u001b[0m\u001b[0;34m(\u001b[0m\u001b[0mtemp\u001b[0m\u001b[0;34m)\u001b[0m\u001b[0;34m\u001b[0m\u001b[0m\n\u001b[1;32m    403\u001b[0m \u001b[0;34m\u001b[0m\u001b[0m\n",
      "\u001b[0;32m~/MesProgrammes/gammapy_dev/gammapy/background/reflected_bk.py\u001b[0m in \u001b[0;36mprocess\u001b[0;34m(self, obs)\u001b[0m\n\u001b[1;32m    408\u001b[0m         \u001b[0mlog\u001b[0m\u001b[0;34m.\u001b[0m\u001b[0mdebug\u001b[0m\u001b[0;34m(\u001b[0m\u001b[0;34m\"Processing observation {}\"\u001b[0m\u001b[0;34m.\u001b[0m\u001b[0mformat\u001b[0m\u001b[0;34m(\u001b[0m\u001b[0mobs\u001b[0m\u001b[0;34m)\u001b[0m\u001b[0;34m)\u001b[0m\u001b[0;34m\u001b[0m\u001b[0m\n\u001b[1;32m    409\u001b[0m         \u001b[0mself\u001b[0m\u001b[0;34m.\u001b[0m\u001b[0mfinder\u001b[0m\u001b[0;34m.\u001b[0m\u001b[0mcenter\u001b[0m \u001b[0;34m=\u001b[0m \u001b[0mobs\u001b[0m\u001b[0;34m.\u001b[0m\u001b[0mpointing_radec\u001b[0m\u001b[0;34m\u001b[0m\u001b[0m\n\u001b[0;32m--> 410\u001b[0;31m         \u001b[0mself\u001b[0m\u001b[0;34m.\u001b[0m\u001b[0mfinder\u001b[0m\u001b[0;34m.\u001b[0m\u001b[0mrun\u001b[0m\u001b[0;34m(\u001b[0m\u001b[0mobs\u001b[0m\u001b[0;34m.\u001b[0m\u001b[0mobs_id\u001b[0m\u001b[0;34m)\u001b[0m\u001b[0;34m\u001b[0m\u001b[0m\n\u001b[0m\u001b[1;32m    411\u001b[0m         \u001b[0moff_region\u001b[0m \u001b[0;34m=\u001b[0m \u001b[0mself\u001b[0m\u001b[0;34m.\u001b[0m\u001b[0mfinder\u001b[0m\u001b[0;34m.\u001b[0m\u001b[0mreflected_regions\u001b[0m\u001b[0;34m\u001b[0m\u001b[0m\n\u001b[1;32m    412\u001b[0m         \u001b[0;31m# off_events = obs.events.select_circular_region(off_region)      # TODO: replace with the Regis PR\u001b[0m\u001b[0;34m\u001b[0m\u001b[0;34m\u001b[0m\u001b[0m\n",
      "\u001b[0;32m~/MesProgrammes/gammapy_dev/gammapy/background/reflected_bk.py\u001b[0m in \u001b[0;36mrun\u001b[0;34m(self, obs_id)\u001b[0m\n\u001b[1;32m    149\u001b[0m             \u001b[0mself\u001b[0m\u001b[0;34m.\u001b[0m\u001b[0mreference_map\u001b[0m\u001b[0;34m.\u001b[0m\u001b[0mdata\u001b[0m \u001b[0;34m+=\u001b[0m \u001b[0;36m1\u001b[0m\u001b[0;34m\u001b[0m\u001b[0m\n\u001b[1;32m    150\u001b[0m         \u001b[0mself\u001b[0m\u001b[0;34m.\u001b[0m\u001b[0msetup\u001b[0m\u001b[0;34m(\u001b[0m\u001b[0;34m)\u001b[0m\u001b[0;34m\u001b[0m\u001b[0m\n\u001b[0;32m--> 151\u001b[0;31m         \u001b[0mself\u001b[0m\u001b[0;34m.\u001b[0m\u001b[0mfind_regions\u001b[0m\u001b[0;34m(\u001b[0m\u001b[0;34m)\u001b[0m\u001b[0;34m\u001b[0m\u001b[0m\n\u001b[0m\u001b[1;32m    152\u001b[0m \u001b[0;34m\u001b[0m\u001b[0m\n\u001b[1;32m    153\u001b[0m     \u001b[0;34m@\u001b[0m\u001b[0mstaticmethod\u001b[0m\u001b[0;34m\u001b[0m\u001b[0m\n",
      "\u001b[0;32m~/MesProgrammes/gammapy_dev/gammapy/background/reflected_bk.py\u001b[0m in \u001b[0;36mfind_regions\u001b[0;34m(self)\u001b[0m\n\u001b[1;32m    244\u001b[0m             \u001b[0mtest_pos\u001b[0m \u001b[0;34m=\u001b[0m \u001b[0mself\u001b[0m\u001b[0;34m.\u001b[0m\u001b[0m_compute_xy\u001b[0m\u001b[0;34m(\u001b[0m\u001b[0mself\u001b[0m\u001b[0;34m.\u001b[0m\u001b[0m_pix_center\u001b[0m\u001b[0;34m,\u001b[0m \u001b[0mself\u001b[0m\u001b[0;34m.\u001b[0m\u001b[0m_offset\u001b[0m\u001b[0;34m,\u001b[0m \u001b[0mcurr_angle\u001b[0m\u001b[0;34m)\u001b[0m\u001b[0;34m\u001b[0m\u001b[0m\n\u001b[1;32m    245\u001b[0m             \u001b[0;31m# TODO : to generalise to any shape\u001b[0m\u001b[0;34m\u001b[0m\u001b[0;34m\u001b[0m\u001b[0m\n\u001b[0;32m--> 246\u001b[0;31m             \u001b[0mtest_reg\u001b[0m \u001b[0;34m=\u001b[0m \u001b[0mCirclePixelRegion\u001b[0m\u001b[0;34m(\u001b[0m\u001b[0mtest_pos\u001b[0m\u001b[0;34m,\u001b[0m \u001b[0mself\u001b[0m\u001b[0;34m.\u001b[0m\u001b[0m_pix_region\u001b[0m\u001b[0;34m.\u001b[0m\u001b[0mradius\u001b[0m\u001b[0;34m)\u001b[0m\u001b[0;34m\u001b[0m\u001b[0m\n\u001b[0m\u001b[1;32m    247\u001b[0m             \u001b[0m_region\u001b[0m \u001b[0;34m=\u001b[0m \u001b[0mtest_reg\u001b[0m\u001b[0;34m.\u001b[0m\u001b[0mto_sky\u001b[0m\u001b[0;34m(\u001b[0m\u001b[0mself\u001b[0m\u001b[0;34m.\u001b[0m\u001b[0mexclusion_mask\u001b[0m\u001b[0;34m.\u001b[0m\u001b[0mgeom\u001b[0m\u001b[0;34m.\u001b[0m\u001b[0mwcs\u001b[0m\u001b[0;34m)\u001b[0m\u001b[0;34m\u001b[0m\u001b[0m\n\u001b[1;32m    248\u001b[0m             \u001b[0;32mif\u001b[0m \u001b[0;32mnot\u001b[0m \u001b[0mself\u001b[0m\u001b[0;34m.\u001b[0m\u001b[0m_is_inside_exclusion\u001b[0m\u001b[0;34m(\u001b[0m\u001b[0m_region\u001b[0m\u001b[0;34m)\u001b[0m\u001b[0;34m:\u001b[0m\u001b[0;34m\u001b[0m\u001b[0m\n",
      "\u001b[0;31mAttributeError\u001b[0m: 'RectanglePixelRegion' object has no attribute 'radius'"
     ]
    }
   ],
   "source": [
    "background_bk_estimator.run()"
   ]
  },
  {
   "cell_type": "code",
   "execution_count": 20,
   "metadata": {},
   "outputs": [
    {
     "name": "stderr",
     "output_type": "stream",
     "text": [
      "/home/khelifi/MesProgrammes/anaconda3/lib/python3.6/site-packages/matplotlib/patches.py:83: UserWarning: Setting the 'color' property will overridethe edgecolor or facecolor properties. \n",
      "  warnings.warn(\"Setting the 'color' property will override\"\n"
     ]
    },
    {
     "name": "stdout",
     "output_type": "stream",
     "text": [
      "BKH> OK 83.63333129882812 21.51444435119629\n",
      "BKH> OK 83.63333129882812 22.51444435119629\n",
      "BKH> OK 85.25333404541016 22.01444435119629\n",
      "BKH> OK 82.01333618164062 22.01444435119629\n"
     ]
    },
    {
     "name": "stderr",
     "output_type": "stream",
     "text": [
      "/home/khelifi/MesProgrammes/anaconda3/lib/python3.6/site-packages/astropy/visualization/mpl_normalize.py:111: RuntimeWarning: invalid value encountered in true_divide\n",
      "  np.true_divide(values, self.vmax - self.vmin, out=values)\n",
      "/home/khelifi/MesProgrammes/anaconda3/lib/python3.6/site-packages/matplotlib/colors.py:504: RuntimeWarning: invalid value encountered in less\n",
      "  xa[xa < 0] = -1\n",
      "/home/khelifi/MesProgrammes/anaconda3/lib/python3.6/site-packages/astropy/visualization/mpl_normalize.py:111: RuntimeWarning: invalid value encountered in true_divide\n",
      "  np.true_divide(values, self.vmax - self.vmin, out=values)\n",
      "/home/khelifi/MesProgrammes/anaconda3/lib/python3.6/site-packages/matplotlib/colors.py:504: RuntimeWarning: invalid value encountered in less\n",
      "  xa[xa < 0] = -1\n",
      "/home/khelifi/MesProgrammes/anaconda3/lib/python3.6/site-packages/astropy/visualization/mpl_normalize.py:111: RuntimeWarning: invalid value encountered in true_divide\n",
      "  np.true_divide(values, self.vmax - self.vmin, out=values)\n",
      "/home/khelifi/MesProgrammes/anaconda3/lib/python3.6/site-packages/matplotlib/colors.py:504: RuntimeWarning: invalid value encountered in less\n",
      "  xa[xa < 0] = -1\n"
     ]
    },
    {
     "data": {
      "image/png": "[encoded data removed]",
      "text/plain": [
       "<Figure size 432x288 with 1 Axes>"
      ]
     },
     "metadata": {},
     "output_type": "display_data"
    }
   ],
   "source": [
    "background_bk_estimator.plot();"
   ]
  },
  {
   "cell_type": "code",
   "execution_count": 17,
   "metadata": {},
   "outputs": [
    {
     "name": "stdout",
     "output_type": "stream",
     "text": [
      "BackgroundEstimate\n",
      " Method: Reflected Regions\n",
      " on region\n",
      " Region: CircleSkyRegion\n",
      "center: <SkyCoord (ICRS): (ra, dec) in deg\n",
      "    (83.63308333, 22.0145)>\n",
      "radius: 0.15 deg\n",
      " EventList info:\n",
      "- Number of events: 7613\n",
      "- Median energy: 0.953 TeV\n",
      "- OBS_ID = 23523\n",
      " off region\n",
      " [<CircleSkyRegion(<SkyCoord (ICRS): (ra, dec) in deg\n",
      "    (83.2449484, 21.86058654)>, radius=0.15000298467670553 deg)>, <CircleSkyRegion(<SkyCoord (ICRS): (ra, dec) in deg\n",
      "    (83.09672179, 21.54419438)>, radius=0.15000569993724175 deg)>, <CircleSkyRegion(<SkyCoord (ICRS): (ra, dec) in deg\n",
      "    (83.20414369, 21.2139449)>, radius=0.15000365257329382 deg)>, <CircleSkyRegion(<SkyCoord (ICRS): (ra, dec) in deg\n",
      "    (83.51487764, 21.02672402)>, radius=0.15000028999329862 deg)>, <CircleSkyRegion(<SkyCoord (ICRS): (ra, dec) in deg\n",
      "    (83.88154718, 21.07108288)>, radius=0.15000123025403614 deg)>, <CircleSkyRegion(<SkyCoord (ICRS): (ra, dec) in deg\n",
      "    (84.13091785, 21.32606571)>, radius=0.15000490465311803 deg)>, <CircleSkyRegion(<SkyCoord (ICRS): (ra, dec) in deg\n",
      "    (84.14412278, 21.67091313)>, radius=0.15000516358686528 deg)>]\n",
      " EventList info:\n",
      "- Number of events: 7613\n",
      "- Median energy: 0.953 TeV\n",
      "- OBS_ID = 23523\n",
      "\n",
      "\n",
      "BackgroundEstimate\n",
      " Method: Reflected Regions\n",
      " on region\n",
      " Region: CircleSkyRegion\n",
      "center: <SkyCoord (ICRS): (ra, dec) in deg\n",
      "    (83.63308333, 22.0145)>\n",
      "radius: 0.15 deg\n",
      " EventList info:\n",
      "- Number of events: 7581\n",
      "- Median energy: 0.836 TeV\n",
      "- OBS_ID = 23526\n",
      " off region\n",
      " [<CircleSkyRegion(<SkyCoord (ICRS): (ra, dec) in deg\n",
      "    (84.02212437, 22.16713223)>, radius=0.1500029451964136 deg)>, <CircleSkyRegion(<SkyCoord (ICRS): (ra, dec) in deg\n",
      "    (84.1733547, 22.48248471)>, radius=0.1500056798857351 deg)>, <CircleSkyRegion(<SkyCoord (ICRS): (ra, dec) in deg\n",
      "    (84.06759313, 22.81337863)>, radius=0.1500036666361875 deg)>, <CircleSkyRegion(<SkyCoord (ICRS): (ra, dec) in deg\n",
      "    (83.753908, 23.00186764)>, radius=0.15000027091204707 deg)>, <CircleSkyRegion(<SkyCoord (ICRS): (ra, dec) in deg\n",
      "    (83.38228725, 22.95754202)>, radius=0.15000121675762065 deg)>, <CircleSkyRegion(<SkyCoord (ICRS): (ra, dec) in deg\n",
      "    (83.13118975, 22.70169187)>, radius=0.15000490735530977 deg)>, <CircleSkyRegion(<SkyCoord (ICRS): (ra, dec) in deg\n",
      "    (83.12001944, 22.35685678)>, radius=0.15000513289352438 deg)>]\n",
      " EventList info:\n",
      "- Number of events: 7581\n",
      "- Median energy: 0.836 TeV\n",
      "- OBS_ID = 23526\n",
      "\n",
      "\n",
      "BackgroundEstimate\n",
      " Method: Reflected Regions\n",
      " on region\n",
      " Region: CircleSkyRegion\n",
      "center: <SkyCoord (ICRS): (ra, dec) in deg\n",
      "    (83.63308333, 22.0145)>\n",
      "radius: 0.15 deg\n",
      " EventList info:\n",
      "- Number of events: 7601\n",
      "- Median energy: 0.794 TeV\n",
      "- OBS_ID = 23559\n",
      " off region\n",
      " [<CircleSkyRegion(<SkyCoord (ICRS): (ra, dec) in deg\n",
      "    (83.76155713, 21.43489823)>, radius=0.14999215557060516 deg)>, <CircleSkyRegion(<SkyCoord (ICRS): (ra, dec) in deg\n",
      "    (84.00978875, 21.05613848)>, radius=0.1499788272522372 deg)>, <CircleSkyRegion(<SkyCoord (ICRS): (ra, dec) in deg\n",
      "    (84.36451625, 20.76087362)>, radius=0.14996397974247616 deg)>, <CircleSkyRegion(<SkyCoord (ICRS): (ra, dec) in deg\n",
      "    (84.79494166, 20.57432738)>, radius=0.14995259837305464 deg)>, <CircleSkyRegion(<SkyCoord (ICRS): (ra, dec) in deg\n",
      "    (85.26427379, 20.51236903)>, radius=0.14994847678671655 deg)>, <CircleSkyRegion(<SkyCoord (ICRS): (ra, dec) in deg\n",
      "    (85.73267843, 20.5802582)>, radius=0.14995298398331186 deg)>, <CircleSkyRegion(<SkyCoord (ICRS): (ra, dec) in deg\n",
      "    (86.16039364, 20.77223152)>, radius=0.14996462277779643 deg)>, <CircleSkyRegion(<SkyCoord (ICRS): (ra, dec) in deg\n",
      "    (86.51084113, 21.0719556)>, radius=0.14997951270089954 deg)>, <CircleSkyRegion(<SkyCoord (ICRS): (ra, dec) in deg\n",
      "    (86.75356473, 21.45381961)>, radius=0.14999265204578344 deg)>, <CircleSkyRegion(<SkyCoord (ICRS): (ra, dec) in deg\n",
      "    (86.86682074, 21.88499076)>, radius=0.14999957207115594 deg)>, <CircleSkyRegion(<SkyCoord (ICRS): (ra, dec) in deg\n",
      "    (86.83963067, 22.32810691)>, radius=0.14999785780027708 deg)>, <CircleSkyRegion(<SkyCoord (ICRS): (ra, dec) in deg\n",
      "    (86.67308877, 22.74442981)>, radius=0.14998802107312004 deg)>, <CircleSkyRegion(<SkyCoord (ICRS): (ra, dec) in deg\n",
      "    (86.38070838, 23.09722861)>, radius=0.1499733932933864 deg)>, <CircleSkyRegion(<SkyCoord (ICRS): (ra, dec) in deg\n",
      "    (85.987624, 23.35510842)>, radius=0.14995902280556467 deg)>, <CircleSkyRegion(<SkyCoord (ICRS): (ra, dec) in deg\n",
      "    (85.52856573, 23.4949578)>, radius=0.14994992359205953 deg)>, <CircleSkyRegion(<SkyCoord (ICRS): (ra, dec) in deg\n",
      "    (85.04469941, 23.50418376)>, radius=0.14994929091669104 deg)>, <CircleSkyRegion(<SkyCoord (ICRS): (ra, dec) in deg\n",
      "    (84.57964239, 23.38195402)>, radius=0.14995734749506348 deg)>, <CircleSkyRegion(<SkyCoord (ICRS): (ra, dec) in deg\n",
      "    (84.17515172, 23.13927978)>, radius=0.14997126254634316 deg)>, <CircleSkyRegion(<SkyCoord (ICRS): (ra, dec) in deg\n",
      "    (83.86706158, 22.79792745)>, radius=0.14998617546038195 deg)>]\n",
      " EventList info:\n",
      "- Number of events: 7601\n",
      "- Median energy: 0.794 TeV\n",
      "- OBS_ID = 23559\n",
      "\n",
      "\n",
      "BackgroundEstimate\n",
      " Method: Reflected Regions\n",
      " on region\n",
      " Region: CircleSkyRegion\n",
      "center: <SkyCoord (ICRS): (ra, dec) in deg\n",
      "    (83.63308333, 22.0145)>\n",
      "radius: 0.15 deg\n",
      " EventList info:\n",
      "- Number of events: 7334\n",
      "- Median energy: 0.942 TeV\n",
      "- OBS_ID = 23592\n",
      " off region\n",
      " [<CircleSkyRegion(<SkyCoord (ICRS): (ra, dec) in deg\n",
      "    (83.51020529, 22.59505202)>, radius=0.14999247174392574 deg)>, <CircleSkyRegion(<SkyCoord (ICRS): (ra, dec) in deg\n",
      "    (83.26232695, 22.97536283)>, radius=0.14997910144570348 deg)>, <CircleSkyRegion(<SkyCoord (ICRS): (ra, dec) in deg\n",
      "    (82.90318304, 23.27162747)>, radius=0.1499640158535418 deg)>, <CircleSkyRegion(<SkyCoord (ICRS): (ra, dec) in deg\n",
      "    (82.4642402, 23.45735829)>, radius=0.1499524601447048 deg)>, <CircleSkyRegion(<SkyCoord (ICRS): (ra, dec) in deg\n",
      "    (81.98469012, 23.5158551)>, radius=0.1499484844580056 deg)>, <CircleSkyRegion(<SkyCoord (ICRS): (ra, dec) in deg\n",
      "    (81.50772331, 23.44184262)>, radius=0.1499534876039728 deg)>, <CircleSkyRegion(<SkyCoord (ICRS): (ra, dec) in deg\n",
      "    (81.07627448, 23.24199409)>, radius=0.14996570968379427 deg)>, <CircleSkyRegion(<SkyCoord (ICRS): (ra, dec) in deg\n",
      "    (80.72880238, 22.93426943)>, radius=0.1499808701320783 deg)>, <CircleSkyRegion(<SkyCoord (ICRS): (ra, dec) in deg\n",
      "    (80.4956583, 22.54615821)>, radius=0.14999370424188632 deg)>, <CircleSkyRegion(<SkyCoord (ICRS): (ra, dec) in deg\n",
      "    (80.39645735, 22.11205706)>, radius=0.14999981643671306 deg)>, <CircleSkyRegion(<SkyCoord (ICRS): (ra, dec) in deg\n",
      "    (80.4386552, 21.6700944)>, radius=0.14999717711221866 deg)>, <CircleSkyRegion(<SkyCoord (ICRS): (ra, dec) in deg\n",
      "    (80.61732885, 21.25873729)>, radius=0.14998675890037 deg)>, <CircleSkyRegion(<SkyCoord (ICRS): (ra, dec) in deg\n",
      "    (80.91601934, 20.91348937)>, radius=0.14997214012636018 deg)>, <CircleSkyRegion(<SkyCoord (ICRS): (ra, dec) in deg\n",
      "    (81.30843065, 20.66393861)>, radius=0.14995825878754698 deg)>, <CircleSkyRegion(<SkyCoord (ICRS): (ra, dec) in deg\n",
      "    (81.7607697, 20.5313586)>, radius=0.14994975840408353 deg)>, <CircleSkyRegion(<SkyCoord (ICRS): (ra, dec) in deg\n",
      "    (82.23452902, 20.52701432)>, radius=0.14994946668319428 deg)>, <CircleSkyRegion(<SkyCoord (ICRS): (ra, dec) in deg\n",
      "    (82.68953035, 20.65127447)>, radius=0.14995748048811422 deg)>, <CircleSkyRegion(<SkyCoord (ICRS): (ra, dec) in deg\n",
      "    (83.08705817, 20.89358249)>, radius=0.14997113463192308 deg)>, <CircleSkyRegion(<SkyCoord (ICRS): (ra, dec) in deg\n",
      "    (83.39291454, 21.23328811)>, radius=0.14998586378770942 deg)>]\n",
      " EventList info:\n",
      "- Number of events: 7334\n",
      "- Median energy: 0.942 TeV\n",
      "- OBS_ID = 23592\n",
      "\n",
      "\n",
      "\n",
      " Total ON : 30129 | Total OFF : 30129 | Alpha : 0.0769\n",
      " Total Excess : 27811.38 | Sigma = 282.76\n"
     ]
    }
   ],
   "source": [
    "on_s = 0\n",
    "off_s = 0\n",
    "a_on_s = 0\n",
    "a_off_s = 0\n",
    "for obs_result in background_bk_estimator.result:\n",
    "    on_s += len(obs_result.on_events.table)\n",
    "    off_s += len(obs_result.off_events.table)\n",
    "    a_on_s += obs_result.a_on\n",
    "    a_off_s += obs_result.a_off\n",
    "    print(obs_result)\n",
    "    print(\"\\n\")\n",
    "\n",
    "alpha = a_on_s/a_off_s\n",
    "excess = on_s - off_s*alpha\n",
    "sigma = significance_on_off(on_s, off_s, alpha)\n",
    "print(\"\\n Total ON : {0} | Total OFF : {1} | Alpha : {2:.4f}\".format(on_s, off_s, alpha))\n",
    "print(\" Total Excess : {0:.2f} | Sigma = {1:.2f}\".format(excess, sigma))"
   ]
  }
 ],
 "metadata": {
  "kernelspec": {
   "display_name": "Python 3",
   "language": "python",
   "name": "python3"
  },
  "language_info": {
   "codemirror_mode": {
    "name": "ipython",
    "version": 3
   },
   "file_extension": ".py",
   "mimetype": "text/x-python",
   "name": "python",
   "nbconvert_exporter": "python",
   "pygments_lexer": "ipython3",
   "version": "3.6.5"
  }
 },
 "nbformat": 4,
 "nbformat_minor": 2
}
