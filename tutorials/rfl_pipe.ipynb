{
 "cells": [
  {
   "cell_type": "markdown",
   "metadata": {},
   "source": [
    "# Test of the new Reflected Bkg with Gammapy (run pipeline)\n",
    "\n",
    "In this tutorial we will learn how to perform a 1d spectral analysis.\n",
    "\n",
    "We will use a \"pipeline\" or \"workflow\" class to run a standard analysis. If you're interested in implementation detail of the analysis in order to create a custom analysis class, you should read ([spectrum_analysis.ipynb](spectrum_analysis.ipynb)) that executes the analysis using lower-level classes and methods in Gammapy. \n",
    "\n",
    "In this tutorial we will use the folling Gammapy classes:\n",
    "\n",
    "- [gammapy.data.DataStore](https://docs.gammapy.org/dev/api/gammapy.data.DataStore.html) to load the data to \n",
    "- [gammapy.scripts.SpectrumAnalysisIACT](https://docs.gammapy.org/dev/api/gammapy.scripts.SpectrumAnalysisIACT.html) to run the analysis\n",
    "\n",
    "We use 4 Crab observations from H.E.S.S. for testing."
   ]
  },
  {
   "cell_type": "markdown",
   "metadata": {},
   "source": [
    "## Setup\n",
    "\n",
    "As usual, we'll start with some setup for the notebook, and import the functionality we need."
   ]
  },
  {
   "cell_type": "code",
   "execution_count": 1,
   "metadata": {},
   "outputs": [],
   "source": [
    "%matplotlib inline\n",
    "import numpy as np\n",
    "import matplotlib.pyplot as plt\n",
    "\n",
    "import astropy.units as u\n",
    "from astropy.coordinates import SkyCoord, Angle\n",
    "from regions import PixCoord, CircleSkyRegion, CircleAnnulusSkyRegion, EllipseSkyRegion, EllipseAnnulusSkyRegion, RectangleSkyRegion, RectangleAnnulusSkyRegion, PolygonSkyRegion\n",
    "\n",
    "from gammapy.data import DataStore\n",
    "from gammapy.catalog import SourceCatalogGammaCat\n",
    "from gammapy.maps import Map\n",
    "from gammapy.background import ReflectedRegionsBackgroundEstimator, ReflectedRegionsBackgroundEstimator_BK\n",
    "from gammapy.stats import significance_on_off"
   ]
  },
  {
   "cell_type": "markdown",
   "metadata": {},
   "source": [
    "## Select data\n",
    "\n",
    "First, we select and load some H.E.S.S. data (simulated events for now). In real life you would do something fancy here, or just use the list of observations someone send you (and hope they have done something fancy before). We'll just use the standard gammapy 4 crab runs."
   ]
  },
  {
   "cell_type": "code",
   "execution_count": 2,
   "metadata": {},
   "outputs": [
    {
     "name": "stdout",
     "output_type": "stream",
     "text": [
      "[23523 23526 23559 23592]\n"
     ]
    }
   ],
   "source": [
    "data_store = DataStore.from_dir(\"$GAMMAPY_DATA/hess-dl3-dr1/\")\n",
    "mask = data_store.obs_table[\"TARGET_NAME\"] == \"Crab\"\n",
    "obs_ids = data_store.obs_table[\"OBS_ID\"][mask].data\n",
    "observations = data_store.get_observations(obs_ids)\n",
    "print(obs_ids)"
   ]
  },
  {
   "cell_type": "markdown",
   "metadata": {},
   "source": [
    "## Configure the analysis\n",
    "\n",
    "Now we'll define the input for the spectrum analysis. It will be done the python way, i.e. by creating a config dict containing python objects. We plan to add also the convenience to configure the analysis using a plain text config file."
   ]
  },
  {
   "cell_type": "code",
   "execution_count": 3,
   "metadata": {},
   "outputs": [
    {
     "name": "stdout",
     "output_type": "stream",
     "text": [
      "<SkyCoord (ICRS): (ra, dec) in deg\n",
      "    (83.633083, 22.0145)>\n"
     ]
    }
   ],
   "source": [
    "crab_pos = SkyCoord.from_name(\"crab\")\n",
    "print(crab_pos)\n",
    "on_region = CircleSkyRegion(crab_pos, 0.15 * u.deg)"
   ]
  },
  {
   "cell_type": "code",
   "execution_count": 4,
   "metadata": {
    "scrolled": true
   },
   "outputs": [
    {
     "data": {
      "image/png": "[encoded data removed]",
      "text/plain": [
       "<Figure size 432x288 with 1 Axes>"
      ]
     },
     "metadata": {},
     "output_type": "display_data"
    }
   ],
   "source": [
    "exclusion_mask = Map.create(skydir=crab_pos, width=(10, 10), binsz=0.02)\n",
    "\n",
    "gammacat = SourceCatalogGammaCat(\"$GAMMAPY_DATA/catalogs/gammacat/gammacat.fits.gz\")\n",
    "\n",
    "regions = []\n",
    "for source in gammacat:\n",
    "    if not exclusion_mask.geom.contains(source.position):\n",
    "        continue\n",
    "    region = CircleSkyRegion(source.position, 0.15 * u.deg)\n",
    "    regions.append(region)\n",
    "\n",
    "region = RectangleSkyRegion(center=SkyCoord(80.3,22.0,unit=\"deg\"),\n",
    "                                    width=1.2 * u.deg, height=0.4 * u.deg,\n",
    "                                    angle=0 * u.deg)\n",
    "regions.append(region)\n",
    "\n",
    "exclusion_mask.data = exclusion_mask.geom.region_mask(regions, inside=False)\n",
    "exclusion_mask.plot();"
   ]
  },
  {
   "cell_type": "code",
   "execution_count": 5,
   "metadata": {},
   "outputs": [],
   "source": [
    "config = dict(\n",
    "    outdir=\".\",\n",
    "    background=dict(\n",
    "        on_region=on_region,\n",
    "        exclusion_mask=exclusion_mask,\n",
    "        min_distance=0.1 * u.rad,\n",
    "    )\n",
    ")"
   ]
  },
  {
   "cell_type": "markdown",
   "metadata": {},
   "source": [
    "## Test different region types"
   ]
  },
  {
   "cell_type": "code",
   "execution_count": 6,
   "metadata": {},
   "outputs": [
    {
     "name": "stdout",
     "output_type": "stream",
     "text": [
      "CoG=<SkyCoord (ICRS): (ra, dec) in deg\n",
      "    (83.49335221, 21.51444058)> \n",
      "Radius=0.7003274046925726 deg\n"
     ]
    },
    {
     "data": {
      "image/png": "[encoded data removed]",
      "text/plain": [
       "<Figure size 432x288 with 1 Axes>"
      ]
     },
     "metadata": {},
     "output_type": "display_data"
    }
   ],
   "source": [
    "polygon_sky = PolygonSkyRegion(vertices=SkyCoord([83, 84, 84], [21, 21, 22], unit='deg', frame='icrs'))\n",
    "exclusion_mask.plot();\n",
    "polygon_pix = polygon_sky.to_pixel(exclusion_mask.geom.wcs)\n",
    "polygon_pix.plot();\n",
    "\n",
    "ixmin=polygon_pix.bounding_box.ixmin\n",
    "ixmax=polygon_pix.bounding_box.ixmax\n",
    "iymin=polygon_pix.bounding_box.iymin\n",
    "iymax=polygon_pix.bounding_box.iymax\n",
    "CoG = PixCoord((ixmin+ixmax)/2., (iymin+iymax)/2.).to_sky(exclusion_mask.geom.wcs)\n",
    "Radius = CoG.separation(PixCoord(ixmin,iymin).to_sky(exclusion_mask.geom.wcs))\n",
    "print(\"CoG={0} \\nRadius={1}\".format(CoG, Radius))"
   ]
  },
  {
   "cell_type": "code",
   "execution_count": 7,
   "metadata": {},
   "outputs": [
    {
     "name": "stdout",
     "output_type": "stream",
     "text": [
      "ICRS frame\n",
      "BoundingBox(ixmin=132, ixmax=333, iymin=99, iymax=300)\n",
      "CoG=<SkyCoord (ICRS): (ra, dec) in deg\n",
      "    (83.99725154, 21.01409498)>\n",
      "Radius=2.841626076086742 deg\n"
     ]
    },
    {
     "data": {
      "image/png": "[encoded data removed]",
      "text/plain": [
       "<Figure size 432x288 with 1 Axes>"
      ]
     },
     "metadata": {},
     "output_type": "display_data"
    }
   ],
   "source": [
    "center = SkyCoord(84, 21, unit='deg')\n",
    "radius = Angle(2, 'deg')\n",
    "circle = CircleSkyRegion(center, radius)\n",
    "if 'l' in circle.center.representation_component_names:\n",
    "    print(\"Galactic frame\")\n",
    "else:\n",
    "    print(\"ICRS frame\")\n",
    "exclusion_mask.plot();\n",
    "circle_pix = circle.to_pixel(exclusion_mask.geom.wcs)\n",
    "circle_pix.plot();\n",
    "\n",
    "print(circle_pix.bounding_box)\n",
    "ixmin=circle_pix.bounding_box.ixmin\n",
    "ixmax=circle_pix.bounding_box.ixmax\n",
    "iymin=circle_pix.bounding_box.iymin\n",
    "iymax=circle_pix.bounding_box.iymax\n",
    "CoG = PixCoord((ixmin+ixmax)/2., (iymin+iymax)/2.).to_sky(exclusion_mask.geom.wcs)\n",
    "Radius = CoG.separation(PixCoord(ixmin,iymin).to_sky(exclusion_mask.geom.wcs))\n",
    "print(\"CoG={0}\\nRadius={1}\".format(CoG, Radius))"
   ]
  },
  {
   "cell_type": "code",
   "execution_count": 8,
   "metadata": {},
   "outputs": [
    {
     "name": "stdout",
     "output_type": "stream",
     "text": [
      "BoundingBox(ixmin=146, ixmax=320, iymin=119, iymax=280)\n",
      "CoG=<SkyCoord (ICRS): (ra, dec) in deg\n",
      "    (83.98654074, 21.01411846)>\n",
      "Radius=2.3699148510581876 deg\n"
     ]
    },
    {
     "data": {
      "image/png": "[encoded data removed]",
      "text/plain": [
       "<Figure size 432x288 with 1 Axes>"
      ]
     },
     "metadata": {},
     "output_type": "display_data"
    }
   ],
   "source": [
    "ellipse_annulus_sky = EllipseAnnulusSkyRegion(center=center,\n",
    "                                               inner_width=1.5 * u.deg,\n",
    "                                               outer_width=2.5 * u.deg,\n",
    "                                               inner_height=3 * u.deg,\n",
    "                                               outer_height=4 * u.deg,\n",
    "                                               angle=130 * u.deg)\n",
    "exclusion_mask.plot();\n",
    "ellipse_annulus_pix = ellipse_annulus_sky.to_pixel(exclusion_mask.geom.wcs)\n",
    "ellipse_annulus_pix.plot();\n",
    "\n",
    "print(ellipse_annulus_pix.bounding_box)\n",
    "ixmin=ellipse_annulus_pix.bounding_box.ixmin\n",
    "ixmax=ellipse_annulus_pix.bounding_box.ixmax\n",
    "iymin=ellipse_annulus_pix.bounding_box.iymin\n",
    "iymax=ellipse_annulus_pix.bounding_box.iymax\n",
    "CoG = PixCoord((ixmin+ixmax)/2., (iymin+iymax)/2.).to_sky(exclusion_mask.geom.wcs)\n",
    "Radius = CoG.separation(PixCoord(ixmin,iymin).to_sky(exclusion_mask.geom.wcs))\n",
    "print(\"CoG={0}\\nRadius={1}\".format(CoG, Radius))"
   ]
  },
  {
   "cell_type": "code",
   "execution_count": 9,
   "metadata": {},
   "outputs": [
    {
     "name": "stdout",
     "output_type": "stream",
     "text": [
      "BoundingBox(ixmin=124, ixmax=342, iymin=96, iymax=302)\n",
      "CoG=<SkyCoord (ICRS): (ra, dec) in deg\n",
      "    (83.98651597, 21.00411848)>\n",
      "Radius=2.998243478870509 deg\n"
     ]
    },
    {
     "data": {
      "image/png": "[encoded data removed]",
      "text/plain": [
       "<Figure size 432x288 with 1 Axes>"
      ]
     },
     "metadata": {},
     "output_type": "display_data"
    }
   ],
   "source": [
    "rectangle_sky = RectangleSkyRegion(center=center,\n",
    "                                    width=2. * u.deg, height=4. * u.deg,\n",
    "                                    angle=50 * u.deg)\n",
    "exclusion_mask.plot();\n",
    "rectangle_pix = rectangle_sky.to_pixel(exclusion_mask.geom.wcs)\n",
    "rectangle_pix.plot();\n",
    "\n",
    "print(rectangle_pix.bounding_box)\n",
    "ixmin=rectangle_pix.bounding_box.ixmin\n",
    "ixmax=rectangle_pix.bounding_box.ixmax\n",
    "iymin=rectangle_pix.bounding_box.iymin\n",
    "iymax=rectangle_pix.bounding_box.iymax\n",
    "CoG = PixCoord((ixmin+ixmax)/2., (iymin+iymax)/2.).to_sky(exclusion_mask.geom.wcs)\n",
    "Radius = CoG.separation(PixCoord(ixmin,iymin).to_sky(exclusion_mask.geom.wcs))\n",
    "print(\"CoG={0}\\nRadius={1}\".format(CoG, Radius))"
   ]
  },
  {
   "cell_type": "markdown",
   "metadata": {},
   "source": [
    "## Configuration of the Reflected Bg Makers\n"
   ]
  },
  {
   "cell_type": "code",
   "execution_count": 10,
   "metadata": {},
   "outputs": [],
   "source": [
    "background_estimator = ReflectedRegionsBackgroundEstimator(\n",
    "            observations=observations, **config[\"background\"]\n",
    "        )"
   ]
  },
  {
   "cell_type": "code",
   "execution_count": 11,
   "metadata": {},
   "outputs": [],
   "source": [
    "# rectangle_sky = RectangleSkyRegion(center=crab_pos.transform_to('galactic'),\n",
    "#                                     width=0.5 * u.deg, height=0.4 * u.deg,\n",
    "#                                     angle=0 * u.deg)\n",
    "# rectangle_sky = RectangleSkyRegion(center=crab_pos,\n",
    "#                                     width=0.5 * u.deg, height=0.4 * u.deg,\n",
    "#                                     angle=0 * u.deg)\n",
    "# config = dict(\n",
    "#     outdir=\".\",\n",
    "#     background=dict(\n",
    "#         on_region=rectangle_sky,\n",
    "#         exclusion_mask=exclusion_mask,\n",
    "#         min_distance=0.1 * u.rad,\n",
    "#     )\n",
    "# )\n",
    "\n",
    "config = dict(\n",
    "    outdir=\".\",\n",
    "    background=dict(\n",
    "        on_region = CircleSkyRegion(crab_pos.transform_to('galactic'), 0.15 * u.deg),\n",
    "        exclusion_mask=exclusion_mask,\n",
    "        min_distance=0.1 * u.rad,\n",
    "    )\n",
    ")\n",
    "background_bk_estimator = ReflectedRegionsBackgroundEstimator_BK(\n",
    "            observations=observations, **config[\"background\"]\n",
    "        )"
   ]
  },
  {
   "cell_type": "markdown",
   "metadata": {},
   "source": [
    "## Results from initial class\n",
    "\n",
    "Let's look at the results, and also compare with a previously published Crab nebula spectrum for reference."
   ]
  },
  {
   "cell_type": "code",
   "execution_count": 12,
   "metadata": {},
   "outputs": [],
   "source": [
    "background_estimator.run()"
   ]
  },
  {
   "cell_type": "code",
   "execution_count": 13,
   "metadata": {
    "scrolled": true
   },
   "outputs": [
    {
     "name": "stderr",
     "output_type": "stream",
     "text": [
      "/home/khelifi/MesProgrammes/anaconda3/lib/python3.6/site-packages/matplotlib/patches.py:83: UserWarning: Setting the 'color' property will overridethe edgecolor or facecolor properties. \n",
      "  warnings.warn(\"Setting the 'color' property will override\"\n"
     ]
    },
    {
     "data": {
      "image/png": "[encoded data removed]",
      "text/plain": [
       "<Figure size 432x288 with 1 Axes>"
      ]
     },
     "metadata": {},
     "output_type": "display_data"
    }
   ],
   "source": [
    "background_estimator.plot();"
   ]
  },
  {
   "cell_type": "code",
   "execution_count": 14,
   "metadata": {
    "scrolled": false
   },
   "outputs": [
    {
     "name": "stdout",
     "output_type": "stream",
     "text": [
      "BackgroundEstimate\n",
      " Method: Reflected Regions\n",
      " on region\n",
      " Region: CircleSkyRegion\n",
      "center: <SkyCoord (ICRS): (ra, dec) in deg\n",
      "    (83.633083, 22.0145)>\n",
      "radius: 0.15 deg\n",
      " EventList info:\n",
      "- Number of events: 255\n",
      "- Median energy: 0.97 TeV\n",
      "- OBS_ID = 23523\n",
      " off region\n",
      " [<CircleSkyRegion(<SkyCoord (Galactic): (l, b) in deg\n",
      "    (184.49445154, -6.1730972)>, radius=0.15000538540054006 deg)>, <CircleSkyRegion(<SkyCoord (Galactic): (l, b) in deg\n",
      "    (184.69165392, -6.4598246)>, radius=0.15000192032364199 deg)>, <CircleSkyRegion(<SkyCoord (Galactic): (l, b) in deg\n",
      "    (185.02935543, -6.54955661)>, radius=0.15000006267669222 deg)>, <CircleSkyRegion(<SkyCoord (Galactic): (l, b) in deg\n",
      "    (185.34431055, -6.39890773)>, radius=0.15000297128598708 deg)>, <CircleSkyRegion(<SkyCoord (Galactic): (l, b) in deg\n",
      "    (185.48434373, -6.08070499)>, radius=0.1500057008451938 deg)>, <CircleSkyRegion(<SkyCoord (Galactic): (l, b) in deg\n",
      "    (185.38216297, -5.74858971)>, radius=0.15000361455436526 deg)>, <CircleSkyRegion(<SkyCoord (Galactic): (l, b) in deg\n",
      "    (185.08735659, -5.56267597)>, radius=0.15000024942177534 deg)>]\n",
      " EventList info:\n",
      "- Number of events: 243\n",
      "- Median energy: 0.735 TeV\n",
      "- OBS_ID = 23523\n",
      "\n",
      "\n",
      "BackgroundEstimate\n",
      " Method: Reflected Regions\n",
      " on region\n",
      " Region: CircleSkyRegion\n",
      "center: <SkyCoord (ICRS): (ra, dec) in deg\n",
      "    (83.633083, 22.0145)>\n",
      "radius: 0.15 deg\n",
      " EventList info:\n",
      "- Number of events: 273\n",
      "- Median energy: 0.807 TeV\n",
      "- OBS_ID = 23526\n",
      " off region\n",
      " [<CircleSkyRegion(<SkyCoord (Galactic): (l, b) in deg\n",
      "    (184.62070578, -5.39568621)>, radius=0.15000536875206358 deg)>, <CircleSkyRegion(<SkyCoord (Galactic): (l, b) in deg\n",
      "    (184.42412126, -5.10880489)>, radius=0.1500019024304682 deg)>, <CircleSkyRegion(<SkyCoord (Galactic): (l, b) in deg\n",
      "    (184.08743811, -5.01852753)>, radius=0.1500000350719493 deg)>, <CircleSkyRegion(<SkyCoord (Galactic): (l, b) in deg\n",
      "    (183.77286307, -5.16834417)>, radius=0.15000293062603112 deg)>, <CircleSkyRegion(<SkyCoord (Galactic): (l, b) in deg\n",
      "    (183.6320058, -5.4860748)>, radius=0.15000568252537896 deg)>, <CircleSkyRegion(<SkyCoord (Galactic): (l, b) in deg\n",
      "    (183.73305712, -5.81850549)>, radius=0.15000362436000073 deg)>, <CircleSkyRegion(<SkyCoord (Galactic): (l, b) in deg\n",
      "    (184.02753892, -6.00511461)>, radius=0.15000025327047406 deg)>]\n",
      " EventList info:\n",
      "- Number of events: 237\n",
      "- Median energy: 0.696 TeV\n",
      "- OBS_ID = 23526\n",
      "\n",
      "\n",
      "BackgroundEstimate\n",
      " Method: Reflected Regions\n",
      " on region\n",
      " Region: CircleSkyRegion\n",
      "center: <SkyCoord (ICRS): (ra, dec) in deg\n",
      "    (83.633083, 22.0145)>\n",
      "radius: 0.15 deg\n",
      " EventList info:\n",
      "- Number of events: 212\n",
      "- Median energy: 0.889 TeV\n",
      "- OBS_ID = 23559\n",
      " off region\n",
      " [<CircleSkyRegion(<SkyCoord (Galactic): (l, b) in deg\n",
      "    (185.11923033, -5.99415288)>, radius=0.14994976052828163 deg)>, <CircleSkyRegion(<SkyCoord (Galactic): (l, b) in deg\n",
      "    (185.57069171, -5.99786921)>, radius=0.1499495079121796 deg)>, <CircleSkyRegion(<SkyCoord (Galactic): (l, b) in deg\n",
      "    (186.00294306, -5.86839947)>, radius=0.14995793485437467 deg)>, <CircleSkyRegion(<SkyCoord (Galactic): (l, b) in deg\n",
      "    (186.37712031, -5.61740009)>, radius=0.14997207880968466 deg)>, <CircleSkyRegion(<SkyCoord (Galactic): (l, b) in deg\n",
      "    (186.65970293, -5.26743892)>, radius=0.14998697395541088 deg)>, <CircleSkyRegion(<SkyCoord (Galactic): (l, b) in deg\n",
      "    (186.82553301, -4.84992067)>, radius=0.14999740209892776 deg)>, <CircleSkyRegion(<SkyCoord (Galactic): (l, b) in deg\n",
      "    (186.86001075, -4.40223082)>, radius=0.14999972262411013 deg)>, <CircleSkyRegion(<SkyCoord (Galactic): (l, b) in deg\n",
      "    (186.76030318, -3.96437408)>, radius=0.14999313766819264 deg)>, <CircleSkyRegion(<SkyCoord (Galactic): (l, b) in deg\n",
      "    (186.53550599, -3.57541129)>, radius=0.1499799570695299 deg)>, <CircleSkyRegion(<SkyCoord (Galactic): (l, b) in deg\n",
      "    (186.20577915, -3.27000146)>, radius=0.14996478158773197 deg)>, <CircleSkyRegion(<SkyCoord (Galactic): (l, b) in deg\n",
      "    (185.80054173, -3.07534027)>, radius=0.14995289664812692 deg)>, <CircleSkyRegion(<SkyCoord (Galactic): (l, b) in deg\n",
      "    (185.35587261, -3.00875616)>, radius=0.1499484363725688 deg)>, <CircleSkyRegion(<SkyCoord (Galactic): (l, b) in deg\n",
      "    (184.91132958, -3.07617573)>, radius=0.14995295133147865 deg)>, <CircleSkyRegion(<SkyCoord (Galactic): (l, b) in deg\n",
      "    (184.50645929, -3.27159802)>, radius=0.14996487194290958 deg)>, <CircleSkyRegion(<SkyCoord (Galactic): (l, b) in deg\n",
      "    (184.17730824, -3.5776268)>, radius=0.1499800516569374 deg)>, <CircleSkyRegion(<SkyCoord (Galactic): (l, b) in deg\n",
      "    (183.95324472, -3.96701121)>, radius=0.14999320350114184 deg)>, <CircleSkyRegion(<SkyCoord (Galactic): (l, b) in deg\n",
      "    (183.85436391, -4.40505448)>, radius=0.14999973669042338 deg)>, <CircleSkyRegion(<SkyCoord (Galactic): (l, b) in deg\n",
      "    (183.88968821, -4.85267877)>, radius=0.14999735939478756 deg)>, <CircleSkyRegion(<SkyCoord (Galactic): (l, b) in deg\n",
      "    (184.05630915, -5.26988476)>, radius=0.14998688933804405 deg)>]\n",
      " EventList info:\n",
      "- Number of events: 447\n",
      "- Median energy: 0.638 TeV\n",
      "- OBS_ID = 23559\n",
      "\n",
      "\n",
      "BackgroundEstimate\n",
      " Method: Reflected Regions\n",
      " on region\n",
      " Region: CircleSkyRegion\n",
      "center: <SkyCoord (ICRS): (ra, dec) in deg\n",
      "    (83.633083, 22.0145)>\n",
      "radius: 0.15 deg\n",
      " EventList info:\n",
      "- Number of events: 178\n",
      "- Median energy: 1.07 TeV\n",
      "- OBS_ID = 23592\n",
      " off region\n",
      " [<CircleSkyRegion(<SkyCoord (Galactic): (l, b) in deg\n",
      "    (183.99844146, -5.56819431)>, radius=0.14994996152635565 deg)>, <CircleSkyRegion(<SkyCoord (Galactic): (l, b) in deg\n",
      "    (183.5474607, -5.55855492)>, radius=0.14994930970167308 deg)>, <CircleSkyRegion(<SkyCoord (Galactic): (l, b) in deg\n",
      "    (183.11362956, -5.68168378)>, radius=0.14995731954077188 deg)>, <CircleSkyRegion(<SkyCoord (Galactic): (l, b) in deg\n",
      "    (182.73545167, -5.9266519)>, radius=0.14997121336955171 deg)>, <CircleSkyRegion(<SkyCoord (Galactic): (l, b) in deg\n",
      "    (182.44657942, -6.27170282)>, radius=0.14998616587504335 deg)>, <CircleSkyRegion(<SkyCoord (Galactic): (l, b) in deg\n",
      "    (182.27286434, -6.68615722)>, radius=0.14999697003995674 deg)>, <CircleSkyRegion(<SkyCoord (Galactic): (l, b) in deg\n",
      "    (182.230056, -7.13310129)>, radius=0.1499998456839243 deg)>, <CircleSkyRegion(<SkyCoord (Galactic): (l, b) in deg\n",
      "    (182.32233772, -7.57263357)>, radius=0.1499937673376555 deg)>, <CircleSkyRegion(<SkyCoord (Galactic): (l, b) in deg\n",
      "    (182.54183454, -7.96540165)>, radius=0.1499808429609926 deg)>, <CircleSkyRegion(<SkyCoord (Galactic): (l, b) in deg\n",
      "    (183.27490646, -8.47676886)>, radius=0.14995338900059013 deg)>, <CircleSkyRegion(<SkyCoord (Galactic): (l, b) in deg\n",
      "    (183.8745493, -8.54363485)>, radius=0.14994890867021177 deg)>, <CircleSkyRegion(<SkyCoord (Galactic): (l, b) in deg\n",
      "    (184.31557177, -8.43731357)>, radius=0.1499559359750764 deg)>, <CircleSkyRegion(<SkyCoord (Galactic): (l, b) in deg\n",
      "    (184.70470339, -8.2064157)>, radius=0.14996940318578406 deg)>, <CircleSkyRegion(<SkyCoord (Galactic): (l, b) in deg\n",
      "    (185.0069763, -7.87177658)>, radius=0.14998456671804994 deg)>, <CircleSkyRegion(<SkyCoord (Galactic): (l, b) in deg\n",
      "    (185.19544863, -7.46351718)>, radius=0.14999610181423778 deg)>, <CircleSkyRegion(<SkyCoord (Galactic): (l, b) in deg\n",
      "    (185.25356574, -7.01827444)>, radius=0.14999997755966227 deg)>, <CircleSkyRegion(<SkyCoord (Galactic): (l, b) in deg\n",
      "    (185.17651575, -6.57588151)>, radius=0.14999485897018178 deg)>]\n",
      " EventList info:\n",
      "- Number of events: 399\n",
      "- Median energy: 0.818 TeV\n",
      "- OBS_ID = 23592\n",
      "\n",
      "\n",
      "\n",
      " Total ON : 918 | Total OFF : 1326 | Alpha : 0.0800\n",
      " Total Excess : 811.92 | Sigma = 44.12\n"
     ]
    }
   ],
   "source": [
    "on_s = 0\n",
    "off_s = 0\n",
    "a_on_s = 0\n",
    "a_off_s = 0\n",
    "for obs_result in background_estimator.result:\n",
    "    on_s += len(obs_result.on_events.table)\n",
    "    off_s += len(obs_result.off_events.table)\n",
    "    a_on_s += obs_result.a_on\n",
    "    a_off_s += obs_result.a_off\n",
    "    print(obs_result)\n",
    "    print(\"\\n\")\n",
    "\n",
    "alpha = a_on_s/a_off_s\n",
    "excess = on_s - off_s*alpha\n",
    "sigma = significance_on_off(on_s, off_s, alpha)\n",
    "print(\"\\n Total ON : {0} | Total OFF : {1} | Alpha : {2:.4f}\".format(on_s, off_s, alpha))\n",
    "print(\" Total Excess : {0:.2f} | Sigma = {1:.2f}\".format(excess, sigma))"
   ]
  },
  {
   "cell_type": "markdown",
   "metadata": {},
   "source": [
    "## Results from the new class"
   ]
  },
  {
   "cell_type": "code",
   "execution_count": 15,
   "metadata": {
    "scrolled": true
   },
   "outputs": [
    {
     "name": "stdout",
     "output_type": "stream",
     "text": [
      "Found 7 reflected regions for the Obs #23523\n",
      "Found 7 reflected regions for the Obs #23526\n",
      "Found 19 reflected regions for the Obs #23559\n",
      "Found 18 reflected regions for the Obs #23592\n"
     ]
    }
   ],
   "source": [
    "background_bk_estimator.run()"
   ]
  },
  {
   "cell_type": "code",
   "execution_count": 16,
   "metadata": {
    "scrolled": true
   },
   "outputs": [
    {
     "name": "stderr",
     "output_type": "stream",
     "text": [
      "/home/khelifi/MesProgrammes/anaconda3/lib/python3.6/site-packages/matplotlib/patches.py:83: UserWarning: Setting the 'color' property will overridethe edgecolor or facecolor properties. \n",
      "  warnings.warn(\"Setting the 'color' property will override\"\n",
      "/home/khelifi/MesProgrammes/anaconda3/lib/python3.6/site-packages/astropy/visualization/mpl_normalize.py:111: RuntimeWarning: invalid value encountered in true_divide\n",
      "  np.true_divide(values, self.vmax - self.vmin, out=values)\n",
      "/home/khelifi/MesProgrammes/anaconda3/lib/python3.6/site-packages/matplotlib/colors.py:504: RuntimeWarning: invalid value encountered in less\n",
      "  xa[xa < 0] = -1\n",
      "/home/khelifi/MesProgrammes/anaconda3/lib/python3.6/site-packages/astropy/visualization/mpl_normalize.py:111: RuntimeWarning: invalid value encountered in true_divide\n",
      "  np.true_divide(values, self.vmax - self.vmin, out=values)\n",
      "/home/khelifi/MesProgrammes/anaconda3/lib/python3.6/site-packages/matplotlib/colors.py:504: RuntimeWarning: invalid value encountered in less\n",
      "  xa[xa < 0] = -1\n",
      "/home/khelifi/MesProgrammes/anaconda3/lib/python3.6/site-packages/astropy/visualization/mpl_normalize.py:111: RuntimeWarning: invalid value encountered in true_divide\n",
      "  np.true_divide(values, self.vmax - self.vmin, out=values)\n",
      "/home/khelifi/MesProgrammes/anaconda3/lib/python3.6/site-packages/matplotlib/colors.py:504: RuntimeWarning: invalid value encountered in less\n",
      "  xa[xa < 0] = -1\n"
     ]
    },
    {
     "data": {
      "image/png": "[encoded data removed]",
      "text/plain": [
       "<Figure size 504x504 with 1 Axes>"
      ]
     },
     "metadata": {},
     "output_type": "display_data"
    }
   ],
   "source": [
    "background_bk_estimator.plot();"
   ]
  },
  {
   "cell_type": "code",
   "execution_count": 17,
   "metadata": {},
   "outputs": [
    {
     "name": "stdout",
     "output_type": "stream",
     "text": [
      "BackgroundEstimate\n",
      " Method: Reflected Regions\n",
      " on region\n",
      " Region: CircleSkyRegion\n",
      "center: <SkyCoord (Galactic): (l, b) in deg\n",
      "    (184.55745771, -5.78435696)>\n",
      "radius: 0.15 deg\n",
      " EventList info:\n",
      "- Number of events: 3847\n",
      "- Median energy: 1.45 TeV\n",
      "- OBS_ID = 23523\n",
      " off region\n",
      " [<CircleSkyRegion(<SkyCoord (Galactic): (l, b) in deg\n",
      "    (184.87936491, -5.56223776)>, radius=0.14999615857094184 deg)>, <CircleSkyRegion(<SkyCoord (Galactic): (l, b) in deg\n",
      "    (185.22072661, -5.61145863)>, radius=0.14999720381528853 deg)>, <CircleSkyRegion(<SkyCoord (Galactic): (l, b) in deg\n",
      "    (185.44995256, -5.86802666)>, radius=0.15000086351015335 deg)>, <CircleSkyRegion(<SkyCoord (Galactic): (l, b) in deg\n",
      "    (185.45898063, -6.21119637)>, radius=0.15000106047430023 deg)>, <CircleSkyRegion(<SkyCoord (Galactic): (l, b) in deg\n",
      "    (185.24320005, -6.47925159)>, radius=0.1499974683386193 deg)>, <CircleSkyRegion(<SkyCoord (Galactic): (l, b) in deg\n",
      "    (184.90421476, -6.54568396)>, radius=0.14999606940208154 deg)>, <CircleSkyRegion(<SkyCoord (Galactic): (l, b) in deg\n",
      "    (184.60212819, -6.37911315)>, radius=0.14999919507042805 deg)>]\n",
      " EventList info:\n",
      "- Number of events: 3837\n",
      "- Median energy: 1.4 TeV\n",
      "- OBS_ID = 23523\n",
      "\n",
      "\n",
      "BackgroundEstimate\n",
      " Method: Reflected Regions\n",
      " on region\n",
      " Region: CircleSkyRegion\n",
      "center: <SkyCoord (Galactic): (l, b) in deg\n",
      "    (184.55745771, -5.78435696)>\n",
      "radius: 0.15 deg\n",
      " EventList info:\n",
      "- Number of events: 3798\n",
      "- Median energy: 1.29 TeV\n",
      "- OBS_ID = 23526\n",
      " off region\n",
      " [<CircleSkyRegion(<SkyCoord (Galactic): (l, b) in deg\n",
      "    (184.2351642, -6.00595015)>, radius=0.14999616599392768 deg)>, <CircleSkyRegion(<SkyCoord (Galactic): (l, b) in deg\n",
      "    (183.89377319, -5.95583882)>, radius=0.14999722974642393 deg)>, <CircleSkyRegion(<SkyCoord (Galactic): (l, b) in deg\n",
      "    (183.66550733, -5.69849568)>, radius=0.15000088151915775 deg)>, <CircleSkyRegion(<SkyCoord (Galactic): (l, b) in deg\n",
      "    (183.65789385, -5.35536863)>, radius=0.1500010397275774 deg)>, <CircleSkyRegion(<SkyCoord (Galactic): (l, b) in deg\n",
      "    (183.874195, -5.08817015)>, radius=0.14999743972999047 deg)>, <CircleSkyRegion(<SkyCoord (Galactic): (l, b) in deg\n",
      "    (184.2124139, -5.02267322)>, radius=0.14999606036553684 deg)>, <CircleSkyRegion(<SkyCoord (Galactic): (l, b) in deg\n",
      "    (184.51344076, -5.18968909)>, radius=0.14999919117908622 deg)>]\n",
      " EventList info:\n",
      "- Number of events: 3754\n",
      "- Median energy: 1.28 TeV\n",
      "- OBS_ID = 23526\n",
      "\n",
      "\n",
      "BackgroundEstimate\n",
      " Method: Reflected Regions\n",
      " on region\n",
      " Region: CircleSkyRegion\n",
      "center: <SkyCoord (Galactic): (l, b) in deg\n",
      "    (184.55745771, -5.78435696)>\n",
      "radius: 0.15 deg\n",
      " EventList info:\n",
      "- Number of events: 346\n",
      "- Median energy: 1.47 TeV\n",
      "- OBS_ID = 23559\n",
      " off region\n",
      " [<CircleSkyRegion(<SkyCoord (Galactic): (l, b) in deg\n",
      "    (184.12416954, -5.37519666)>, radius=0.1500199980860134 deg)>, <CircleSkyRegion(<SkyCoord (Galactic): (l, b) in deg\n",
      "    (183.9239763, -4.97563041)>, radius=0.15003211724495347 deg)>, <CircleSkyRegion(<SkyCoord (Galactic): (l, b) in deg\n",
      "    (183.85068317, -4.53509742)>, radius=0.15003700621119725 deg)>, <CircleSkyRegion(<SkyCoord (Galactic): (l, b) in deg\n",
      "    (183.91052205, -4.09255496)>, radius=0.1500329862101518 deg)>, <CircleSkyRegion(<SkyCoord (Galactic): (l, b) in deg\n",
      "    (184.09799563, -3.68706785)>, radius=0.1500214582731558 deg)>, <CircleSkyRegion(<SkyCoord (Galactic): (l, b) in deg\n",
      "    (184.39642704, -3.35438323)>, radius=0.1500064072507867 deg)>, <CircleSkyRegion(<SkyCoord (Galactic): (l, b) in deg\n",
      "    (184.77945079, -3.12380651)>, radius=0.14999302210793486 deg)>, <CircleSkyRegion(<SkyCoord (Galactic): (l, b) in deg\n",
      "    (185.21332201, -3.01564039)>, radius=0.14998591055946184 deg)>, <CircleSkyRegion(<SkyCoord (Galactic): (l, b) in deg\n",
      "    (185.65985934, -3.03940763)>, radius=0.14998751872685281 deg)>, <CircleSkyRegion(<SkyCoord (Galactic): (l, b) in deg\n",
      "    (186.07977594, -3.19301585)>, radius=0.14999729355378985 deg)>, <CircleSkyRegion(<SkyCoord (Galactic): (l, b) in deg\n",
      "    (186.43610821, -3.46294119)>, radius=0.15001187214210884 deg)>, <CircleSkyRegion(<SkyCoord (Galactic): (l, b) in deg\n",
      "    (186.69743963, -3.82541363)>, radius=0.15002623368407758 deg)>, <CircleSkyRegion(<SkyCoord (Galactic): (l, b) in deg\n",
      "    (186.84064228, -4.24849633)>, radius=0.1500354231430572 deg)>, <CircleSkyRegion(<SkyCoord (Galactic): (l, b) in deg\n",
      "    (186.85291153, -4.6948758)>, radius=0.15003625905528334 deg)>, <CircleSkyRegion(<SkyCoord (Galactic): (l, b) in deg\n",
      "    (186.73293148, -5.12512522)>, radius=0.15002843948447853 deg)>, <CircleSkyRegion(<SkyCoord (Galactic): (l, b) in deg\n",
      "    (186.49106944, -5.50116884)>, radius=0.15001465967975738 deg)>, <CircleSkyRegion(<SkyCoord (Galactic): (l, b) in deg\n",
      "    (186.14855665, -5.78965584)>, radius=0.14999969059780446 deg)>, <CircleSkyRegion(<SkyCoord (Galactic): (l, b) in deg\n",
      "    (185.73568319, -5.96494787)>, radius=0.14998872811237962 deg)>, <CircleSkyRegion(<SkyCoord (Galactic): (l, b) in deg\n",
      "    (185.28912649, -6.01144166)>, radius=0.14998558351581617 deg)>]\n",
      " EventList info:\n",
      "- Number of events: 592\n",
      "- Median energy: 0.729 TeV\n",
      "- OBS_ID = 23559\n",
      "\n",
      "\n",
      "BackgroundEstimate\n",
      " Method: Reflected Regions\n",
      " on region\n",
      " Region: CircleSkyRegion\n",
      "center: <SkyCoord (Galactic): (l, b) in deg\n",
      "    (184.55745771, -5.78435696)>\n",
      "radius: 0.15 deg\n",
      " EventList info:\n",
      "- Number of events: 272\n",
      "- Median energy: 1.52 TeV\n",
      "- OBS_ID = 23592\n",
      " off region\n",
      " [<CircleSkyRegion(<SkyCoord (Galactic): (l, b) in deg\n",
      "    (184.98579221, -6.19599972)>, radius=0.15001987935376157 deg)>, <CircleSkyRegion(<SkyCoord (Galactic): (l, b) in deg\n",
      "    (185.1827991, -6.5950714)>, radius=0.15003180003845631 deg)>, <CircleSkyRegion(<SkyCoord (Galactic): (l, b) in deg\n",
      "    (185.25381992, -7.03395096)>, radius=0.15003653010596596 deg)>, <CircleSkyRegion(<SkyCoord (Galactic): (l, b) in deg\n",
      "    (185.19230529, -7.47425141)>, radius=0.1500324303952196 deg)>, <CircleSkyRegion(<SkyCoord (Galactic): (l, b) in deg\n",
      "    (185.00327382, -7.87735552)>, radius=0.1500208873394926 deg)>, <CircleSkyRegion(<SkyCoord (Galactic): (l, b) in deg\n",
      "    (184.70300818, -8.2078004)>, radius=0.15000585731526334 deg)>, <CircleSkyRegion(<SkyCoord (Galactic): (l, b) in deg\n",
      "    (184.31774588, -8.43642843)>, radius=0.1499925166105468 deg)>, <CircleSkyRegion(<SkyCoord (Galactic): (l, b) in deg\n",
      "    (183.88142414, -8.54301596)>, radius=0.14998547368892953 deg)>, <CircleSkyRegion(<SkyCoord (Galactic): (l, b) in deg\n",
      "    (183.28581597, -8.48021657)>, radius=0.14998968666828286 deg)>, <CircleSkyRegion(<SkyCoord (Galactic): (l, b) in deg\n",
      "    (182.55164988, -7.97789406)>, radius=0.15001684588384273 deg)>, <CircleSkyRegion(<SkyCoord (Galactic): (l, b) in deg\n",
      "    (182.32960458, -7.59164432)>, radius=0.15002983819762303 deg)>, <CircleSkyRegion(<SkyCoord (Galactic): (l, b) in deg\n",
      "    (182.23164255, -7.15788196)>, radius=0.15003627313123996 deg)>, <CircleSkyRegion(<SkyCoord (Galactic): (l, b) in deg\n",
      "    (182.26598729, -6.71468242)>, radius=0.15003396029559232 deg)>, <CircleSkyRegion(<SkyCoord (Galactic): (l, b) in deg\n",
      "    (182.4292781, -6.30083834)>, radius=0.15002371273076825 deg)>, <CircleSkyRegion(<SkyCoord (Galactic): (l, b) in deg\n",
      "    (182.70697981, -5.95248706)>, radius=0.15000904843102064 deg)>, <CircleSkyRegion(<SkyCoord (Galactic): (l, b) in deg\n",
      "    (183.07471472, -5.69999363)>, radius=0.14999497693889538 deg)>, <CircleSkyRegion(<SkyCoord (Galactic): (l, b) in deg\n",
      "    (183.50039398, -5.56534202)>, radius=0.14998629189036328 deg)>, <CircleSkyRegion(<SkyCoord (Galactic): (l, b) in deg\n",
      "    (183.94697689, -5.56024861)>, radius=0.14998594725500514 deg)>]\n",
      " EventList info:\n",
      "- Number of events: 520\n",
      "- Median energy: 0.953 TeV\n",
      "- OBS_ID = 23592\n",
      "\n",
      "\n",
      "\n",
      " Total ON : 8263 | Total OFF : 8703 | Alpha : 0.0784\n",
      " Total Excess : 7580.41 | Sigma = 145.33\n"
     ]
    }
   ],
   "source": [
    "on_s = 0\n",
    "off_s = 0\n",
    "a_on_s = 0\n",
    "a_off_s = 0\n",
    "for obs_result in background_bk_estimator.result:\n",
    "    on_s += len(obs_result.on_events.table)\n",
    "    off_s += len(obs_result.off_events.table)\n",
    "    a_on_s += obs_result.a_on\n",
    "    a_off_s += obs_result.a_off\n",
    "    print(obs_result)\n",
    "    print(\"\\n\")\n",
    "\n",
    "alpha = a_on_s/a_off_s\n",
    "excess = on_s - off_s*alpha\n",
    "sigma = significance_on_off(on_s, off_s, alpha)\n",
    "print(\"\\n Total ON : {0} | Total OFF : {1} | Alpha : {2:.4f}\".format(on_s, off_s, alpha))\n",
    "print(\" Total Excess : {0:.2f} | Sigma = {1:.2f}\".format(excess, sigma))"
   ]
  },
  {
   "cell_type": "code",
   "execution_count": 18,
   "metadata": {},
   "outputs": [
    {
     "data": {
      "image/png": "[encoded data removed]",
      "text/plain": [
       "<Figure size 432x288 with 1 Axes>"
      ]
     },
     "metadata": {},
     "output_type": "display_data"
    }
   ],
   "source": [
    "background_bk_estimator.finder.off_reference_map.plot();"
   ]
  },
  {
   "cell_type": "code",
   "execution_count": 19,
   "metadata": {},
   "outputs": [
    {
     "data": {
      "image/png": "[encoded data removed]",
      "text/plain": [
       "<Figure size 432x288 with 1 Axes>"
      ]
     },
     "metadata": {},
     "output_type": "display_data"
    }
   ],
   "source": [
    "background_bk_estimator.finder.on_reference_map.plot();"
   ]
  },
  {
   "cell_type": "code",
   "execution_count": null,
   "metadata": {},
   "outputs": [],
   "source": []
  }
 ],
 "metadata": {
  "kernelspec": {
   "display_name": "Python 3",
   "language": "python",
   "name": "python3"
  },
  "language_info": {
   "codemirror_mode": {
    "name": "ipython",
    "version": 3
   },
   "file_extension": ".py",
   "mimetype": "text/x-python",
   "name": "python",
   "nbconvert_exporter": "python",
   "pygments_lexer": "ipython3",
   "version": "3.6.5"
  }
 },
 "nbformat": 4,
 "nbformat_minor": 2
}
