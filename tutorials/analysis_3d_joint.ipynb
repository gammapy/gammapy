{
 "cells": [
  {
   "cell_type": "markdown",
   "metadata": {},
   "source": [
    "# Joint 3D analysis\n",
    "This tutorial shows how to run a joint 3D map-based analysis using three example observations of the Galactic center region with CTA."
   ]
  },
  {
   "cell_type": "code",
   "execution_count": null,
   "metadata": {},
   "outputs": [],
   "source": [
    "## Setup"
   ]
  },
  {
   "cell_type": "code",
   "execution_count": null,
   "metadata": {},
   "outputs": [],
   "source": [
    "%matplotlib inline\n",
    "import matplotlib.pyplot as plt\n",
    "import numpy as np"
   ]
  },
  {
   "cell_type": "code",
   "execution_count": null,
   "metadata": {},
   "outputs": [],
   "source": [
    "from pathlib import Path\n",
    "from astropy import units as u\n",
    "from astropy.coordinates import SkyCoord"
   ]
  },
  {
   "cell_type": "code",
   "execution_count": null,
   "metadata": {},
   "outputs": [],
   "source": [
    "from gammapy.data import DataStore\n",
    "from gammapy.irf import EnergyDispersion, make_psf\n",
    "from gammapy.maps import WcsGeom, MapAxis, Map\n",
    "from gammapy.cube import MapMaker, PSFKernel, MapDataset\n",
    "from gammapy.cube.models import SkyModel, BackgroundModel\n",
    "from gammapy.spectrum.models import PowerLaw\n",
    "from gammapy.image.models import SkyPointSource\n",
    "from gammapy.utils.fitting import Fit"
   ]
  },
  {
   "cell_type": "markdown",
   "metadata": {},
   "source": [
    "## Prepare modeling input data\n",
    "\n",
    "### Prepare input maps\n",
    "\n",
    "We first use the `DataStore` object to access the CTA observations and retrieve a list of observations by passing the observations IDs to the `.get_observations()` method:"
   ]
  },
  {
   "cell_type": "code",
   "execution_count": null,
   "metadata": {},
   "outputs": [],
   "source": [
    "# Define which data to use and print some information\n",
    "data_store = DataStore.from_dir(\"$GAMMAPY_DATA/cta-1dc/index/gps/\")"
   ]
  },
  {
   "cell_type": "code",
   "execution_count": null,
   "metadata": {},
   "outputs": [],
   "source": [
    "# Select some observations from these dataset by hand\n",
    "obs_ids = [110380, 111140, 111159]\n",
    "observations = data_store.get_observations(obs_ids)"
   ]
  },
  {
   "cell_type": "markdown",
   "metadata": {},
   "source": [
    "Now we define a reference geometry for our analysis, We choose a WCS based gemoetry with a binsize of 0.02 deg and also define an energy axis: "
   ]
  },
  {
   "cell_type": "code",
   "execution_count": null,
   "metadata": {},
   "outputs": [],
   "source": [
    "# Source position\n",
    "src_pos = SkyCoord(0, 0, unit=\"deg\", frame=\"galactic\")\n",
    "\n",
    "energy_axis = MapAxis.from_edges(\n",
    "    np.logspace(-1.0, 1.0, 10), unit=\"TeV\", name=\"energy\", interp=\"log\"\n",
    ")\n",
    "\n",
    "# Here are defined the common parameters for the geometry of the different observation\n",
    "geom_kwargs = {\n",
    "    \"binsz\": 0.02,\n",
    "    \"width\": (8, 8),\n",
    "    \"coordsys\": \"GAL\",\n",
    "    \"proj\": \"CAR\",\n",
    "    \"axes\": [energy_axis],\n",
    "}\n",
    "\n",
    "offset_max = 4.0 * u.deg"
   ]
  },
  {
   "cell_type": "markdown",
   "metadata": {},
   "source": [
    "The `MapMaker` object is initialized with this reference geometry and a field of view cut of 4 deg.\n",
    "\n",
    "The maps are prepared by calling the `.run()` method and passing the `observations`. The `.run()` method returns a Python `dict` containing a `counts`, `background` and `exposure` map. For the joint analysis, we compute the cube per observation."
   ]
  },
  {
   "cell_type": "code",
   "execution_count": null,
   "metadata": {},
   "outputs": [],
   "source": [
    "%%time\n",
    "maps_list = {}\n",
    "\n",
    "for obs in observations:\n",
    "    # For each observation, the map will be centered on the pointing position.\n",
    "    geom = WcsGeom.create(skydir=obs.pointing_radec, **geom_kwargs)\n",
    "    maker = MapMaker(geom, offset_max=offset_max)\n",
    "    maps = maker.run([obs])\n",
    "    maps_list[obs.obs_id] = maps"
   ]
  },
  {
   "cell_type": "markdown",
   "metadata": {},
   "source": [
    "### Prepare IRFs\n",
    "PSF and Edisp are estimated for each observation at a specific source position src_pos\n",
    "  "
   ]
  },
  {
   "cell_type": "code",
   "execution_count": null,
   "metadata": {},
   "outputs": [],
   "source": [
    "# define energy grid for edisp\n",
    "energy = energy_axis.edges * energy_axis.unit"
   ]
  },
  {
   "cell_type": "code",
   "execution_count": null,
   "metadata": {},
   "outputs": [],
   "source": [
    "irf_list = {}\n",
    "\n",
    "for obs in observations:\n",
    "    irf_list[obs.obs_id] = {}\n",
    "    table_psf = make_psf(obs, src_pos)\n",
    "    irf_list[obs.obs_id][\"psf\"] = PSFKernel.from_table_psf(\n",
    "        table_psf, geom, max_radius=\"0.3 deg\"\n",
    "    )\n",
    "\n",
    "    offset = src_pos.separation(obs.pointing_radec)\n",
    "    irf_list[obs.obs_id][\"edisp\"] = obs.edisp.to_energy_dispersion(\n",
    "        offset, e_true=energy, e_reco=energy\n",
    "    )"
   ]
  },
  {
   "cell_type": "markdown",
   "metadata": {},
   "source": [
    "Save maps as well as IRFs to disk:"
   ]
  },
  {
   "cell_type": "code",
   "execution_count": null,
   "metadata": {},
   "outputs": [],
   "source": [
    "for obs_id in obs_ids:\n",
    "    path = Path(\"analysis_3d_joint\") / \"obs_{}\".format(obs_id)\n",
    "    path.mkdir(parents=True, exist_ok=True)\n",
    "\n",
    "    for key in [\"counts\", \"exposure\", \"background\"]:\n",
    "        filename = \"{}.fits.gz\".format(key)\n",
    "        maps_list[obs_id][key].write(path / filename, overwrite=True)\n",
    "\n",
    "    for key in [\"psf\", \"edisp\"]:\n",
    "        filename = \"{}.fits.gz\".format(key)\n",
    "        irf_list[obs_id][key].write(path / filename, overwrite=True)"
   ]
  },
  {
   "cell_type": "markdown",
   "metadata": {},
   "source": [
    "## Likelihood fit\n",
    "\n",
    "### Reading maps and IRFs\n",
    "As first step we read in the maps and IRFs for each observations"
   ]
  },
  {
   "cell_type": "code",
   "execution_count": null,
   "metadata": {},
   "outputs": [],
   "source": [
    "maps_datasets = {}\n",
    "for obs_id in obs_ids:\n",
    "    path = Path(\"analysis_3d_joint\") / \"obs_{}\".format(obs.obs_id)\n",
    "    maps_dataset = {}\n",
    "\n",
    "    for keys in [\"counts\", \"exposure\", \"background\"]:\n",
    "        maps_dataset[keys] = Map.read(path / \"{}.fits.gz\".format(keys))\n",
    "\n",
    "    maps_dataset[\"psf\"] = PSFKernel.read(path / \"psf.fits.gz\")\n",
    "    maps_dataset[\"edisp\"] = EnergyDispersion.read(path / \"edisp.fits.gz\")\n",
    "    maps_datasets[obs_id] = maps_dataset"
   ]
  },
  {
   "cell_type": "markdown",
   "metadata": {},
   "source": [
    "Define source model:"
   ]
  },
  {
   "cell_type": "code",
   "execution_count": null,
   "metadata": {},
   "outputs": [],
   "source": [
    "spatial_model = SkyPointSource(lon_0=\"0.01 deg\", lat_0=\"0.01 deg\")\n",
    "spectral_model = PowerLaw(\n",
    "    index=2.2, amplitude=\"3e-12 cm-2 s-1 TeV-1\", reference=\"1 TeV\"\n",
    ")\n",
    "model = SkyModel(spatial_model=spatial_model, spectral_model=spectral_model)"
   ]
  },
  {
   "cell_type": "markdown",
   "metadata": {},
   "source": [
    "Create the dataset for each observation:"
   ]
  },
  {
   "cell_type": "code",
   "execution_count": null,
   "metadata": {},
   "outputs": [],
   "source": [
    "datasets = []\n",
    "\n",
    "# Here we defined energy threshold per observation\n",
    "energy_thresholds = {\n",
    "    110380: 0.2 * u.TeV,\n",
    "    111140: 0.5 * u.TeV,\n",
    "    111159: 0.3 * u.TeV,\n",
    "}\n",
    "\n",
    "for obs_id in obs_ids:\n",
    "    map_dataset = maps_datasets[obs_id]\n",
    "\n",
    "    # create background model per observation / dataset\n",
    "    background_model = BackgroundModel(maps_dataset[\"background\"])\n",
    "    # TODO: move this to WcsGeom.energy_mask()?\n",
    "    counts = maps_dataset[\"counts\"]\n",
    "    mask = Map.from_geom(counts.geom)\n",
    "    coords = mask.geom.get_coord()\n",
    "    mask.data = coords[\"energy\"] > energy_thresholds[obs_id].to_value(\"TeV\")\n",
    "\n",
    "    dataset = MapDataset(\n",
    "        model=model,\n",
    "        counts=counts,\n",
    "        exposure=maps_dataset[\"exposure\"],\n",
    "        psf=maps_dataset[\"psf\"],\n",
    "        edisp=maps_dataset[\"edisp\"],\n",
    "        background_model=background_model,\n",
    "        mask=mask,\n",
    "    )\n",
    "    datasets.append(dataset)"
   ]
  },
  {
   "cell_type": "code",
   "execution_count": null,
   "metadata": {},
   "outputs": [],
   "source": [
    "fit = Fit(datasets)"
   ]
  },
  {
   "cell_type": "code",
   "execution_count": null,
   "metadata": {},
   "outputs": [],
   "source": [
    "%%time\n",
    "result = fit.run()"
   ]
  },
  {
   "cell_type": "code",
   "execution_count": null,
   "metadata": {},
   "outputs": [],
   "source": [
    "print(result)"
   ]
  },
  {
   "cell_type": "markdown",
   "metadata": {},
   "source": [
    "Best fit parameters:"
   ]
  },
  {
   "cell_type": "code",
   "execution_count": null,
   "metadata": {},
   "outputs": [],
   "source": [
    "fit.datasets.parameters.to_table()"
   ]
  },
  {
   "cell_type": "markdown",
   "metadata": {},
   "source": [
    "## Plotting residuals"
   ]
  },
  {
   "cell_type": "code",
   "execution_count": null,
   "metadata": {},
   "outputs": [],
   "source": [
    "def plot_residuals(dataset):\n",
    "    npred = dataset.npred()\n",
    "    residual = (dataset.counts - npred).smooth(\"0.1 deg\")\n",
    "\n",
    "    residual.plot_interactive(\n",
    "        vmin=-0.1, vmax=0.1, cmap=\"coolwarm\", add_cbar=True, stretch=\"linear\"\n",
    "    )"
   ]
  },
  {
   "cell_type": "markdown",
   "metadata": {},
   "source": [
    "Each observation has different energy threshold. Keep in mind that the residuals are not meaningful below the energy threshold."
   ]
  },
  {
   "cell_type": "code",
   "execution_count": null,
   "metadata": {},
   "outputs": [],
   "source": [
    "plot_residuals(datasets[0])"
   ]
  },
  {
   "cell_type": "code",
   "execution_count": null,
   "metadata": {},
   "outputs": [],
   "source": [
    "plot_residuals(datasets[1])"
   ]
  },
  {
   "cell_type": "code",
   "execution_count": null,
   "metadata": {},
   "outputs": [],
   "source": [
    "plot_residuals(datasets[2])"
   ]
  },
  {
   "cell_type": "code",
   "execution_count": null,
   "metadata": {},
   "outputs": [],
   "source": []
  }
 ],
 "metadata": {
  "kernelspec": {
   "display_name": "Python 3",
   "language": "python",
   "name": "python3"
  },
  "language_info": {
   "codemirror_mode": {
    "name": "ipython",
    "version": 3
   },
   "file_extension": ".py",
   "mimetype": "text/x-python",
   "name": "python",
   "nbconvert_exporter": "python",
   "pygments_lexer": "ipython3",
   "version": "3.6.4"
  }
 },
 "nbformat": 4,
 "nbformat_minor": 2
}
