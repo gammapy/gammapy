{
 "cells": [
  {
   "cell_type": "markdown",
   "metadata": {},
   "source": [
    "# How to use the NDDataArray class"
   ]
  },
  {
   "cell_type": "markdown",
   "metadata": {},
   "source": [
    "## Introduction\n",
    "\n",
    "This notebook explains how to use the class [gammapy.utils.nddata.NDDataArray](https://docs.gammapy.org/dev/api/gammapy.utils.nddata.NDDataArray.html)\n",
    "\n",
    "The NDDataArray is basically an numpy array with associated axes and convenience methods for interpolation. For now \n",
    "only the scipy [RegularGridInterpolator](https://docs.scipy.org/doc/scipy-0.14.0/reference/generated/scipy.interpolate.RegularGridInterpolator.html)\n",
    "can be used, i.e. available interpolation methods are \"nearest neighbour\" and \"linear\". A spline interpolator\n",
    "will be added in the future. The interpolation behaviour (\"log\", \"linear\") can be set for each axis individually.\n",
    "\n",
    "The NDDataArray is currently used in the following classes\n",
    "\n",
    "* [gammapy.irf.EffectiveAreaTable](https://docs.gammapy.org/dev/api/gammapy.irf.EffectiveAreaTable.html)\n",
    "* [gammapy.irf.EffectiveAreaTable2D](https://docs.gammapy.org/dev/api/gammapy.irf.EffectiveAreaTable2D.html)\n",
    "* [gammapy.irf.EnergyDispersion](https://docs.gammapy.org/dev/api/gammapy.irf.EnergyDispersion.html)\n",
    "* [gammapy.spectrum.CountsSpectrum](https://docs.gammapy.org/dev/api/gammapy.spectrum.CountsSpectrum.html)\n",
    "* Probably some more by now ...\n",
    "\n",
    "Feedback welcome!"
   ]
  },
  {
   "cell_type": "markdown",
   "metadata": {},
   "source": [
    "## Setup\n",
    "\n",
    "As usual, we'll start with some setup ..."
   ]
  },
  {
   "cell_type": "code",
   "execution_count": null,
   "metadata": {},
   "outputs": [],
   "source": [
    "%matplotlib inline\n",
    "import matplotlib.pyplot as plt"
   ]
  },
  {
   "cell_type": "code",
   "execution_count": null,
   "metadata": {},
   "outputs": [],
   "source": [
    "from gammapy.utils.nddata import NDDataArray, DataAxis, BinnedDataAxis\n",
    "from gammapy.utils.energy import Energy, EnergyBounds\n",
    "import numpy as np\n",
    "import astropy.units as u"
   ]
  },
  {
   "cell_type": "markdown",
   "metadata": {},
   "source": [
    "## 1D example\n",
    "\n",
    "Let's start with a simple example. A one dimensional array storing an exposure in ``cm-2 s-1`` as a function of energy. The energy axis is log spaced and thus also the interpolation shall take place in log."
   ]
  },
  {
   "cell_type": "code",
   "execution_count": null,
   "metadata": {},
   "outputs": [],
   "source": [
    "energies = Energy.equal_log_spacing(10, 100, 10, unit=u.TeV)\n",
    "x_axis = DataAxis(energies, name=\"energy\", interpolation_mode=\"log\")\n",
    "data = np.arange(20, 0, -2) / u.cm ** 2 / u.s\n",
    "nddata = NDDataArray(axes=[x_axis], data=data)\n",
    "print(nddata)\n",
    "print(nddata.axis(\"energy\"))"
   ]
  },
  {
   "cell_type": "code",
   "execution_count": null,
   "metadata": {},
   "outputs": [],
   "source": [
    "eval_energies = np.linspace(2, 6, 20) * 1e4 * u.GeV\n",
    "eval_exposure = nddata.evaluate(energy=eval_energies, method=\"linear\")\n",
    "\n",
    "plt.plot(\n",
    "    nddata.axis(\"energy\").nodes.value,\n",
    "    nddata.data.value,\n",
    "    \".\",\n",
    "    label=\"Interpolation nodes\",\n",
    ")\n",
    "print(nddata.axis(\"energy\").nodes)\n",
    "plt.plot(\n",
    "    eval_energies.to(\"TeV\").value,\n",
    "    eval_exposure,\n",
    "    \"--\",\n",
    "    label=\"Interpolated values\",\n",
    ")\n",
    "plt.xlabel(\"{} [{}]\".format(nddata.axes[0].name, nddata.axes[0].unit))\n",
    "plt.ylabel(\"{} [{}]\".format(\"Exposure\", nddata.data.unit))\n",
    "plt.legend();"
   ]
  },
  {
   "cell_type": "markdown",
   "metadata": {},
   "source": [
    "## 2D example\n",
    "\n",
    "Another common use case is to store a Quantity as a function of field of view offset and energy. The following shows how to use the NDDataArray to slice the data array at any values of offset and energy"
   ]
  },
  {
   "cell_type": "code",
   "execution_count": null,
   "metadata": {},
   "outputs": [],
   "source": [
    "energy_data = EnergyBounds.equal_log_spacing(1, 10, 50, unit=u.TeV)\n",
    "energy_axis = BinnedDataAxis(\n",
    "    lo=energy_data.lower_bounds,\n",
    "    hi=energy_data.upper_bounds,\n",
    "    name=\"energy\",\n",
    "    interpolation_mode=\"log\",\n",
    ")\n",
    "offset_data = np.linspace(0, 2, 4) * u.deg\n",
    "offset_axis = DataAxis(offset_data, name=\"offset\")\n",
    "\n",
    "data_temp = 10 * np.exp(-energy_data.log_centers.value / 10)\n",
    "data = np.outer(data_temp, (offset_data.value + 1))\n",
    "\n",
    "nddata2d = NDDataArray(\n",
    "    axes=[energy_axis, offset_axis], data=data * u.Unit(\"cm-2 s-1 TeV-1\")\n",
    ")\n",
    "\n",
    "print(nddata2d)\n",
    "extent_x = nddata2d.axis(\"energy\").bins[[0, -1]].value\n",
    "extent_y = nddata2d.axis(\"offset\").nodes[[0, -1]].value\n",
    "extent = extent_x[0], extent_x[1], extent_y[0], extent_y[1]\n",
    "plt.imshow(nddata2d.data.value, extent=extent, aspect=\"auto\")\n",
    "plt.xlabel(\"Energy\")\n",
    "plt.ylabel(\"Offset\")\n",
    "plt.colorbar();"
   ]
  },
  {
   "cell_type": "code",
   "execution_count": null,
   "metadata": {},
   "outputs": [],
   "source": [
    "offsets = [0.23, 1.23, 2] * u.deg\n",
    "eval_energies = Energy.equal_log_spacing(3, 8, 20, u.TeV)\n",
    "\n",
    "for offset in offsets:\n",
    "    slice_ = nddata2d.evaluate(offset=offset, energy=eval_energies)\n",
    "    plt.plot(eval_energies.value, slice_, label=\"Offset: {}\".format(offset))\n",
    "plt.xlabel(\"Energy [TeV]\")\n",
    "plt.legend();"
   ]
  },
  {
   "cell_type": "code",
   "execution_count": null,
   "metadata": {},
   "outputs": [],
   "source": []
  }
 ],
 "metadata": {
  "kernelspec": {
   "display_name": "Python 3",
   "language": "python",
   "name": "python3"
  },
  "language_info": {
   "codemirror_mode": {
    "name": "ipython",
    "version": 3
   },
   "file_extension": ".py",
   "mimetype": "text/x-python",
   "name": "python",
   "nbconvert_exporter": "python",
   "pygments_lexer": "ipython3",
   "version": "3.6.0"
  },
  "toc": {
   "colors": {
    "hover_highlight": "#DAA520",
    "navigate_num": "#000000",
    "navigate_text": "#333333",
    "running_highlight": "#FF0000",
    "selected_highlight": "#FFD700",
    "sidebar_border": "#EEEEEE",
    "wrapper_background": "#FFFFFF"
   },
   "moveMenuLeft": true,
   "nav_menu": {
    "height": "101px",
    "width": "253px"
   },
   "navigate_menu": true,
   "number_sections": false,
   "sideBar": true,
   "threshold": 4,
   "toc_cell": false,
   "toc_section_display": "block",
   "toc_window_display": false,
   "widenNotebook": false
  }
 },
 "nbformat": 4,
 "nbformat_minor": 2
}
