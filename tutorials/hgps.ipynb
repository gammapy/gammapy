{
 "cells": [
  {
   "cell_type": "markdown",
   "metadata": {},
   "source": [
    "# HGPS\n",
    "\n",
    "\n",
    "## Introduction\n",
    "\n",
    "The **H.E.S.S. Galactic Plane Survey (HGPS)** is the first deep and wide survey of the Milky Way in TeV gamma-rays.\n",
    "\n",
    "In April 2018, a paper on the HGPS was published, and survey maps and a source catalog on the HGPS in FITS format released.\n",
    "\n",
    "More information, and the HGPS data for download in FITS format is available here:\n",
    "https://www.mpi-hd.mpg.de/hfm/HESS/hgps\n",
    "\n",
    "**Please read the Appendix A of the paper to learn about the caveats to using the HGPS data. Especially note that the HGPS survey maps are correlated and thus no detailed source morphology analysis is possible, and also note the caveats concerning spectral models and spectral flux points.**\n",
    "\n",
    "## Notebook Overview\n",
    "\n",
    "This is a Jupyter notebook that illustrates how to work with the HGPS data from Python.\n",
    "\n",
    "You will learn how to access the HGPS images as well as the HGPS catalog and other tabular data using Astropy and Gammapy.\n",
    "\n",
    "* In the first part we will only use Astropy to do some basic things.\n",
    "* Then in the second part we'll use Gammapy to do some things that are a little more advanced.\n",
    "\n",
    "The notebook is pretty long: feel free to skip ahead to a section of your choice after executing the cells in the \"Setup\" and \"Download data\" sections below.\n",
    "\n",
    "Note that there are other tools to work with FITS data that we don't explain here. Specifically [DS9](http://ds9.si.edu/) and [Aladin](http://aladin.u-strasbg.fr/) are good FITS image viewers, and [TOPCAT](http://www.star.bris.ac.uk/~mbt/topcat/) is great for FITS tables. Astropy and Gammapy are just one way to work with the HGPS data; any tool that can access FITS data can be used.\n",
    "\n",
    "## Packages\n",
    "\n",
    "We will be using the following Python packages\n",
    "\n",
    "* [astropy](http://docs.astropy.org/)\n",
    "* [gammapy](https://docs.gammapy.org/)\n",
    "* [matplotlib](https://matplotlib.org/) for plotting\n",
    "\n",
    "Under the hood all of those packages use Numpy arrays to store and work with data.\n",
    "\n",
    "More specifically, we will use the following functions and classes:\n",
    "\n",
    "* From [astropy](http://docs.astropy.org/), we will use [astropy.io.fits](http://docs.astropy.org/en/stable/io/fits/index.html) to read the FITS data, [astropy.table.Table](http://docs.astropy.org/en/stable/table/index.html) to work with the tables, but also [astropy.coordinates.SkyCoord](http://docs.astropy.org/en/stable/coordinates/index.html) and [astropy.wcs.WCS](http://docs.astropy.org/en/stable/wcs/index.html) to work with sky and pixel coordinates and [astropy.units.Quantity](http://docs.astropy.org/en/stable/units/index.html) to work with quantities.\n",
    "\n",
    "* From [gammapy](https://docs.gammapy.org/), we will use [gammapy.maps.WcsNDMap](https://docs.gammapy.org/dev/api/gammapy.maps.WcsNDMap.html) to work with the HGPS sky maps, and [gammapy.catalog.SourceCatalogHGPS](https://docs.gammapy.org/dev/api/gammapy.catalog.SourceCatalogHGPS.html) and [gammapy.catalog.SourceCatalogObjectHGPS](https://docs.gammapy.org/dev/api/gammapy.catalog.SourceCatalogObjectHGPS.html) to work with the HGPS catalog data, especially the HGPS spectral data using [gammapy.spectrum.models.SpectralModel](https://docs.gammapy.org/dev/api/gammapy.spectrum.models.SpectralModel.html) and [gammapy.spectrum.FluxPoints](https://docs.gammapy.org/dev/api/gammapy.spectrum.FluxPoints.html) objects.\n",
    "\n",
    "* [matplotlib](https://matplotlib.org/) for all plotting. For sky image plotting, we will use matplotlib via [astropy.visualization](http://docs.astropy.org/en/stable/visualization/index.html) and [gammapy.maps.WcsNDMap.plot](https://docs.gammapy.org/dev/api/gammapy.maps.WcsNDMap.html#gammapy.maps.WcsNDMap.plot).\n",
    "\n",
    "If you're not familiar with Python, Numpy, Astropy, Gammapy or matplotlib yet, use the tutorial introductions as explained [here](https://docs.gammapy.org/dev/tutorials.html), as well as the links to the documentation that we just mentioned."
   ]
  },
  {
   "cell_type": "markdown",
   "metadata": {},
   "source": [
    "## Setup\n",
    "\n",
    "We start by importing everything we will use in this notebook, and configuring the notebook to show plots inline.\n",
    "\n",
    "If you get an error here, you probably have to install the missing package and re-start the notebook.\n",
    "\n",
    "If you don't get an error, just go ahead, no nead to read the import code and text in this section."
   ]
  },
  {
   "cell_type": "code",
   "execution_count": null,
   "metadata": {},
   "outputs": [],
   "source": [
    "import numpy as np"
   ]
  },
  {
   "cell_type": "code",
   "execution_count": null,
   "metadata": {},
   "outputs": [],
   "source": [
    "import astropy.units as u\n",
    "from astropy.coordinates import SkyCoord, Angle\n",
    "from astropy.io import fits\n",
    "from astropy.table import Table\n",
    "from astropy.wcs import WCS\n",
    "\n",
    "import astropy\n",
    "\n",
    "print(astropy.__version__)"
   ]
  },
  {
   "cell_type": "code",
   "execution_count": null,
   "metadata": {},
   "outputs": [],
   "source": [
    "from gammapy.maps import Map\n",
    "from gammapy.image import MapPanelPlotter\n",
    "\n",
    "from gammapy.catalog import SourceCatalogHGPS\n",
    "\n",
    "import gammapy\n",
    "\n",
    "print(gammapy.__version__)"
   ]
  },
  {
   "cell_type": "code",
   "execution_count": null,
   "metadata": {},
   "outputs": [],
   "source": [
    "%matplotlib inline\n",
    "import matplotlib.pyplot as plt\n",
    "\n",
    "import matplotlib\n",
    "\n",
    "print(matplotlib.__version__)"
   ]
  },
  {
   "cell_type": "code",
   "execution_count": null,
   "metadata": {},
   "outputs": [],
   "source": [
    "from urllib.request import urlretrieve\n",
    "from pathlib import Path"
   ]
  },
  {
   "cell_type": "markdown",
   "metadata": {},
   "source": [
    "## Download Data\n",
    "\n",
    "First, you need to download the HGPS FITS data from https://www.mpi-hd.mpg.de/hfm/HESS/hgps .\n",
    "\n",
    "If you haven't already, you can use the following commands to download the files to your local working directory.\n",
    "\n",
    "You don't have to read the code in the next cell; that's just how to downlaod files from Python.\n",
    "You could also download the files with your web browser, or from the command line e.g. with curl:\n",
    "\n",
    "    mkdir hgps_data\n",
    "    cd hgps_data\n",
    "    curl -O https://www.mpi-hd.mpg.de/hfm/HESS/hgps/data/hgps_catalog_v1.fits.gz\n",
    "    curl -O https://www.mpi-hd.mpg.de/hfm/HESS/hgps/data/hgps_map_significance_0.1deg_v1.fits.gz\n",
    "\n",
    "**The rest of this notebook assumes that you have the data files at ``hgps_data_path``.**"
   ]
  },
  {
   "cell_type": "code",
   "execution_count": null,
   "metadata": {},
   "outputs": [],
   "source": [
    "# Download HGPS data used in this tutorial to a folder of your choice\n",
    "# The default `hgps_data` used here is a sub-folder in your current\n",
    "# working directory (where you started the notebook)\n",
    "hgps_data_path = Path(\"hgps_data\")\n",
    "\n",
    "# In this notebook we will only be working with the following files\n",
    "# so we only download what is needed.\n",
    "hgps_filenames = [\n",
    "    \"hgps_catalog_v1.fits.gz\",\n",
    "    \"hgps_map_significance_0.1deg_v1.fits.gz\",\n",
    "]"
   ]
  },
  {
   "cell_type": "code",
   "execution_count": null,
   "metadata": {},
   "outputs": [],
   "source": [
    "def hgps_data_download():\n",
    "    base_url = \"https://www.mpi-hd.mpg.de/hfm/HESS/hgps/data/\"\n",
    "    for filename in hgps_filenames:\n",
    "        url = base_url + filename\n",
    "        path = hgps_data_path / filename\n",
    "        if path.exists():\n",
    "            print(\"Already downloaded: {}\".format(path))\n",
    "        else:\n",
    "            print(\"Downloading {} to {}\".format(url, path))\n",
    "            urlretrieve(url, str(path))\n",
    "\n",
    "\n",
    "hgps_data_path.mkdir(parents=True, exist_ok=True)\n",
    "hgps_data_download()\n",
    "\n",
    "print(\"\\n\\nFiles at {} :\\n\".format(hgps_data_path.absolute()))\n",
    "for path in hgps_data_path.iterdir():\n",
    "    print(path)"
   ]
  },
  {
   "cell_type": "markdown",
   "metadata": {},
   "source": [
    "## Catalog with Astropy\n",
    "\n",
    "### FITS file content\n",
    "\n",
    "Let's start by just opening up `hgps_catalog_v1.fits.gz` and looking at the content.\n",
    "\n",
    "Note that ``astropy.io.fits.open`` doesn't work with `Path` objects yet,\n",
    "so you have to call `str(path)` and pass a string."
   ]
  },
  {
   "cell_type": "code",
   "execution_count": null,
   "metadata": {},
   "outputs": [],
   "source": [
    "path = hgps_data_path / \"hgps_catalog_v1.fits.gz\"\n",
    "hdu_list = fits.open(str(path))"
   ]
  },
  {
   "cell_type": "code",
   "execution_count": null,
   "metadata": {},
   "outputs": [],
   "source": [
    "hdu_list.info()"
   ]
  },
  {
   "cell_type": "markdown",
   "metadata": {},
   "source": [
    "There are six tables. Each table and column is described in detail in the HGPS paper.\n",
    "\n",
    "### Access table data\n",
    "\n",
    "We could work with the `astropy.io.fits.HDUList` and `astropy.io.fits.BinTable` objects.\n",
    "However, in Astropy a nicer class to work with tables has been developed: `astropy.table.Table`.\n",
    "\n",
    "We will only be using `Table`, so let's convert the FITS tabular data into a `Table` object:"
   ]
  },
  {
   "cell_type": "code",
   "execution_count": null,
   "metadata": {},
   "outputs": [],
   "source": [
    "table = Table.read(hdu_list[\"HGPS_SOURCES\"])\n",
    "\n",
    "# Alternatively, reading from file directly would work like this:\n",
    "# table = Table.read(str(path), hdu='HGPS_SOURCES')\n",
    "# Usually you have to look first what HDUs are in a FITS file\n",
    "# like we did above; `Table` is just for one table"
   ]
  },
  {
   "cell_type": "code",
   "execution_count": null,
   "metadata": {},
   "outputs": [],
   "source": [
    "# List available columns\n",
    "table.info()\n",
    "# To get shorter output here, we just list a few\n",
    "# table.info(out=None)['name', 'dtype', 'shape', 'unit'][:10]"
   ]
  },
  {
   "cell_type": "code",
   "execution_count": null,
   "metadata": {},
   "outputs": [],
   "source": [
    "# Rows are accessed by indexing into the table\n",
    "# with an integer index (Python starts at index 0)\n",
    "# table[0]\n",
    "# To get shorter output here, we just list a few\n",
    "table[table.colnames[:5]][0]"
   ]
  },
  {
   "cell_type": "code",
   "execution_count": null,
   "metadata": {},
   "outputs": [],
   "source": [
    "# Columns are accessed by indexing into the table\n",
    "# with a column name string\n",
    "# Then you can slice the column to get the rows you want\n",
    "table[\"Source_Name\"][:5]"
   ]
  },
  {
   "cell_type": "code",
   "execution_count": null,
   "metadata": {},
   "outputs": [],
   "source": [
    "# Accessing a given element of the table like this\n",
    "table[\"Source_Name\"][5]"
   ]
  },
  {
   "cell_type": "code",
   "execution_count": null,
   "metadata": {},
   "outputs": [],
   "source": [
    "# If you know some Python and Numpy, you can now start\n",
    "# to ask questions about the HGPS data.\n",
    "# Just to give one example: \"What spatial models are used?\""
   ]
  },
  {
   "cell_type": "code",
   "execution_count": null,
   "metadata": {},
   "outputs": [],
   "source": [
    "set(table[\"Spatial_Model\"])"
   ]
  },
  {
   "cell_type": "markdown",
   "metadata": {},
   "source": [
    "### Convert formats\n",
    "\n",
    "The HGPS catalog is only released in FITS format.\n",
    "\n",
    "We didn't provide multiple formats (DS9, CSV, XML, VOTABLE, ...) because everyone needs something a little different (in terms of format or content). Instead, here we show how you can convert to any format / content you like wiht a few lines of Python.\n",
    "\n",
    "#### DS9 region format\n",
    "\n",
    "At [Fermi-LAT 3FGL webpage](https://fermi.gsfc.nasa.gov/ssc/data/access/lat/4yr_catalog/),\n",
    "we see that they also provide [DS9 region files](http://ds9.si.edu/doc/ref/region.html) that look like this:\n",
    "\n",
    "    global color=red\n",
    "    fk5;point(   0.0377, 65.7517)# point=cross text={3FGL J0000.1+6545}\n",
    "    fk5;point(   0.0612,-37.6484)# point=cross text={3FGL J0000.2-3738}\n",
    "    fk5;point(   0.2535, 63.2440)# point=cross text={3FGL J0001.0+6314}\n",
    "    ... more lines, one for each source ...\n",
    "\n",
    "because many people use [DS9](http://ds9.si.edu/) to view astronomical images, and to overplot catalog data.\n",
    "\n",
    "Let's convert the HGPS catalog into this format.\n",
    "(to avoid very long text output, we use `table[:3]` to just use the first three rows)"
   ]
  },
  {
   "cell_type": "code",
   "execution_count": null,
   "metadata": {},
   "outputs": [],
   "source": [
    "lines = [\"global color=red\"]\n",
    "for row in table[:3]:\n",
    "    fmt = \"fk5;point({:.5f},{:.5f})# point=cross text={{{}}}\"\n",
    "    vals = row[\"RAJ2000\"], row[\"DEJ2000\"], row[\"Source_Name\"]\n",
    "    lines.append(fmt.format(*vals))\n",
    "txt = \"\\n\".join(lines)"
   ]
  },
  {
   "cell_type": "code",
   "execution_count": null,
   "metadata": {},
   "outputs": [],
   "source": [
    "# To save it to a DS9 region text file\n",
    "path = hgps_data_path / \"hgps_my_format.reg\"\n",
    "\n",
    "with open(str(path), \"w\") as f:\n",
    "    f.write(txt)\n",
    "\n",
    "# Print content of the file to check\n",
    "print(path.read_text())"
   ]
  },
  {
   "cell_type": "markdown",
   "metadata": {},
   "source": [
    "Note that there is an extra package [astropy-regions](https://astropy-regions.readthedocs.io/) that has classes to represent region objects and supports the DS9 format. We could have used that to generate the DS9 region strings, or we could use it to read the DS9 region file via:\n",
    "\n",
    "    import regions\n",
    "    region_list = regions.ds9.read_ds9(str(path))\n",
    "\n",
    "We will not show examples how to work with regions or how to do region-based analyses here, but if you want to do something like e.g. measure the total flux in a given region in the HGPS maps, the region package would be useful."
   ]
  },
  {
   "cell_type": "markdown",
   "metadata": {},
   "source": [
    "#### CSV format\n",
    "\n",
    "Let's do one more example, converting part of the HGPS catalog table information to CSV, i.e. comma-separated format.\n",
    "This is a format that can be read by any tool for tabular data, e.g. if you are using Excel or ROOT for your gamma-ray data analysis, this section is for you!\n",
    "\n",
    "Usually you can just use the CSV writer in Astropy like this:\n",
    "\n",
    "    path = hgps_data_path / 'hgps_my_format.csv'\n",
    "    table.write(str(path), format='ascii.csv')\n",
    "    \n",
    "However, this doesn't work here for two reasons:\n",
    "\n",
    "1. this table contains metadata that trips up the Astropy CSV writer (I filed an [issue](https://github.com/astropy/astropy/issues/7357) with Astropy)\n",
    "1. this table contains array-valued columns for the spectral points and CSV can only have scalar values."
   ]
  },
  {
   "cell_type": "code",
   "execution_count": null,
   "metadata": {},
   "outputs": [],
   "source": [
    "# This is the problematic header key\n",
    "table.meta[\"comments\"]"
   ]
  },
  {
   "cell_type": "code",
   "execution_count": null,
   "metadata": {},
   "outputs": [],
   "source": [
    "# These are the array-valued columns\n",
    "array_colnames = tuple(\n",
    "    name for name in table.colnames if len(table[name].shape) > 1\n",
    ")\n",
    "for name in array_colnames:\n",
    "    print(name, table[name].shape)"
   ]
  },
  {
   "cell_type": "code",
   "execution_count": null,
   "metadata": {},
   "outputs": [],
   "source": [
    "# So each source has an array of spectral flux points,\n",
    "# and FITS allows storing such arrays in table cells\n",
    "# Knowing this, you could work with the spectral points directly.\n",
    "# We won't give an example here; but instead show how to work\n",
    "# with HGPS spectra in the Gammapy section below, because it's easier.\n",
    "print(table[\"Flux_Points_Energy\"][0])\n",
    "print(table[\"Flux_Points_Flux\"][0])"
   ]
  },
  {
   "cell_type": "markdown",
   "metadata": {},
   "source": [
    "Let's get back to our actual goal of converting part of the HGPS catalog table data to CSV format.\n",
    "The following code makes a copy of the table that contains just the scalar columns, then removes the `meta` information (most CSV variants / readers don't support metadata anyways) and writes a CSV file."
   ]
  },
  {
   "cell_type": "code",
   "execution_count": null,
   "metadata": {},
   "outputs": [],
   "source": [
    "scalar_colnames = tuple(\n",
    "    name for name in table.colnames if len(table[name].shape) <= 1\n",
    ")\n",
    "table2 = table[scalar_colnames]\n",
    "table2.meta = {}\n",
    "path = hgps_data_path / \"hgps_my_format.csv\"\n",
    "table2.write(str(path), format=\"ascii.csv\", overwrite=True)"
   ]
  },
  {
   "cell_type": "markdown",
   "metadata": {},
   "source": [
    "The Astropy ASCII writer and reader supports many variants.\n",
    "Let's do one more example, using the ``ascii.fixed_width`` format which is a bit easier to read for humans.\n",
    "We will just select a few columns and rows to print here."
   ]
  },
  {
   "cell_type": "code",
   "execution_count": null,
   "metadata": {},
   "outputs": [],
   "source": [
    "table2 = table[\"Source_Name\", \"GLON\", \"GLAT\"][:3]\n",
    "table2.meta = {}\n",
    "table2[\"Source_Name\"].format = \"<20s\"\n",
    "table2[\"GLON\"].format = \">8.3f\"\n",
    "table2[\"GLAT\"].format = \">8.3f\"\n",
    "path = hgps_data_path / \"hgps_my_format.csv\"\n",
    "table2.write(str(path), format=\"ascii.fixed_width\", overwrite=True)\n",
    "\n",
    "# Print the CSV file contents to check what we have\n",
    "print(path.read_text())"
   ]
  },
  {
   "cell_type": "markdown",
   "metadata": {},
   "source": [
    "Now you know how to work with the HGPS catalog with Python and Astropy. For the other tables (e.g. `HGPS_GAUSS_COMPONENTS`) it's the same: you should read the description in the HGPS paper, then access the information you need or convert it to the format you want as shows for `HGPS_SOURCES` here). Let's move on and have a look at the HGPS maps."
   ]
  },
  {
   "cell_type": "markdown",
   "metadata": {},
   "source": [
    "## Maps with Astropy\n",
    "\n",
    "This section shows how to load an HGPS survey map with Astropy, and give examples how to work with sky and pixel coordinates to read off map values at given positions.\n",
    "\n",
    "We will keep it short, for further examples see the \"Maps with Gammapy\" section below.\n",
    "\n",
    "### Read\n",
    "\n",
    "To read the map, use `fits.open` to get an `HDUList` object, then access `[0]` to get the first and only image HDU in the FITS file, and finally use the `hdu.data` Numpy array, `hdu.header` header object or `wcs = WCS(hdu.header)` WCS object to work with the data."
   ]
  },
  {
   "cell_type": "code",
   "execution_count": null,
   "metadata": {},
   "outputs": [],
   "source": [
    "path = hgps_data_path / \"hgps_map_significance_0.1deg_v1.fits.gz\"\n",
    "hdu_list = fits.open(str(path))\n",
    "hdu_list.info()"
   ]
  },
  {
   "cell_type": "code",
   "execution_count": null,
   "metadata": {},
   "outputs": [],
   "source": [
    "hdu = hdu_list[0]\n",
    "type(hdu)"
   ]
  },
  {
   "cell_type": "code",
   "execution_count": null,
   "metadata": {},
   "outputs": [],
   "source": [
    "type(hdu.data)"
   ]
  },
  {
   "cell_type": "code",
   "execution_count": null,
   "metadata": {},
   "outputs": [],
   "source": [
    "hdu.data.shape"
   ]
  },
  {
   "cell_type": "code",
   "execution_count": null,
   "metadata": {},
   "outputs": [],
   "source": [
    "# The FITS header contains the information about the\n",
    "# WCS projection, i.e. the pixel to sky coordinate transform\n",
    "hdu.header"
   ]
  },
  {
   "cell_type": "markdown",
   "metadata": {},
   "source": [
    "### WCS and coordinates\n",
    "\n",
    "To actually do pixel to sky coordinate transformations,\n",
    "you have to create a \"Word coordinate system transform (WCS)\"\n",
    "object from the FITS header."
   ]
  },
  {
   "cell_type": "code",
   "execution_count": null,
   "metadata": {},
   "outputs": [],
   "source": [
    "wcs = WCS(hdu.header)\n",
    "wcs"
   ]
  },
  {
   "cell_type": "markdown",
   "metadata": {},
   "source": [
    "Let's find the (arguably) most interesting pixel in the HGPS map and look up it's value in the significance image."
   ]
  },
  {
   "cell_type": "code",
   "execution_count": null,
   "metadata": {},
   "outputs": [],
   "source": [
    "# pos = SkyCoord.from_name('Sgr A*')\n",
    "pos = SkyCoord(266.416826, -29.007797, unit=\"deg\")\n",
    "pos"
   ]
  },
  {
   "cell_type": "code",
   "execution_count": null,
   "metadata": {},
   "outputs": [],
   "source": [
    "xp, yp = pos.to_pixel(wcs)\n",
    "xp, yp"
   ]
  },
  {
   "cell_type": "code",
   "execution_count": null,
   "metadata": {},
   "outputs": [],
   "source": [
    "# Note that SkyCoord makes it easy to transform\n",
    "# to other frames, and it knows about the frame\n",
    "# of the WCS object, so for HGPS we have `frame=\"galactic\"`\n",
    "# and in the call above the transformation from ICRS\n",
    "# to Galactic and then to pixel all happened in the\n",
    "# `pos.to_pixel` call. This gives the same pixel postion:\n",
    "print(pos.galactic)\n",
    "print(pos.galactic.to_pixel(wcs))"
   ]
  },
  {
   "cell_type": "code",
   "execution_count": null,
   "metadata": {},
   "outputs": [],
   "source": [
    "# FITS WCS and Numpy have opposite array axis order\n",
    "# So to look up a pixel in the `hdu.data` Numpy array,\n",
    "# we need to switch to (y, x), and we also need to\n",
    "# round correctly to the nearest int, thus the `+ 0.5`\n",
    "idx = int(yp + 0.5), int(xp + 0.5)\n",
    "idx"
   ]
  },
  {
   "cell_type": "code",
   "execution_count": null,
   "metadata": {},
   "outputs": [],
   "source": [
    "# Now, finally the value of this pixel\n",
    "hdu.data[idx]"
   ]
  },
  {
   "cell_type": "markdown",
   "metadata": {},
   "source": [
    "Note that this is a significance map with correlation radius 0.1 deg.\n",
    "That means that within a circle of radius 0.1 deg around the pixel center,\n",
    "the signal has a significance of 74.2 sigma.\n",
    "\n",
    "This does not directly correspond to the significance of a gamma-ray source,\n",
    "because this circle contains emission from multiple sources and underlying diffuse emission,\n",
    "and for the sources in this circle their emission isn't fully contained because of the size of the HESS PSF.\n",
    "\n",
    "We remind you of the caveat the HGPS paper (see Appendix A) that it is not possible to do a detailed quantitative measurement on the released HGPS maps; the measurements in the HGPS paper were done using likelihood fits on uncorrelated counts images taking the PSF shape into account."
   ]
  },
  {
   "cell_type": "markdown",
   "metadata": {},
   "source": [
    "Let's do one more exercise: find the sky position for the pixel with the highest significance:"
   ]
  },
  {
   "cell_type": "code",
   "execution_count": null,
   "metadata": {},
   "outputs": [],
   "source": [
    "# The pixel with the maximum significance\n",
    "hdu.data.max()"
   ]
  },
  {
   "cell_type": "code",
   "execution_count": null,
   "metadata": {},
   "outputs": [],
   "source": [
    "# So it is the pixel in the HGPS map that contains Sgr A*\n",
    "# and we already roughly know it's position\n",
    "# Still, let's find the exact pixel center sky position\n",
    "\n",
    "# We use `np.nanargmax` to find the index, but it's an index\n",
    "# into the flattened array, so we have to \"unravel\" it to get a 2D index\n",
    "yp, xp = np.unravel_index(np.nanargmax(hdu.data), hdu.data.shape)\n",
    "yp, xp"
   ]
  },
  {
   "cell_type": "code",
   "execution_count": null,
   "metadata": {},
   "outputs": [],
   "source": [
    "pos = SkyCoord.from_pixel(xp, yp, wcs)\n",
    "pos"
   ]
  },
  {
   "cell_type": "markdown",
   "metadata": {},
   "source": [
    "As you can see, working with FITS images and sky / pixel coordinates directly requires that you learn how to use the WCS object and Numpy arrays and to know that the axis order is `(x, y)` in FITS and WCS, but `(row, column)`, i.e. `(y, x)` in Numpy. It seems quite complex at first, but most astronomers get used to it and manage after a while. `gammapy.maps.WcsNDMap` is a wrapper class that is a bit simpler to use (see below), but under the hood it just calls these Numpy and Astropy methods for you, so it's good to know what is going on in any case."
   ]
  },
  {
   "cell_type": "markdown",
   "metadata": {},
   "source": [
    "## Catalog with Gammapy\n",
    "\n",
    "As you have seen above, working with the HGPS FITS catalog data using Astropy is pretty nice.\n",
    "But still, there are some common tasks that aren't trivial to do and require reading the\n",
    "FITS table description in detail and writing quite a bit of Python code.\n",
    "\n",
    "So that you don't have to, we have done this for HGPS in [gammapy.catalog.SourceCatalogHGPS](https://docs.gammapy.org/dev/api/gammapy.catalog.SourceCatalogHGPS.html) and also for a few other catalogs that are commonly used in gamma-ray astronomy in [gammapy.catalog](https://docs.gammapy.org/dev/catalog/index.html).\n",
    "\n",
    "### Read\n",
    "\n",
    "Let's start by reading the HGPS catalog via the `SourceCatalogHGPS` class (which is just a wrapper class for `astropy.table.Table`) and access some information about a given source. Feel free to choose any source you like here: we have chosen simply the first one on the table: the pulsar-wind nebula Vela X, a large and bright TeV source around the [Vela pulsar](https://en.wikipedia.org/wiki/Vela_Pulsar)."
   ]
  },
  {
   "cell_type": "code",
   "execution_count": null,
   "metadata": {},
   "outputs": [],
   "source": [
    "path = hgps_data_path / \"hgps_catalog_v1.fits.gz\"\n",
    "cat = SourceCatalogHGPS(path)"
   ]
  },
  {
   "cell_type": "markdown",
   "metadata": {},
   "source": [
    "### Tables\n",
    "\n",
    "Now all tables from the FITS file were loaded\n",
    "and stored on the ``cat`` object. See the [SourceCatalogHGPS](https://docs.gammapy.org/dev/api/gammapy.catalog.SourceCatalogHGPS.html) docs, or just try accessing one:"
   ]
  },
  {
   "cell_type": "code",
   "execution_count": null,
   "metadata": {},
   "outputs": [],
   "source": [
    "cat.table.meta[\"EXTNAME\"]"
   ]
  },
  {
   "cell_type": "code",
   "execution_count": null,
   "metadata": {},
   "outputs": [],
   "source": [
    "cat.table_components.meta[\"EXTNAME\"]"
   ]
  },
  {
   "cell_type": "markdown",
   "metadata": {},
   "source": [
    "### Source\n",
    "\n",
    "You can access a given source by row index (starting at zero) or by source name.\n",
    "This creates [SourceCatalogObjectHGPS](https://docs.gammapy.org/dev/api/gammapy.catalog.SourceCatalogObjectHGPS.html) objects that have a copy of all the data for a given source. See the class docs for a full overview."
   ]
  },
  {
   "cell_type": "code",
   "execution_count": null,
   "metadata": {},
   "outputs": [],
   "source": [
    "# These all give the same source object\n",
    "source = cat[0]\n",
    "# When accessing by name, the value has to match exactly\n",
    "# the content from one of these columns:\n",
    "# `Source_Name` or `Identified_Object`\n",
    "# which in this case are \"HESS J0835-455\" and \"Vela X\"\n",
    "source = cat[\"HESS J0835-455\"]\n",
    "source = cat[\"Vela X\"]\n",
    "source"
   ]
  },
  {
   "cell_type": "code",
   "execution_count": null,
   "metadata": {},
   "outputs": [],
   "source": [
    "# To see a pretty-printed text version of all\n",
    "# HGPS data on a given source:\n",
    "print(source)"
   ]
  },
  {
   "cell_type": "code",
   "execution_count": null,
   "metadata": {},
   "outputs": [],
   "source": [
    "# You can also more selectively print subsets of info:\n",
    "print(source.info(\"map\"))"
   ]
  },
  {
   "cell_type": "code",
   "execution_count": null,
   "metadata": {},
   "outputs": [],
   "source": [
    "# All of the data for this source is available\n",
    "# via the `source.data` dictionary if you want\n",
    "# to do some computations\n",
    "source.data[\"Flux_Spec_Int_1TeV\"]"
   ]
  },
  {
   "cell_type": "code",
   "execution_count": null,
   "metadata": {},
   "outputs": [],
   "source": [
    "# The flux points are available as a Table\n",
    "source.flux_points.table"
   ]
  },
  {
   "cell_type": "code",
   "execution_count": null,
   "metadata": {},
   "outputs": [],
   "source": [
    "# The spectral model is available as a\n",
    "# Gammapy spectral model object:\n",
    "spectral_model = source.spectral_model()\n",
    "print(spectral_model)"
   ]
  },
  {
   "cell_type": "code",
   "execution_count": null,
   "metadata": {},
   "outputs": [],
   "source": [
    "# One common task is to compute integral fluxes\n",
    "# The error is computed using the covariance matrix\n",
    "# (off-diagonal info not given in HGPS, i.e. this is an approximation)\n",
    "spectral_model.integral_error(emin=1 * u.TeV, emax=10 * u.TeV)"
   ]
  },
  {
   "cell_type": "code",
   "execution_count": null,
   "metadata": {},
   "outputs": [],
   "source": [
    "# Let's plot the spectrum\n",
    "source.spectral_model().plot(source.energy_range)\n",
    "source.spectral_model().plot_error(source.energy_range)\n",
    "source.flux_points.plot();"
   ]
  },
  {
   "cell_type": "code",
   "execution_count": null,
   "metadata": {},
   "outputs": [],
   "source": [
    "# Or let's make the same plot in the common\n",
    "# format with y = E^2 * dnde\n",
    "opts = dict(energy_power=2, flux_unit=\"erg-1 cm-2 s-1\")\n",
    "source.spectral_model().plot(source.energy_range, **opts)\n",
    "source.spectral_model().plot_error(source.energy_range, **opts)\n",
    "source.flux_points.plot(**opts)\n",
    "plt.ylabel(\"E^2 dN/dE (erg cm-2 s-1)\")\n",
    "plt.title(\"Vela X HGPS spectrum\");"
   ]
  },
  {
   "cell_type": "markdown",
   "metadata": {},
   "source": [
    "In the next section we will see how to work with the HGPS survey maps from Gammapy, as well as work with other data from the catalog (position and morphology information)."
   ]
  },
  {
   "cell_type": "markdown",
   "metadata": {},
   "source": [
    "## Maps with Gammapy\n",
    "\n",
    "Let's use the [gammapy.maps.Map.read](https://docs.gammapy.org/dev/api/gammapy.maps.Map.html#gammapy.maps.Map.read) method to load up the HGPS significance survey map."
   ]
  },
  {
   "cell_type": "code",
   "execution_count": null,
   "metadata": {},
   "outputs": [],
   "source": [
    "path = hgps_data_path / \"hgps_map_significance_0.1deg_v1.fits.gz\"\n",
    "survey_map = Map.read(path)"
   ]
  },
  {
   "cell_type": "code",
   "execution_count": null,
   "metadata": {},
   "outputs": [],
   "source": [
    "# Map has a quick-look plot method, but it's not\n",
    "# very useful for a survey map that wide with default settings\n",
    "survey_map.plot();"
   ]
  },
  {
   "cell_type": "code",
   "execution_count": null,
   "metadata": {},
   "outputs": [],
   "source": [
    "# This is a little better\n",
    "fig = plt.figure(figsize=(15, 3))\n",
    "_ = survey_map.plot(stretch=\"sqrt\")\n",
    "# Note that we also assign the return value (a tuple)\n",
    "# from the plot method call to a variable called `_`\n",
    "# This is to avoid Jupyter printing it like in the last cell,\n",
    "# and generally `_` is a variable name used in Python\n",
    "# for things you don't want to name or care about at all"
   ]
  },
  {
   "cell_type": "markdown",
   "metadata": {},
   "source": [
    "Let's look at a cutout of the Galactic center:"
   ]
  },
  {
   "cell_type": "code",
   "execution_count": null,
   "metadata": {},
   "outputs": [],
   "source": [
    "image = survey_map.cutout(pos, width=(3.8, 2.5) * u.deg)\n",
    "fig, ax, _ = image.plot(stretch=\"sqrt\", cmap=\"inferno\")\n",
    "ax.coords[0].set_major_formatter(\"dd\")\n",
    "ax.coords[1].set_major_formatter(\"dd\")"
   ]
  },
  {
   "cell_type": "markdown",
   "metadata": {},
   "source": [
    "Side comment: If you like, you can format stuff to make it a bit more pretty. With a few lines you can get nice plots, with a few dozen publication-quality images. This is using [matplotlib](https://matplotlib.org/) and [astropy.visualization](http://docs.astropy.org/en/stable/visualization/index.html). Both are pretty complex, but there's many examples available and there's not really another good alternative anyways for astronomical sky images at the moment, so you should just go ahead and learn those.\n",
    "\n",
    "There's also a convenience method to look up the map value at a given sky position.\n",
    "Let's repeat this for the same position we did above with Numpy and Astropy:"
   ]
  },
  {
   "cell_type": "code",
   "execution_count": null,
   "metadata": {},
   "outputs": [],
   "source": [
    "pos = SkyCoord(266.416826, -29.007797, unit=\"deg\")\n",
    "survey_map.get_by_coord(pos)"
   ]
  },
  {
   "cell_type": "markdown",
   "metadata": {},
   "source": [
    "### Vela X\n",
    "\n",
    "To finish up this tutorial, let's do something a bit more advanced, than involves the survey map, the HGPS source catalog, the multi-Gauss morphology component model. Let's show the Vela X pulsar wind nebula and the Vela Junior supernova remnant, and overplot some HGPS catalog data."
   ]
  },
  {
   "cell_type": "code",
   "execution_count": null,
   "metadata": {},
   "outputs": [],
   "source": [
    "# The spatial model for Vela X in HGPS was three Gaussians\n",
    "print(source.name)\n",
    "for component in source.components:\n",
    "    print(component)"
   ]
  },
  {
   "cell_type": "code",
   "execution_count": null,
   "metadata": {},
   "outputs": [],
   "source": [
    "from astropy.visualization import simple_norm\n",
    "from matplotlib.patches import Circle\n",
    "\n",
    "# Cutout and plot a nice image\n",
    "pos = SkyCoord(264.5, -2.5, unit=\"deg\", frame=\"galactic\")\n",
    "image = survey_map.cutout(pos, width=(\"6 deg\", \"4 deg\"))\n",
    "norm = simple_norm(image.data, stretch=\"sqrt\", min_cut=0, max_cut=20)\n",
    "fig = plt.figure(figsize=(12, 8))\n",
    "fig, ax, _ = image.plot(fig=fig, norm=norm, cmap=\"inferno\")\n",
    "transform = ax.get_transform(\"galactic\")\n",
    "\n",
    "# Overplot the pulsar\n",
    "# print(SkyCoord.from_name('Vela pulsar').galactic)\n",
    "ax.scatter(263.551, -2.787, transform=transform, s=500, color=\"cyan\")\n",
    "\n",
    "# Overplot the circle that was used for the HGPS spectral measurement of Vela X\n",
    "# It is centered on the centroid of the emission and has a radius of 0.5 deg\n",
    "x = source.data[\"GLON\"].value\n",
    "y = source.data[\"GLAT\"].value\n",
    "r = source.data[\"RSpec\"].value\n",
    "c = Circle(\n",
    "    (x, y), r, transform=transform, edgecolor=\"white\", facecolor=\"none\", lw=4\n",
    ")\n",
    "ax.add_patch(c)\n",
    "\n",
    "# Overplot circles that represent the components\n",
    "for c in source.components:\n",
    "    x = c.data[\"GLON\"].value\n",
    "    y = c.data[\"GLAT\"].value\n",
    "    r = c.data[\"Size\"].value\n",
    "    c = Circle(\n",
    "        (x, y), r, transform=transform, edgecolor=\"0.7\", facecolor=\"none\", lw=3\n",
    "    )\n",
    "    ax.add_patch(c)"
   ]
  },
  {
   "cell_type": "markdown",
   "metadata": {},
   "source": [
    "We note that for HGPS there are already spatial models available:\n",
    "\n",
    "    print(source.spatial_model())\n",
    "    source.components[0].spatial_model\n",
    "\n",
    "With some effort, you can use those to make HGPS model flux images.\n",
    "\n",
    "There are two reasons we're not showing this here: First, the spatial model code in Gammapy is work in progress, it will change soon. Secondly, doing morphology measurements on the public HGPS maps is discouraged; we note again that the maps are correlated and no detailed PSF information is published. So please be careful / conservative when extracting quantitative mesurements from the HGPS maps e.g. for a source of interest for you."
   ]
  },
  {
   "cell_type": "markdown",
   "metadata": {},
   "source": [
    "### Survey Map Panel Plot\n",
    "\n",
    "The survey maps have an aspect ratio of ~18:2 which makes it hard to fit them on a standard size a4 paper or slide for showing them. In Gammapy there is a helper class `MapPanelPlotter`, which allows to plot these kind of maps on mutiple panels. Here is an example, how to uses it:  "
   ]
  },
  {
   "cell_type": "code",
   "execution_count": null,
   "metadata": {},
   "outputs": [],
   "source": [
    "fig = plt.figure(figsize=(15, 8))\n",
    "\n",
    "xlim = Angle([65, 255], unit=\"deg\")\n",
    "ylim = Angle([-4, 4], unit=\"deg\")\n",
    "\n",
    "plotter = MapPanelPlotter(\n",
    "    figure=fig,\n",
    "    xlim=xlim,\n",
    "    ylim=ylim,\n",
    "    npanels=4,\n",
    "    top=0.98,\n",
    "    bottom=0.07,\n",
    "    right=0.98,\n",
    "    left=0.05,\n",
    "    hspace=0.15,\n",
    ")\n",
    "\n",
    "axes = plotter.plot(\n",
    "    survey_map, cmap=\"inferno\", stretch=\"sqrt\", vmin=0, vmax=50\n",
    ")"
   ]
  },
  {
   "cell_type": "markdown",
   "metadata": {},
   "source": [
    "Internally the class uses matplotlib class [`GridSpec`](https://matplotlib.org/api/gridspec_api.html#matplotlib.gridspec.GridSpec) to set up a grid of subplot axes, which are returned by the `MapPanelPlotter.plot()` function. These can be used further, e.g. to plot markers on, using the standard [`WcsAxes`](http://docs.astropy.org/en/stable/visualization/wcsaxes/) api."
   ]
  },
  {
   "cell_type": "markdown",
   "metadata": {},
   "source": [
    "## Conclusions\n",
    "\n",
    "This concludes this tutorial how to access and work with the HGPS data from Python, using Astropy and Gammapy.\n",
    "\n",
    "\n",
    "* If you have any questions about the HGPS data, please use the contact given at https://www.mpi-hd.mpg.de/hfm/HESS/hgps/ .\n",
    "* If you have any questions or issues about Astropy or Gammapy, please use the Gammapy mailing list (see https://gammapy.org/contact.html).\n",
    "\n",
    "**Please read the Appendix A of the paper to learn about the caveats to using the HGPS data. Especially note that the HGPS survey maps are correlated and thus no detailed source morphology analysis is possible, and also note the caveats concerning spectral models and spectral flux points.**"
   ]
  },
  {
   "cell_type": "markdown",
   "metadata": {},
   "source": [
    "## Exercises\n",
    "\n",
    "* Re-run this notebook, but change the HGPS source that was used for examples. If you have any questions about the data, try to access and print or plot it. Just to give a few ideas: How many identified pulsar wind nebulae are in HGPS? Which are the 5 brightest HGPS sources in the 1-10 TeV energy band? Which is the second-highest significance source in the HPGS image after the Galactic center?\n",
    "* Try to reproduce some of the figures in the HGPS paper. Don't try to reproduce them exactly, but just try to write ~ 10 lines of code to access the relevant HGPS data and make a quick plot that shows the same or similar information.\n",
    "* Fit a spectral model to the spectral points of Vela X and compare with the HGPS model fit. (they should be similar, but not identical, in HGPS a likelihood fit to counts data was done). For this task, the [spectrum_models](https://docs.gammapy.org/dev/notebooks/spectrum_models.html) and [sed_fitting_gammacat_fermi](https://docs.gammapy.org/dev/notebooks/sed_fitting_gammacat_fermi.html) tutorials will be useful.\n"
   ]
  },
  {
   "cell_type": "code",
   "execution_count": null,
   "metadata": {},
   "outputs": [],
   "source": []
  }
 ],
 "metadata": {
  "kernelspec": {
   "display_name": "Python 3",
   "language": "python",
   "name": "python3"
  },
  "language_info": {
   "codemirror_mode": {
    "name": "ipython",
    "version": 3
   },
   "file_extension": ".py",
   "mimetype": "text/x-python",
   "name": "python",
   "nbconvert_exporter": "python",
   "pygments_lexer": "ipython3",
   "version": "3.6.0"
  }
 },
 "nbformat": 4,
 "nbformat_minor": 2
}
