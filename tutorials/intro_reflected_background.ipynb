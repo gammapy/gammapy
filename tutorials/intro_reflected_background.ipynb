{
 "cells": [
  {
   "cell_type": "markdown",
   "metadata": {},
   "source": [
    "# Usage of the ReflectedBackground class with Gammapy\n",
    "\n",
    "In this tutorial we will learn how to use the Reflected Bkg and we will describe its new features. For reminder, this algorithm is used for the 1D spectral analysis.\n",
    "\n",
    "If you're interested in the full pipeline for the 1D spectral analysis, you should read ([spectrum_pipe.ipynb](spectrum_pipe.ipynb)) that executes the analysis using high-level classes and methods in Gammapy. \n",
    "\n",
    "In this tutorial we will use the folling Gammapy classes:\n",
    "\n",
    "- [astropy.data.DataStore](https://docs.gammapy.org/dev/api/gammapy.data.DataStore.html) to load the data\n",
    "- [astropy.regions](https://astropy-regions.readthedocs.io/en/latest/) to select different shapes on On test (or test region)\n",
    "- [gammapy.background.ReflectedRegionsBackgroundEstimator](https://docs.gammapy.org/dev/api/gammapy.background.ReflectedRegionsBackgroundEstimator.html) to run the Reflected Background algorithm\n",
    "\n",
    "We use 4 Crab observations from H.E.S.S. for testing."
   ]
  },
  {
   "cell_type": "markdown",
   "metadata": {},
   "source": [
    "## Setup\n",
    "\n",
    "As usual, we'll start with some setup for the notebook, and import the functionality we need."
   ]
  },
  {
   "cell_type": "code",
   "execution_count": null,
   "metadata": {},
   "outputs": [],
   "source": [
    "%matplotlib inline\n",
    "import numpy as np\n",
    "import matplotlib.pyplot as plt\n",
    "\n",
    "import astropy.units as u\n",
    "from astropy.coordinates import SkyCoord, Angle\n",
    "from regions import PixCoord, CircleSkyRegion, CircleAnnulusSkyRegion, EllipseSkyRegion, EllipseAnnulusSkyRegion, RectangleSkyRegion, RectangleAnnulusSkyRegion, PolygonSkyRegion\n",
    "\n",
    "from gammapy.data import DataStore\n",
    "from gammapy.catalog import SourceCatalogGammaCat\n",
    "from gammapy.maps import Map, WcsGeom\n",
    "from gammapy.background import ReflectedRegionsBackgroundEstimator\n",
    "from gammapy.stats import significance_on_off"
   ]
  },
  {
   "cell_type": "markdown",
   "metadata": {},
   "source": [
    "## Select data\n",
    "\n",
    "First, we select and load some H.E.S.S. data (DL3 public test data release 1). In real life you would do something fancy here, or just use the list of observations someone send you (and hope they have done something fancy before). We'll just use the standard gammapy 4 crab runs."
   ]
  },
  {
   "cell_type": "code",
   "execution_count": null,
   "metadata": {},
   "outputs": [],
   "source": [
    "data_store = DataStore.from_dir(\"$GAMMAPY_DATA/hess-dl3-dr1/\")\n",
    "mask = data_store.obs_table[\"TARGET_NAME\"] == \"Crab\"\n",
    "obs_ids = data_store.obs_table[\"OBS_ID\"][mask].data\n",
    "observations = data_store.get_observations(obs_ids)\n",
    "print(obs_ids)\n",
    "\n",
    "crab_pos = SkyCoord.from_name(\"crab\")\n",
    "print(\"\\nCrab coordinates: {}\".format(crab_pos))"
   ]
  },
  {
   "cell_type": "markdown",
   "metadata": {},
   "source": [
    "## Defining the Exclusion regions"
   ]
  },
  {
   "cell_type": "markdown",
   "metadata": {},
   "source": [
    "Some areas of the sky might be known to contain gamma-ray sources or to exhibit large scale gamma-ray emission. Such area should be excluded when running the Reflected Bkg algorithm in order to not 'contaminate' the Bkg estimation. Let's use the [gamma-cat](https://gamma-cat.readthedocs.io/) catalog of known gamma-ray sources."
   ]
  },
  {
   "cell_type": "code",
   "execution_count": null,
   "metadata": {},
   "outputs": [],
   "source": [
    "exclusion_mask = Map.create(skydir=crab_pos, width=(10, 10), binsz=0.02)\n",
    "\n",
    "gammacat = SourceCatalogGammaCat(\"$GAMMAPY_DATA/catalogs/gammacat/gammacat.fits.gz\")\n",
    "\n",
    "regions = []\n",
    "for source in gammacat:\n",
    "    if not exclusion_mask.geom.contains(source.position):\n",
    "        continue\n",
    "    region = CircleSkyRegion(source.position, 0.15 * u.deg)\n",
    "    regions.append(region)\n",
    "exclusion_mask.data = exclusion_mask.geom.region_mask(regions, inside=False)\n",
    "exclusion_mask.plot(add_cbar=True);"
   ]
  },
  {
   "cell_type": "markdown",
   "metadata": {},
   "source": [
    "## Small introduction to the Astropy.Region API"
   ]
  },
  {
   "cell_type": "markdown",
   "metadata": {},
   "source": [
    "Different shapes of regions are available. Except the polygons shapes, all other are supported by the Reflected Background algorithm: [astropy.regions.CircleSkyRegion](https://astropy-regions.readthedocs.io/en/latest/api/regions.CircleSkyRegion.html#regions.CircleSkyRegion), [astropy.regions.CircleAnnulusSkyRegion](https://astropy-regions.readthedocs.io/en/latest/api/regions.CircleAnnulusSkyRegion.html#regions.CircleAnnulusSkyRegion), [astropy.regions.EllipseSkyRegion](https://astropy-regions.readthedocs.io/en/latest/api/regions.EllipseSkyRegion.html#regions.EllipseSkyRegion), [astropy.regions.EllipseAnnulusSkyRegion](https://astropy-regions.readthedocs.io/en/latest/api/regions.EllipseAnnulusSkyRegion.html#regions.EllipseAnnulusSkyRegion), [astropy.regions.RectangleSkyRegion](https://astropy-regions.readthedocs.io/en/latest/api/regions.RectangleSkyRegion.html#regions.RectangleSkyRegion), [astropy.regions.RectangleAnnulusSkyRegion](https://astropy-regions.readthedocs.io/en/latest/api/regions.RectangleAnnulusSkyRegion.html#regions.RectangleAnnulusSkyRegion).\n",
    "Some exemples are given to define them and to plot them."
   ]
  },
  {
   "cell_type": "code",
   "execution_count": null,
   "metadata": {},
   "outputs": [],
   "source": [
    "on_circle = CircleSkyRegion(crab_pos, 0.3 * u.deg)\n",
    "on_rectangle = RectangleSkyRegion(center=SkyCoord(80.3,22.0,unit=\"deg\"),\n",
    "                                    width=2. * u.deg, height=4. * u.deg,\n",
    "                                    angle=50 * u.deg)\n",
    "on_ellipse_annulus = EllipseAnnulusSkyRegion(center=crab_pos,\n",
    "                                               inner_width=1.5 * u.deg,\n",
    "                                               outer_width=2.5 * u.deg,\n",
    "                                               inner_height=3 * u.deg,\n",
    "                                               outer_height=4 * u.deg,\n",
    "                                               angle=130 * u.deg)\n",
    "exclusion_mask.plot();\n",
    "on_circle.to_pixel(exclusion_mask.geom.wcs).plot();\n",
    "on_rectangle.to_pixel(exclusion_mask.geom.wcs).plot();\n",
    "on_ellipse_annulus.to_pixel(exclusion_mask.geom.wcs).plot();"
   ]
  },
  {
   "cell_type": "markdown",
   "metadata": {},
   "source": [
    "Such geometrical shapes can be use to add a region in the Exclusion Region map built before with the GammaCat catalog."
   ]
  },
  {
   "cell_type": "code",
   "execution_count": null,
   "metadata": {},
   "outputs": [],
   "source": [
    "exc_region = RectangleSkyRegion(center=SkyCoord(80.3,22.0,unit=\"deg\"),\n",
    "                                    width=1.2 * u.deg, height=0.4 * u.deg,\n",
    "                                    angle=0 * u.deg)\n",
    "regions.append(exc_region)\n",
    "exclusion_mask.data = exclusion_mask.geom.region_mask(regions, inside=False)\n",
    "exclusion_mask.plot(add_cbar=True);"
   ]
  },
  {
   "cell_type": "markdown",
   "metadata": {},
   "source": [
    "## Configure the analysis\n",
    "\n",
    "Now we'll define the input for the ReflectedBkg analysis. It will be done the python way, i.e. by creating a config dict containing python objects."
   ]
  },
  {
   "cell_type": "code",
   "execution_count": null,
   "metadata": {},
   "outputs": [],
   "source": [
    "print(\"\\nCrab coordinates: {}\".format(crab_pos))\n",
    "rectangle_sky = RectangleSkyRegion(center=crab_pos,\n",
    "                                    width=0.5 * u.deg, height=0.4 * u.deg,\n",
    "                                    angle=0 * u.deg)\n",
    "config = dict(\n",
    "    outdir=\".\",\n",
    "    background=dict(\n",
    "        on_region=rectangle_sky,\n",
    "        exclusion_mask=exclusion_mask,\n",
    "        min_distance=0.1 * u.rad,\n",
    "    )\n",
    ")\n",
    "background_estimator = ReflectedRegionsBackgroundEstimator(\n",
    "            observations=observations, **config[\"background\"])"
   ]
  },
  {
   "cell_type": "markdown",
   "metadata": {},
   "source": [
    "## Result of the analysis"
   ]
  },
  {
   "cell_type": "markdown",
   "metadata": {},
   "source": [
    "Let's run the maker, look at the reflected regions used to estimate the Bkg and print the final statistics"
   ]
  },
  {
   "cell_type": "code",
   "execution_count": null,
   "metadata": {},
   "outputs": [],
   "source": [
    "background_estimator.run()"
   ]
  },
  {
   "cell_type": "code",
   "execution_count": null,
   "metadata": {},
   "outputs": [],
   "source": [
    "background_estimator.plot();"
   ]
  },
  {
   "cell_type": "code",
   "execution_count": null,
   "metadata": {},
   "outputs": [],
   "source": [
    "on_s = 0\n",
    "off_s = 0\n",
    "a_on_s = 0\n",
    "a_off_s = 0\n",
    "for obs_result in background_estimator.result:\n",
    "    on_s += len(obs_result.on_events.table)\n",
    "    off_s += len(obs_result.off_events.table)\n",
    "    a_on_s += obs_result.a_on\n",
    "    a_off_s += obs_result.a_off\n",
    "    print(obs_result)\n",
    "    print(\"\\n\")\n",
    "\n",
    "alpha = a_on_s/a_off_s\n",
    "excess = on_s - off_s*alpha\n",
    "sigma = significance_on_off(on_s, off_s, alpha)\n",
    "print(\"\\n Total ON : {0} | Total OFF : {1} | Alpha : {2:.4f}\".format(on_s, off_s, alpha))\n",
    "print(\" Total Excess : {0:.2f} | Sigma = {1:.2f}\".format(excess, sigma))"
   ]
  },
  {
   "cell_type": "markdown",
   "metadata": {},
   "source": [
    "## Features associated to the 'ON region'\n"
   ]
  },
  {
   "cell_type": "markdown",
   "metadata": {},
   "source": [
    "As seen in the previous plot, the refelcted regions seem to be here defined in the RA-DEC frame (on the sphere). In fact, there are built on the tangential plane to the pointing direction (thus on the plane).\n",
    "\n",
    "Let's now precise an interesting feature. In the constructor of the ON region, called here 'rectangle_sky', the definition of 'width', 'height' and 'angle' is made on the frame of the 'center', ie the rectangle is aligned to the axes of the center's frame.\n",
    "So, if the center is defined in the galactic frame, the orientation of the rectangle will be different. The ON region will be different."
   ]
  },
  {
   "cell_type": "code",
   "execution_count": null,
   "metadata": {},
   "outputs": [],
   "source": [
    "rectangle_radec = RectangleSkyRegion(center=crab_pos,\n",
    "                                    width=0.5 * u.deg, height=0.4 * u.deg,\n",
    "                                    angle=0 * u.deg)\n",
    "rectangle_gal = RectangleSkyRegion(center=crab_pos.transform_to('galactic'),\n",
    "                                    width=0.5 * u.deg, height=0.4 * u.deg,\n",
    "                                    angle=0 * u.deg)\n",
    "plt.figure(figsize=(20,40))\n",
    "\n",
    "ax1 = plt.subplot(131, projection=exclusion_mask.geom.wcs)\n",
    "exclusion_mask.plot(ax=ax1);\n",
    "rectangle_radec.to_pixel(exclusion_mask.geom.wcs).plot(color='blue', ax=ax1);\n",
    "\n",
    "gal_wcs_geom = WcsGeom.create(\n",
    "    binsz=0.02, width=exclusion_mask.geom.width, skydir=exclusion_mask.geom.center_skydir, coordsys=\"GAL\")\n",
    "ax2 = plt.subplot(132, projection=gal_wcs_geom.wcs)\n",
    "gal_exclusion_mask = exclusion_mask.reproject(gal_wcs_geom)\n",
    "gal_exclusion_mask.plot(ax=ax2);\n",
    "rectangle_gal.to_pixel(gal_wcs_geom.wcs).plot(ax=ax2);\n",
    "\n",
    "ax3 = plt.subplot(133, projection=gal_wcs_geom.wcs)\n",
    "gal_exclusion_mask_2 = exclusion_mask.reproject(gal_wcs_geom).cutout(exclusion_mask.geom.center_skydir, Angle('2deg'))\n",
    "gal_exclusion_mask_2.plot(ax=ax3);\n",
    "rectangle_radec.to_pixel(gal_exclusion_mask_2.geom.wcs).plot(color='blue', ax=ax3);\n",
    "rectangle_gal.to_pixel(gal_exclusion_mask_2.geom.wcs).plot(ax=ax3);"
   ]
  },
  {
   "cell_type": "markdown",
   "metadata": {},
   "source": [
    "So, let's run the ReflectedBkg class with a RectangleSkyRegion defined in the GAL frame and compare the results."
   ]
  },
  {
   "cell_type": "code",
   "execution_count": null,
   "metadata": {},
   "outputs": [],
   "source": [
    "gal_rectangle_sky = RectangleSkyRegion(center=crab_pos.transform_to('galactic'),\n",
    "                                    width=0.5 * u.deg, height=0.4 * u.deg,\n",
    "                                    angle=0 * u.deg)\n",
    "config = dict(\n",
    "    outdir=\".\",\n",
    "    background=dict(\n",
    "        on_region = gal_rectangle_sky,\n",
    "        exclusion_mask=exclusion_mask,\n",
    "        min_distance=0.1 * u.rad,\n",
    "    )\n",
    ")\n",
    "gal_background_estimator = ReflectedRegionsBackgroundEstimator(\n",
    "            observations=observations, **config[\"background\"]\n",
    "        )\n",
    "gal_background_estimator.run()\n",
    "gal_background_estimator.plot();\n",
    "on_s = 0\n",
    "off_s = 0\n",
    "a_on_s = 0\n",
    "a_off_s = 0\n",
    "for obs_result in gal_background_estimator.result:\n",
    "    on_s += len(obs_result.on_events.table)\n",
    "    off_s += len(obs_result.off_events.table)\n",
    "    a_on_s += obs_result.a_on\n",
    "    a_off_s += obs_result.a_off\n",
    "\n",
    "alpha = a_on_s/a_off_s\n",
    "excess = on_s - off_s*alpha\n",
    "sigma = significance_on_off(on_s, off_s, alpha)\n",
    "print(\"\\n Total ON : {0} | Total OFF : {1} | Alpha : {2:.4f}\".format(on_s, off_s, alpha))\n",
    "print(\" Total Excess : {0:.2f} | Sigma = {1:.2f}\".format(excess, sigma))"
   ]
  },
  {
   "cell_type": "markdown",
   "metadata": {},
   "source": [
    "Compared to the previous results [Total ON : 1345 | Total OFF : 2252 | Alpha : 0.1333\n",
    " Total Excess : 1044.73 | Sigma = 39.56], all the statistics are logically slightly different.\n",
    " \n",
    " __Summary of the features:__\n",
    " 1. The ReflectedBackground class admits now several shapes for the ON region (or test region)\n",
    " 2. The reflected regions are computed for each observation in the tangential frame centered on observation position and based on the frame of the center of the ON region\n",
    " 3. The ON region is always defined in the frame the center of the region (in particular its orientation), which leads to results of The ReflectedBackground class depending of the frame of the center of the region"
   ]
  },
  {
   "cell_type": "code",
   "execution_count": null,
   "metadata": {},
   "outputs": [],
   "source": []
  }
 ],
 "metadata": {
  "kernelspec": {
   "display_name": "Python 3",
   "language": "python",
   "name": "python3"
  },
  "language_info": {
   "codemirror_mode": {
    "name": "ipython",
    "version": 3
   },
   "file_extension": ".py",
   "mimetype": "text/x-python",
   "name": "python",
   "nbconvert_exporter": "python",
   "pygments_lexer": "ipython3",
   "version": "3.6.5"
  }
 },
 "nbformat": 4,
 "nbformat_minor": 2
}
