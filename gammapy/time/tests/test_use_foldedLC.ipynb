{
 "cells": [
  {
   "cell_type": "code",
   "execution_count": 1,
   "metadata": {},
   "outputs": [],
   "source": [
    "import numpy as np\n",
    "import astropy\n",
    "import gammapy\n",
    "from gammapy.time import LightCurve, LightCurveEstimator\n",
    "from gammapy.spectrum import (\n",
    "    models, SpectrumExtraction, SpectrumObservationList, SpectrumFit, SpectrumResult,\n",
    "    SpectrumEnergyGroupMaker, FluxPointEstimator,\n",
    ")\n",
    "from gammapy.utils.energy import EnergyBounds\n",
    "import astropy.units as u\n",
    "from gammapy.image import SkyImage, IACTBasicImageEstimator\n",
    "from gammapy.background import RingBackgroundEstimator, ReflectedRegionsBackgroundEstimator\n",
    "from regions import CircleSkyRegion\n",
    "from astropy.coordinates import SkyCoord"
   ]
  },
  {
   "cell_type": "code",
   "execution_count": 2,
   "metadata": {},
   "outputs": [],
   "source": [
    "import gammapy\n",
    "from gammapy.data import DataStore\n",
    "%matplotlib inline\n",
    "import matplotlib.pyplot as plt"
   ]
  },
  {
   "cell_type": "markdown",
   "metadata": {},
   "source": [
    "# Loading 1DC GPS data"
   ]
  },
  {
   "cell_type": "code",
   "execution_count": 3,
   "metadata": {},
   "outputs": [],
   "source": [
    "import os\n",
    "os.environ['CTADATA'] = '/photon1/users/labsaha/gammapy_analysis/data/1dc/'\n",
    "data_store = DataStore.from_dir('$CTADATA/index/gps')\n",
    "table = data_store.obs_table"
   ]
  },
  {
   "cell_type": "markdown",
   "metadata": {},
   "source": [
    "# Selecting Data "
   ]
  },
  {
   "cell_type": "code",
   "execution_count": 4,
   "metadata": {},
   "outputs": [],
   "source": [
    "table = data_store.obs_table\n",
    "pos_obs = SkyCoord(table['GLON_PNT'], table['GLAT_PNT'], frame='galactic', unit='deg')\n",
    "\n",
    "Radius = 3.5 \n",
    "lon_source = 135.6753 \n",
    "lat_source = +01.0861 \n",
    "\n",
    "pos_target = SkyCoord(lon_source, lat_source, frame='galactic', unit='deg')\n",
    "offset = pos_target.separation(pos_obs).deg\n",
    "#mask = (1 < offset) & (offset < 2)\n",
    "mask = offset < Radius\n",
    "table = table[mask]\n",
    "\n",
    "\n",
    "obs_ids = table['OBS_ID']\n",
    "obs_list = data_store.obs_list(obs_ids)\n"
   ]
  },
  {
   "cell_type": "code",
   "execution_count": 5,
   "metadata": {},
   "outputs": [
    {
     "ename": "SyntaxError",
     "evalue": "invalid syntax (<ipython-input-5-70abd24f8521>, line 1)",
     "output_type": "error",
     "traceback": [
      "\u001b[0;36m  File \u001b[0;32m\"<ipython-input-5-70abd24f8521>\"\u001b[0;36m, line \u001b[0;32m1\u001b[0m\n\u001b[0;31m    __To define on regions and off regions__\u001b[0m\n\u001b[0m              ^\u001b[0m\n\u001b[0;31mSyntaxError\u001b[0m\u001b[0;31m:\u001b[0m invalid syntax\n"
     ]
    }
   ],
   "source": [
    "__To define on regions and off regions__"
   ]
  },
  {
   "cell_type": "code",
   "execution_count": null,
   "metadata": {},
   "outputs": [],
   "source": [
    "on_radius = 0.6 * u.deg\n",
    "on_region = CircleSkyRegion(center=pos_target, radius=on_radius)\n",
    "\n",
    "off_regions=[]\n",
    "\n",
    "circle = CircleSkyRegion(center=SkyCoord(135.6753,01.0861,unit='deg',frame='fk5'),radius=0.15 *u.deg)\n",
    "\n",
    "off_regions.append(circle)\n",
    "    \n",
    "# Exclusion regions\n",
    "# Define reference image centered on the target\n",
    "\n",
    "xref = pos_target.galactic.l.value\n",
    "yref = pos_target.galactic.b.value\n",
    "size = 7 * u.deg\n",
    "binsz = 0.025 # degree per pixel\n",
    "npix = int((size / binsz).value)\n",
    "\n",
    "ref_image = SkyImage.empty(\n",
    "         nxpix=npix, nypix=npix, binsz=binsz,\n",
    "         xref=xref, yref=yref,\n",
    "         proj='TAN', coordsys='GAL',\n",
    "         )\n",
    "print(ref_image)\n",
    "exclusion_mask = ref_image.region_mask(on_region)\n",
    "\n",
    "print(offset)\n",
    "exclusion_mask.data = 1 - exclusion_mask.data\n",
    "for off in off_regions:\n",
    "        exclusion_mask.data -= ref_image.region_mask(off)\n",
    "\n",
    "# To plot the exclusion mask  \n",
    "#exclusion_mask.plot(add_cbar=True)\n",
    "\n",
    "model = models.PowerLaw(\n",
    "                    index=2. * u.Unit(''),\n",
    "                    amplitude=1e-12 * u.Unit('cm-2 s-1 TeV-1'),\n",
    "                    reference=1. * u.Unit('TeV')\n",
    "\n",
    "                    )\n"
   ]
  },
  {
   "cell_type": "markdown",
   "metadata": {},
   "source": [
    "# To calculate fluxes at different phases using a PhaseCurve class function"
   ]
  },
  {
   "cell_type": "code",
   "execution_count": null,
   "metadata": {},
   "outputs": [],
   "source": [
    "# Calling PhaseCurve class \n",
    "from test_models_foldedLC import PhaseCurve\n",
    "\n",
    "#period of the binary\n",
    "period = 26.496\n",
    "\n",
    "# Reference MJD value where orbital phase of the binary is considered zero \n",
    "T0 = 43366.275\n",
    "\n",
    "a = PhaseCurve(obs_list,period,T0,model,energy_range = [0.1,60]*u.TeV)\n",
    "table = a.phase_to_obs(table)\n",
    "obs_ids = a.phasewise_obs_list(table)\n",
    "\n",
    "flux = np.zeros(10)\n",
    "flux_err = np.zeros(10)\n",
    "\n",
    "for i in range(10):\n",
    "    if len(obs_ids[i]) > 1:\n",
    "        obs_list = data_store.obs_list(obs_ids[i])\n",
    "\n",
    "        lc = a.evaluate_flux(obs_list,on_region,exclusion_mask)\n",
    "        flux[i] = lc['FLUX'][0].value\n",
    "        flux_err[i] = lc['FLUX_ERR'][0].value"
   ]
  },
  {
   "cell_type": "code",
   "execution_count": null,
   "metadata": {},
   "outputs": [],
   "source": [
    "print(flux,flux_err)"
   ]
  }
 ],
 "metadata": {
  "kernelspec": {
   "display_name": "Python 3",
   "language": "python",
   "name": "python3"
  },
  "language_info": {
   "codemirror_mode": {
    "name": "ipython",
    "version": 3
   },
   "file_extension": ".py",
   "mimetype": "text/x-python",
   "name": "python",
   "nbconvert_exporter": "python",
   "pygments_lexer": "ipython3",
   "version": "3.5.4"
  }
 },
 "nbformat": 4,
 "nbformat_minor": 2
}
