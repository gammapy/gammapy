{
 "cells": [
  {
   "cell_type": "markdown",
   "metadata": {},
   "source": [
    "# CTA with Gammapy\n",
    "\n",
    "## Introduction\n",
    "\n",
    "The [Cherenkov Telescope Array (CTA)](https://www.cta-observatory.org/) is the next generation ground-based observatory for gamma-ray astronomy.\n",
    "Gammapy is a prototype for the Cherenkov Telescope Array (CTA) science tools ([2017ICRC...35..766D](https://ui.adsabs.harvard.edu/abs/2017ICRC...35..766D)).\n",
    "\n",
    "CTA will start taking data in the coming years. For now, to learn how to analyse CTA data and to use Gammapy, if you are a member of the CTA consortium, you can use the simulated dataset from the CTA first data challenge which ran in 2017 and 2018.\n",
    "\n",
    "- https://forge.in2p3.fr/projects/data-challenge-1-dc-1/wiki (CTA internal)\n",
    "\n",
    "Gammapy fully supports the FITS data formats (events, IRFs) used in CTA 1DC. The XML sky model format is not supported, but are also not needed to analyse the data, you have to specify your model via the Gammapy YAML model format, or Python code, as shown below.\n",
    "\n",
    "You can use Gammapy to simulate CTA data and evaluate CTA performance using the CTA response files available here:\n",
    "\n",
    "- https://www.cta-observatory.org/science/cta-performance/\n",
    "\n",
    "The current FITS format `CTA-Performance-prod3b-v2-FITS.tar` is fully supported by Gammapy, as shown below.\n",
    "\n",
    "## Tutorial overview\n",
    "\n",
    "This notebook shows how to access CTA data and instrument response functions (IRFs) using Gammapy, and gives some examples how to quick look the content of CTA files, especially to see the shape of CTA IRFs.\n",
    "\n",
    "At the end of the notebooks, we give several links to other tutorial notebooks that show how to simulate CTA data and how to evaluate CTA observability and sensitivity, or how to analyse CTA data.\n",
    "\n",
    "Note that the FITS data and IRF format currently used by CTA is the one documented at https://gamma-astro-data-formats.readthedocs.io/, and is also used by H.E.S.S. and other imaging atmospheric Cherenkov telescopes (IACTs). So if you see other Gammapy tutorials using e.g. H.E.S.S. example data, know that they also apply to CTA, all you have to do is to change the loaded data or IRFs to CTA.\n",
    "\n",
    "## Setup"
   ]
  },
  {
   "cell_type": "code",
   "execution_count": null,
   "metadata": {},
   "outputs": [],
   "source": [
    "%matplotlib inline\n",
    "import matplotlib.pyplot as plt"
   ]
  },
  {
   "cell_type": "code",
   "execution_count": null,
   "metadata": {},
   "outputs": [],
   "source": [
    "import numpy as np\n",
    "import astropy\n",
    "import gammapy\n",
    "\n",
    "print(\"numpy:\", np.__version__)\n",
    "print(\"astropy:\", astropy.__version__)\n",
    "print(\"gammapy:\", gammapy.__version__)"
   ]
  },
  {
   "cell_type": "code",
   "execution_count": null,
   "metadata": {},
   "outputs": [],
   "source": [
    "from astropy import units as u\n",
    "from gammapy.data import DataStore, EventList\n",
    "from gammapy.irf import EffectiveAreaTable2D, load_cta_irfs"
   ]
  },
  {
   "cell_type": "markdown",
   "metadata": {},
   "source": [
    "## CTA 1DC\n",
    "\n",
    "The CTA first data challenge (1DC) ran in 2017 and 2018. It is described in detail [here](https://forge.in2p3.fr/projects/data-challenge-1-dc-1/wiki) and a description of the data and how to download it is [here](https://forge.in2p3.fr/projects/data-challenge-1-dc-1/wiki#Data-access).\n",
    "\n",
    "You should download `caldb.tar.gz` (1.2 MB), `models.tar.gz` (0.9 GB), `index.tar.gz` (0.5 MB), as well as optionally the simulated survey data you are interested in: Galactic plane survey `gps.tar.gz` (8.3 GB), Galactic center `gc.tar.gz` (4.4 MB), Extragalactic survey `egal.tar.gz` (2.5 GB), AGN monitoring `agn.wobble.tar.gz` (4.7 GB). After download, follow the instructions how to `untar` the files, and set a `CTADATA` environment variable to point to the data.\n",
    "\n",
    "For convenience, since the 1DC data files are large, and not publicly available to anyone, we have taken a tiny subset of the CTA 1DC data, four observations with the southern array from the GPS survey, pointing near the Galactic center, and included them at `$GAMMAPY_DATA/cta-1dc` which you get via `gammapy download tutorials`.\n",
    "\n",
    "### Files\n",
    "\n",
    "Next we will show a quick overview of the files and how to load them, and some quick look plots showing the shape of the CTA IRFs. How to do CTA simulations and analyses is shown in other tutorials, see links at the end of this notebook."
   ]
  },
  {
   "cell_type": "code",
   "execution_count": null,
   "metadata": {},
   "outputs": [],
   "source": [
    "!ls -1 $GAMMAPY_DATA/cta-1dc"
   ]
  },
  {
   "cell_type": "code",
   "execution_count": null,
   "metadata": {},
   "outputs": [],
   "source": [
    "!ls -1 $GAMMAPY_DATA/cta-1dc/data/baseline/gps"
   ]
  },
  {
   "cell_type": "code",
   "execution_count": null,
   "metadata": {},
   "outputs": [],
   "source": [
    "!ls -1 $GAMMAPY_DATA/cta-1dc/caldb/data/cta/1dc/bcf/South_z20_50h"
   ]
  },
  {
   "cell_type": "code",
   "execution_count": null,
   "metadata": {},
   "outputs": [],
   "source": [
    "!ls -1 $GAMMAPY_DATA/cta-1dc/index/gps"
   ]
  },
  {
   "cell_type": "markdown",
   "metadata": {},
   "source": [
    "### Datastore\n",
    "\n",
    "You can use the `~gammapy.data.DataStore` to load via the index files"
   ]
  },
  {
   "cell_type": "code",
   "execution_count": null,
   "metadata": {},
   "outputs": [],
   "source": [
    "data_store = DataStore.from_dir(\"$GAMMAPY_DATA/cta-1dc/index/gps\")\n",
    "data_store"
   ]
  },
  {
   "cell_type": "code",
   "execution_count": null,
   "metadata": {},
   "outputs": [],
   "source": [
    "data_store.obs_table[[\"OBS_ID\", \"GLON_PNT\", \"GLAT_PNT\", \"IRF\"]]"
   ]
  },
  {
   "cell_type": "code",
   "execution_count": null,
   "metadata": {},
   "outputs": [],
   "source": [
    "observation = data_store.obs(110380)\n",
    "observation"
   ]
  },
  {
   "cell_type": "markdown",
   "metadata": {},
   "source": [
    "## Events\n",
    "\n",
    "We can load events data via the data store and observation, or equivalently via the `~gammapy.data.EventList` class by specifying the EVENTS filename.\n",
    "\n",
    "The quick-look `events.peek()` plot below shows that CTA has a field of view of a few degrees, and two energy thresholds, one significantly below 100 GeV where the CTA large-size telescopes (LSTs) detect events, and a second one near 100 GeV where teh mid-sized telescopes (MSTs) start to detect events.\n",
    "\n",
    "Note that most events are \"hadronic background\" due to cosmic ray showers in the atmosphere that pass the gamma-hadron selection cuts for this analysis configuration. Since this is simulated data, column `MC_ID` is available that gives an emission component identifier code, and the EVENTS header in `events.table.meta` can be used to look up which `MC_ID` corresponds to which emission component."
   ]
  },
  {
   "cell_type": "code",
   "execution_count": null,
   "metadata": {},
   "outputs": [],
   "source": [
    "events = observation.events\n",
    "events"
   ]
  },
  {
   "cell_type": "code",
   "execution_count": null,
   "metadata": {},
   "outputs": [],
   "source": [
    "events = EventList.read(\n",
    "    \"$GAMMAPY_DATA/cta-1dc/data/baseline/gps/gps_baseline_110380.fits\"\n",
    ")\n",
    "events"
   ]
  },
  {
   "cell_type": "code",
   "execution_count": null,
   "metadata": {},
   "outputs": [],
   "source": [
    "events.table[:5]"
   ]
  },
  {
   "cell_type": "code",
   "execution_count": null,
   "metadata": {
    "nbsphinx-thumbnail": {
     "tooltip": "Access and inspect CTA data and instrument response functions (IRFs) using Gammapy."
    }
   },
   "outputs": [],
   "source": [
    "events.peek()"
   ]
  },
  {
   "cell_type": "markdown",
   "metadata": {},
   "source": [
    "## IRFs\n",
    "\n",
    "The CTA instrument reponse functions (IRFs) are given as FITS files in the `caldb` folder, the following IRFs are available:\n",
    "\n",
    "- effective area\n",
    "- energy dispersion\n",
    "- point spread function\n",
    "- background\n",
    "\n",
    "Notes:\n",
    "\n",
    "- The IRFs contain the energy and offset dependence of the CTA reponse\n",
    "- CTA 1DC was based on an early version of the CTA FITS responses produced in 2017, improvements have been made since.\n",
    "- The point spread function was approximated by a Gaussian shape\n",
    "- The background is from hadronic and electron air shower events that pass CTA selection cuts. It was given as a function of field of view coordinates, although it is radially symmetric.\n",
    "- The energy dispersion in CTA 1DC is noisy at low energy, leading to unreliable spectral points for some analyses.\n",
    "- The CTA 1DC response files have the first node at field of view offset 0.5 deg, so to get the on-axis response at offset 0 deg, Gammapy has to extrapolate. Furthermore, because diffuse gamma-rays in the FOV were used to derive the IRFs, and the solid angle at small FOV offset circles is small, the IRFs at the center of the FOV are somewhat noisy. This leads to unstable analysis and simulation issues when using the DC1 IRFs for some analyses."
   ]
  },
  {
   "cell_type": "code",
   "execution_count": null,
   "metadata": {},
   "outputs": [],
   "source": [
    "observation.aeff"
   ]
  },
  {
   "cell_type": "code",
   "execution_count": null,
   "metadata": {},
   "outputs": [],
   "source": [
    "irf_filename = (\n",
    "    \"$GAMMAPY_DATA/cta-1dc/caldb/data/cta/1dc/bcf/South_z20_50h/irf_file.fits\"\n",
    ")\n",
    "irfs = load_cta_irfs(irf_filename)\n",
    "irfs"
   ]
  },
  {
   "cell_type": "markdown",
   "metadata": {},
   "source": [
    "### Effective area"
   ]
  },
  {
   "cell_type": "code",
   "execution_count": null,
   "metadata": {},
   "outputs": [],
   "source": [
    "# Equivalent alternative way to load IRFs directly\n",
    "aeff = EffectiveAreaTable2D.read(irf_filename, hdu=\"EFFECTIVE AREA\")\n",
    "aeff"
   ]
  },
  {
   "cell_type": "code",
   "execution_count": null,
   "metadata": {},
   "outputs": [],
   "source": [
    "irfs[\"aeff\"].peek()"
   ]
  },
  {
   "cell_type": "code",
   "execution_count": null,
   "metadata": {},
   "outputs": [],
   "source": [
    "# What is the on-axis effective area at 10 TeV?\n",
    "aeff.evaluate(energy_true=\"10 TeV\", offset=\"0 deg\").to(\"km2\")"
   ]
  },
  {
   "cell_type": "markdown",
   "metadata": {},
   "source": [
    "### Energy dispersion\n"
   ]
  },
  {
   "cell_type": "code",
   "execution_count": null,
   "metadata": {},
   "outputs": [],
   "source": [
    "irfs[\"edisp\"].peek()"
   ]
  },
  {
   "cell_type": "markdown",
   "metadata": {},
   "source": [
    "### Point spread function\n"
   ]
  },
  {
   "cell_type": "code",
   "execution_count": null,
   "metadata": {},
   "outputs": [],
   "source": [
    "irfs[\"psf\"].peek()"
   ]
  },
  {
   "cell_type": "code",
   "execution_count": null,
   "metadata": {},
   "outputs": [],
   "source": [
    "# This is how for analysis you could slice out the PSF\n",
    "# at a given field of view offset\n",
    "irfs[\"psf\"].plot_containment_radius_vs_energy(offset=[1] * u.deg, fraction=[0.68, 0.8, 0.95]);"
   ]
  },
  {
   "cell_type": "markdown",
   "metadata": {},
   "source": [
    "### Background\n",
    "\n",
    "The background is given as a rate in units `MeV-1 s-1 sr-1`."
   ]
  },
  {
   "cell_type": "code",
   "execution_count": null,
   "metadata": {},
   "outputs": [],
   "source": [
    "irfs[\"bkg\"].peek()"
   ]
  },
  {
   "cell_type": "code",
   "execution_count": null,
   "metadata": {},
   "outputs": [],
   "source": [
    "irfs[\"bkg\"].evaluate(energy=\"3 TeV\", fov_lon=\"1 deg\", fov_lat=\"0 deg\")"
   ]
  },
  {
   "cell_type": "markdown",
   "metadata": {},
   "source": [
    "## Source models\n",
    "\n",
    "The 1DC sky model is distributed as a set of XML files, which in turn link to a ton of other FITS and text files. Gammapy doesn't support this XML model file format. We are currently developing a YAML based format that improves upon the XML format, to be easier to write and read, add relevant information (units for physical quantities), and omit useless information (e.g. parameter scales in addition to values).\n",
    "\n",
    "If you must or want to read the XML model files, you can use e.g. [ElementTree](https://docs.python.org/3/library/xml.etree.elementtree.html) from the Python standard library, or [xmltodict](https://github.com/martinblech/xmltodict) if you `pip install xmltodict`. Here's an example how to load the information for a given source, and to convert it into the sky model format Gammapy understands."
   ]
  },
  {
   "cell_type": "code",
   "execution_count": null,
   "metadata": {},
   "outputs": [],
   "source": [
    "# This is what the XML file looks like\n",
    "# !tail -n 20 $CTADATA/models/models_gps.xml"
   ]
  },
  {
   "cell_type": "code",
   "execution_count": null,
   "metadata": {},
   "outputs": [],
   "source": [
    "# TODO: write this example!\n",
    "\n",
    "# Read XML file and access spectrum parameters\n",
    "# from gammapy.extern import xmltodict\n",
    "\n",
    "# filename = os.path.join(os.environ[\"CTADATA\"], \"models/models_gps.xml\")\n",
    "# data = xmltodict.parse(open(filename).read())\n",
    "# data = data[\"source_library\"][\"source\"][-1]\n",
    "# data = data[\"spectrum\"][\"parameter\"]\n",
    "# data"
   ]
  },
  {
   "cell_type": "code",
   "execution_count": null,
   "metadata": {},
   "outputs": [],
   "source": [
    "# Create a spectral model the the right units\n",
    "# from astropy import units as u\n",
    "# from gammapy.modeling.models import PowerLawSpectralModel\n",
    "\n",
    "# par_to_val = lambda par: float(par[\"@value\"]) * float(par[\"@scale\"])\n",
    "# spec = PowerLawSpectralModel(\n",
    "#     amplitude=par_to_val(data[0]) * u.Unit(\"cm-2 s-1 MeV-1\"),\n",
    "#     index=par_to_val(data[1]),\n",
    "#     reference=par_to_val(data[2]) * u.Unit(\"MeV\"),\n",
    "# )\n",
    "# print(spec)"
   ]
  },
  {
   "cell_type": "markdown",
   "metadata": {},
   "source": [
    "## CTA performance files\n",
    "\n",
    "CTA 1DC is useful to learn how to analyse CTA data. But to do simulations and studies for CTA now, you should get the most recent CTA IRFs in FITS format from https://www.cta-observatory.org/science/cta-performance/\n",
    "\n",
    "If you want to run the download and examples in the next code cells, remove the # to uncomment."
   ]
  },
  {
   "cell_type": "code",
   "execution_count": null,
   "metadata": {},
   "outputs": [],
   "source": [
    "# !curl -O https://www.cta-observatory.org/wp-content/uploads/2019/04/CTA-Performance-prod3b-v2-FITS.tar.gz"
   ]
  },
  {
   "cell_type": "code",
   "execution_count": null,
   "metadata": {},
   "outputs": [],
   "source": [
    "# !tar xf CTA-Performance-prod3b-v2-FITS.tar.gz"
   ]
  },
  {
   "cell_type": "code",
   "execution_count": null,
   "metadata": {},
   "outputs": [],
   "source": [
    "# !ls caldb/data/cta/prod3b-v2/bcf"
   ]
  },
  {
   "cell_type": "code",
   "execution_count": null,
   "metadata": {},
   "outputs": [],
   "source": [
    "# irfs1 = load_cta_irfs(\"caldb/data/cta/prod3b-v2/bcf/South_z20_50h/irf_file.fits\")\n",
    "# irfs1[\"aeff\"].plot_energy_dependence()"
   ]
  },
  {
   "cell_type": "code",
   "execution_count": null,
   "metadata": {},
   "outputs": [],
   "source": [
    "# irfs2 = load_cta_irfs(\"caldb/data/cta/prod3b-v2/bcf/South_z40_50h/irf_file.fits\")\n",
    "# irfs2[\"aeff\"].plot_energy_dependence()"
   ]
  },
  {
   "cell_type": "markdown",
   "metadata": {},
   "source": [
    "## Exercises\n",
    "\n",
    "* Load the EVENTS file for `obs_id=111159` as a `~gammapy.data.EventList` object.\n",
    "* Use `events.table` to find the energy, sky coordinate and time of the highest-energy envent.\n",
    "* Use `events.pointing_radec` to find the pointing position of this observation, and use `astropy.coordinates.SkyCoord` methods to find the field of view offset of the highest-energy event.\n",
    "* What is the effective area and PSF 68% containment radius of CTA at 1 TeV for the `South_z20_50h` configuration used for the CTA 1DC simulation?\n",
    "* Get the latest CTA FITS performance files from https://www.cta-observatory.org/science/cta-performance/ and run the code example above. Make an effective area ratio plot of 40 deg zenith versus 20 deg zenith for the `South_z40_50h` and `South_z20_50h` configurations."
   ]
  },
  {
   "cell_type": "code",
   "execution_count": null,
   "metadata": {},
   "outputs": [],
   "source": [
    "# start typing here ..."
   ]
  },
  {
   "cell_type": "markdown",
   "metadata": {},
   "source": [
    "## Next steps\n",
    "\n",
    "* Learn how to analyse data with [analysis_1.ipynb](../starting/analysis_1.ipynb) and [analysis_2.ipynb](../starting/analysis_2.ipynb) or any other Gammapy analysis tutorial.\n",
    "* Learn how to evaluate CTA observability and sensitivity with [simulate_3d.ipynb](../analysis/3D/simulate_3d.ipynb), [spectrum_simulation.ipynb](../analysis/1D/spectrum_simulation.ipynb) or [cta_sensitivity.ipynb](../analysis/1D/cta_sensitivity.ipynb)"
   ]
  },
  {
   "cell_type": "code",
   "execution_count": null,
   "metadata": {},
   "outputs": [],
   "source": []
  }
 ],
 "metadata": {
  "kernelspec": {
   "display_name": "Python 3",
   "language": "python",
   "name": "python3"
  },
  "language_info": {
   "codemirror_mode": {
    "name": "ipython",
    "version": 3
   },
   "file_extension": ".py",
   "mimetype": "text/x-python",
   "name": "python",
   "nbconvert_exporter": "python",
   "pygments_lexer": "ipython3",
   "version": "3.7.0"
  }
 },
 "nbformat": 4,
 "nbformat_minor": 4
}
