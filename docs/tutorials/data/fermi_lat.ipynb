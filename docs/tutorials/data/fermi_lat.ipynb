{
 "cells": [
  {
   "cell_type": "markdown",
   "metadata": {},
   "source": [
    "# Fermi-LAT with Gammapy\n",
    "\n",
    "## Introduction\n",
    "\n",
    "This tutorial will show you how to work with Fermi-LAT data with Gammapy. As an example, we will look at the Galactic center region using the high-energy dataset that was used for the 3FHL catalog, in the energy range 10 GeV to 2 TeV.\n",
    "\n",
    "We note that support for Fermi-LAT data analysis in Gammapy is very limited. For most tasks, we recommend you use \n",
    "[Fermipy](http://fermipy.readthedocs.io/), which is based on the [Fermi Science Tools](https://fermi.gsfc.nasa.gov/ssc/data/analysis/software/) (Fermi ST).\n",
    "\n",
    "Using Gammapy with Fermi-LAT data could be an option for you if you want to do an analysis that is not easily possible with Fermipy and the Fermi Science Tools. For example a joint likelihood fit of Fermi-LAT data with data e.g. from H.E.S.S., MAGIC, VERITAS or some other instrument, or analysis of Fermi-LAT data with a complex spatial or spectral model that is not available in Fermipy or the Fermi ST.\n",
    "\n",
    "Besides Gammapy, you might want to look at are [Sherpa](http://cxc.harvard.edu/sherpa/) or [3ML](https://threeml.readthedocs.io/). Or just using Python to roll your own analyis using several existing analysis packages. E.g. it it possible to use Fermipy and the Fermi ST to evaluate the likelihood on Fermi-LAT data, and Gammapy to evaluate it e.g. for IACT data, and to do a joint likelihood fit using e.g. [iminuit](http://iminuit.readthedocs.io/) or [emcee](http://dfm.io/emcee).\n",
    "\n",
    "To use Fermi-LAT data with Gammapy, you first have to use the Fermi ST to prepare an event list (using ``gtselect`` and ``gtmktime``, exposure cube (using ``gtexpcube2`` and PSF (using ``gtpsf``). You can then use `~gammapy.data.EventList`, `~gammapy.maps` and the `~gammapy.irf.PSFMap` to read the Fermi-LAT maps and PSF, i.e. support for these high level analysis products from the Fermi ST is built in. To do a 3D map analyis, you can use Fit for Fermi-LAT data in the same way that it's use for IACT data. This is illustrated in this notebook. A 1D region-based spectral analysis is also possible, this will be illustrated in a future tutorial.\n",
    "\n",
    "## Setup\n",
    "\n",
    "**IMPORTANT**: For this notebook you have to get the prepared ``3fhl`` dataset provided in your $GAMMAPY_DATA.\n",
    "\n",
    "Note that the ``3fhl`` dataset is high-energy only, ranging from 10 GeV to 2 TeV."
   ]
  },
  {
   "cell_type": "code",
   "execution_count": null,
   "metadata": {},
   "outputs": [],
   "source": [
    "# Check that you have the prepared Fermi-LAT dataset\n",
    "# We will use diffuse models from here\n",
    "!ls -1 $GAMMAPY_DATA/fermi_3fhl"
   ]
  },
  {
   "cell_type": "code",
   "execution_count": null,
   "metadata": {},
   "outputs": [],
   "source": [
    "%matplotlib inline\n",
    "import matplotlib.pyplot as plt"
   ]
  },
  {
   "cell_type": "code",
   "execution_count": null,
   "metadata": {},
   "outputs": [],
   "source": [
    "from astropy import units as u\n",
    "from astropy.coordinates import SkyCoord\n",
    "from gammapy.data import EventList\n",
    "from gammapy.datasets import MapDataset\n",
    "from gammapy.irf import PSFMap, EDispKernelMap\n",
    "from gammapy.maps import Map, MapAxis, WcsGeom\n",
    "from gammapy.modeling.models import (\n",
    "    PowerLawSpectralModel,\n",
    "    PointSpatialModel,\n",
    "    SkyModel,\n",
    "    TemplateSpatialModel,\n",
    "    PowerLawNormSpectralModel,\n",
    "    Models,\n",
    "    create_fermi_isotropic_diffuse_model,\n",
    ")\n",
    "from gammapy.modeling import Fit"
   ]
  },
  {
   "cell_type": "markdown",
   "metadata": {},
   "source": [
    "## Events\n",
    "\n",
    "To load up the Fermi-LAT event list, use the `~gammapy.data.EventList` class:"
   ]
  },
  {
   "cell_type": "code",
   "execution_count": null,
   "metadata": {},
   "outputs": [],
   "source": [
    "events = EventList.read(\n",
    "    \"$GAMMAPY_DATA/fermi_3fhl/fermi_3fhl_events_selected.fits.gz\"\n",
    ")\n",
    "print(events)"
   ]
  },
  {
   "cell_type": "markdown",
   "metadata": {},
   "source": [
    "The event data is stored in a [astropy.table.Table](http://docs.astropy.org/en/stable/api/astropy.table.Table.html) object. In case of the Fermi-LAT event list this contains all the additional information on positon, zenith angle, earth azimuth angle, event class, event type etc."
   ]
  },
  {
   "cell_type": "code",
   "execution_count": null,
   "metadata": {},
   "outputs": [],
   "source": [
    "events.table.colnames"
   ]
  },
  {
   "cell_type": "code",
   "execution_count": null,
   "metadata": {},
   "outputs": [],
   "source": [
    "events.table[:5][[\"ENERGY\", \"RA\", \"DEC\"]]"
   ]
  },
  {
   "cell_type": "code",
   "execution_count": null,
   "metadata": {},
   "outputs": [],
   "source": [
    "print(events.time[0].iso)\n",
    "print(events.time[-1].iso)"
   ]
  },
  {
   "cell_type": "code",
   "execution_count": null,
   "metadata": {},
   "outputs": [],
   "source": [
    "energy = events.energy\n",
    "energy.info(\"stats\")"
   ]
  },
  {
   "cell_type": "markdown",
   "metadata": {},
   "source": [
    "As a short analysis example we will count the number of events above a certain minimum energy: "
   ]
  },
  {
   "cell_type": "code",
   "execution_count": null,
   "metadata": {},
   "outputs": [],
   "source": [
    "for e_min in [10, 100, 1000] * u.GeV:\n",
    "    n = (events.energy > e_min).sum()\n",
    "    print(f\"Events above {e_min:4.0f}: {n:5.0f}\")"
   ]
  },
  {
   "cell_type": "markdown",
   "metadata": {},
   "source": [
    "## Counts\n",
    "\n",
    "Let us start to prepare things for an 3D map analysis of the Galactic center region with Gammapy. The first thing we do is to define the map geometry. We chose a TAN projection centered on position ``(glon, glat) = (0, 0)`` with pixel size 0.1 deg, and four energy bins."
   ]
  },
  {
   "cell_type": "code",
   "execution_count": null,
   "metadata": {},
   "outputs": [],
   "source": [
    "gc_pos = SkyCoord(0, 0, unit=\"deg\", frame=\"galactic\")\n",
    "energy_axis = MapAxis.from_edges(\n",
    "    [1e4, 3e4, 1e5, 3e5, 2e6], name=\"energy\", unit=\"MeV\", interp=\"log\"\n",
    ")\n",
    "counts = Map.create(\n",
    "    skydir=gc_pos,\n",
    "    npix=(100, 80),\n",
    "    proj=\"TAN\",\n",
    "    frame=\"galactic\",\n",
    "    binsz=0.1,\n",
    "    axes=[energy_axis],\n",
    "    dtype=float,\n",
    ")\n",
    "# We put this call into the same Jupyter cell as the Map.create\n",
    "# because otherwise we could accidentally fill the counts\n",
    "# multiple times when executing the ``fill_by_coord`` multiple times.\n",
    "counts.fill_events(events)"
   ]
  },
  {
   "cell_type": "code",
   "execution_count": null,
   "metadata": {},
   "outputs": [],
   "source": [
    "counts.geom.axes[0]"
   ]
  },
  {
   "cell_type": "code",
   "execution_count": null,
   "metadata": {},
   "outputs": [],
   "source": [
    "counts.sum_over_axes().smooth(2).plot(stretch=\"sqrt\", vmax=30);"
   ]
  },
  {
   "cell_type": "markdown",
   "metadata": {},
   "source": [
    "## Exposure\n",
    "\n",
    "The Fermi-LAT datatset contains the energy-dependent exposure for the whole sky as a HEALPix map computed with ``gtexpcube2``. This format is supported by `~gammapy.maps` directly.\n",
    "\n",
    "Interpolating the exposure cube from the Fermi ST to get an exposure cube matching the spatial geometry and energy axis defined above with Gammapy is easy. The only point to watch out for is how exactly you want the energy axis and binning handled.\n",
    "\n",
    "Below we just use the default behaviour, which is linear interpolation in energy on the original exposure cube. Probably log interpolation would be better, but it doesn't matter much here, because the energy binning is fine. Finally, we just copy the counts map geometry, which contains an energy axis with `node_type=\"edges\"`. This is non-ideal for exposure cubes, but again, acceptable because exposure doesn't vary much from bin to bin, so the exact way interpolation occurs in later use of that exposure cube doesn't matter a lot. Of course you could define any energy axis for your exposure cube that you like."
   ]
  },
  {
   "cell_type": "code",
   "execution_count": null,
   "metadata": {},
   "outputs": [],
   "source": [
    "exposure_hpx = Map.read(\n",
    "    \"$GAMMAPY_DATA/fermi_3fhl/fermi_3fhl_exposure_cube_hpx.fits.gz\"\n",
    ")\n",
    "print(exposure_hpx.geom)\n",
    "print(exposure_hpx.geom.axes[0])"
   ]
  },
  {
   "cell_type": "code",
   "execution_count": null,
   "metadata": {},
   "outputs": [],
   "source": [
    "exposure_hpx.plot();"
   ]
  },
  {
   "cell_type": "code",
   "execution_count": null,
   "metadata": {},
   "outputs": [],
   "source": [
    "# For exposure, we choose a geometry with node_type='center',\n",
    "# whereas for counts it was node_type='edge'\n",
    "axis = MapAxis.from_energy_bounds(\"10 GeV\", \"2 TeV\", nbin=10, per_decade=True, name=\"energy_true\",)\n",
    "geom = WcsGeom(wcs=counts.geom.wcs, npix=counts.geom.npix, axes=[axis])\n",
    "\n",
    "exposure = exposure_hpx.interp_to_geom(geom)"
   ]
  },
  {
   "cell_type": "code",
   "execution_count": null,
   "metadata": {},
   "outputs": [],
   "source": [
    "counts.geom.axes[0]"
   ]
  },
  {
   "cell_type": "code",
   "execution_count": null,
   "metadata": {},
   "outputs": [],
   "source": [
    "print(exposure.geom)\n",
    "print(exposure.geom.axes[0])"
   ]
  },
  {
   "cell_type": "code",
   "execution_count": null,
   "metadata": {},
   "outputs": [],
   "source": [
    "# Exposure is almost constant accross the field of view\n",
    "exposure.slice_by_idx({\"energy_true\": 0}).plot(add_cbar=True);"
   ]
  },
  {
   "cell_type": "code",
   "execution_count": null,
   "metadata": {},
   "outputs": [],
   "source": [
    "# Exposure varies very little with energy at these high energies\n",
    "energy = [10, 100, 1000] * u.GeV\n",
    "exposure.get_by_coord({\"skycoord\": gc_pos, \"energy_true\": energy})"
   ]
  },
  {
   "cell_type": "markdown",
   "metadata": {},
   "source": [
    "## Galactic diffuse background"
   ]
  },
  {
   "cell_type": "markdown",
   "metadata": {},
   "source": [
    "The Fermi-LAT collaboration provides a galactic diffuse emission model, that can be used as a background model for\n",
    "Fermi-LAT source analysis.\n",
    "\n",
    "Diffuse model maps are very large (100s of MB), so as an example here, we just load one that represents a small cutout for the Galactic center region."
   ]
  },
  {
   "cell_type": "code",
   "execution_count": null,
   "metadata": {},
   "outputs": [],
   "source": [
    "diffuse_galactic_fermi = Map.read(\n",
    "    \"$GAMMAPY_DATA/fermi-3fhl-gc/gll_iem_v06_gc.fits.gz\"\n",
    ")\n",
    "\n",
    "# Unit is not stored in the file, set it manually\n",
    "diffuse_galactic_fermi.unit = \"cm-2 s-1 MeV-1 sr-1\"\n",
    "print(diffuse_galactic_fermi.geom)\n",
    "\n",
    "print(diffuse_galactic_fermi.geom.axes[0])"
   ]
  },
  {
   "cell_type": "code",
   "execution_count": null,
   "metadata": {},
   "outputs": [],
   "source": [
    "template_diffuse = TemplateSpatialModel(\n",
    "    diffuse_galactic_fermi, normalize=False\n",
    ")"
   ]
  },
  {
   "cell_type": "code",
   "execution_count": null,
   "metadata": {},
   "outputs": [],
   "source": [
    "diffuse_iem = SkyModel(\n",
    "    spectral_model=PowerLawNormSpectralModel(),\n",
    "    spatial_model=template_diffuse,\n",
    "    name=\"diffuse-iem\",\n",
    ")"
   ]
  },
  {
   "cell_type": "markdown",
   "metadata": {},
   "source": [
    "Let's look at the map of first energy band of the cube:"
   ]
  },
  {
   "cell_type": "code",
   "execution_count": null,
   "metadata": {},
   "outputs": [],
   "source": [
    "template_diffuse.map.slice_by_idx({\"energy_true\": 0}).plot(add_cbar=True);"
   ]
  },
  {
   "cell_type": "markdown",
   "metadata": {},
   "source": [
    "Here is the spectrum at the Glaactic center:"
   ]
  },
  {
   "cell_type": "code",
   "execution_count": null,
   "metadata": {},
   "outputs": [],
   "source": [
    "dnde = template_diffuse.map.to_region_nd_map(region=gc_pos)\n",
    "dnde.plot()\n",
    "plt.xlabel(\"Energy (GeV)\")\n",
    "plt.ylabel(\"Flux (cm-2 s-1 MeV-1 sr-1)\");"
   ]
  },
  {
   "cell_type": "markdown",
   "metadata": {},
   "source": [
    "## Isotropic diffuse background\n",
    "\n",
    "To load the isotropic diffuse model with Gammapy, use the `~gammapy.modeling.models.TemplateSpectralModel`. We are using `'fill_value': 'extrapolate'` to extrapolate the model above 500 GeV:"
   ]
  },
  {
   "cell_type": "code",
   "execution_count": null,
   "metadata": {},
   "outputs": [],
   "source": [
    "filename = \"$GAMMAPY_DATA/fermi_3fhl/iso_P8R2_SOURCE_V6_v06.txt\"\n",
    "\n",
    "diffuse_iso = create_fermi_isotropic_diffuse_model(\n",
    "    filename=filename, interp_kwargs={\"fill_value\": None}\n",
    ")"
   ]
  },
  {
   "cell_type": "markdown",
   "metadata": {},
   "source": [
    "We can plot the model in the energy range between 50 GeV and 2000 GeV:"
   ]
  },
  {
   "cell_type": "code",
   "execution_count": null,
   "metadata": {},
   "outputs": [],
   "source": [
    "energy_range = [50, 2000] * u.GeV\n",
    "diffuse_iso.spectral_model.plot(energy_range, flux_unit=\"1 / (cm2 MeV s)\");"
   ]
  },
  {
   "cell_type": "markdown",
   "metadata": {},
   "source": [
    "## PSF\n",
    "\n",
    "Next we will tke a look at the PSF. It was computed using ``gtpsf``, in this case for the Galactic center position. Note that generally for Fermi-LAT, the PSF only varies little within a given regions of the sky, especially at high energies like what we have here. We use the `~gammapy.irf.PSFMap` class to load the PSF and use some of it's methods to get some information about it."
   ]
  },
  {
   "cell_type": "code",
   "execution_count": null,
   "metadata": {},
   "outputs": [],
   "source": [
    "psf = PSFMap.read(\n",
    "    \"$GAMMAPY_DATA/fermi_3fhl/fermi_3fhl_psf_gc.fits.gz\", format=\"gtpsf\"\n",
    ")\n",
    "print(psf)"
   ]
  },
  {
   "cell_type": "markdown",
   "metadata": {},
   "source": [
    "To get an idea of the size of the PSF we check how the containment radii of the Fermi-LAT PSF vari with energy and different containment fractions:"
   ]
  },
  {
   "cell_type": "code",
   "execution_count": null,
   "metadata": {},
   "outputs": [],
   "source": [
    "plt.figure(figsize=(8, 5))\n",
    "psf.plot_containment_radius_vs_energy()\n",
    "plt.show()"
   ]
  },
  {
   "cell_type": "markdown",
   "metadata": {},
   "source": [
    "In addition we can check how the actual shape of the PSF varies with energy and compare it against the mean PSF between 50 GeV and 2000 GeV:"
   ]
  },
  {
   "cell_type": "code",
   "execution_count": null,
   "metadata": {},
   "outputs": [],
   "source": [
    "plt.figure(figsize=(8, 5))\n",
    "\n",
    "energy = [100, 300, 1000] * u.GeV\n",
    "psf.plot_psf_vs_rad(energy_true=energy)\n",
    "\n",
    "spectrum = PowerLawSpectralModel(index=2.3)\n",
    "psf_mean = psf.to_image(spectrum=spectrum)\n",
    "psf_mean.plot_psf_vs_rad(c=\"k\", ls=\"--\", energy_true=[500] * u.GeV)\n",
    "\n",
    "plt.xlim(1e-3, 0.3)\n",
    "plt.ylim(1e3, 1e6)\n",
    "plt.legend();"
   ]
  },
  {
   "cell_type": "code",
   "execution_count": null,
   "metadata": {},
   "outputs": [],
   "source": [
    "psf_kernel = psf.get_psf_kernel(\n",
    "    position=geom.center_skydir, geom=geom, max_radius=\"1 deg\"\n",
    ")\n",
    "psf_kernel.to_image().psf_kernel_map.plot(stretch=\"log\", add_cbar=True);"
   ]
  },
  {
   "cell_type": "markdown",
   "metadata": {},
   "source": [
    "### Energy Dispersion\n",
    "For simplicity we assume a diagonal energy dispersion:"
   ]
  },
  {
   "cell_type": "code",
   "execution_count": null,
   "metadata": {},
   "outputs": [],
   "source": [
    "e_true = exposure.geom.axes[\"energy_true\"]\n",
    "edisp = EDispKernelMap.from_diagonal_response(\n",
    "    energy_axis_true=e_true, energy_axis=energy_axis\n",
    ")"
   ]
  },
  {
   "cell_type": "code",
   "execution_count": null,
   "metadata": {},
   "outputs": [],
   "source": [
    "edisp.get_edisp_kernel().plot_matrix()"
   ]
  },
  {
   "cell_type": "markdown",
   "metadata": {},
   "source": [
    "## Fit\n",
    "Now, the big finale: let’s do a 3D map fit for the source at the Galactic center, to measure it’s position and spectrum. We keep the background normalization free."
   ]
  },
  {
   "cell_type": "code",
   "execution_count": null,
   "metadata": {},
   "outputs": [],
   "source": [
    "spatial_model = PointSpatialModel(\n",
    "    lon_0=\"0 deg\", lat_0=\"0 deg\", frame=\"galactic\"\n",
    ")\n",
    "spectral_model = PowerLawSpectralModel(\n",
    "    index=2.7, amplitude=\"5.8e-10 cm-2 s-1 TeV-1\", reference=\"100 GeV\"\n",
    ")\n",
    "\n",
    "source = SkyModel(\n",
    "    spectral_model=spectral_model,\n",
    "    spatial_model=spatial_model,\n",
    "    name=\"source-gc\",\n",
    ")\n",
    "\n",
    "models = Models([source, diffuse_iem, diffuse_iso])\n",
    "\n",
    "dataset = MapDataset(\n",
    "    models=models, counts=counts, exposure=exposure, psf=psf, edisp=edisp\n",
    ")"
   ]
  },
  {
   "cell_type": "code",
   "execution_count": null,
   "metadata": {},
   "outputs": [],
   "source": [
    "%%time\n",
    "fit = Fit([dataset])\n",
    "result = fit.run()"
   ]
  },
  {
   "cell_type": "code",
   "execution_count": null,
   "metadata": {},
   "outputs": [],
   "source": [
    "print(result)"
   ]
  },
  {
   "cell_type": "code",
   "execution_count": null,
   "metadata": {},
   "outputs": [],
   "source": [
    "print(models)"
   ]
  },
  {
   "cell_type": "code",
   "execution_count": null,
   "metadata": {
    "nbsphinx-thumbnail": {
     "tooltip": "Data inspection and preliminary analysis with Fermi-LAT data."
    }
   },
   "outputs": [],
   "source": [
    "residual = counts - dataset.npred()\n",
    "residual.sum_over_axes().smooth(\"0.1 deg\").plot(\n",
    "    cmap=\"coolwarm\", vmin=-3, vmax=3, add_cbar=True\n",
    ");"
   ]
  },
  {
   "cell_type": "markdown",
   "metadata": {},
   "source": [
    "## Exercises\n",
    "\n",
    "- Fit the position and spectrum of the source [SNR G0.9+0.1](http://gamma-sky.net/#/cat/tev/110).\n",
    "- Make maps and fit the position and spectrum of the [Crab nebula](http://gamma-sky.net/#/cat/tev/25)."
   ]
  },
  {
   "cell_type": "markdown",
   "metadata": {},
   "source": [
    "## Summary\n",
    "\n",
    "In this tutorial you have seen how to work with Fermi-LAT data with Gammapy. You have to use the Fermi ST to prepare the exposure cube and PSF, and then you can use Gammapy for any event or map analysis using the same methods that are used to analyse IACT data.\n",
    "\n",
    "This works very well at high energies (here above 10 GeV), where the exposure and PSF is almost constant spatially and only varies a little with energy. It is not expected to give good results for low-energy data, where the Fermi-LAT PSF is very large. If you are interested to help us validate down to what energy Fermi-LAT analysis with Gammapy works well (e.g. by re-computing results from 3FHL or other published analysis results), or to extend the Gammapy capabilities (e.g. to work with energy-dependent multi-resolution maps and PSF), that would be very welcome!"
   ]
  }
 ],
 "metadata": {
  "kernelspec": {
   "display_name": "Python 3",
   "language": "python",
   "name": "python3"
  },
  "language_info": {
   "codemirror_mode": {
    "name": "ipython",
    "version": 3
   },
   "file_extension": ".py",
   "mimetype": "text/x-python",
   "name": "python",
   "nbconvert_exporter": "python",
   "pygments_lexer": "ipython3",
   "version": "3.7.0"
  },
  "latex_envs": {
   "LaTeX_envs_menu_present": true,
   "autoclose": false,
   "autocomplete": true,
   "bibliofile": "biblio.bib",
   "cite_by": "apalike",
   "current_citInitial": 1,
   "eqLabelWithNumbers": true,
   "eqNumInitial": 1,
   "hotkeys": {
    "equation": "Ctrl-E",
    "itemize": "Ctrl-I"
   },
   "labels_anchors": false,
   "latex_user_defs": false,
   "report_style_numbering": false,
   "user_envs_cfg": false
  },
  "toc": {
   "base_numbering": 1,
   "nav_menu": {
    "height": "237px",
    "width": "253px"
   },
   "number_sections": false,
   "sideBar": true,
   "skip_h1_title": false,
   "title_cell": "Table of Contents",
   "title_sidebar": "Contents",
   "toc_cell": false,
   "toc_position": {},
   "toc_section_display": "block",
   "toc_window_display": false
  },
  "varInspector": {
   "cols": {
    "lenName": 16,
    "lenType": 16,
    "lenVar": 40
   },
   "kernels_config": {
    "python": {
     "delete_cmd_postfix": "",
     "delete_cmd_prefix": "del ",
     "library": "var_list.py",
     "varRefreshCmd": "print(var_dic_list())"
    },
    "r": {
     "delete_cmd_postfix": ") ",
     "delete_cmd_prefix": "rm(",
     "library": "var_list.r",
     "varRefreshCmd": "cat(var_dic_list()) "
    }
   },
   "types_to_exclude": [
    "module",
    "function",
    "builtin_function_or_method",
    "instance",
    "_Feature"
   ],
   "window_display": false
  }
 },
 "nbformat": 4,
 "nbformat_minor": 4
}
