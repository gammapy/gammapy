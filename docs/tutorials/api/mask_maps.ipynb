{
 "cells": [
  {
   "cell_type": "markdown",
   "metadata": {},
   "source": [
    "# Mask maps\n",
    "\n",
    "## Prerequisites\n",
    "\n",
    "- Understanding of basic analyses in 1D or 3D.\n",
    "- Usage of `~regions` and catalogs, see the [catalog notebook](catalog.ipynb). \n",
    "\n",
    "## Context\n",
    "\n",
    "### Fit masks\n",
    "\n",
    "The region of interest used for the fit can defined through the dataset `mask_fit` attribute.\n",
    "The `mask_fit` is a map containing boolean values where pixels used in the fit are stored as True.  \n",
    "\n",
    "2D and 3D analyses usually require to work with a wider map than the region of interest so sources laying outside but reconstructed inside because of the PSF are correcly taken into account. Then the `mask_fit` have to include a margin that take into accout the PSF width. We will show an example in the boundary mask sub-section.\n",
    "\n",
    "The `mask_fit` also can be used to exclude sources or complex regions for which we don't have good enough models. In that case the masking is an extra security, it is prefereable to include the available models even if the sources are masked and frozen.\n",
    "\n",
    "Note that a dataset contains also a `mask_safe` attribute that is not meant to be modified directly by users. The  `mask_safe` is defined only from the cuts used in the data reductions (more details [here](https://docs.gammapy.org/dev/makers/index.html#safe-data-range-handling)).\n",
    "\n",
    "### Exclusion masks\n",
    "\n",
    "Background templates stored in the DL3 IRF are often not reliable enough to be used without some corrections. A set of common techniques to perform background or normalisation from the data is implemented in gammapy: reflected regions for 1D spectrum analysis, field-of-view (FoV) background or ring background for 2D and 3D analyses.\n",
    "\n",
    "To avoid contamination of the background estimate from gamma-ray bright regions these methods require to exclude those regions from the data used for the estimation. To do so, we use exclusion masks. They are maps containing boolean values where excluded pixels are stored as False.  \n",
    "\n",
    "\n",
    "## Proposed approach\n",
    "\n",
    "Even if the use cases for exclusion masks and fit masks are different, the way to create these masks is exactly the same, so in the following we show how to work with masks in general:\n",
    "- Creating masks from scratch\n",
    "- Combining multiple masks\n",
    "- Extending and reducing an existing mask\n",
    "- Reading and writing masks\n",
    "\n",
    "\n",
    " "
   ]
  },
  {
   "cell_type": "markdown",
   "metadata": {},
   "source": [
    "## Setup"
   ]
  },
  {
   "cell_type": "code",
   "execution_count": null,
   "metadata": {},
   "outputs": [],
   "source": [
    "%matplotlib inline\n",
    "import matplotlib.pyplot as plt"
   ]
  },
  {
   "cell_type": "code",
   "execution_count": null,
   "metadata": {},
   "outputs": [],
   "source": [
    "import numpy as np\n",
    "from astropy.coordinates import SkyCoord, Angle\n",
    "import astropy.units as u\n",
    "from regions import CircleSkyRegion\n",
    "from gammapy.maps import Map, WcsGeom\n",
    "from gammapy.utils.regions import make_region\n",
    "from gammapy.catalog import CATALOG_REGISTRY\n",
    "from gammapy.datasets import Datasets\n",
    "from gammapy.estimators import ExcessMapEstimator\n",
    "from gammapy.modeling.models import FoVBackgroundModel"
   ]
  },
  {
   "cell_type": "markdown",
   "metadata": {},
   "source": [
    "## Masks creation\n",
    "\n",
    "### Create the mask from a list of regions\n",
    "\n",
    "One can build an exclusion mask from regions. We show here how to proceed.\n",
    "\n",
    "#### Define the geometry\n",
    "\n",
    "Masks are stored in `Map` objects. We must first define its geometry and then we can determine which pixels to exclude. Here we consider a region at the Galactic anticentre around the crab nebula."
   ]
  },
  {
   "cell_type": "code",
   "execution_count": null,
   "metadata": {},
   "outputs": [],
   "source": [
    "position = SkyCoord(83.633083, 22.0145, unit=\"deg\", frame=\"icrs\")\n",
    "geom = WcsGeom.create(\n",
    "    skydir=position, width=\"5 deg\", binsz=0.02, frame=\"galactic\"\n",
    ")"
   ]
  },
  {
   "cell_type": "markdown",
   "metadata": {},
   "source": [
    "#### Create the list of regions\n",
    "\n",
    "We can rely on known sources positions and properties to build a list of regions (here `~regions.SkyRegions`) enclosing most of the signal that our detector would see from these objects.\n",
    "\n",
    "A useful function to create region objects is `~gammapy.utils.regions.make_region`. It can take strings defining regions following the \"ds9\" format and convert them to `regions`. \n",
    "\n",
    "Here we use a region enclosing the Crab nebula with 0.3 degrees. The actual region size should depend on the expected PSF of the data used. We also add another region with a different shape as en example."
   ]
  },
  {
   "cell_type": "code",
   "execution_count": null,
   "metadata": {},
   "outputs": [],
   "source": [
    "some_region = make_region(\"galactic;box(185,-4,1.0,0.5, 45)\")\n",
    "crab_region = make_region(\"icrs;circle(83.633083, 22.0145, 0.3)\")\n",
    "regions = [some_region, crab_region]\n",
    "print(regions)"
   ]
  },
  {
   "cell_type": "markdown",
   "metadata": {},
   "source": [
    "Equivalently the regions can be read from a ds9 file, this time using `regions.read_ds9`. "
   ]
  },
  {
   "cell_type": "code",
   "execution_count": null,
   "metadata": {},
   "outputs": [],
   "source": [
    "# regions = read_ds9('ds9.reg')"
   ]
  },
  {
   "cell_type": "markdown",
   "metadata": {},
   "source": [
    "#### Create the mask map \n",
    "\n",
    "We can now create the map. We use the `WcsGeom.region_mask` method putting all pixels inside the regions to False."
   ]
  },
  {
   "cell_type": "code",
   "execution_count": null,
   "metadata": {},
   "outputs": [],
   "source": [
    "# to define the exclusion mask we take the inverse\n",
    "mask_map = ~geom.region_mask(regions)"
   ]
  },
  {
   "cell_type": "code",
   "execution_count": null,
   "metadata": {
    "nbsphinx-thumbnail": {
     "tooltip": "Create and apply masks maps."
    }
   },
   "outputs": [],
   "source": [
    "mask_map.plot();"
   ]
  },
  {
   "cell_type": "markdown",
   "metadata": {},
   "source": [
    "### Create the mask from a catalog of sources\n",
    "\n",
    "We can also build our list of regions from a list of catalog sources. Here we use the Fermi 4FGL catalog which we read using `~gammapy.catalog.SourceCatalog`."
   ]
  },
  {
   "cell_type": "code",
   "execution_count": null,
   "metadata": {},
   "outputs": [],
   "source": [
    "fgl = CATALOG_REGISTRY.get_cls(\"4fgl\")()"
   ]
  },
  {
   "cell_type": "markdown",
   "metadata": {},
   "source": [
    "We now select sources that are contained in the region we are interested in."
   ]
  },
  {
   "cell_type": "code",
   "execution_count": null,
   "metadata": {},
   "outputs": [],
   "source": [
    "inside_geom = geom.contains(fgl.positions)\n",
    "idx = np.where(inside_geom)[0]"
   ]
  },
  {
   "cell_type": "markdown",
   "metadata": {},
   "source": [
    "We now create the list of regions using our 0.3 degree radius a priori value. If the sources were extended, one would have to adapt the sizes to account for the larger size."
   ]
  },
  {
   "cell_type": "code",
   "execution_count": null,
   "metadata": {},
   "outputs": [],
   "source": [
    "exclusion_radius = Angle(\"0.3 deg\")\n",
    "regions = [CircleSkyRegion(fgl[i].position, exclusion_radius) for i in idx]"
   ]
  },
  {
   "cell_type": "markdown",
   "metadata": {},
   "source": [
    "Now we can build the mask map the same way as above."
   ]
  },
  {
   "cell_type": "code",
   "execution_count": null,
   "metadata": {},
   "outputs": [],
   "source": [
    "mask_map_catalog = ~geom.region_mask(regions)"
   ]
  },
  {
   "cell_type": "code",
   "execution_count": null,
   "metadata": {},
   "outputs": [],
   "source": [
    "mask_map_catalog.plot();"
   ]
  },
  {
   "cell_type": "markdown",
   "metadata": {},
   "source": [
    "### Create the mask from statistically significant pixels in a dataset\n",
    "\n",
    "Here we want to determine an exclusion from the data directly. We will estimate the significance of the data using the `ExcessMapEstimator`, and exclude all pixels above a given threshold.\n",
    "\n",
    "Here we use a `MapDataset` taken from Fermi data used in the 3FHL catalog. The dataset is already in the form of a `Datasets` object. We read it from disk. "
   ]
  },
  {
   "cell_type": "code",
   "execution_count": null,
   "metadata": {},
   "outputs": [],
   "source": [
    "filename = \"$GAMMAPY_DATA/fermi-3fhl-crab/Fermi-LAT-3FHL_datasets.yaml\"\n",
    "datasets = Datasets.read(filename=filename)\n",
    "dataset = datasets[\"Fermi-LAT\"]"
   ]
  },
  {
   "cell_type": "markdown",
   "metadata": {},
   "source": [
    "We now apply a significance estimation. We integrate the counts using a correlation radius of 0.4 degree and apply regular significance estimate. "
   ]
  },
  {
   "cell_type": "code",
   "execution_count": null,
   "metadata": {},
   "outputs": [],
   "source": [
    "estimator = ExcessMapEstimator(\"0.4 deg\", selection_optional=[])\n",
    "result = estimator.run(dataset)"
   ]
  },
  {
   "cell_type": "markdown",
   "metadata": {},
   "source": [
    "Finally, we create the mask map by applying a threshold of 5 sigma to remove pixels."
   ]
  },
  {
   "cell_type": "code",
   "execution_count": null,
   "metadata": {},
   "outputs": [],
   "source": [
    "significance_mask = result[\"sqrt_ts\"] < 5.0"
   ]
  },
  {
   "cell_type": "markdown",
   "metadata": {},
   "source": [
    "Because the `ExcessMapEstimator` returns NaN for masked pixels, we need to put the NaN values to `True` to avoid incorrectly excluding them. "
   ]
  },
  {
   "cell_type": "code",
   "execution_count": null,
   "metadata": {},
   "outputs": [],
   "source": [
    "invalid_pixels = np.isnan(result[\"sqrt_ts\"].data)\n",
    "significance_mask.data[invalid_pixels] = True"
   ]
  },
  {
   "cell_type": "code",
   "execution_count": null,
   "metadata": {},
   "outputs": [],
   "source": [
    "significance_mask.plot();"
   ]
  },
  {
   "cell_type": "markdown",
   "metadata": {},
   "source": [
    "This method frequently yields isolated pixels or weakly significant features if one places the threshold too low. \n",
    "\n",
    "To overcome this issue, one can use `~skimage.filters.apply_hysteresis_threshold` . This filter allows to define two thresholds and mask only the pixels between the low and high thresholds if they are not continuously connected to a pixel above the high threshold. This allows to better preserve the structure of the excesses. \n",
    "\n",
    "Note that scikit-image is not a required dependency of gammapy, you might need to install it.\n"
   ]
  },
  {
   "cell_type": "markdown",
   "metadata": {},
   "source": [
    "## Masks operations\n",
    "\n",
    "If two masks share the same geometry it is easy to combine them with `Map` arithmetics.\n",
    "\n",
    "OR condition is represented by `|` operator :"
   ]
  },
  {
   "cell_type": "code",
   "execution_count": null,
   "metadata": {
    "scrolled": true
   },
   "outputs": [],
   "source": [
    "mask = mask_map | mask_map_catalog\n",
    "mask.plot();\n"
   ]
  },
  {
   "cell_type": "markdown",
   "metadata": {},
   "source": [
    "AND condition is represented by `&` or `*` operators :"
   ]
  },
  {
   "cell_type": "code",
   "execution_count": null,
   "metadata": {},
   "outputs": [],
   "source": [
    "mask_map &= mask_map_catalog\n",
    "mask_map.plot();"
   ]
  },
  {
   "cell_type": "markdown",
   "metadata": {},
   "source": [
    "The NOT operator is represented by `~` symbol:"
   ]
  },
  {
   "cell_type": "code",
   "execution_count": null,
   "metadata": {},
   "outputs": [],
   "source": [
    "significance_mask_inv = ~significance_mask\n",
    "significance_mask_inv.plot();"
   ]
  },
  {
   "cell_type": "markdown",
   "metadata": {},
   "source": [
    "## Mask modifications\n",
    "\n",
    "### Mask dilation and erosion\n",
    "\n",
    "One can reduce or extend a mask using `binary_erode` and  `binary_dilate` methods, respectively."
   ]
  },
  {
   "cell_type": "code",
   "execution_count": null,
   "metadata": {},
   "outputs": [],
   "source": [
    "mask = significance_mask_inv.binary_erode(width=0.2 * u.deg, kernel=\"disk\")\n",
    "mask.plot();"
   ]
  },
  {
   "cell_type": "code",
   "execution_count": null,
   "metadata": {},
   "outputs": [],
   "source": [
    "mask = significance_mask_inv.binary_dilate(width=0.2 * u.deg)\n",
    "mask.plot();"
   ]
  },
  {
   "cell_type": "markdown",
   "metadata": {},
   "source": [
    "### Boundary mask\n",
    "\n",
    "In the following example we use the Fermi dataset previously loaded and add its `mask_fit` taking into account a margin based on the psf width. The margin width is determined using the `containment_radius` method of the psf object and the mask is created using the `boundary_mask` method available on the geometry object."
   ]
  },
  {
   "cell_type": "code",
   "execution_count": null,
   "metadata": {},
   "outputs": [],
   "source": [
    "#get PSF 95% containment radius\n",
    "energy_true = dataset.exposure.geom.axes[0].center\n",
    "psf_r95 = dataset.psf.containment_radius(fraction=0.95, energy_true=energy_true)\n",
    "#create mask_fit with margin based on PSF\n",
    "mask_fit = dataset.counts.geom.boundary_mask(psf_r95.max())\n",
    "dataset.mask_fit = mask_fit\n",
    "dataset.mask_fit.sum_over_axes().plot();"
   ]
  },
  {
   "cell_type": "markdown",
   "metadata": {},
   "source": [
    "## Reading and writing masks\n",
    "\n",
    "`gammapy.maps` can directly read/write maps with boolean content as follows:"
   ]
  },
  {
   "cell_type": "code",
   "execution_count": null,
   "metadata": {},
   "outputs": [],
   "source": [
    "# To save masks to disk\n",
    "mask_map.write(\"exclusion_mask.fits\", overwrite=\"True\")"
   ]
  },
  {
   "cell_type": "code",
   "execution_count": null,
   "metadata": {},
   "outputs": [],
   "source": [
    "# To read maps from disk\n",
    "mask_map = Map.read(\"exclusion_mask.fits\")"
   ]
  },
  {
   "cell_type": "code",
   "execution_count": null,
   "metadata": {},
   "outputs": [],
   "source": []
  }
 ],
 "metadata": {
  "kernelspec": {
   "display_name": "Python 3",
   "language": "python",
   "name": "python3"
  },
  "language_info": {
   "codemirror_mode": {
    "name": "ipython",
    "version": 3
   },
   "file_extension": ".py",
   "mimetype": "text/x-python",
   "name": "python",
   "nbconvert_exporter": "python",
   "pygments_lexer": "ipython3",
   "version": "3.7.3"
  },
  "latex_envs": {
   "LaTeX_envs_menu_present": true,
   "autoclose": false,
   "autocomplete": true,
   "bibliofile": "biblio.bib",
   "cite_by": "apalike",
   "current_citInitial": 1,
   "eqLabelWithNumbers": true,
   "eqNumInitial": 1,
   "hotkeys": {
    "equation": "Ctrl-E",
    "itemize": "Ctrl-I"
   },
   "labels_anchors": false,
   "latex_user_defs": false,
   "report_style_numbering": false,
   "user_envs_cfg": false
  }
 },
 "nbformat": 4,
 "nbformat_minor": 4
}
