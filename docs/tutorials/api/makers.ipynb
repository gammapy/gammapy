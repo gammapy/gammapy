{
 "cells": [
  {
   "cell_type": "markdown",
   "metadata": {},
   "source": [
    "\n",
    "# Makers - Data reduction\n",
    "\n",
    "## Introduction\n",
    "\n",
    "\n",
    "The `gammapy.makers` sub-package contains classes to perform data reduction tasks\n",
    "from DL3 data to binned datasets.\n",
    "In the data reduction step the DL3 data is prepared for modeling and fitting,\n",
    "by binning events into a counts map and interpolating the exposure, background,\n",
    "psf and energy dispersion on the chosen analysis geometry.\n",
    "\n",
    "## Setup"
   ]
  },
  {
   "cell_type": "code",
   "execution_count": null,
   "metadata": {},
   "outputs": [],
   "source": [
    "from gammapy.makers import (\n",
    "    MapDatasetMaker,\n",
    "    FoVBackgroundMaker,\n",
    "    SafeMaskMaker,\n",
    "    SpectrumDatasetMaker,\n",
    "    ReflectedRegionsBackgroundMaker,\n",
    ")\n",
    "from gammapy.datasets import MapDataset, SpectrumDataset, Datasets\n",
    "from gammapy.data import DataStore\n",
    "from gammapy.maps import MapAxis, WcsGeom, RegionGeom\n",
    "from regions import CircleSkyRegion\n",
    "from astropy import units as u\n",
    "import numpy as np"
   ]
  },
  {
   "cell_type": "markdown",
   "metadata": {},
   "source": [
    "## Dataset\n",
    "\n",
    "The counts, exposure,\n",
    "background and IRF maps are bundled together in a data structure named `MapDataset`.\n",
    "To handle on-off observations Gammapy also features a `MapDatasetOnOff` class, which\n",
    "stores in addition the `counts_off`, `acceptance` and `acceptance_off` data.\n",
    "\n",
    "The first step of the data reduction is to create an empty dataset. A `MapDataset` can be created from any `WcsGeom` object. This is illustrated in the following example:\n"
   ]
  },
  {
   "cell_type": "code",
   "execution_count": null,
   "metadata": {},
   "outputs": [],
   "source": [
    "energy_axis = MapAxis.from_bounds(\n",
    "    1, 10, nbin=11, name=\"energy\", unit=\"TeV\", interp=\"log\"\n",
    ")\n",
    "geom = WcsGeom.create(\n",
    "    skydir=(83.63, 22.01),\n",
    "    axes=[energy_axis],\n",
    "    width=5 * u.deg,\n",
    "    binsz=0.05 * u.deg,\n",
    "    frame=\"icrs\",\n",
    ")\n",
    "dataset_empty = MapDataset.create(geom=geom)\n",
    "print(dataset_empty)"
   ]
  },
  {
   "cell_type": "markdown",
   "metadata": {},
   "source": [
    "It is possible to compute the instrument response functions with different spatial and energy binnings as compared to the counts and background maps. For example, one can specify a true energy axis which defines the energy binning of the IRFs:"
   ]
  },
  {
   "cell_type": "code",
   "execution_count": null,
   "metadata": {},
   "outputs": [],
   "source": [
    "energy_axis_true = MapAxis.from_bounds(\n",
    "    0.3, 10, nbin=31, name=\"energy_true\", unit=\"TeV\", interp=\"log\"\n",
    ")\n",
    "dataset_empty = MapDataset.create(geom=geom, energy_axis_true=energy_axis_true)"
   ]
  },
  {
   "cell_type": "markdown",
   "metadata": {},
   "source": [
    "For the detail of the other options availables, you can always call the help:"
   ]
  },
  {
   "cell_type": "code",
   "execution_count": null,
   "metadata": {},
   "outputs": [],
   "source": [
    "help(MapDataset.create)"
   ]
  },
  {
   "cell_type": "markdown",
   "metadata": {},
   "source": [
    "Once this empty \"reference\" dataset is defined, it can be filled with observational\n",
    "data using the `MapDatasetMaker`:\n"
   ]
  },
  {
   "cell_type": "code",
   "execution_count": null,
   "metadata": {
    "nbsphinx-thumbnail": {
     "tooltip": "Data reduction : from observations to binned datasets"
    }
   },
   "outputs": [],
   "source": [
    "# get observation\n",
    "data_store = DataStore.from_dir(\"$GAMMAPY_DATA/hess-dl3-dr1\")\n",
    "obs = data_store.get_observations([23592])[0]\n",
    "\n",
    "# fill dataset\n",
    "maker = MapDatasetMaker()\n",
    "dataset = maker.run(dataset_empty, obs)\n",
    "print(dataset)\n",
    "dataset.counts.sum_over_axes().plot(stretch=\"sqrt\", add_cbar=True);"
   ]
  },
  {
   "cell_type": "markdown",
   "metadata": {},
   "source": [
    "The `MapDatasetMaker` fills the corresponding `counts`, `exposure`, `background`,\n",
    "`psf` and `edisp` map per observation. The `MapDatasetMaker` has a\n",
    "`selection` parameter, in case some of the maps should not be computed. There is also a `background_oversampling` parameter that defines the oversampling factor in energy used to compute the bakcground (default is None).\n",
    "\n",
    "## Safe data range handling\n",
    "\n",
    "\n",
    "To exclude the data range from a `MapDataset`, that is associated with\n",
    "high systematics on instrument response functions, a `mask_safe`\n",
    "can be defined. The `mask_safe` is a `Map` object with `bool` data\n",
    "type, which indicates for each pixel, whether it should be included\n",
    "in the analysis. The convention is that a value of `True` or `1`\n",
    "includes the pixel, while a value of `False` or `0` excludes a pixels\n",
    "from the analysis. To compute safe data range masks according to certain\n",
    "criteria, Gammapy provides a `SafeMaskMaker` class. The differents criteria are given by the `methods`argument, available options are :\n",
    "\n",
    "- aeff-default, uses the energy ranged specified in the DL3 data files, if available.\n",
    "- aeff-max, the lower energy threshold is determined such as the effective area is above a given percentage of its maximum\n",
    "- edisp-bias, the lower energy threshold is determined such as the energy bias is below a given percentage\n",
    "- offset-max, the data beyond a given offset radius from the observation center are excluded\n",
    "- bkg-peak, the energy threshold is defined as the upper edge of the energy bin with the highest predicted background rate. This method was introduced in the HESS DL3 validation paper: https://arxiv.org/pdf/1910.08088.pdf\n",
    "\n",
    "\n",
    "\n",
    "Multiple methods can be combined. Here is an example :\n"
   ]
  },
  {
   "cell_type": "code",
   "execution_count": null,
   "metadata": {},
   "outputs": [],
   "source": [
    "safe_mask_maker = SafeMaskMaker(\n",
    "    methods=[\"aeff-default\", \"offset-max\"], offset_max=\"3 deg\"\n",
    ")\n",
    "\n",
    "dataset = maker.run(dataset_empty, obs)\n",
    "dataset = safe_mask_maker.run(dataset, obs)\n",
    "print(dataset.mask_safe)\n",
    "dataset.mask_safe.sum_over_axes().plot();"
   ]
  },
  {
   "cell_type": "markdown",
   "metadata": {},
   "source": [
    "\n",
    "The `SafeMaskMaker` does not modify any data, but only defines the\n",
    "`MapDataset.mask_safe` attribute. This means that the safe data\n",
    "range can be defined and modified in between the data reduction\n",
    "and stacking and fitting. For a joint-likelihood analysis of multiple\n",
    "observations the safe mask is applied to the counts and predicted\n",
    "number of counts map during fitting. This correctly accounts for\n",
    "contributions (spill-over) by the PSF from outside the field of view.\n",
    "\n",
    "## Background estimation\n",
    "\n",
    "\n",
    "The background computed by the `MapDatasetMaker` gives the number of counts predicted\n",
    "by the background IRF of the observation. Because its actual normalization, or even its\n",
    "spectral shape, might be poorly constrained, it is necessary to correct it with the data\n",
    "themselves. This is the role of background estimation Makers. \n",
    "\n",
    "\n",
    "### FoV background\n",
    "\n",
    "\n",
    "If the background energy dependent morphology is well reproduced by the background model\n",
    "stored in the IRF, it might be that its normalization is incorrect and that some spectral\n",
    "corrections are necessary. This is made possible thanks to the `~gammapy.makers.FoVBackgroundMaker`.\n",
    "This technique is recommended in most 3D data reductions. For more details and usage, see [fov_background](https://docs.gammapy.org/dev/makers/fov.html).\n",
    "\n",
    "Here we are going to use a `~gammapy.makers.FoVBackgroundMaker` that will rescale the background model to the data exluding the region where a known source is present. For more details on the way to create exlusion masks see the [mask maps](mask_maps.ipynb) notebook.\n"
   ]
  },
  {
   "cell_type": "code",
   "execution_count": null,
   "metadata": {},
   "outputs": [],
   "source": [
    "circle = CircleSkyRegion(center=geom.center_skydir, radius=0.2 * u.deg)\n",
    "exclusion_mask = geom.region_mask([circle], inside=False)\n",
    "\n",
    "fov_bkg_maker = FoVBackgroundMaker(method=\"scale\", exclusion_mask=exclusion_mask)\n",
    "dataset = fov_bkg_maker.run(dataset)"
   ]
  },
  {
   "cell_type": "markdown",
   "metadata": {},
   "source": [
    "Other backgrounds production methods are available as listed below.\n",
    "\n",
    "### Ring background\n",
    "\n",
    "If the background model does not reproduce well the morphology, a classical approach consists\n",
    "in applying local corrections by smoothing the data with a ring kernel. This allows to build a set\n",
    "of OFF counts taking into account the inperfect knowledge of the background. This is implemented\n",
    "in the `~gammapy.makers.RingBackgroundMaker` which transforms the Dataset in a `MapDatasetOnOff`.\n",
    "This technique is mostly used for imaging, and should not be applied for 3D modeling and fitting.\n",
    "\n",
    "For more details and usage, see [ring_background](https://docs.gammapy.org/dev/makers/ring.html).\n",
    "\n",
    "\n",
    "### Reflected regions background\n",
    "\n",
    "In the absence of a solid background model, a classical technique in Cherenkov astronomy for 1D\n",
    "spectral analysis is to estimate the background in a number of OFF regions. When the background\n",
    "can be safely estimated as radially symmetric w.r.t. the pointing direction, one can apply the\n",
    "reflected regions background technique.\n",
    "This is implemented in the `~gammapy.makers.ReflectedRegionsBackgroundMaker` which transforms a\n",
    "`SpectrumDataset` in a `SpectrumDatasetOnOff`. This technique is only used for 1D spectral\n",
    "analysis.\n",
    "\n",
    "For more details and usage, see [reflected_background](https://docs.gammapy.org/dev/makers/reflected.html).\n",
    "\n",
    "\n",
    "## Data reduction loop\n",
    "\n",
    "The data reduction steps can be combined in a single loop to run\n",
    "a full data reduction chain. For this the `MapDatasetMaker` is run\n",
    "first and the output dataset is the passed on to the next maker step.\n",
    "Finally the dataset per observation is stacked into a larger map."
   ]
  },
  {
   "cell_type": "code",
   "execution_count": null,
   "metadata": {},
   "outputs": [],
   "source": [
    "data_store = DataStore.from_dir(\"$GAMMAPY_DATA/hess-dl3-dr1\")\n",
    "observations = data_store.get_observations([23523, 23592, 23526, 23559])\n",
    "\n",
    "energy_axis = MapAxis.from_bounds(\n",
    "    1, 10, nbin=11, name=\"energy\", unit=\"TeV\", interp=\"log\"\n",
    ")\n",
    "geom = WcsGeom.create(skydir=(83.63, 22.01), axes=[energy_axis], width=5, binsz=0.02)\n",
    "\n",
    "maker = MapDatasetMaker()\n",
    "safe_mask_maker = SafeMaskMaker(\n",
    "    methods=[\"aeff-default\", \"offset-max\"], offset_max=\"3 deg\"\n",
    ")\n",
    "\n",
    "stacked = MapDataset.create(geom)\n",
    "\n",
    "for obs in observations:\n",
    "    cutout = stacked.cutout(obs.pointing_radec, width=\"6 deg\")\n",
    "    dataset = maker.run(cutout, obs)\n",
    "    dataset = safe_mask_maker.run(dataset, obs)\n",
    "    dataset = fov_bkg_maker.run(dataset)\n",
    "    stacked.stack(dataset)\n",
    "\n",
    "print(stacked)"
   ]
  },
  {
   "cell_type": "markdown",
   "metadata": {},
   "source": [
    "To maintain good performance it is always recommended to do a cutout\n",
    "of the `MapDataset` as shown above. In case you want to increase the\n",
    "offset-cut later, you can also choose a larger width of the cutout\n",
    "than `2 * offset_max`.\n",
    "\n",
    "Note that we stack the individual `MapDataset`, which are computed\n",
    "per observation into a larger dataset. During the stacking the safe data\n",
    "range mask (`MapDataset.mask_safe`) is applied by setting data outside to\n",
    "zero, then data is added to the larger map dataset. To stack multiple\n",
    "observations, the larger dataset must be created first."
   ]
  },
  {
   "cell_type": "markdown",
   "metadata": {},
   "source": [
    "## Spectrum dataset\n",
    "\n",
    "The spectrum datasets represent 1D spectra along an energy axis whitin a given on region. The `SpectrumDataset` contains a counts spectrum, and a background model. The `SpectrumDatasetOnOff` contains ON and OFF count spectra, background is implicitly modeled via the OFF counts spectrum. \n",
    "\n",
    "The `SpectrumDatasetMaker` make spectrum dataset for a single observation.\n",
    "In that case the irfs and background are computed at a single fixed offset, which is recommend only for point-sources.\n",
    "\n",
    "Here is an example of data reduction loop to create `SpectrumDatasetOnOff` datasets:"
   ]
  },
  {
   "cell_type": "code",
   "execution_count": null,
   "metadata": {},
   "outputs": [],
   "source": [
    "# on region is given by the CircleSkyRegion previously defined\n",
    "geom = RegionGeom.create(region=circle, axes=[energy_axis])\n",
    "exclusion_mask_2d = exclusion_mask.reduce_over_axes(np.logical_or, keepdims=False)\n",
    "\n",
    "spectrum_dataset_empty = SpectrumDataset.create(\n",
    "    geom=geom, energy_axis_true=energy_axis_true\n",
    ")\n",
    "\n",
    "spectrum_dataset_maker = SpectrumDatasetMaker(\n",
    "    containment_correction=False, selection=[\"counts\", \"exposure\", \"edisp\"]\n",
    ")\n",
    "reflected_bkg_maker = ReflectedRegionsBackgroundMaker(exclusion_mask=exclusion_mask_2d)\n",
    "safe_mask_masker = SafeMaskMaker(methods=[\"aeff-max\"], aeff_percent=10)\n",
    "\n",
    "datasets = Datasets()\n",
    "\n",
    "for observation in observations:\n",
    "    dataset = spectrum_dataset_maker.run(\n",
    "        spectrum_dataset_empty.copy(name=f\"obs-{observation.obs_id}\"), observation\n",
    "    )\n",
    "    dataset_on_off = reflected_bkg_maker.run(dataset, observation)\n",
    "    dataset_on_off = safe_mask_masker.run(dataset_on_off, observation)\n",
    "    datasets.append(dataset_on_off)\n",
    "print(datasets)"
   ]
  },
  {
   "cell_type": "code",
   "execution_count": null,
   "metadata": {},
   "outputs": [],
   "source": []
  }
 ],
 "metadata": {
  "kernelspec": {
   "display_name": "Python 3",
   "language": "python",
   "name": "python3"
  },
  "language_info": {
   "codemirror_mode": {
    "name": "ipython",
    "version": 3
   },
   "file_extension": ".py",
   "mimetype": "text/x-python",
   "name": "python",
   "nbconvert_exporter": "python",
   "pygments_lexer": "ipython3",
   "version": "3.7.3"
  },
  "latex_envs": {
   "LaTeX_envs_menu_present": true,
   "autoclose": false,
   "autocomplete": true,
   "bibliofile": "biblio.bib",
   "cite_by": "apalike",
   "current_citInitial": 1.0,
   "eqLabelWithNumbers": true,
   "eqNumInitial": 1.0,
   "hotkeys": {
    "equation": "Ctrl-E",
    "itemize": "Ctrl-I"
   },
   "labels_anchors": false,
   "latex_user_defs": false,
   "report_style_numbering": false,
   "user_envs_cfg": false
  }
 },
 "nbformat": 4,
 "nbformat_minor": 2
}
