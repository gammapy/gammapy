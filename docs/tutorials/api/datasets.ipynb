{
 "cells": [
  {
   "cell_type": "markdown",
   "id": "497b10a7",
   "metadata": {},
   "source": [
    "# Datasets - Reduced data, IRFs, models \n",
    "\n",
    "## Introduction\n",
    "\n",
    "`gammapy.datasets` are a crucial part of the gammapy API. `datasets` constitute `DL4` data - binned counts, IRFs, models and the associated likelihoods. `Datasets` from the end product of the `makers` stage, see [makers notebook](makers.ipynb), and are passed on to the `Fit` or estimator classes for modelling and fitting purposes.\n",
    "\n",
    "To find the different types of `Dataset` that are supported see [Datasets home](../../user-guide/datasets/index.rst#Types-of-supported-datasets)\n",
    "\n",
    "\n",
    "## Setup"
   ]
  },
  {
   "cell_type": "code",
   "execution_count": null,
   "id": "246ee643",
   "metadata": {},
   "outputs": [],
   "source": [
    "import numpy as np\n",
    "import astropy.units as u\n",
    "from astropy.time import Time\n",
    "from regions import CircleSkyRegion\n",
    "from astropy.coordinates import SkyCoord\n",
    "from gammapy.datasets import (\n",
    "    MapDataset,\n",
    "    SpectrumDataset,\n",
    "    SpectrumDatasetOnOff,\n",
    "    Datasets,\n",
    "    FluxPointsDataset,\n",
    ")\n",
    "from gammapy.data import DataStore, GTI\n",
    "from gammapy.maps import WcsGeom, RegionGeom, MapAxes, MapAxis, Map\n",
    "from gammapy.modeling.models import (\n",
    "    SkyModel,\n",
    "    PowerLawSpectralModel,\n",
    "    FoVBackgroundModel,\n",
    ")\n",
    "from gammapy.estimators import FluxPoints\n",
    "from gammapy.utils.scripts import make_path"
   ]
  },
  {
   "cell_type": "code",
   "execution_count": null,
   "id": "a82c55b5",
   "metadata": {},
   "outputs": [],
   "source": [
    "%matplotlib inline"
   ]
  },
  {
   "cell_type": "markdown",
   "id": "dab0deb8",
   "metadata": {},
   "source": [
    "## MapDataset\n",
    "\n",
    "The counts, exposure, background, masks, and IRF maps are bundled together in a data structure named `MapDataset`. While the `counts`, and `background` maps are binned in reconstructed energy and must have the same geometry, the IRF maps can have a different spatial (coarsely binned and larger) geometry and spectral range (binned in true energies). It is usually recommended that the true energy bin should be larger and more finely sampled and the reco energy bin.\n",
    "\n",
    "### Creating an empty dataset \n",
    "\n",
    "An empty `MapDataset` can be directly instantiated from any `WcsGeom` object:"
   ]
  },
  {
   "cell_type": "code",
   "execution_count": null,
   "id": "9e1a3130",
   "metadata": {},
   "outputs": [],
   "source": [
    "energy_axis = MapAxis.from_energy_bounds(\n",
    "    1, 10, nbin=11, name=\"energy\", unit=\"TeV\"\n",
    ")\n",
    "\n",
    "geom = WcsGeom.create(\n",
    "    skydir=(83.63, 22.01),\n",
    "    axes=[energy_axis],\n",
    "    width=5 * u.deg,\n",
    "    binsz=0.05 * u.deg,\n",
    "    frame=\"icrs\",\n",
    ")\n",
    "\n",
    "dataset_empty = MapDataset.create(geom=geom, name=\"my-dataset\")"
   ]
  },
  {
   "cell_type": "markdown",
   "id": "03fb1e8c",
   "metadata": {},
   "source": [
    "It is good practice to define a name for the dataset, such that you can identify it later by name. However if you define a name it **must** be unique. Now we can already print the dataset:"
   ]
  },
  {
   "cell_type": "code",
   "execution_count": null,
   "id": "9287d04e",
   "metadata": {},
   "outputs": [],
   "source": [
    "print(dataset_empty)"
   ]
  },
  {
   "cell_type": "markdown",
   "id": "d101b30d",
   "metadata": {},
   "source": [
    "The printout shows the key summary information of the dataset, such as total counts, fit statistics, model information etc.\n",
    "\n",
    "`MapDataset.from_geom` has additional keywords, that can be used to define the binning of the IRF related maps:"
   ]
  },
  {
   "cell_type": "code",
   "execution_count": null,
   "id": "fbd4c38c",
   "metadata": {},
   "outputs": [],
   "source": [
    "# choose a different true energy binning for the exposure, psf and edisp\n",
    "energy_axis_true = MapAxis.from_energy_bounds(\n",
    "    0.1, 100, nbin=11, name=\"energy_true\", unit=\"TeV\", per_decade=True\n",
    ")\n",
    "\n",
    "# choose a different rad axis binning for the psf\n",
    "rad_axis = MapAxis.from_bounds(0, 5, nbin=50, unit=\"deg\", name=\"rad\")\n",
    "\n",
    "gti = GTI.create(0 * u.s, 1000 * u.s)\n",
    "\n",
    "dataset_empty = MapDataset.create(\n",
    "    geom=geom,\n",
    "    energy_axis_true=energy_axis_true,\n",
    "    rad_axis=rad_axis,\n",
    "    binsz_irf=0.1,\n",
    "    gti=gti,\n",
    "    name=\"dataset-empty\",\n",
    ")"
   ]
  },
  {
   "cell_type": "markdown",
   "id": "4a58d0d2",
   "metadata": {},
   "source": [
    "To see the geometry of each map, we can use:"
   ]
  },
  {
   "cell_type": "code",
   "execution_count": null,
   "id": "983f025e",
   "metadata": {},
   "outputs": [],
   "source": [
    "dataset_empty.geoms"
   ]
  },
  {
   "cell_type": "markdown",
   "id": "3249495e",
   "metadata": {},
   "source": [
    "Another way to create a `MapDataset` is to just read an existing one from a FITS file:"
   ]
  },
  {
   "cell_type": "code",
   "execution_count": null,
   "id": "2b49688a",
   "metadata": {},
   "outputs": [],
   "source": [
    "dataset_cta = MapDataset.read(\n",
    "    \"$GAMMAPY_DATA/cta-1dc-gc/cta-1dc-gc.fits.gz\", name=\"dataset-cta\"\n",
    ")"
   ]
  },
  {
   "cell_type": "code",
   "execution_count": null,
   "id": "6e236766",
   "metadata": {},
   "outputs": [],
   "source": [
    "print(dataset_cta)"
   ]
  },
  {
   "cell_type": "markdown",
   "id": "d45149e8",
   "metadata": {},
   "source": [
    "## Accessing contents of a dataset"
   ]
  },
  {
   "cell_type": "markdown",
   "id": "682f2594",
   "metadata": {},
   "source": [
    "To further explore the contents of a `Dataset`, you can use e.g. `.info_dict()`"
   ]
  },
  {
   "cell_type": "code",
   "execution_count": null,
   "id": "081e55b2",
   "metadata": {},
   "outputs": [],
   "source": [
    "# For a quick info, use\n",
    "dataset_cta.info_dict()"
   ]
  },
  {
   "cell_type": "code",
   "execution_count": null,
   "id": "ecc5e1f7",
   "metadata": {
    "nbsphinx-thumbnail": {
     "tooltip": "Learn how to work with datasets"
    }
   },
   "outputs": [],
   "source": [
    "# For a quick view, use\n",
    "dataset_cta.peek()"
   ]
  },
  {
   "cell_type": "markdown",
   "id": "66045262",
   "metadata": {},
   "source": [
    "And access individual maps like:"
   ]
  },
  {
   "cell_type": "code",
   "execution_count": null,
   "id": "867aa635",
   "metadata": {},
   "outputs": [],
   "source": [
    "counts_image = dataset_cta.counts.sum_over_axes()\n",
    "counts_image.smooth(\"0.1 deg\").plot()"
   ]
  },
  {
   "cell_type": "markdown",
   "id": "a9ee8cc7",
   "metadata": {},
   "source": [
    "Of course you can also access IRF related maps, e.g. the psf as `PSFMap`:"
   ]
  },
  {
   "cell_type": "code",
   "execution_count": null,
   "id": "c50d9011",
   "metadata": {},
   "outputs": [],
   "source": [
    "dataset_cta.psf"
   ]
  },
  {
   "cell_type": "markdown",
   "id": "4ec4b932",
   "metadata": {},
   "source": [
    "And use any method on the `PSFMap` object:"
   ]
  },
  {
   "cell_type": "code",
   "execution_count": null,
   "id": "7a397e49",
   "metadata": {},
   "outputs": [],
   "source": [
    "dataset_cta.psf.plot_containment_radius_vs_energy()"
   ]
  },
  {
   "cell_type": "code",
   "execution_count": null,
   "id": "5a62bf9f",
   "metadata": {},
   "outputs": [],
   "source": [
    "edisp_kernel = dataset_cta.edisp.get_edisp_kernel()\n",
    "edisp_kernel.plot_matrix()"
   ]
  },
  {
   "cell_type": "markdown",
   "id": "4999a8a8",
   "metadata": {},
   "source": [
    "The `MapDataset` typically also contains the information on the residual hadronic background, stored in `MapDataset.background` as a map:"
   ]
  },
  {
   "cell_type": "code",
   "execution_count": null,
   "id": "843f9bed",
   "metadata": {},
   "outputs": [],
   "source": [
    "dataset_cta.background"
   ]
  },
  {
   "cell_type": "markdown",
   "id": "98a75167",
   "metadata": {},
   "source": [
    "As a next step we define a minimal model on the dataset using the `.models` setter:"
   ]
  },
  {
   "cell_type": "code",
   "execution_count": null,
   "id": "14cffb38",
   "metadata": {},
   "outputs": [],
   "source": [
    "model = SkyModel.create(\"pl\", \"point\", name=\"gc\")\n",
    "model.spatial_model.position = SkyCoord(\"0d\", \"0d\", frame=\"galactic\")\n",
    "model_bkg = FoVBackgroundModel(dataset_name=\"dataset-cta\")\n",
    "\n",
    "dataset_cta.models = [model, model_bkg]"
   ]
  },
  {
   "cell_type": "markdown",
   "id": "63083d0d",
   "metadata": {},
   "source": [
    "Assigning models to datasets is covered in more detail in the [Modeling notebook](model_management.ipynb). Printing the dataset will now show the mode components:"
   ]
  },
  {
   "cell_type": "code",
   "execution_count": null,
   "id": "c4f5c690",
   "metadata": {},
   "outputs": [],
   "source": [
    "print(dataset_cta)"
   ]
  },
  {
   "cell_type": "markdown",
   "id": "d2642f2b",
   "metadata": {},
   "source": [
    "Now we can use `.npred()` to get a map of the total predicted counts of the model:"
   ]
  },
  {
   "cell_type": "code",
   "execution_count": null,
   "id": "77d37845",
   "metadata": {},
   "outputs": [],
   "source": [
    "npred = dataset_cta.npred()\n",
    "npred.sum_over_axes().plot()"
   ]
  },
  {
   "cell_type": "markdown",
   "id": "d637531f",
   "metadata": {},
   "source": [
    "To get the predicted counts from an individual model component we can use:"
   ]
  },
  {
   "cell_type": "code",
   "execution_count": null,
   "id": "6fde24c0",
   "metadata": {},
   "outputs": [],
   "source": [
    "npred_source = dataset_cta.npred_signal(model_name=\"gc\")\n",
    "npred_source.sum_over_axes().plot()"
   ]
  },
  {
   "cell_type": "markdown",
   "id": "f1ad756d",
   "metadata": {},
   "source": [
    "`MapDataset.background` contains the background map computed from the IRF. Internally it will be combined with a `FoVBackgroundModel`, to allow for adjusting the backgroun model during a fit. To get the model corrected background, one can use `dataset.npred_background()`. "
   ]
  },
  {
   "cell_type": "code",
   "execution_count": null,
   "id": "18974c2b",
   "metadata": {},
   "outputs": [],
   "source": [
    "npred_background = dataset_cta.npred_background()\n",
    "npred_background.sum_over_axes().plot()"
   ]
  },
  {
   "cell_type": "markdown",
   "id": "96590d17",
   "metadata": {},
   "source": [
    "### Using masks\n",
    "\n",
    "There are two masks that can be set on a `Dataset`, `mask_safe` and `mask_fit`. \n",
    "\n",
    "- The `mask_safe` is computed during the data reduction process according to the specified selection cuts, and should not be changed by the user.\n",
    "- During modelling and fitting, the user might want to additionally ignore some parts of a reduced dataset, e.g. to restrict the fit to a specific energy range or to ignore parts of the region of interest. This should be done by applying the `mask_fit`. To see details of applying masks, please refer to [Masks-for-fitting](mask_maps.ipynb#Masks-for-fitting:-mask_fit)\n",
    "\n",
    "Both the `mask_fit` and `mask_safe` must have the safe `geom` as the `counts` and `background` maps."
   ]
  },
  {
   "cell_type": "code",
   "execution_count": null,
   "id": "43002efc",
   "metadata": {},
   "outputs": [],
   "source": [
    "# eg: to see the safe data range\n",
    "dataset_cta.mask_safe.plot_grid();"
   ]
  },
  {
   "cell_type": "markdown",
   "id": "3119953d",
   "metadata": {},
   "source": [
    "In addition it is possible to define a custom `mask_fit`:"
   ]
  },
  {
   "cell_type": "code",
   "execution_count": null,
   "id": "88481d9d",
   "metadata": {},
   "outputs": [],
   "source": [
    "# To apply a mask fit - in enegy and space\n",
    "region = CircleSkyRegion(SkyCoord(\"0d\", \"0d\", frame=\"galactic\"), 1.5 * u.deg)\n",
    "\n",
    "geom = dataset_cta.counts.geom\n",
    "\n",
    "mask_space = geom.region_mask([region])\n",
    "mask_energy = geom.energy_mask(0.3 * u.TeV, 8 * u.TeV)\n",
    "dataset_cta.mask_fit = mask_space & mask_energy\n",
    "dataset_cta.mask_fit.plot_grid(vmin=0, vmax=1, add_cbar=True);"
   ]
  },
  {
   "cell_type": "markdown",
   "id": "d4969071",
   "metadata": {},
   "source": [
    "To access the energy range defined by the mask you can use:\n",
    "- `dataset.energy_range_safe` : energy range definedby the `mask_safe`\n",
    "- `dataset.energy_range_fit` : energy range defined by the `mask_fit`\n",
    "- `dataset.energy_range` : the final energy range used in likelihood computation\n",
    "\n",
    "These methods return two maps, with the `min` and `max` energy values at each spatial pixel"
   ]
  },
  {
   "cell_type": "code",
   "execution_count": null,
   "id": "f01a6262",
   "metadata": {},
   "outputs": [],
   "source": [
    "e_min, e_max = dataset_cta.energy_range"
   ]
  },
  {
   "cell_type": "code",
   "execution_count": null,
   "id": "af9d0080",
   "metadata": {},
   "outputs": [],
   "source": [
    "# To see the lower energy threshold at each point\n",
    "e_min.plot(add_cbar=True)"
   ]
  },
  {
   "cell_type": "code",
   "execution_count": null,
   "id": "80333103",
   "metadata": {},
   "outputs": [],
   "source": [
    "# To see the lower energy threshold at each point\n",
    "e_max.plot(add_cbar=True)"
   ]
  },
  {
   "cell_type": "markdown",
   "id": "e468de4b",
   "metadata": {},
   "source": [
    "Just as for `Map` objects it is possible to cutout a whole `MapDataset`, which will perform the cutout for all maps in parallel.Optionally one can provide a new name to the resulting dataset:"
   ]
  },
  {
   "cell_type": "code",
   "execution_count": null,
   "id": "f5cfb21b",
   "metadata": {},
   "outputs": [],
   "source": [
    "cutout = dataset_cta.cutout(\n",
    "    position=SkyCoord(\"0d\", \"0d\", frame=\"galactic\"),\n",
    "    width=2 * u.deg,\n",
    "    name=\"cta-cutout\",\n",
    ")"
   ]
  },
  {
   "cell_type": "code",
   "execution_count": null,
   "id": "1ff745a7",
   "metadata": {},
   "outputs": [],
   "source": [
    "cutout.counts.sum_over_axes().plot()"
   ]
  },
  {
   "cell_type": "markdown",
   "id": "6799801a",
   "metadata": {},
   "source": [
    "It is also possible to slice a `MapDataset` in energy:"
   ]
  },
  {
   "cell_type": "code",
   "execution_count": null,
   "id": "23eaa489",
   "metadata": {},
   "outputs": [],
   "source": [
    "sliced = dataset_cta.slice_by_energy(\n",
    "    energy_min=1 * u.TeV, energy_max=5 * u.TeV, name=\"slice-energy\"\n",
    ")\n",
    "sliced.counts.plot_grid();"
   ]
  },
  {
   "cell_type": "markdown",
   "id": "7893d315",
   "metadata": {},
   "source": [
    "The same operation will be applied to all other maps contained in the datasets such as `mask_fit`:"
   ]
  },
  {
   "cell_type": "code",
   "execution_count": null,
   "id": "03945495",
   "metadata": {},
   "outputs": [],
   "source": [
    "sliced.mask_fit.plot_grid();"
   ]
  },
  {
   "cell_type": "markdown",
   "id": "800d5c32",
   "metadata": {},
   "source": [
    "### Resampling datasets\n",
    "\n",
    "It can often be useful to coarsely rebin an initially computed datasets by a specified factor. This can be done in either spatial or energy axes:"
   ]
  },
  {
   "cell_type": "code",
   "execution_count": null,
   "id": "6e6f8e63",
   "metadata": {},
   "outputs": [],
   "source": [
    "downsampled = dataset_cta.downsample(factor=8)\n",
    "downsampled.counts.sum_over_axes().plot()"
   ]
  },
  {
   "cell_type": "markdown",
   "id": "dd27cce1",
   "metadata": {},
   "source": [
    "And the same downsampling process is possible along the energy axis:"
   ]
  },
  {
   "cell_type": "code",
   "execution_count": null,
   "id": "e9a6c824",
   "metadata": {},
   "outputs": [],
   "source": [
    "downsampled_energy = dataset_cta.downsample(\n",
    "    factor=5, axis_name=\"energy\", name=\"downsampled-energy\"\n",
    ")\n",
    "downsampled_energy.counts.plot_grid();"
   ]
  },
  {
   "cell_type": "markdown",
   "id": "47d671aa",
   "metadata": {},
   "source": [
    "In the printout one can see that the actual number of counts is preserved during the downsampling:"
   ]
  },
  {
   "cell_type": "code",
   "execution_count": null,
   "id": "ab413ccc",
   "metadata": {},
   "outputs": [],
   "source": [
    "print(downsampled_energy, dataset_cta)"
   ]
  },
  {
   "cell_type": "markdown",
   "id": "6351523c",
   "metadata": {},
   "source": [
    "We can also resample the finer binned datasets to an arbitrary coarser energy binning using:"
   ]
  },
  {
   "cell_type": "code",
   "execution_count": null,
   "id": "5f7452d6",
   "metadata": {},
   "outputs": [],
   "source": [
    "energy_axis_new = MapAxis.from_energy_edges([0.1, 0.3, 1, 3, 10] * u.TeV)\n",
    "resampled = dataset_cta.resample_energy_axis(energy_axis=energy_axis_new)\n",
    "resampled.counts.plot_grid(ncols=2);"
   ]
  },
  {
   "cell_type": "markdown",
   "id": "1d416b3d",
   "metadata": {},
   "source": [
    "To squash the whole dataset into a single energy bin there is the `.to_image()` convenience method:"
   ]
  },
  {
   "cell_type": "code",
   "execution_count": null,
   "id": "7c922f14",
   "metadata": {},
   "outputs": [],
   "source": [
    "dataset_image = dataset_cta.to_image()\n",
    "dataset_image.counts.plot()"
   ]
  },
  {
   "cell_type": "markdown",
   "id": "4e1e3cff",
   "metadata": {},
   "source": [
    "## SpectrumDataset\n",
    "\n",
    "`SpectrumDataset` inherits from a `MapDataset`, and is specially adapted for 1D spectral analysis, and uses a `RegionGeom` instead of a `WcsGeom`. \n",
    "A `MapDatset` can be converted to a `SpectrumDataset`, by summing the `counts` and `background` inside the `on_region`, which can then be used for classical spectral analysis. Containment correction is feasible only for circular regions."
   ]
  },
  {
   "cell_type": "code",
   "execution_count": null,
   "id": "78be98fd",
   "metadata": {},
   "outputs": [],
   "source": [
    "region = CircleSkyRegion(\n",
    "    SkyCoord(0, 0, unit=\"deg\", frame=\"galactic\"), 0.5 * u.deg\n",
    ")\n",
    "spectrum_dataset = dataset_cta.to_spectrum_dataset(\n",
    "    region, containment_correction=True, name=\"spectrum-dataset\"\n",
    ")"
   ]
  },
  {
   "cell_type": "code",
   "execution_count": null,
   "id": "1daab004",
   "metadata": {},
   "outputs": [],
   "source": [
    "# For a quick look\n",
    "spectrum_dataset.peek();"
   ]
  },
  {
   "cell_type": "markdown",
   "id": "e157bee1",
   "metadata": {},
   "source": [
    "A `MapDataset` can also be integrated over the `on_region` to create a `MapDataset` with a `RegionGeom`. Complex regions can be handled and since the full IRFs are used, containment correction is not required. "
   ]
  },
  {
   "cell_type": "code",
   "execution_count": null,
   "id": "e5486248",
   "metadata": {},
   "outputs": [],
   "source": [
    "reg_dataset = dataset_cta.to_region_map_dataset(\n",
    "    region, name=\"region-map-dataset\"\n",
    ")\n",
    "print(reg_dataset)"
   ]
  },
  {
   "cell_type": "markdown",
   "id": "b5e71bec",
   "metadata": {},
   "source": [
    "## FluxPointsDataset\n",
    "\n",
    "`FluxPointsDataset` is a `Dataset` container for precomputed flux points, which can be then used in fitting.\n",
    "`FluxPointsDataset` cannot be read directly, but should be read through `FluxPoints`, with an additional `SkyModel`. Similarly, `FluxPointsDataset.write` only saves the `data` component to disk. "
   ]
  },
  {
   "cell_type": "code",
   "execution_count": null,
   "id": "ea3daabd",
   "metadata": {},
   "outputs": [],
   "source": [
    "flux_points = FluxPoints.read(\n",
    "    \"$GAMMAPY_DATA/tests/spectrum/flux_points/diff_flux_points.fits\"\n",
    ")\n",
    "model = SkyModel(spectral_model=PowerLawSpectralModel(index=2.3))\n",
    "fp_dataset = FluxPointsDataset(data=flux_points, models=model)"
   ]
  },
  {
   "cell_type": "code",
   "execution_count": null,
   "id": "bf48db47",
   "metadata": {},
   "outputs": [],
   "source": [
    "fp_dataset.plot_spectrum()"
   ]
  },
  {
   "cell_type": "markdown",
   "id": "19b5b78b",
   "metadata": {},
   "source": [
    "The masks on `FluxPointsDataset` are `np.array` and the data is a `FluxPoints` object. The `mask_safe`, by default, masks the upper limit points"
   ]
  },
  {
   "cell_type": "code",
   "execution_count": null,
   "id": "13839b3c",
   "metadata": {},
   "outputs": [],
   "source": [
    "fp_dataset.mask_safe  # Note: the mask here is simply a numpy array"
   ]
  },
  {
   "cell_type": "code",
   "execution_count": null,
   "id": "d8bc0a85",
   "metadata": {},
   "outputs": [],
   "source": [
    "fp_dataset.data  # is a `FluxPoints` object"
   ]
  },
  {
   "cell_type": "code",
   "execution_count": null,
   "id": "d089abb1",
   "metadata": {},
   "outputs": [],
   "source": [
    "fp_dataset.data_shape()  # number of data points"
   ]
  },
  {
   "cell_type": "markdown",
   "id": "2fc6e884",
   "metadata": {},
   "source": [
    "For an example of fitting `FluxPoints`, see [flux point fitting](../analysis/1D/sed_fitting.ipynb), and can be used for catalog objects, eg see [catalog notebook](catalog.ipynb)"
   ]
  },
  {
   "cell_type": "markdown",
   "id": "73c3c8ac",
   "metadata": {},
   "source": [
    "## Datasets"
   ]
  },
  {
   "cell_type": "markdown",
   "id": "1bb17210",
   "metadata": {},
   "source": [
    "`Datasets` are a collection of `Dataset` objects. They can be of the same type, or of different types, eg: mix of `FluxPointDataset`, `MapDataset` and `SpectrumDataset`. \n",
    "\n",
    "For modelling and fitting of a list of `Dataset` objects, you can either\n",
    "- Do a joint fitting of all the datasets together\n",
    "- Stack the datasets together, and then fit them.\n",
    "\n",
    "`Datasets` is a convenient tool to handle joint fitting of simultaneous datasets. As an example, please see the [joint fitting tutorial](../analysis/3D/analysis_mwl.ipynb)\n",
    "\n",
    "To see how stacking is performed, please see [Implementation of stacking](../../user-guide/datasets/index.rst#stacking-multiple-datasets)\n",
    "\n",
    "To create a `Datasets` object, pass a list of `Dataset` on init, eg"
   ]
  },
  {
   "cell_type": "code",
   "execution_count": null,
   "id": "97bb3d44",
   "metadata": {},
   "outputs": [],
   "source": [
    "datasets = Datasets([dataset_empty, dataset_cta])"
   ]
  },
  {
   "cell_type": "code",
   "execution_count": null,
   "id": "320f2e72",
   "metadata": {},
   "outputs": [],
   "source": [
    "print(datasets)"
   ]
  },
  {
   "cell_type": "markdown",
   "id": "75d7e3c2",
   "metadata": {},
   "source": [
    "If all the datasets have the same type we can also print an info table, collectiong all the information from the individual casll to `Dataset.info_dict()`:"
   ]
  },
  {
   "cell_type": "code",
   "execution_count": null,
   "id": "5e13ddb7",
   "metadata": {},
   "outputs": [],
   "source": [
    "datasets.info_table()  # quick info of all datasets"
   ]
  },
  {
   "cell_type": "code",
   "execution_count": null,
   "id": "e238743f",
   "metadata": {},
   "outputs": [],
   "source": [
    "datasets.names  # unique name of each dataset"
   ]
  },
  {
   "cell_type": "markdown",
   "id": "71465a10",
   "metadata": {},
   "source": [
    "We can access individual datasets in  `Datasets` object by name: "
   ]
  },
  {
   "cell_type": "code",
   "execution_count": null,
   "id": "fba31ce7",
   "metadata": {},
   "outputs": [],
   "source": [
    "datasets[\"dataset-empty\"]  # extracts the first dataset"
   ]
  },
  {
   "cell_type": "markdown",
   "id": "44bd6a57",
   "metadata": {},
   "source": [
    "Or by index:"
   ]
  },
  {
   "cell_type": "code",
   "execution_count": null,
   "id": "98f51c9a",
   "metadata": {},
   "outputs": [],
   "source": [
    "datasets[0]"
   ]
  },
  {
   "cell_type": "markdown",
   "id": "ea62f029",
   "metadata": {},
   "source": [
    "Other list type operations work as well such as:"
   ]
  },
  {
   "cell_type": "code",
   "execution_count": null,
   "id": "d4282bd4",
   "metadata": {},
   "outputs": [],
   "source": [
    "# Use python list convention to remove/add datasets, eg:\n",
    "datasets.remove(\"dataset-empty\")\n",
    "datasets.names"
   ]
  },
  {
   "cell_type": "markdown",
   "id": "487596b2",
   "metadata": {},
   "source": [
    "Or"
   ]
  },
  {
   "cell_type": "code",
   "execution_count": null,
   "id": "a0718875",
   "metadata": {},
   "outputs": [],
   "source": [
    "datasets.append(spectrum_dataset)\n",
    "datasets.names"
   ]
  },
  {
   "cell_type": "markdown",
   "id": "d8047b32",
   "metadata": {},
   "source": [
    "Let's create a list of spectrum datasets to illustrate some more functionality:"
   ]
  },
  {
   "cell_type": "code",
   "execution_count": null,
   "id": "d3227f34",
   "metadata": {},
   "outputs": [],
   "source": [
    "datasets = Datasets()\n",
    "\n",
    "path = make_path(\"$GAMMAPY_DATA/joint-crab/spectra/hess\")\n",
    "\n",
    "for filename in path.glob(\"pha_*.fits\"):\n",
    "    dataset = SpectrumDatasetOnOff.read(filename)\n",
    "    datasets.append(dataset)"
   ]
  },
  {
   "cell_type": "code",
   "execution_count": null,
   "id": "b44eebf6",
   "metadata": {},
   "outputs": [],
   "source": [
    "print(datasets)"
   ]
  },
  {
   "cell_type": "markdown",
   "id": "f2b1dab3",
   "metadata": {},
   "source": [
    "Now we can stack all datasets using `.stack_reduce()`:"
   ]
  },
  {
   "cell_type": "code",
   "execution_count": null,
   "id": "9c26a430",
   "metadata": {},
   "outputs": [],
   "source": [
    "stacked = datasets.stack_reduce(name=\"stacked\")\n",
    "print(stacked)"
   ]
  },
  {
   "cell_type": "markdown",
   "id": "c44e3df3",
   "metadata": {},
   "source": [
    "Or slice all datasets by a given energy range:"
   ]
  },
  {
   "cell_type": "code",
   "execution_count": null,
   "id": "aeea4a99",
   "metadata": {},
   "outputs": [],
   "source": [
    "datasets_sliced = datasets.slice_by_energy(\n",
    "    energy_min=\"1 TeV\", energy_max=\"10 TeV\"\n",
    ")\n",
    "print(datasets_sliced.energy_ranges)"
   ]
  },
  {
   "cell_type": "code",
   "execution_count": null,
   "id": "73e59c72-8f5f-4614-8941-50bb6ac22d7d",
   "metadata": {},
   "outputs": [],
   "source": []
  }
 ],
 "metadata": {
  "kernelspec": {
   "display_name": "Python 3 (ipykernel)",
   "language": "python",
   "name": "python3"
  },
  "language_info": {
   "codemirror_mode": {
    "name": "ipython",
    "version": 3
   },
   "file_extension": ".py",
   "mimetype": "text/x-python",
   "name": "python",
   "nbconvert_exporter": "python",
   "pygments_lexer": "ipython3",
   "version": "3.8.13"
  },
  "widgets": {
   "application/vnd.jupyter.widget-state+json": {
    "state": {
     "1917f4daf35c4796b919ddb168b23c5e": {
      "model_module": "@jupyter-widgets/controls",
      "model_module_version": "1.5.0",
      "model_name": "DescriptionStyleModel",
      "state": {
       "_model_module": "@jupyter-widgets/controls",
       "_model_module_version": "1.5.0",
       "_model_name": "DescriptionStyleModel",
       "_view_count": null,
       "_view_module": "@jupyter-widgets/base",
       "_view_module_version": "1.2.0",
       "_view_name": "StyleView",
       "description_width": "initial"
      }
     },
     "38bcf763c68040b2ab8d5cf3e16bf078": {
      "model_module": "@jupyter-widgets/controls",
      "model_module_version": "1.5.0",
      "model_name": "RadioButtonsModel",
      "state": {
       "_dom_classes": [],
       "_model_module": "@jupyter-widgets/controls",
       "_model_module_version": "1.5.0",
       "_model_name": "RadioButtonsModel",
       "_options_labels": [
        "linear",
        "sqrt",
        "log"
       ],
       "_view_count": null,
       "_view_module": "@jupyter-widgets/controls",
       "_view_module_version": "1.5.0",
       "_view_name": "RadioButtonsView",
       "description": "Select stretch:",
       "description_tooltip": null,
       "disabled": false,
       "index": 1,
       "layout": "IPY_MODEL_788b080909664efa9d65ebbf5672b941",
       "style": "IPY_MODEL_1917f4daf35c4796b919ddb168b23c5e"
      }
     },
     "4e1cddcd65424e32b10840208ea6f5aa": {
      "model_module": "@jupyter-widgets/output",
      "model_module_version": "1.0.0",
      "model_name": "OutputModel",
      "state": {
       "_dom_classes": [],
       "_model_module": "@jupyter-widgets/output",
       "_model_module_version": "1.0.0",
       "_model_name": "OutputModel",
       "_view_count": null,
       "_view_module": "@jupyter-widgets/output",
       "_view_module_version": "1.0.0",
       "_view_name": "OutputView",
       "layout": "IPY_MODEL_cfa1c67fc4a54d4696bc6fed679055c9",
       "msg_id": "",
       "outputs": [
        {
         "data": {
          "image/png": "iVBORw0KGgoAAAANSUhEUgAAAXEAAAEDCAYAAADDbTRuAAAAOXRFWHRTb2Z0d2FyZQBNYXRwbG90bGliIHZlcnNpb24zLjMuMCwgaHR0cHM6Ly9tYXRwbG90bGliLm9yZy86wFpkAAAACXBIWXMAAAsTAAALEwEAmpwYAAAeqElEQVR4nO3deZRdZZ3u8e+TgAwBxIgTBJvCRlnYzRjEdha1Dei9IOoygOHSDogXcF449bJbbdd1wqst2DHSKEbakSiIQa5XVPQiQ4LMqJ1LKUS4YkCmoELIc//Y+6ROiqpzdlXOsHfV81lrr5w9nHe/Z6fqV+/57Xe/r2wTERHNNGfYFYiIiOlLEI+IaLAE8YiIBksQj4hosATxiIgGSxCPiGiwBPGIiAGRdJakOyRdP8l+SfpXSWskXSvpwG5lJohHRAzOl4BFHfYfBuxVLicA/9atwATxiIgBsX0JcFeHQ44AvuzCZcDOkp7UqcwE8YiI+tgNuLVtfW25bVJb9bU6ERENt2jRIq9bt67SsatXr74B+HPbpmW2l03hdJpgW8exURLEIyI6WLduHatWXVHpWGnun20v3ILTrQV2b1tfANzW6Q1Jp0REdGRgY8Vli50PHFf2UnkmcI/t2zu9YaAtcUnbApcA25Tn/pbtf5K0K/AV4D7gWNv3D7JeERGd9SRAI+mrwAuAXSStBf4J2BrA9lJgJXA4sAZ4APiHbmUOOp3yF+BQ2/dL2hr4maQLgSOBU4A9gdcCSwdcr4iISRjY0JuS7KO77Ddw0lTKHGg6pew202plb10uBuYy9n1kosT+JpKW97WSDZJrMSbXYkyuxZjeXYuBpVOmbOA5cUlzJV0N3AH8wPblwOnA54ETKdIqnRzV3xo2Sq7FmFyLMbkWY3pwLQaaE5+ygfdOsf0wsL+knYFvS/ob29cDzxt0XSIiqhlOgK5iaF0Mbd8t6ccUj6BOOI5AS/mVqPUXdfuFCxdmTjlg/vz55FoUci3G5FoUVq9ezZw5c5C0vm3zCttLplZSqyVeT4PunfI44KEygG8HvBj4WLf3lRd9CcDChQu9atWq/lY0ImaEhQsXsmrVqnlbXlJvbmz2w6Bb4k8CzpY0lyIf/w3bFwy4DhERU5CW+Ca2rwUOGOQ5IyK2XIJ4RERDpSUeEdFwCeIREQ2WIB4R0VC9e+y+HxLEIyI6Sk48IqLhEsQjIhqsvkE8k0JERHTUuwGwJC2S9CtJayS9Z4L9j5b0XUnXSLpBUtfxxBPEIyK62vIgXj6pfgZwGLAPcLSkfcYddhJwo+39KCaPOE3SozqVmyAeEdFRq3dKlaWjZwBrbN9s+0Hga8ARE5xsR0kCdgDu6lZwcuIREV31JCe+G3Br2/pa4JBxx5xOMc/mbcCOwGtsdzx5WuIRER1NKSe+i6RVbcsJbQVNNGvZ+CGDXwpcDewK7A+cLmmnTrVLSzwioqvKLfF1thdOsm8tsHvb+gKKFne7fwA+Ws61uUbSKLA3cMVkJ0xLPCKio571TrkS2EvSSHmzcjFF6qTdLcCLACQ9AXgacHOnQtMSj4joassfu7e9QdLJwEUUk8OfZfsGSSeW+5cCHwa+JOk6ivTLu22v61RugnhEREe9e+ze9kpg5bhtS9te3wb8/VTKTBCPiOiqvk9sJohHRHSUAbAiIhouQTwiosESxCMiGiqTQkRENFhy4hERDZcgHhHRYAniERENVe90ykDHTpG0u6QfSbqpnLXireX2XSVdLOk8STsMsk4REd31Zmaffhh0S3wD8E7bV0naEVgt6QfAccApwJ7Aa4GlHcqIiBig9E7ZxPbtwO3l6/sk3UQxUPpcxv6UTTTmbkTEENU3nTK0nLikPYADgMuBXwPLgXuAY4ZVp4iIR6p3TnwoQbzMe58LvM32vcC9wPM6HL8cOApg/vz5A6ljRDTf6Ogokta3bVphe8nUS6pvEB/4pBCStqYI4OfYXlHlPbaX2J5ne97IyEh/KxgRM8bIyAit2FEu0wjgPZsUoi8G2hIvZ3D+d+Am258a5LkjIqan3jc2B90SfzawBDhU0tXlcviA6xARMUVpiQNg+2ek90lENE5vArSkRcBnKHrknWn7oxMc8wLg08DWFBMvP79TmXliMyKio970TpE0FzgDeAnFzPdXSjrf9o1tx+wMfA5YZPsWSY/vVm5mu4+I6Kon6ZRnAGts32z7QeBrwBHjjjmGogfNLQC27+hWaIJ4RERHPeudshtwa9v62nJbu6cCj5H0Y0mrJR3XrdCkUyIiuqrcO2UXSava1pfZXla+nuh+oMetbwUcBLwI2A74uaTLbP96shMmiEdEdDSlnPg62wsn2bcW2L1tfQFw2wTHrLO9Hlgv6RJgP4qn2ieUdEpERFc9SadcCewlaUTSo4DFwPnjjjkPeK6krSRtDxwC3NSp0LTEIyI66k3vFNsbJJ0MXETRxfAs2zdIOrHcv9T2TZK+D1xbnvRM29d3KjdBPCKiq970E7e9Elg5btvSceufAD5RtcwE8YiIjur92H2CeERENxvrO4phgnhERCd2gnhERKMliEdENJSBhxPEIyIaKumUiIjmsuHh9E6JiGiutMQjIhrKJIhHRDRXcuIREc2V3ikREU2WlnhERHOZWvdOqTSeuKS/kvTi8vV2knbsb7UiIuqibIlXWYagaxCX9EbgW8Dny00LgO/0sU4REfXS5CAOnAQ8G7gXwPZ/Ao/vZ6UiImrDDW+JA3+x/WBrRdJWPHJyz0oknSXpDknXt23bVdLFks6TtMN0yo2I6KuGB/GfSHofsJ2klwDfBL47zfN9CVg0bttbgFOAM4HXTrPciIj+sOGhDdWWIagSxN8D/AG4DngTxdRC/zidk9m+BLhr3Oa5jM0yqumUGxHRN60nNmvaEu/axdD2RuAL5dIPpwPLgXuAY/p0joiIaTK4gf3EJV1Hh9y37X17UQHbvwWe14uyIiL6oqEP+7y8/Pek8t/l5b/HAg/0rUYTkLQcOApg/vz5gzx1RDTY6Ogokta3bVphe8mUCqn59GyT5sRt/7ZsJT/b9qm2ryuX9wAvHVwVwfYS2/NszxsZGRnkqSOiwUZGRmjFjnKZWgBv6VFOXNIiSb+StEbSezocd7CkhyW9qluZVW5szpP0nLbCnwXMq/C+iSr2VeDnwNMkrZX0+umUExExMD3qnSJpLnAGcBiwD3C0pH0mOe5jwEVVqldl7JTXA2dJenS5fjfwuiqFj2f76Om8LyJiqHqTTnkGsMb2zQCSvgYcAdw47rhTgHOBg6sUWqV3ympgP0k7AbJ9z1RqHRHRaL3Lie8G3Nq2vhY4pP0ASbsBrwAOpVdBXNIHxq0DYPtDVU4QEdF41bsY7iJpVdv6MtvLytcTPQczvgfgp4F32364FWu7qZJOab+zuy1Fr5WbKpUeETETVG+Jr7O9cJJ9a4Hd29YXALeNO2Yh8LUygO8CHC5pg+3vTHbCKumU09rXJX0SOL/b+yIiZoTepVOuBPaSNAL8DljMuAccbW/qfifpS8AFnQI4TG9SiO2BPafxvoiI5rFhw5aPi2J7g6STKXqdzAXOsn2DpBPL/UunU26VnHj7k5tzgccBH57OySIiGqlHD/vYXkkx/lT7tgmDt+3jq5RZpSX+8rbXG4Df267vXEUREb1U84mSqzzs8y+tpzdt/678SrC8+9siImaCek8KUaUl/vT2lXJSiIP6U52IiBpq6CiG7wVak0Hc29oMPAgsm+x9EREzSo9ubPZLpwGw/oftHYFP2N6pXHa0/Vjb7x1gHSMihquJ6RRJe9v+JfBNSQeO32/7qr7WLCKiDmo+FG2nnPg7gBOA0ybYZ4pn+yMiZr4a906ZNIjbPqF8eZjtP7fvk7RtX2sVEVEXNW+JV+lieGnFbRERM1NDc+JPpBg6cTtJBzA2AtdOFI/eR0TMfDY8XN/eKZ1y4i8FjqcYaetTbdvvo+h6GBExO9Q4ndIpJ342cLakV9o+d4B1ioioj5rnxKsMRXuupJdRPLm5bdv2TAoREbNDk4O4pKUUOfAXAmcCrwKu6HO9IiLqwdQ6iFfpnfIs28cBf7T9QeDv2Hx2ioiIGcxFP/EqyxBUGQDrT+W/D0jaFbgTGOlwfETEzNHg3iktF0jaGfgEcBXFl4sv9LNSERG1UuN0SpUbm61ZfM6VdAHFzc29+1qriIi6qHlOfEpzbNr+C/AXSd8EntyfKkVE1Em9uxhWubE5EXU/ZII3SYsk/UrSGknvKbftKuliSedJ2mGa9YmI6J8mPnbfhbsfsjlJc4EzgJcAa4ErJZ0PHAecAuwJvBaY1ozPERF9YcNDDbyxKem7TBysBTx2Gud6BrDG9s1l+V8DjgDmAhvLZVot/IiIvmlwTvyT09w3md2AW9vW1wKHUPR6WQ7cAxwzjXIjIvrIzZxj0/ZPenyuiVrZtv1b4Hkd3ygtB44CmD9/fo+rFREz1ejoKJLWt21aYXvJlAuqcUt8ujc2p2Mtmz/puQC4rcobbS+xPc/2vJGRPGcUEdWMjIzQih3lMvUAbvBGV1qGYbo3NqfjSmAvSSPA74DFJH0SEQ1Q44b44IK47Q2STgYuoriZeZbtGwZ1/oiI6bBhQ307p3RPp0j6QfnYfWv9MZIums7JbK+0/VTbT7H9kemUERExSK3OKTXtJl6pJb6L7btbK7b/KOnx/atSRESNGDY+POxKTK5KEN8o6cm2bwGQ9FdM42GfiIimanpO/P3AzyS1uhw+Dzihf1WKiKgPG4bU8aSSrjlx298HDgS+DnwDOMj2tHLiERFN1Kuc+ETjR43bf6yka8vlUkn7dSuz02P3e9v+paQDy02tPt1PLtMrV3WvckREs9mw4aEtL2ey8aNs39h22Cjw/PLe42HAMoon2yfVKZ3yDoq0yWkT7DNw6BTqHxHRSKZn6ZTJxo/aFMRtX9p2/GUUD0V21Omx+1be+zDbf27fJ2nbCd4SETHz9G448cnGj5rM64ELuxVa5cbmpRQ58W7bIiJmpCl0MdxF0qq29WW2l5WvJxw/aqJCJL2QIog/p9sJO+XEn0jxl2M7SQe0VWAnYPtuBffL6tWrh3XqiGgQSRx00EFbXI6n1hJfZ3vhJPsqjR8laV/gTIosyJ3dTtipJf5S4PjyRKcxFsTvBd7XreCIiJnAwIbePOzTdfwoSU8GVgBLbP+6SqGdcuJnA2dLeqXtc6dd7T6QhF3jjpsRMVRSD+eX6VFOfLLxoySdWO5fCnyAYtKdz5WfYUOHlj1QLSd+kKQfth69l/QY4J22/3Han6YHEsgjYiI9DeClXj12b3slsHLctqVtr98AvGEqZVYZT/yw8WOnAIdP5SQREU3V6mJYZRmGKi3xuZK2sf0XAEnbAdv0t1rVpDUeEe360QrvYRfDvqgSxL8C/FDSFyn+KL0OOLuvtZqCBPKIgD4FcMqWeJNHMbT9cUnXAS+i6KHy4bqNnZJAHjG79SuAA+Ce9U7pi0oz+9i+kApPDg1TAnnE7NTXAM6U+4kPXJWZfZ4p6UpJ90t6UNLDku4dROWmqt//mRFRL4P6nW/6zD6nU3RK/yawEDgO+Ot+Vioioi48A2b2wfYaSXNtPwx8UdKlXd80JEmrRMwOg/zmXedJIaoE8QckPQq4WtLHgduBef2t1pZJII+Y2QYZwHs1nni/VHnYZwnFI6InA+spBnB5ZT8r1QuSkiOPmGGG9Xvd6Jy47d+WL/8EfLC/1em9tMojZoZhNcp6OClEX3QaivY6Osxqb3vfvtQoIqJOat7FsFNL/OW9PJGkvYEvUkwm8X7bn2zbtxg4Ffiy7U/38rxl+WmNRzTYsFOjjQzibWmUXrkLeAtw5AT7FgMHA+dI2sH2/T0+dwJ5REMNO4DXvYvhwB72sX2H7SuBie7ztv6X3Pa653KzM6I56vL72poUosoyDFV6p5wOHA38J7AdxVi3n+1xPVYAq4BVtu/rcdmPUIcfjIiYXK1+R8uWeJVlGGrxsE9rFqFelhkR0St1zolXaYlv9rCPpLdT8WEfSSdJurpcdp1uJSUtl7Re0vrpljFBmfX6ax8RPf+9HB0dpRU7ymX5VMtwxQkhhtUNserDPnOYxsM+ts+wvX+5PGJW56psL7E9z3bPnxRNII+oh378Lo6MjNCKHeWyZDrlzJSHff7MFjzsI+mJFHnvnYCNkt4G7GN76CMipudKxHDVuTFl6p1O6fSwzxHAAttnlOuXA48rd59q+1tTOZHt/wcsmG5F+631Q5RgHjE4dQ7emxg2bBh2JSbXKZ1yKnB+2/o2FH25XwC8uY91GqpG/FBFzABN+V1rTQrRxHTKo2zf2rb+M9t3AndKqvUohlsq6ZWI/mpKAG+p88M+nYL4Y9pXbJ/ctvo4ZrikVyJ6r2nBG5o9Pdvlkt44fqOkNwFX9K9KERH1Uucuhp1a4m8HviPpGOCqcttBFLnxI/tcr9oY33JIyzyiuia2vMdzzW9sdhoA6w7gWZIOBZ5ebv6e7YsHUrOaSr48opqZEMBbmpoTB6AM2rM6cEfE1MykAF73nHilsVMiImazRs7sExER5RObTU6nRETMakmnREQ0V2tSiLpKEI+I6CQt8YiI5kpOPCKiydISj4hotnQxnGHy1GbE7GEnnRIR0VimoWOnREREocYp8QTxiIhuEsQjIhrKJIhHRDRagnhEREMZqPF9zQTx6Uo3w4iJzaSxxFvSEo+IaKjkxCMiGq7OQbzTbPc9JelYSdeWy6WS9mvbt1jSVZLeNqj6RERU0WqJV1mGYWBBHBgFnm97X+DDwLK2fYuBg4FnStphgHWKiOiqzkF8YOkU25e2rV4GLGhbb90Jcdvr2svNzYjNzcSbmnXvnTLIlni71wMXtq2vAFYBq2zfN5wqRURMLC3xNpJeSBHEn9PaZvts4OwO71kOHNX/2kXETDI6Ooqk9W2bVtheMpUyZnXvFEknAW8sVw8HdgHOBA6zfWfVcsqLvqQss1b5i6RUIgp1TKWMjIxw5513ztvScuocxPuaTrF9hu39be9P8QdjBbDE9q/7ed6IiF5KOqXwAeCxwOfKv9gbbC8c4PkjIqZsVqdT2tl+A/CGQZ0vIqIX6t47JU9s9kDy4jHb1TEf3ktpiUdENFiC+CyQ1njMVjO9FZ6ceEREwyWIR0Q0VG5sRkQ0WNIpERENlyA+S+TmZsw2M/2mZkuCeEREQyWdEhHRcAnis0hSKjFbzJZUSnqnzEIJ5DHTzZYA3pKWeEREQyUnPkulNR4z1WxrhUOCeEREY6UlPoulNR4zzWxshUNubEZENFZa4hERDZcgPoslpRIzxWxNpaQlHhHRcAnis1xa49F0s7UV3pIgHgnk0VizPYDnsfuIiAZLTjw2SWs8mma2t8Jb6hzE5wzqRJKOkHStpKslrZL0nLZ9iyVdJeltg6pPRERVGysuwzDIlvgPgfNtW9K+wDeAvct9i4GDgXMk7WD7/gHWa6DSGo+mSCu8kHRKaVxgnkdxbVpaPy1uex0RUQt1DuIDS6cASHqFpF8C3wNe17ZrBbAKWGX7vkHWaRjSwom6y8/omFbvlCrLMAw0iNv+tu29gSOBD7dtP9v2AbZPG2R9him/JFFX+dl8pDrnxNXP/Kykk4A3lquH276tbd8ocLDtdRXKWQ4cBTBnzpztDzjggH5Ut3FGR0cZGRkZdjVqIddiTK7FmF/84hds3LjxgbZNK2wvmUoZW0l+dMVj74LVthdOpfwt1dcgvtmJpL8G/m95Y/NA4LvAAk+xApLW257Xl0o2TK7FmFyLMbkWY3pxLbaSvGPFY+8eQhAfZO+UVwLHSXoI+BPwmqkG8IiIQUvvlJLtjwEfG9T5IiJ6JY/d99aKYVegRnItxuRajMm1GLPF16LuLfGB5cQjIppojuStKx77YJecuKRFwGeAucCZtj86br/K/YcDDwDH276qY/0q1i0iYlZqtcS3tIuhpLnAGcBhwD7A0ZL2GXfYYcBe5XIC8G/d6teIIC5prqRfSLqgXN9V0sWSzpO0w7DrNwiSdpf0I0k3SbpB0lvL7bPuWkDRopH0K0lrJL2n3DZjr4WkbSVdIema8v//g+X2f5b0u3JMoqslHV5u31rS2ZKuK39m3ttW1gvK8Ys+PqzPsyWmei3KfftK+nl5/HWSti23V7oWPeon/gxgje2bbT8IfA04YtwxRwBfduEyYGdJT+pUaFNy4m8FbgJ2KtffApwC7Am8Flg6pHoN0gbgnbavkrQjsFrSD4DjmGXXoq1F8xJgLXClpPOZ2dfiL8Chtu+XtDXwM0kXlvv+p+1Pjjv+1cA2tv9W0vbAjZK+avs3wJuB5wL/Imlv278c1IfokSldC0lbAV8Blti+RtJjgYfK3VWuxUUbYZeKddtW0qq29WW2l5WvdwNubdu3Fjhk3PsnOmY34PbJTlj7IC5pAfAy4CPAO8rNcxn74zcrHi+zfTvlf6Tt+yTdRPGfO+uuBW0tGgBJrRbNjL0WZXfc1vhDW5dLpxtaBuaVAWw74EHg3nLfHMayBI27TtO4Fn8PXGv7mvL9d7bt63otbC/a0jqXJip/fL2rHLOZJqRTPg2cyubfVk4HPg+cSPEXdlaRtAdwAHA5s/NaTNZamdHXokwrXg3cAfzA9uXlrpPLYZ7PkvSYctu3gPUUf/hvAT5p+65y35nApcAc2zcN7hP0zhSvxVMBS7qoHPL61LaiBnkt1gK7t60vAG6bxjGbs13bBXg58Lny9QuAC4Zdp2EvwA7AauCoYddliNfg1RR39lvrS4DPDrteA/z8OwM/Av4GeALFN5A5FN9WzyqPeTZwDkUr9fHAr4A9h133IV2LdwGjFCmR7YGfAy8aQl23Am4GRoBHAdcATx93zMuACyla5M8EruhWbt1b4s8G/quk31DcBDhU0oxrYVVV5v/OBc6xPZv7Ak+9tTKD2L4b+DGwyPbvbT9seyPwBYpUE8AxwPdtP2T7DuD/AAN9HHwQKl6LtcBPbK+z/QCwEjhwCHXdAJwMXERxj+8btm+QdKKkE8vDVlIE+jUUn+G/dyu31kHc9nttL7C9B8XEERfbfu2QqzUUZf/Rfwdusv2pYddnyK4E9pI0IulRFD8b5w+5Tn0l6XGSdi5fbwe8GPjluJ4LrwCuL1/fQtHokaR5FK26pt3AnNA0rsVFwL6Sti/vETwfuHGAVd7E9krbT7X9FNsfKbcttb20fG3bJ5X7/9b2qs4lNuDGZmzybIq0wXVlLhDgfbZXDq9Kw2F7g6RWi2YuxdfmG4ZcrX57EnB22TNnDkUr7gJJyyXtT3Hz6zfAm8rjzwC+SBHIBHzR9rUDr3V/TOla2P6jpE9R/PE3sNL294ZS8z7IE5sREQ1W63RKRER0liAeEdFgCeIREQ2WIB4R0WAJ4hERDZYgHhHRYAnisRlJT5D0H5JulrS6HL7zFV3es4ek6zsd0+G9x0vatW39TD1yjOXJ3vsClcMT94OKoW2/Vb7ev31o0ymU8c+S3tX72kUUEsRjk/Kp0O8Al9je0/ZBFE9DLujjaY8HNgVx22+wPZSn6cazfZvtV5Wr+1PMthJRKwni0e5Q4MHWI8AAtn9r+7OwqcX903IkuKskPWt8AZ2OkXRqOSD/NZI+KulVFON5nFMO4r+dpB9LWlgev6gs4xpJP6z6ISQdXZ7nekkfa9t+v6SPlOVdJukJ5fanlOtXSvqQpPvbPsv15aP9HwJeU9bzNeNb2OVxe5Sv369iwor/DTyt7ZinSPp++Q3np5L2rvqZIiaTIB7tng50ms/vDuAltg8EXgP8a9VjJB0GHAkcYns/4OO2vwWsAo61vb/tP7UKkfQ4igGAXlke/+oqH6BMzXyM4g/S/sDBko4sd88DLivLuwR4Y7n9M8BnbB/MBANpuZiF5QPA18t6fr3D+VvfXg4AjgIObtu9DDil/IbzLuBzVT5TRCcZOyUmJekM4DkUrfODKYY1Pb0cn+JhinGax5vsmBdTjN/xAIDHxraezDMp0jqjFY9vORj4se0/lJ/hHOB5FGmiB4FWDn01xcxAAH9H8QcG4D+A8bPkTMVzgW+3PqeKGYdQMV3cs4BvFlkrALbZgvNEAAnisbkbgFe2VmyfJGkXitYywNuB3wP7UXyL+/MEZUx2jOgyQ8k4Uz2+/X2TechjgwU9zJb9/G9g82+y27a9nqjec4C7be+/BeeMeISkU6LdxRRzBL65bdv2ba8fDdxejte8hGIEwfEmO+Z/Aa9TMd8jkuaX2+8DdpygnJ8Dz5c0Mu74bi4v37dLOcrd0cBPurznMsb+eC2e5Jjx9fwN5ZjUkg6kGOgfijTNK8r8/o7AfwGwfS8wKunV5Xskab+KnyliUgnisUnZSj2SIgiOSroCOBt4d3nI54D/JukyijTJ+gmKmfAY29+nGPN7VTmUbuum4JeApa0bm211+QNwArBC0jXAZHnoF0la21qAPYD3Usz2cg1wle3zunz0twHvKD/vk4B7JjjmR8A+rRubFJNzzC8/y5uBX5f1vqqs69XlMT9tK+NY4PXl57mBR850HjFlGYo2Zr3y28GfbFvSYuBo2wmw0QjJiUfAQRQ3YwXcDbxuuNWJqC4t8YiIBktOPCKiwRLEIyIaLEE8IqLBEsQjIhosQTwiosESxCMiGuz/AzzbeoVCQMhDAAAAAElFTkSuQmCC\n",
          "text/plain": "<Figure size 432x288 with 2 Axes>"
         },
         "metadata": {
          "needs_background": "light"
         },
         "output_type": "display_data"
        }
       ]
      }
     },
     "788b080909664efa9d65ebbf5672b941": {
      "model_module": "@jupyter-widgets/base",
      "model_module_version": "1.2.0",
      "model_name": "LayoutModel",
      "state": {
       "_model_module": "@jupyter-widgets/base",
       "_model_module_version": "1.2.0",
       "_model_name": "LayoutModel",
       "_view_count": null,
       "_view_module": "@jupyter-widgets/base",
       "_view_module_version": "1.2.0",
       "_view_name": "LayoutView",
       "align_content": null,
       "align_items": null,
       "align_self": null,
       "border": null,
       "bottom": null,
       "display": null,
       "flex": null,
       "flex_flow": null,
       "grid_area": null,
       "grid_auto_columns": null,
       "grid_auto_flow": null,
       "grid_auto_rows": null,
       "grid_column": null,
       "grid_gap": null,
       "grid_row": null,
       "grid_template_areas": null,
       "grid_template_columns": null,
       "grid_template_rows": null,
       "height": null,
       "justify_content": null,
       "justify_items": null,
       "left": null,
       "margin": null,
       "max_height": null,
       "max_width": null,
       "min_height": null,
       "min_width": null,
       "object_fit": null,
       "object_position": null,
       "order": null,
       "overflow": null,
       "overflow_x": null,
       "overflow_y": null,
       "padding": null,
       "right": null,
       "top": null,
       "visibility": null,
       "width": null
      }
     },
     "84c824807a124d259feb2d9739602f67": {
      "model_module": "@jupyter-widgets/controls",
      "model_module_version": "1.5.0",
      "model_name": "SelectionSliderModel",
      "state": {
       "_dom_classes": [],
       "_model_module": "@jupyter-widgets/controls",
       "_model_module_version": "1.5.0",
       "_model_name": "SelectionSliderModel",
       "_options_labels": [
        "1.00e-01 TeV - 1.58e-01 TeV",
        "1.58e-01 TeV - 2.51e-01 TeV",
        "2.51e-01 TeV - 3.98e-01 TeV",
        "3.98e-01 TeV - 6.31e-01 TeV",
        "6.31e-01 TeV - 1.00e+00 TeV",
        "1.00e+00 TeV - 1.58e+00 TeV",
        "1.58e+00 TeV - 2.51e+00 TeV",
        "2.51e+00 TeV - 3.98e+00 TeV",
        "3.98e+00 TeV - 6.31e+00 TeV",
        "6.31e+00 TeV - 1.00e+01 TeV"
       ],
       "_view_count": null,
       "_view_module": "@jupyter-widgets/controls",
       "_view_module_version": "1.5.0",
       "_view_name": "SelectionSliderView",
       "continuous_update": false,
       "description": "Select energy:",
       "description_tooltip": null,
       "disabled": false,
       "index": 0,
       "layout": "IPY_MODEL_f0e40ad7eb674574accde1e328e8129b",
       "orientation": "horizontal",
       "readout": true,
       "style": "IPY_MODEL_e325838252f141e2b54ef3a0fdceb0f9"
      }
     },
     "86b748d309624744aa1dbf7f1bcf9cf3": {
      "model_module": "@jupyter-widgets/base",
      "model_module_version": "1.2.0",
      "model_name": "LayoutModel",
      "state": {
       "_model_module": "@jupyter-widgets/base",
       "_model_module_version": "1.2.0",
       "_model_name": "LayoutModel",
       "_view_count": null,
       "_view_module": "@jupyter-widgets/base",
       "_view_module_version": "1.2.0",
       "_view_name": "LayoutView",
       "align_content": null,
       "align_items": null,
       "align_self": null,
       "border": null,
       "bottom": null,
       "display": null,
       "flex": null,
       "flex_flow": null,
       "grid_area": null,
       "grid_auto_columns": null,
       "grid_auto_flow": null,
       "grid_auto_rows": null,
       "grid_column": null,
       "grid_gap": null,
       "grid_row": null,
       "grid_template_areas": null,
       "grid_template_columns": null,
       "grid_template_rows": null,
       "height": null,
       "justify_content": null,
       "justify_items": null,
       "left": null,
       "margin": null,
       "max_height": null,
       "max_width": null,
       "min_height": null,
       "min_width": null,
       "object_fit": null,
       "object_position": null,
       "order": null,
       "overflow": null,
       "overflow_x": null,
       "overflow_y": null,
       "padding": null,
       "right": null,
       "top": null,
       "visibility": null,
       "width": null
      }
     },
     "cfa1c67fc4a54d4696bc6fed679055c9": {
      "model_module": "@jupyter-widgets/base",
      "model_module_version": "1.2.0",
      "model_name": "LayoutModel",
      "state": {
       "_model_module": "@jupyter-widgets/base",
       "_model_module_version": "1.2.0",
       "_model_name": "LayoutModel",
       "_view_count": null,
       "_view_module": "@jupyter-widgets/base",
       "_view_module_version": "1.2.0",
       "_view_name": "LayoutView",
       "align_content": null,
       "align_items": null,
       "align_self": null,
       "border": null,
       "bottom": null,
       "display": null,
       "flex": null,
       "flex_flow": null,
       "grid_area": null,
       "grid_auto_columns": null,
       "grid_auto_flow": null,
       "grid_auto_rows": null,
       "grid_column": null,
       "grid_gap": null,
       "grid_row": null,
       "grid_template_areas": null,
       "grid_template_columns": null,
       "grid_template_rows": null,
       "height": null,
       "justify_content": null,
       "justify_items": null,
       "left": null,
       "margin": null,
       "max_height": null,
       "max_width": null,
       "min_height": null,
       "min_width": null,
       "object_fit": null,
       "object_position": null,
       "order": null,
       "overflow": null,
       "overflow_x": null,
       "overflow_y": null,
       "padding": null,
       "right": null,
       "top": null,
       "visibility": null,
       "width": null
      }
     },
     "e325838252f141e2b54ef3a0fdceb0f9": {
      "model_module": "@jupyter-widgets/controls",
      "model_module_version": "1.5.0",
      "model_name": "DescriptionStyleModel",
      "state": {
       "_model_module": "@jupyter-widgets/controls",
       "_model_module_version": "1.5.0",
       "_model_name": "DescriptionStyleModel",
       "_view_count": null,
       "_view_module": "@jupyter-widgets/base",
       "_view_module_version": "1.2.0",
       "_view_name": "StyleView",
       "description_width": "initial"
      }
     },
     "f0e40ad7eb674574accde1e328e8129b": {
      "model_module": "@jupyter-widgets/base",
      "model_module_version": "1.2.0",
      "model_name": "LayoutModel",
      "state": {
       "_model_module": "@jupyter-widgets/base",
       "_model_module_version": "1.2.0",
       "_model_name": "LayoutModel",
       "_view_count": null,
       "_view_module": "@jupyter-widgets/base",
       "_view_module_version": "1.2.0",
       "_view_name": "LayoutView",
       "align_content": null,
       "align_items": null,
       "align_self": null,
       "border": null,
       "bottom": null,
       "display": null,
       "flex": null,
       "flex_flow": null,
       "grid_area": null,
       "grid_auto_columns": null,
       "grid_auto_flow": null,
       "grid_auto_rows": null,
       "grid_column": null,
       "grid_gap": null,
       "grid_row": null,
       "grid_template_areas": null,
       "grid_template_columns": null,
       "grid_template_rows": null,
       "height": null,
       "justify_content": null,
       "justify_items": null,
       "left": null,
       "margin": null,
       "max_height": null,
       "max_width": null,
       "min_height": null,
       "min_width": null,
       "object_fit": null,
       "object_position": null,
       "order": null,
       "overflow": null,
       "overflow_x": null,
       "overflow_y": null,
       "padding": null,
       "right": null,
       "top": null,
       "visibility": null,
       "width": "50%"
      }
     },
     "f2ef87a1736e4d2186b67e4c75154285": {
      "model_module": "@jupyter-widgets/controls",
      "model_module_version": "1.5.0",
      "model_name": "VBoxModel",
      "state": {
       "_dom_classes": [
        "widget-interact"
       ],
       "_model_module": "@jupyter-widgets/controls",
       "_model_module_version": "1.5.0",
       "_model_name": "VBoxModel",
       "_view_count": null,
       "_view_module": "@jupyter-widgets/controls",
       "_view_module_version": "1.5.0",
       "_view_name": "VBoxView",
       "box_style": "",
       "children": [
        "IPY_MODEL_84c824807a124d259feb2d9739602f67",
        "IPY_MODEL_38bcf763c68040b2ab8d5cf3e16bf078",
        "IPY_MODEL_4e1cddcd65424e32b10840208ea6f5aa"
       ],
       "layout": "IPY_MODEL_86b748d309624744aa1dbf7f1bcf9cf3"
      }
     }
    },
    "version_major": 2,
    "version_minor": 0
   }
  }
 },
 "nbformat": 4,
 "nbformat_minor": 5
}
