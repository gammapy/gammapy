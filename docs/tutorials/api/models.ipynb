{
 "cells": [
  {
   "cell_type": "markdown",
   "metadata": {},
   "source": [
    "# Models\n",
    "\n",
    "\n",
    "This is an introduction and overview on how to work with models in Gammapy. \n",
    "\n",
    "The sub-package `~gammapy.modeling` contains all the functionality related to modeling and fitting\n",
    "data. This includes spectral, spatial and temporal model classes, as well as the fit\n",
    "and parameter API. We will cover the follwing topics in order:\n",
    "\n",
    "1. [Spectral Models](#Spectral-Models)\n",
    "1. [Spatial Models](#Spatial-Models)\n",
    "1. [Temporal Models](#Temporal-Models)\n",
    "1. [SkyModel](#SkyModel)\n",
    "1. [Modifying model parameters](#Modifying-model-parameters)\n",
    "1. [Model Lists and Serialisation](#Model-Lists-and-Serialisation)\n",
    "1. [Implementing as Custom Model](#Implementing-a-Custom-Model)\n",
    "1. [Energy dependent models](#Models-with-energy-dependent-morphology)\n",
    "\n",
    "The models follow a naming scheme which contains the category as a suffix to the class name. An overview of all the available models can be found in the [model gallery](https://docs.gammapy.org/dev/modeling/gallery/index.html#spectral-models).\n",
    "\n",
    "Note that there are separate tutorials, [model_management](model_management.ipynb) and [fitting](fitting.ipynb) that explains about `~gammapy.modeling`,\n",
    "the Gammapy modeling and fitting framework. You have to read that to learn how to work with models in order to analyse data.\n",
    "\n"
   ]
  },
  {
   "cell_type": "markdown",
   "metadata": {},
   "source": [
    "## Setup"
   ]
  },
  {
   "cell_type": "code",
   "execution_count": null,
   "metadata": {},
   "outputs": [],
   "source": [
    "%matplotlib inline\n",
    "import numpy as np\n",
    "import matplotlib.pyplot as plt"
   ]
  },
  {
   "cell_type": "code",
   "execution_count": null,
   "metadata": {},
   "outputs": [],
   "source": [
    "from astropy import units as u\n",
    "from gammapy.maps import Map, WcsGeom, MapAxis"
   ]
  },
  {
   "cell_type": "markdown",
   "metadata": {},
   "source": [
    "## Spectral models\n",
    "\n",
    "All models are imported from the `~gammapy.modeling.models` namespace. Let's start with a `PowerLawSpectralModel`:"
   ]
  },
  {
   "cell_type": "code",
   "execution_count": null,
   "metadata": {},
   "outputs": [],
   "source": [
    "from gammapy.modeling.models import PowerLawSpectralModel"
   ]
  },
  {
   "cell_type": "code",
   "execution_count": null,
   "metadata": {},
   "outputs": [],
   "source": [
    "pwl = PowerLawSpectralModel()\n",
    "print(pwl)"
   ]
  },
  {
   "cell_type": "markdown",
   "metadata": {},
   "source": [
    "To get a list of all available spectral models you can import and print the spectral model registry or take a look at the [model gallery](https://docs.gammapy.org/dev/modeling/gallery/index.html#spectral-models):"
   ]
  },
  {
   "cell_type": "code",
   "execution_count": null,
   "metadata": {},
   "outputs": [],
   "source": [
    "from gammapy.modeling.models import SPECTRAL_MODEL_REGISTRY\n",
    "\n",
    "print(SPECTRAL_MODEL_REGISTRY)"
   ]
  },
  {
   "cell_type": "markdown",
   "metadata": {},
   "source": [
    "Spectral models all come with default parameters. Different parameter\n",
    "values can be passed on creation of the model, either as a string defining\n",
    "the value and unit or as an `astropy.units.Quantity` object directly:"
   ]
  },
  {
   "cell_type": "code",
   "execution_count": null,
   "metadata": {},
   "outputs": [],
   "source": [
    "amplitude = 1e-12 * u.Unit(\"TeV-1 cm-2 s-1\")\n",
    "pwl = PowerLawSpectralModel(amplitude=amplitude, index=2.2)"
   ]
  },
  {
   "cell_type": "markdown",
   "metadata": {},
   "source": [
    "For convenience a `str` specifying the value and unit can be passed as well:"
   ]
  },
  {
   "cell_type": "code",
   "execution_count": null,
   "metadata": {},
   "outputs": [],
   "source": [
    "pwl = PowerLawSpectralModel(amplitude=\"2.7e-12 TeV-1 cm-2 s-1\", index=2.2)\n",
    "print(pwl)"
   ]
  },
  {
   "cell_type": "markdown",
   "metadata": {},
   "source": [
    "The model can be evaluated at given energies by calling the model instance:"
   ]
  },
  {
   "cell_type": "code",
   "execution_count": null,
   "metadata": {},
   "outputs": [],
   "source": [
    "energy = [1, 3, 10, 30] * u.TeV\n",
    "dnde = pwl(energy)\n",
    "print(dnde)"
   ]
  },
  {
   "cell_type": "markdown",
   "metadata": {},
   "source": [
    "The returned quantity is a differential photon flux. \n",
    "\n",
    "For spectral models you can additionally compute the integrated and energy flux\n",
    "in a given energy range:"
   ]
  },
  {
   "cell_type": "code",
   "execution_count": null,
   "metadata": {},
   "outputs": [],
   "source": [
    "flux = pwl.integral(energy_min=1 * u.TeV, energy_max=10 * u.TeV)\n",
    "print(flux)\n",
    "\n",
    "eflux = pwl.energy_flux(energy_min=1 * u.TeV, energy_max=10 * u.TeV)\n",
    "print(eflux)"
   ]
  },
  {
   "cell_type": "markdown",
   "metadata": {},
   "source": [
    "This also works for a list or an array of integration boundaries:"
   ]
  },
  {
   "cell_type": "code",
   "execution_count": null,
   "metadata": {},
   "outputs": [],
   "source": [
    "energy = [1, 3, 10, 30] * u.TeV\n",
    "flux = pwl.integral(energy_min=energy[:-1], energy_max=energy[1:])\n",
    "print(flux)"
   ]
  },
  {
   "cell_type": "markdown",
   "metadata": {},
   "source": [
    "In some cases it can be useful to find use the inverse of a spectral model, to find the energy at which a given flux is reached:"
   ]
  },
  {
   "cell_type": "code",
   "execution_count": null,
   "metadata": {},
   "outputs": [],
   "source": [
    "dnde = 2.7e-12 * u.Unit(\"TeV-1 cm-2 s-1\")\n",
    "energy = pwl.inverse(dnde)\n",
    "print(energy)"
   ]
  },
  {
   "cell_type": "markdown",
   "metadata": {},
   "source": [
    "As a convenience you can also plot any spectral model in a given energy range:"
   ]
  },
  {
   "cell_type": "code",
   "execution_count": null,
   "metadata": {},
   "outputs": [],
   "source": [
    "pwl.plot(energy_bounds=[1, 100] * u.TeV)"
   ]
  },
  {
   "cell_type": "markdown",
   "metadata": {},
   "source": [
    "### Norm Spectral Models"
   ]
  },
  {
   "cell_type": "markdown",
   "metadata": {},
   "source": [
    "Normed spectral models are a special class of Spectral Models, which have a dimension-less normalisation. These spectral models feature a norm parameter instead\n",
    "of amplitude and are named using the ``NormSpectralModel`` suffix. They **must** be used along with another spectral model, as a multiplicative correction factor according to their spectral shape. They can be typically used for adjusting template based models, or adding a EBL correction to some analytic model. \n",
    "\n",
    "To check if a given `SpectralModel` is a norm model, you can simply look at the `is_norm_spectral_model` property"
   ]
  },
  {
   "cell_type": "code",
   "execution_count": null,
   "metadata": {},
   "outputs": [],
   "source": [
    "# To see the available norm models shipped with gammapy:\n",
    "for model in SPECTRAL_MODEL_REGISTRY:\n",
    "    if model.is_norm_spectral_model:\n",
    "        print(model)"
   ]
  },
  {
   "cell_type": "markdown",
   "metadata": {},
   "source": [
    "As an example, we see the `PowerLawNormSpectralModel`"
   ]
  },
  {
   "cell_type": "code",
   "execution_count": null,
   "metadata": {},
   "outputs": [],
   "source": [
    "from gammapy.modeling.models import PowerLawNormSpectralModel"
   ]
  },
  {
   "cell_type": "code",
   "execution_count": null,
   "metadata": {},
   "outputs": [],
   "source": [
    "pwl_norm = PowerLawNormSpectralModel(tilt=0.1)\n",
    "print(pwl_norm)"
   ]
  },
  {
   "cell_type": "markdown",
   "metadata": {},
   "source": [
    "We can check the correction introduced at each energy "
   ]
  },
  {
   "cell_type": "code",
   "execution_count": null,
   "metadata": {},
   "outputs": [],
   "source": [
    "energy = [0.3, 1, 3, 10, 30] * u.TeV\n",
    "pwl_norm(energy)"
   ]
  },
  {
   "cell_type": "markdown",
   "metadata": {},
   "source": [
    "A typical use case of a norm model would be in applying spectral correction to a `TemplateSpectralModel`. A template model is defined by custom tabular values provided at initialization. "
   ]
  },
  {
   "cell_type": "code",
   "execution_count": null,
   "metadata": {},
   "outputs": [],
   "source": [
    "from gammapy.modeling.models import TemplateSpectralModel"
   ]
  },
  {
   "cell_type": "code",
   "execution_count": null,
   "metadata": {},
   "outputs": [],
   "source": [
    "energy = [0.3, 1, 3, 10, 30] * u.TeV\n",
    "values = [40, 30, 20, 10, 1] * u.Unit(\"TeV-1 s-1 cm-2\")\n",
    "template = TemplateSpectralModel(energy, values)\n",
    "template.plot(energy_bounds=[0.2, 50] * u.TeV, label=\"template model\")\n",
    "normed_template = template * pwl_norm\n",
    "normed_template.plot(\n",
    "    energy_bounds=[0.2, 50] * u.TeV, label=\"normed_template model\"\n",
    ")\n",
    "plt.legend();"
   ]
  },
  {
   "cell_type": "markdown",
   "metadata": {},
   "source": [
    "### Compound Spectral Model\n",
    "\n",
    "A `CompoundSpectralModel` is an arithmetic combination of two spectral models. The model `normed_template` created in the preceeding example is an example of a `CompoundSpectralModel`\n"
   ]
  },
  {
   "cell_type": "code",
   "execution_count": null,
   "metadata": {},
   "outputs": [],
   "source": [
    "print(normed_template)"
   ]
  },
  {
   "cell_type": "markdown",
   "metadata": {},
   "source": [
    "To create an additive model, you can do simply:"
   ]
  },
  {
   "cell_type": "code",
   "execution_count": null,
   "metadata": {},
   "outputs": [],
   "source": [
    "model_add = pwl + template\n",
    "print(model_add)"
   ]
  },
  {
   "cell_type": "markdown",
   "metadata": {},
   "source": [
    "## Spatial models"
   ]
  },
  {
   "cell_type": "markdown",
   "metadata": {},
   "source": [
    "Spatial models are imported from the same `~gammapy.modeling.models` namespace, let's start with a `GaussianSpatialModel`:"
   ]
  },
  {
   "cell_type": "code",
   "execution_count": null,
   "metadata": {},
   "outputs": [],
   "source": [
    "from gammapy.modeling.models import GaussianSpatialModel"
   ]
  },
  {
   "cell_type": "code",
   "execution_count": null,
   "metadata": {},
   "outputs": [],
   "source": [
    "gauss = GaussianSpatialModel(lon_0=\"0 deg\", lat_0=\"0 deg\", sigma=\"0.2 deg\")\n",
    "print(gauss)"
   ]
  },
  {
   "cell_type": "markdown",
   "metadata": {},
   "source": [
    "Again you can check the `SPATIAL_MODELS` registry to see which models are available or take a look at the [model gallery](https://docs.gammapy.org/dev/modeling/gallery/index.html#spatial-models)."
   ]
  },
  {
   "cell_type": "code",
   "execution_count": null,
   "metadata": {},
   "outputs": [],
   "source": [
    "from gammapy.modeling.models import SPATIAL_MODEL_REGISTRY\n",
    "\n",
    "print(SPATIAL_MODEL_REGISTRY)"
   ]
  },
  {
   "cell_type": "markdown",
   "metadata": {},
   "source": [
    "The default coordinate frame for all spatial models is ``\"icrs\"``, but the frame can be modified using the\n",
    "``frame`` argument:"
   ]
  },
  {
   "cell_type": "code",
   "execution_count": null,
   "metadata": {},
   "outputs": [],
   "source": [
    "gauss = GaussianSpatialModel(\n",
    "    lon_0=\"0 deg\", lat_0=\"0 deg\", sigma=\"0.2 deg\", frame=\"galactic\"\n",
    ")"
   ]
  },
  {
   "cell_type": "markdown",
   "metadata": {},
   "source": [
    "You can specify any valid `astropy.coordinates` frame. The center position of the model can be retrieved as a `astropy.coordinates.SkyCoord` object using `SpatialModel.position`: "
   ]
  },
  {
   "cell_type": "code",
   "execution_count": null,
   "metadata": {},
   "outputs": [],
   "source": [
    "print(gauss.position)"
   ]
  },
  {
   "cell_type": "markdown",
   "metadata": {},
   "source": [
    "Spatial models can be evaluated again by calling the instance:"
   ]
  },
  {
   "cell_type": "code",
   "execution_count": null,
   "metadata": {},
   "outputs": [],
   "source": [
    "lon = [0, 0.1] * u.deg\n",
    "lat = [0, 0.1] * u.deg\n",
    "\n",
    "flux_per_omega = gauss(lon, lat)\n",
    "print(flux_per_omega)"
   ]
  },
  {
   "cell_type": "markdown",
   "metadata": {},
   "source": [
    "The returned quantity corresponds to a surface brightness. Spatial model\n",
    "can be also evaluated using `~gammapy.maps.Map` and `~gammapy.maps.Geom` objects:"
   ]
  },
  {
   "cell_type": "code",
   "execution_count": null,
   "metadata": {},
   "outputs": [],
   "source": [
    "m = Map.create(skydir=(0, 0), width=(1, 1), binsz=0.02, frame=\"galactic\")\n",
    "m.quantity = gauss.evaluate_geom(m.geom)\n",
    "m.plot(add_cbar=True);"
   ]
  },
  {
   "cell_type": "markdown",
   "metadata": {},
   "source": [
    "Again for convenience the model can be plotted directly:"
   ]
  },
  {
   "cell_type": "code",
   "execution_count": null,
   "metadata": {},
   "outputs": [],
   "source": [
    "gauss.plot(add_cbar=True);"
   ]
  },
  {
   "cell_type": "markdown",
   "metadata": {},
   "source": [
    "All spatial models have an associated sky region to it e.g. to illustrate the extend of the model on a sky image. The returned object is an `regions.SkyRegion` object:"
   ]
  },
  {
   "cell_type": "code",
   "execution_count": null,
   "metadata": {},
   "outputs": [],
   "source": [
    "print(gauss.to_region())"
   ]
  },
  {
   "cell_type": "markdown",
   "metadata": {},
   "source": [
    "Now we can plot the region on an sky image:"
   ]
  },
  {
   "cell_type": "code",
   "execution_count": null,
   "metadata": {
    "nbsphinx-thumbnail": {
     "tooltip": "Introduction and overview on how to work with models in Gammapy."
    }
   },
   "outputs": [],
   "source": [
    "# create and plot the model\n",
    "gauss_elongated = GaussianSpatialModel(\n",
    "    lon_0=\"0 deg\", lat_0=\"0 deg\", sigma=\"0.2 deg\", e=0.7, phi=\"45 deg\"\n",
    ")\n",
    "ax = gauss_elongated.plot(add_cbar=True)\n",
    "\n",
    "# add region illustration\n",
    "region = gauss_elongated.to_region()\n",
    "region_pix = region.to_pixel(ax.wcs)\n",
    "ax.add_artist(region_pix.as_artist(ec=\"w\", fc=\"None\"));"
   ]
  },
  {
   "cell_type": "markdown",
   "metadata": {},
   "source": [
    "The `.to_region()` method can also be useful to write e.g. ds9 region files using `write_ds9` from the `regions` package:"
   ]
  },
  {
   "cell_type": "code",
   "execution_count": null,
   "metadata": {},
   "outputs": [],
   "source": [
    "from regions import write_ds9\n",
    "\n",
    "regions = [gauss.to_region(), gauss_elongated.to_region()]\n",
    "\n",
    "filename = \"regions.reg\"\n",
    "write_ds9(regions, filename, coordsys=\"galactic\", fmt=\".4f\", radunit=\"deg\")"
   ]
  },
  {
   "cell_type": "code",
   "execution_count": null,
   "metadata": {},
   "outputs": [],
   "source": [
    "!cat regions.reg"
   ]
  },
  {
   "cell_type": "markdown",
   "metadata": {},
   "source": [
    "## Temporal models"
   ]
  },
  {
   "cell_type": "markdown",
   "metadata": {},
   "source": [
    "Temporal models are imported from the same `~gammapy.modeling.models` namespace, let's start with a `GaussianTemporalModel`:"
   ]
  },
  {
   "cell_type": "code",
   "execution_count": null,
   "metadata": {},
   "outputs": [],
   "source": [
    "from gammapy.modeling.models import GaussianTemporalModel"
   ]
  },
  {
   "cell_type": "code",
   "execution_count": null,
   "metadata": {},
   "outputs": [],
   "source": [
    "gauss_temp = GaussianTemporalModel(t_ref=59240.0 * u.d, sigma=2.0 * u.d)\n",
    "print(gauss_temp)"
   ]
  },
  {
   "cell_type": "markdown",
   "metadata": {},
   "source": [
    "To check the `TEMPORAL_MODELS` registry to see which models are available:"
   ]
  },
  {
   "cell_type": "code",
   "execution_count": null,
   "metadata": {},
   "outputs": [],
   "source": [
    "from gammapy.modeling.models import TEMPORAL_MODEL_REGISTRY\n",
    "\n",
    "print(TEMPORAL_MODEL_REGISTRY)"
   ]
  },
  {
   "cell_type": "markdown",
   "metadata": {},
   "source": [
    "Temporal models can be evaluated on `astropy.time.Time` objects. The returned quantity is a dimensionless number"
   ]
  },
  {
   "cell_type": "code",
   "execution_count": null,
   "metadata": {},
   "outputs": [],
   "source": [
    "from astropy.time import Time\n",
    "\n",
    "time = Time(\"2021-01-29 00:00:00.000\")\n",
    "gauss_temp(time)"
   ]
  },
  {
   "cell_type": "markdown",
   "metadata": {},
   "source": [
    "As for other models, they can be plotted in a given time range"
   ]
  },
  {
   "cell_type": "code",
   "execution_count": null,
   "metadata": {},
   "outputs": [],
   "source": [
    "time = Time([59233.0, 59250], format=\"mjd\")\n",
    "gauss_temp.plot(time)"
   ]
  },
  {
   "cell_type": "markdown",
   "metadata": {},
   "source": [
    "## SkyModel"
   ]
  },
  {
   "cell_type": "markdown",
   "metadata": {},
   "source": [
    "The `~gammapy.modeling.models.SkyModel` class combines a spectral, and optionally, a spatial model and a temporal. It can be created\n",
    "from existing spectral, spatial and temporal model components:"
   ]
  },
  {
   "cell_type": "code",
   "execution_count": null,
   "metadata": {},
   "outputs": [],
   "source": [
    "from gammapy.modeling.models import SkyModel\n",
    "\n",
    "model = SkyModel(\n",
    "    spectral_model=pwl,\n",
    "    spatial_model=gauss,\n",
    "    temporal_model=gauss_temp,\n",
    "    name=\"my-source\",\n",
    ")\n",
    "print(model)"
   ]
  },
  {
   "cell_type": "markdown",
   "metadata": {},
   "source": [
    "It is good practice to specify a name for your sky model, so that you can access it later by name and have meaningful identifier you serilisation. If you don't define a name, a unique random name is generated:"
   ]
  },
  {
   "cell_type": "code",
   "execution_count": null,
   "metadata": {},
   "outputs": [],
   "source": [
    "model_without_name = SkyModel(spectral_model=pwl, spatial_model=gauss)\n",
    "print(model_without_name.name)"
   ]
  },
  {
   "cell_type": "markdown",
   "metadata": {},
   "source": [
    "The individual components of the source model can be accessed using `.spectral_model`,  `.spatial_model` and `.temporal_model`:"
   ]
  },
  {
   "cell_type": "code",
   "execution_count": null,
   "metadata": {},
   "outputs": [],
   "source": [
    "model.spectral_model"
   ]
  },
  {
   "cell_type": "code",
   "execution_count": null,
   "metadata": {},
   "outputs": [],
   "source": [
    "model.spatial_model"
   ]
  },
  {
   "cell_type": "code",
   "execution_count": null,
   "metadata": {},
   "outputs": [],
   "source": [
    "model.temporal_model"
   ]
  },
  {
   "cell_type": "markdown",
   "metadata": {},
   "source": [
    "And can be used as you have seen already seen above:"
   ]
  },
  {
   "cell_type": "code",
   "execution_count": null,
   "metadata": {},
   "outputs": [],
   "source": [
    "model.spectral_model.plot(energy_bounds=[1, 10] * u.TeV);"
   ]
  },
  {
   "cell_type": "markdown",
   "metadata": {},
   "source": [
    "Note that the gammapy fitting can interface only with a `SkyModel` and **not** its individual components. So, it is customary to work with `SkyModel` even if you are not doing a 3D fit. Since the amplitude parameter resides on the `SpectralModel`, specifying a spectral component is compulsory. The temporal and spatial components are optional. The temporal model needs to be specified only for timing analysis. In some cases (e.g. when doing a spectral analysis) there is no need for a spatial component either, and only a spectral model is associated with the source. "
   ]
  },
  {
   "cell_type": "code",
   "execution_count": null,
   "metadata": {},
   "outputs": [],
   "source": [
    "model_spectrum = SkyModel(spectral_model=pwl, name=\"source-spectrum\")\n",
    "print(model_spectrum)"
   ]
  },
  {
   "cell_type": "markdown",
   "metadata": {},
   "source": [
    "Additionally the spatial model of `~gammapy.modeling.models.SkyModel` can be used to represent source models based on templates, where the spatial and energy axes are correlated. It can be created e.g. from an existing FITS file:\n",
    "\n"
   ]
  },
  {
   "cell_type": "code",
   "execution_count": null,
   "metadata": {},
   "outputs": [],
   "source": [
    "from gammapy.modeling.models import TemplateSpatialModel\n",
    "from gammapy.modeling.models import PowerLawNormSpectralModel"
   ]
  },
  {
   "cell_type": "code",
   "execution_count": null,
   "metadata": {},
   "outputs": [],
   "source": [
    "diffuse_cube = TemplateSpatialModel.read(\n",
    "    \"$GAMMAPY_DATA/fermi-3fhl-gc/gll_iem_v06_gc.fits.gz\", normalize=False\n",
    ")\n",
    "diffuse = SkyModel(PowerLawNormSpectralModel(), diffuse_cube)\n",
    "print(diffuse)"
   ]
  },
  {
   "cell_type": "markdown",
   "metadata": {},
   "source": [
    "Note that if the spatial model is not normalized over the sky it has to be combined with a normalized spectral model, for example `~gammapy.modeling.models.PowerLawNormSpectralModel`. This is the only case in `gammapy.models.SkyModel` where the unit is fully attached to the spatial model."
   ]
  },
  {
   "cell_type": "markdown",
   "metadata": {},
   "source": [
    "## Modifying model parameters\n",
    "\n",
    "Model parameters can be modified (eg: frozen, values changed, etc at any point), eg:"
   ]
  },
  {
   "cell_type": "code",
   "execution_count": null,
   "metadata": {},
   "outputs": [],
   "source": [
    "# Freezing a parameter\n",
    "model.spectral_model.index.frozen = True\n",
    "# Making a parameter free\n",
    "model.spectral_model.index.frozen = False"
   ]
  },
  {
   "cell_type": "code",
   "execution_count": null,
   "metadata": {},
   "outputs": [],
   "source": [
    "# Changing a value\n",
    "model.spectral_model.index.value = 3"
   ]
  },
  {
   "cell_type": "code",
   "execution_count": null,
   "metadata": {},
   "outputs": [],
   "source": [
    "# Setting min and max ranges on parameters\n",
    "model.spectral_model.index.min = 1.0\n",
    "model.spectral_model.index.max = 5.0"
   ]
  },
  {
   "cell_type": "code",
   "execution_count": null,
   "metadata": {},
   "outputs": [],
   "source": [
    "# Visualise the model as a table\n",
    "model.parameters.to_table().show_in_notebook()"
   ]
  },
  {
   "cell_type": "markdown",
   "metadata": {},
   "source": [
    "You can use the interactive boxes to choose model parameters by name, type or other attrributes mentioned in the column names."
   ]
  },
  {
   "cell_type": "markdown",
   "metadata": {},
   "source": [
    "## Model lists and serialisation\n",
    "\n",
    "In a typical analysis scenario a model consists of mutiple model components, or a \"catalog\" or \"source library\". To handle this list of multiple model components, Gammapy has a `Models` class:"
   ]
  },
  {
   "cell_type": "code",
   "execution_count": null,
   "metadata": {},
   "outputs": [],
   "source": [
    "from gammapy.modeling.models import Models"
   ]
  },
  {
   "cell_type": "code",
   "execution_count": null,
   "metadata": {},
   "outputs": [],
   "source": [
    "models = Models([model, diffuse])\n",
    "print(models)"
   ]
  },
  {
   "cell_type": "markdown",
   "metadata": {},
   "source": [
    "Individual model components in the list can be accessed by their name:"
   ]
  },
  {
   "cell_type": "code",
   "execution_count": null,
   "metadata": {},
   "outputs": [],
   "source": [
    "print(models[\"my-source\"])"
   ]
  },
  {
   "cell_type": "markdown",
   "metadata": {},
   "source": [
    "**Note:**To make the access by name unambiguous, models are required to have a unique name, otherwise an error will be thrown.\n",
    "\n",
    "To see which models are available you can use the `.names` attribute:"
   ]
  },
  {
   "cell_type": "code",
   "execution_count": null,
   "metadata": {},
   "outputs": [],
   "source": [
    "print(models.names)"
   ]
  },
  {
   "cell_type": "markdown",
   "metadata": {},
   "source": [
    "Note that a `SkyModel` object can be evaluated for a given longitude, latitude, and energy, but the `Models` object cannot. This `Models` container object will be assigned to `Dataset` or `Datasets` together with the data to be fitted as explained in other analysis tutorials (see for example the [modeling](../analysis/2D/modeling_2D.ipynb) notebook).\n",
    "\n",
    "The `Models` class also has in place `.append()` and `.extend()` methods:"
   ]
  },
  {
   "cell_type": "code",
   "execution_count": null,
   "metadata": {},
   "outputs": [],
   "source": [
    "model_copy = model.copy(name=\"my-source-copy\")\n",
    "models.append(model_copy)"
   ]
  },
  {
   "cell_type": "markdown",
   "metadata": {},
   "source": [
    "This list of models can be also serialised to a custom YAML based format: "
   ]
  },
  {
   "cell_type": "code",
   "execution_count": null,
   "metadata": {},
   "outputs": [],
   "source": [
    "models_yaml = models.to_yaml()\n",
    "print(models_yaml)"
   ]
  },
  {
   "cell_type": "markdown",
   "metadata": {},
   "source": [
    "The structure of the yaml files follows the structure of the python objects.\n",
    "The `components` listed correspond to the `SkyModel` and `SkyDiffuseCube` components of the `Models`. \n",
    "For each `SkyModel` we have  informations about its `name`, `type` (corresponding to the tag attribute) and sub-mobels (i.e `spectral` model and eventually `spatial` model). Then the spatial and spectral models are defiend by their type and parameters. The `parameters` keys name/value/unit are mandatory, while the keys min/max/frozen are optionnals (so you can prepare shorter files).\n",
    "\n",
    "If you want to write this list of models to disk and read it back later you can use:"
   ]
  },
  {
   "cell_type": "code",
   "execution_count": null,
   "metadata": {},
   "outputs": [],
   "source": [
    "models.write(\"models.yaml\", overwrite=True)"
   ]
  },
  {
   "cell_type": "code",
   "execution_count": null,
   "metadata": {},
   "outputs": [],
   "source": [
    "models_read = Models.read(\"models.yaml\")"
   ]
  },
  {
   "cell_type": "markdown",
   "metadata": {},
   "source": [
    "Additionally the models can exported and imported togeter with the data using the `Datasets.read()` and `Datasets.write()` methods as shown in the [analysis_mwl](../analysis/3D/analysis_mwl.ipynb) notebook."
   ]
  },
  {
   "cell_type": "markdown",
   "metadata": {
    "jupyter": {
     "outputs_hidden": false
    }
   },
   "source": [
    "## Implementing a custom model\n",
    "\n",
    "In order to add a user defined spectral model you have to create a SpectralModel subclass.\n",
    "This new model class should include:\n",
    "\n",
    "- a tag used for serialization (it can be the same as the class name)\n",
    "- an instantiation of each Parameter with their unit, default values and frozen status\n",
    "- the evaluate function where the mathematical expression for the model is defined.\n",
    "\n",
    "As an example we will use a PowerLawSpectralModel plus a Gaussian (with fixed width).\n",
    "First we define the new custom model class that we name `MyCustomSpectralModel`:"
   ]
  },
  {
   "cell_type": "code",
   "execution_count": null,
   "metadata": {},
   "outputs": [],
   "source": [
    "from gammapy.modeling.models import SpectralModel, Parameter\n",
    "\n",
    "\n",
    "class MyCustomSpectralModel(SpectralModel):\n",
    "    \"\"\"My custom spectral model, parametrising a power law plus a Gaussian spectral line.\n",
    "\n",
    "    Parameters\n",
    "    ----------\n",
    "    amplitude : `astropy.units.Quantity`\n",
    "        Amplitude of the spectra model.\n",
    "    index : `astropy.units.Quantity`\n",
    "        Spectral index of the model.\n",
    "    reference : `astropy.units.Quantity`\n",
    "        Reference energy of the power law.\n",
    "    mean : `astropy.units.Quantity`\n",
    "        Mean value of the Gaussian.\n",
    "    width : `astropy.units.Quantity`\n",
    "        Sigma width of the Gaussian line.\n",
    "\n",
    "    \"\"\"\n",
    "\n",
    "    tag = \"MyCustomSpectralModel\"\n",
    "    amplitude = Parameter(\"amplitude\", \"1e-12 cm-2 s-1 TeV-1\", min=0)\n",
    "    index = Parameter(\"index\", 2, min=0)\n",
    "    reference = Parameter(\"reference\", \"1 TeV\", frozen=True)\n",
    "    mean = Parameter(\"mean\", \"1 TeV\", min=0)\n",
    "    width = Parameter(\"width\", \"0.1 TeV\", min=0, frozen=True)\n",
    "\n",
    "    @staticmethod\n",
    "    def evaluate(energy, index, amplitude, reference, mean, width):\n",
    "        pwl = PowerLawSpectralModel.evaluate(\n",
    "            energy=energy,\n",
    "            index=index,\n",
    "            amplitude=amplitude,\n",
    "            reference=reference,\n",
    "        )\n",
    "        gauss = amplitude * np.exp(-((energy - mean) ** 2) / (2 * width ** 2))\n",
    "        return pwl + gauss"
   ]
  },
  {
   "cell_type": "markdown",
   "metadata": {},
   "source": [
    "It is good practice to also implement a docstring for the model, defining the parameters and also definig a `tag`, which specifies the name of the model for serialisation. Also note that gammapy assumes that all SpectralModel evaluate functions return a flux in unit of `\"cm-2 s-1 TeV-1\"` (or equivalent dimensions).\n",
    "\n",
    "\n",
    "\n",
    "This model can now be used as any other spectral model in Gammapy:"
   ]
  },
  {
   "cell_type": "code",
   "execution_count": null,
   "metadata": {},
   "outputs": [],
   "source": [
    "my_custom_model = MyCustomSpectralModel(mean=\"3 TeV\")\n",
    "print(my_custom_model)"
   ]
  },
  {
   "cell_type": "code",
   "execution_count": null,
   "metadata": {},
   "outputs": [],
   "source": [
    "my_custom_model.integral(1 * u.TeV, 10 * u.TeV)"
   ]
  },
  {
   "cell_type": "code",
   "execution_count": null,
   "metadata": {},
   "outputs": [],
   "source": [
    "my_custom_model.plot(energy_bounds=[1, 10] * u.TeV)"
   ]
  },
  {
   "cell_type": "markdown",
   "metadata": {},
   "source": [
    "As a next step we can also register the custom model in the `SPECTRAL_MODELS` registry, so that it becomes available for serilisation:"
   ]
  },
  {
   "cell_type": "code",
   "execution_count": null,
   "metadata": {},
   "outputs": [],
   "source": [
    "SPECTRAL_MODEL_REGISTRY.append(MyCustomSpectralModel)"
   ]
  },
  {
   "cell_type": "code",
   "execution_count": null,
   "metadata": {},
   "outputs": [],
   "source": [
    "model = SkyModel(spectral_model=my_custom_model, name=\"my-source\")\n",
    "models = Models([model])\n",
    "models.write(\"my-custom-models.yaml\", overwrite=True)"
   ]
  },
  {
   "cell_type": "code",
   "execution_count": null,
   "metadata": {},
   "outputs": [],
   "source": [
    "!cat my-custom-models.yaml"
   ]
  },
  {
   "cell_type": "markdown",
   "metadata": {},
   "source": [
    "Similarly you can also create custom spatial models and add them to the `SPATIAL_MODELS` registry. In that case gammapy assumes that the evaluate function return a normalized quantity in \"sr-1\" such as the model integral over the whole sky is one."
   ]
  },
  {
   "cell_type": "markdown",
   "metadata": {},
   "source": [
    "## Models with energy dependent morphology\n",
    "\n",
    "A common science case in the study of extended sources is to probe for energy dependent morphology, eg: in Supernova Remnants or Pulsar Wind Nebulae. Traditionally, this has been done by splitting the data into energy bands and doing individual fits of the morphology in these energy bands.\n",
    "\n",
    "`SkyModel` offers a natural framework to simultaneously model the energy and morphology, e.g. spatial extent described by a parametric model expression with energy dependent parameters.\n",
    "\n",
    "The models shipped within gammapy use a “factorised” representation of the source model, where the spatial ($l,b$), energy ($E$) and time ($t$) dependence are independent model components and not correlated:\n",
    "\n",
    "   $$f(l, b, E, t) = F(l, b) \\cdot G(E) \\cdot H(t) $$\n",
    "    \n",
    "To use full 3D models, ie $f(l, b, E) = F(l, b, E) \\cdot G(E) $,  you have to implement your own custom `SpatialModel`. Note that it is still necessary to multiply by a `SpectralModel`, $G(E)$ to be dimensionally consistent.\n",
    "\n",
    "In this example, we create Gaussian Spatial Model with the extension varying with energy. For simplicity, we assume a linear dependence on energy and parameterize this by specifing the extension at 2 energies. You can add more complex dependences, probably motivated by physical models."
   ]
  },
  {
   "cell_type": "code",
   "execution_count": null,
   "metadata": {},
   "outputs": [],
   "source": [
    "from gammapy.modeling.models import SpatialModel\n",
    "from astropy.coordinates.angle_utilities import angular_separation\n",
    "\n",
    "\n",
    "class MyCustomGaussianModel(SpatialModel):\n",
    "    \"\"\"My custom Energy Dependent Gaussian model.\n",
    "\n",
    "    Parameters\n",
    "    ----------\n",
    "    lon_0, lat_0 : `~astropy.coordinates.Angle`\n",
    "        Center position\n",
    "    sigma_1TeV : `~astropy.coordinates.Angle`\n",
    "        Width of the Gaussian at 1 TeV\n",
    "    sigma_10TeV : `~astropy.coordinates.Angle`\n",
    "        Width of the Gaussian at 10 TeV\n",
    "\n",
    "    \"\"\"\n",
    "\n",
    "    tag = \"MyCustomGaussianModel\"\n",
    "    is_energy_dependent = True\n",
    "    lon_0 = Parameter(\"lon_0\", \"0 deg\")\n",
    "    lat_0 = Parameter(\"lat_0\", \"0 deg\", min=-90, max=90)\n",
    "\n",
    "    sigma_1TeV = Parameter(\"sigma_1TeV\", \"2.0 deg\", min=0)\n",
    "    sigma_10TeV = Parameter(\"sigma_10TeV\", \"0.2 deg\", min=0)\n",
    "\n",
    "    @staticmethod\n",
    "    def evaluate(lon, lat, energy, lon_0, lat_0, sigma_1TeV, sigma_10TeV):\n",
    "\n",
    "        sep = angular_separation(lon, lat, lon_0, lat_0)\n",
    "\n",
    "        # Compute sigma for the given energy using linear interpolation in log energy\n",
    "        sigma_nodes = u.Quantity([sigma_1TeV, sigma_10TeV])\n",
    "        energy_nodes = [1, 10] * u.TeV\n",
    "        log_s = np.log(sigma_nodes.to(\"deg\").value)\n",
    "        log_en = np.log(energy_nodes.to(\"TeV\").value)\n",
    "        log_e = np.log(energy.to(\"TeV\").value)\n",
    "        sigma = np.exp(np.interp(log_e, log_en, log_s)) * u.deg\n",
    "\n",
    "        exponent = -0.5 * (sep / sigma) ** 2\n",
    "        norm = 1 / (2 * np.pi * sigma ** 2)\n",
    "        return norm * np.exp(exponent)"
   ]
  },
  {
   "cell_type": "markdown",
   "metadata": {},
   "source": [
    "Serialisation of this model can be achieved as explained in the previous section.\n",
    "You can now use it as stadard `SpatialModel` in your analysis. Note that this is still a `SpatialModel`, and not a `SkyModel`, so it needs to be multiplied by a `SpectralModel` as before. "
   ]
  },
  {
   "cell_type": "code",
   "execution_count": null,
   "metadata": {},
   "outputs": [],
   "source": [
    "spatial_model = MyCustomGaussianModel()\n",
    "spectral_model = PowerLawSpectralModel()\n",
    "sky_model = SkyModel(\n",
    "    spatial_model=spatial_model, spectral_model=spectral_model\n",
    ")"
   ]
  },
  {
   "cell_type": "code",
   "execution_count": null,
   "metadata": {},
   "outputs": [],
   "source": [
    "spatial_model.evaluation_radius"
   ]
  },
  {
   "cell_type": "markdown",
   "metadata": {},
   "source": [
    "To visualise it, we evaluate it on a 3D geom. "
   ]
  },
  {
   "cell_type": "code",
   "execution_count": null,
   "metadata": {},
   "outputs": [],
   "source": [
    "energy_axis = MapAxis.from_energy_bounds(\n",
    "    energy_min=0.1 * u.TeV, energy_max=10.0 * u.TeV, nbin=3, name=\"energy_true\"\n",
    ")\n",
    "geom = WcsGeom.create(\n",
    "    skydir=(0, 0), width=5.0 * u.deg, binsz=0.1, axes=[energy_axis]\n",
    ")\n",
    "\n",
    "spatial_model.plot_grid(geom=geom, add_cbar=True, figsize=(14, 3));"
   ]
  },
  {
   "cell_type": "markdown",
   "metadata": {},
   "source": [
    "For computational purposes, it is useful to specify a `evaluation_radius` for `SpatialModels` - this gives a size on which to compute the model. Though optional, it is highly recommened for Custom Spatial Models. This can be done, for ex, by defining the following function inside the above class:"
   ]
  },
  {
   "cell_type": "code",
   "execution_count": null,
   "metadata": {},
   "outputs": [],
   "source": [
    "@property\n",
    "def evaluation_radius(self):\n",
    "    \"\"\"Evaluation radius (`~astropy.coordinates.Angle`).\"\"\"\n",
    "    return 5 * np.max([self.sigma_1TeV.value, self.sigma_10TeV.value]) * u.deg"
   ]
  }
 ],
 "metadata": {
  "kernelspec": {
   "display_name": "Python 3",
   "language": "python",
   "name": "python3"
  },
  "language_info": {
   "codemirror_mode": {
    "name": "ipython",
    "version": 3
   },
   "file_extension": ".py",
   "mimetype": "text/x-python",
   "name": "python",
   "nbconvert_exporter": "python",
   "pygments_lexer": "ipython3",
   "version": "3.7.0"
  },
  "latex_envs": {
   "LaTeX_envs_menu_present": true,
   "autoclose": false,
   "autocomplete": true,
   "bibliofile": "biblio.bib",
   "cite_by": "apalike",
   "current_citInitial": 1,
   "eqLabelWithNumbers": true,
   "eqNumInitial": 1,
   "hotkeys": {
    "equation": "Ctrl-E",
    "itemize": "Ctrl-I"
   },
   "labels_anchors": false,
   "latex_user_defs": false,
   "report_style_numbering": false,
   "user_envs_cfg": false
  }
 },
 "nbformat": 4,
 "nbformat_minor": 4
}
