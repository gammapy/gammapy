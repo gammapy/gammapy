{
 "cells": [
  {
   "cell_type": "markdown",
   "metadata": {},
   "source": [
    "# Event sampling\n",
    "\n",
    "## Prerequisites \n",
    "\n",
    "To understand how to generate a Model and a MapDataset, and how to fit the data, please refer to the `~gammapy.modeling.models.SkyModel` and [simulate_3d](simulate_3d.ipynb)."
   ]
  },
  {
   "cell_type": "markdown",
   "metadata": {},
   "source": [
    "## Context \n",
    "\n",
    "This tutorial describes how to sample events from an observation of a one (or more) gamma-ray source(s). The main aim of the tutorial will be to set the minimal configuration needed to deal with the Gammapy event-sampler and how to obtain an output photon event list.\n",
    "\n",
    "The core of the event sampling lies into the Gammapy `~gammapy.datasets.MapDatasetEventSampler` class, which is based on the inverse cumulative distribution function [(Inverse CDF)](https://en.wikipedia.org/wiki/Cumulative_distribution_function#Inverse_distribution_function_(quantile_function)). \n",
    "\n",
    "The `~gammapy.datasets.MapDatasetEventSampler` takes in input a `~gammapy.datasets.Dataset` object containing the spectral, spatial and temporal properties of the source(s) of interest.\n",
    "\n",
    "The `~gammapy.datasets.MapDatasetEventSampler` class evaluates the map of predicted counts (`npred`) per bin of the given Sky model, and the `npred` map is then used to sample the events. In particular, the output of the event-sampler will be a set of events having information about their true coordinates, true energies and times of arrival. \n",
    "\n",
    "To these events, IRF corrections (i.e. PSF and energy dispersion) can also further applied in order to obtain reconstructed coordinates and energies of the sampled events. \n",
    "\n",
    "At the end of this process, you will obtain an event-list in FITS format. "
   ]
  },
  {
   "cell_type": "markdown",
   "metadata": {},
   "source": [
    "## Objective\n",
    "Describe the process of sampling events from a given Sky model and obtaining an output event-list."
   ]
  },
  {
   "cell_type": "markdown",
   "metadata": {},
   "source": [
    "## Proposed approach\n",
    "\n",
    "In this section, we will show how to define a `gammapy.data.Observations` and to create a `~gammapy.datasets.Dataset` object (for more info on `~gammapy.datasets.Dataset` objects, please visit this [link](../../starting/analysis_2.ipynb#Preparing-reduced-datasets-geometry)). These are both necessary for the event sampling. \n",
    "Then, we will define the Sky model from which we sample events. \n",
    "\n",
    "In this tutorial, we propose two examples for sampling events: one chosing a point-like source and one using a template map."
   ]
  },
  {
   "cell_type": "markdown",
   "metadata": {},
   "source": [
    "## Setup\n",
    "As usual, let's start with some general imports...\n"
   ]
  },
  {
   "cell_type": "code",
   "execution_count": 1,
   "metadata": {},
   "outputs": [],
   "source": [
    "%matplotlib inline"
   ]
  },
  {
   "cell_type": "code",
   "execution_count": 2,
   "metadata": {},
   "outputs": [],
   "source": [
    "import matplotlib.pyplot as plt\n",
    "from pathlib import Path\n",
    "import numpy as np\n",
    "import astropy.units as u\n",
    "from astropy.io import fits\n",
    "from astropy.table import Table\n",
    "from astropy.time import Time\n",
    "from astropy.coordinates import SkyCoord\n",
    "from gammapy.data import DataStore, Observation\n",
    "from gammapy.datasets import MapDataset, MapDatasetEventSampler\n",
    "from gammapy.estimators import LightCurveEstimator\n",
    "from gammapy.maps import MapAxis, WcsGeom, Map\n",
    "from gammapy.irf import load_cta_irfs\n",
    "from gammapy.makers import MapDatasetMaker\n",
    "from gammapy.modeling import Fit\n",
    "from gammapy.modeling.models import (\n",
    "    Model,\n",
    "    Models,\n",
    "    SkyModel,\n",
    "    PowerLawSpectralModel,\n",
    "    PowerLawNormSpectralModel,\n",
    "    PointSpatialModel,\n",
    "    TemplateSpatialModel,\n",
    "    ExpDecayTemporalModel,\n",
    "    LightCurveTemplateTemporalModel,\n",
    "    FoVBackgroundModel,\n",
    ")"
   ]
  },
  {
   "cell_type": "markdown",
   "metadata": {},
   "source": [
    "### Define an Observation\n",
    "\n",
    "You can firstly create a `gammapy.data.Observations` object that contains the pointing position, the GTIs and the IRF you want to consider. \n",
    "\n",
    "Hereafter, we chose the IRF of the South configuration used for the CTA DC1 and we set the pointing position of the simulated field at the Galactic Center. We also fix the exposure time to 1 hr.\n",
    "\n",
    "Let's start with some initial settings:"
   ]
  },
  {
   "cell_type": "code",
   "execution_count": 3,
   "metadata": {},
   "outputs": [],
   "source": [
    "filename = (\n",
    "    \"$GAMMAPY_DATA/cta-1dc/caldb/data/cta/1dc/bcf/South_z20_50h/irf_file.fits\"\n",
    ")\n",
    "\n",
    "pointing = SkyCoord(0.0, 0.0, frame=\"galactic\", unit=\"deg\")\n",
    "livetime = 1 * u.hr"
   ]
  },
  {
   "cell_type": "markdown",
   "metadata": {},
   "source": [
    "Now you can create the observation:"
   ]
  },
  {
   "cell_type": "code",
   "execution_count": 4,
   "metadata": {},
   "outputs": [
    {
     "name": "stderr",
     "output_type": "stream",
     "text": [
      "Invalid unit found in background table! Assuming (s-1 MeV-1 sr-1)\n"
     ]
    }
   ],
   "source": [
    "irfs = load_cta_irfs(filename)\n",
    "observation = Observation.create(\n",
    "    obs_id=1001, pointing=pointing, livetime=livetime, irfs=irfs\n",
    ")"
   ]
  },
  {
   "cell_type": "markdown",
   "metadata": {},
   "source": [
    "### Define the MapDataset\n",
    "\n",
    "Let's generate the `~gammapy.datasets.Dataset` object: we define the energy axes (true and reconstruncted), the migration axis and the geometry of the observation. \n",
    "\n",
    "*This is a crucial point for the correct configuration of the event sampler. Indeed the spatial and energetic binning should be treaten carefully and... the finer the better. For this reason, we suggest to define the energy axes by setting a minimum binning of least 10-20 bins per decade for all the sources of interest. The spatial binning may instead be different from source to source and, at first order, it should be adopted a binning significantly smaller than the expected source size.*\n",
    "\n",
    "For the examples that will be shown hereafter, we set the geometry of the dataset to a field of view of 2degx2deg and we  bin the spatial map with pixels of 0.02 deg."
   ]
  },
  {
   "cell_type": "code",
   "execution_count": 5,
   "metadata": {},
   "outputs": [],
   "source": [
    "energy_axis = MapAxis.from_energy_bounds(\n",
    "    \"0.1 TeV\", \"100 TeV\", nbin=10, per_decade=True\n",
    ")\n",
    "energy_axis_true = MapAxis.from_energy_bounds(\n",
    "    \"0.03 TeV\", \"300 TeV\", nbin=20, per_decade=True, name=\"energy_true\"\n",
    ")\n",
    "migra_axis = MapAxis.from_bounds(\n",
    "    0.5, 2, nbin=150, node_type=\"edges\", name=\"migra\"\n",
    ")\n",
    "\n",
    "geom = WcsGeom.create(\n",
    "    skydir=pointing,\n",
    "    width=(2, 2),\n",
    "    binsz=0.02,\n",
    "    frame=\"galactic\",\n",
    "    axes=[energy_axis],\n",
    ")"
   ]
  },
  {
   "cell_type": "markdown",
   "metadata": {},
   "source": [
    "In the following, the dataset is created by selecting the effective area, background model, the PSF and the Edisp from the IRF. The dataset thus produced can be saved into a FITS file just using the `write()` function. We put it into the `evt_sampling` sub-folder:"
   ]
  },
  {
   "cell_type": "code",
   "execution_count": 6,
   "metadata": {},
   "outputs": [
    {
     "name": "stdout",
     "output_type": "stream",
     "text": [
      "CPU times: user 1.08 s, sys: 343 ms, total: 1.42 s\n",
      "Wall time: 1.5 s\n"
     ]
    }
   ],
   "source": [
    "%%time\n",
    "empty = MapDataset.create(\n",
    "    geom,\n",
    "    energy_axis_true=energy_axis_true,\n",
    "    migra_axis=migra_axis,\n",
    "    name=\"my-dataset\",\n",
    ")\n",
    "maker = MapDatasetMaker(selection=[\"exposure\", \"background\", \"psf\", \"edisp\"])\n",
    "dataset = maker.run(empty, observation)\n",
    "\n",
    "Path(\"event_sampling\").mkdir(exist_ok=True)\n",
    "dataset.write(\"./event_sampling/dataset.fits\", overwrite=True)"
   ]
  },
  {
   "cell_type": "markdown",
   "metadata": {},
   "source": [
    "### Define the Sky model: a point-like source\n",
    "\n",
    "Now let's define a Sky model (see how to create it [here](../../api/models.ipynb)) for a point-like source centered 0.5 deg far from the Galactic Center and with a power-law spectrum. We then save the model into a yaml file."
   ]
  },
  {
   "cell_type": "code",
   "execution_count": 7,
   "metadata": {},
   "outputs": [],
   "source": [
    "spectral_model_pwl = PowerLawSpectralModel(\n",
    "    index=2, amplitude=\"1e-12 TeV-1 cm-2 s-1\", reference=\"1 TeV\"\n",
    ")\n",
    "spatial_model_point = PointSpatialModel(\n",
    "    lon_0=\"0 deg\", lat_0=\"0.5 deg\", frame=\"galactic\"\n",
    ")\n",
    "\n",
    "sky_model_pntpwl = SkyModel(\n",
    "    spectral_model=spectral_model_pwl,\n",
    "    spatial_model=spatial_model_point,\n",
    "    name=\"point-pwl\",\n",
    ")\n",
    "\n",
    "bkg_model = FoVBackgroundModel(dataset_name=\"my-dataset\")\n",
    "\n",
    "models = Models([sky_model_pntpwl, bkg_model])\n",
    "\n",
    "file_model = \"./event_sampling/point-pwl.yaml\"\n",
    "models.write(file_model, overwrite=True)"
   ]
  },
  {
   "cell_type": "markdown",
   "metadata": {},
   "source": [
    "### Sampling the source and background events"
   ]
  },
  {
   "cell_type": "markdown",
   "metadata": {},
   "source": [
    "Now, we can finally add the `~gammapy.modeling.models.SkyModel` we want to event-sample to the `~gammapy.datasets.Dataset` container:"
   ]
  },
  {
   "cell_type": "code",
   "execution_count": 8,
   "metadata": {},
   "outputs": [
    {
     "name": "stdout",
     "output_type": "stream",
     "text": [
      "DatasetModels\n",
      "\n",
      "Component 0: SkyModel\n",
      "\n",
      "  Name                      : point-pwl\n",
      "  Datasets names            : None\n",
      "  Spectral model type       : PowerLawSpectralModel\n",
      "  Spatial  model type       : PointSpatialModel\n",
      "  Temporal model type       : \n",
      "  Parameters:\n",
      "    index                   :   2.000              \n",
      "    amplitude               :   1.00e-12  1 / (cm2 s TeV)\n",
      "    reference    (frozen)   :   1.000  TeV         \n",
      "    lon_0                   :   0.000  deg         \n",
      "    lat_0                   :   0.500  deg         \n",
      "\n",
      "Component 1: FoVBackgroundModel\n",
      "\n",
      "  Name                      : my-dataset-bkg\n",
      "  Datasets names            : ['my-dataset']\n",
      "  Spectral model type       : PowerLawNormSpectralModel\n",
      "  Parameters:\n",
      "    norm                    :   1.000              \n",
      "    tilt         (frozen)   :   0.000              \n",
      "    reference    (frozen)   :   1.000  TeV         \n",
      "\n",
      "\n"
     ]
    }
   ],
   "source": [
    "dataset.models = models\n",
    "print(dataset.models)"
   ]
  },
  {
   "cell_type": "markdown",
   "metadata": {},
   "source": [
    "The next step shows how to sample the events with the `~gammapy.datasets.MapDatasetEventSampler` class. The class requests a random number seed generator (that we set with `random_state=0`), the `~gammapy.datasets.Dataset` and the `gammapy.data.Observations` object. From the latter, the `~gammapy.datasets.MapDatasetEventSampler` class takes all the meta data information."
   ]
  },
  {
   "cell_type": "code",
   "execution_count": 9,
   "metadata": {},
   "outputs": [
    {
     "name": "stdout",
     "output_type": "stream",
     "text": [
      "CPU times: user 2.78 s, sys: 721 ms, total: 3.5 s\n",
      "Wall time: 3.53 s\n"
     ]
    }
   ],
   "source": [
    "%%time\n",
    "sampler = MapDatasetEventSampler(random_state=0)\n",
    "events = sampler.run(dataset, observation)"
   ]
  },
  {
   "cell_type": "markdown",
   "metadata": {},
   "source": [
    "The output of the event-sampler is an event list with coordinates, energies and time of arrivals of the source and background events. Source and background events are flagged by the MC_ID identifier (where 0 is the default identifier for the background)."
   ]
  },
  {
   "cell_type": "code",
   "execution_count": 10,
   "metadata": {},
   "outputs": [
    {
     "name": "stdout",
     "output_type": "stream",
     "text": [
      "Source events: 175\n",
      "Background events: 11804\n"
     ]
    }
   ],
   "source": [
    "print(f\"Source events: {(events.table['MC_ID'] == 1).sum()}\")\n",
    "print(f\"Background events: {(events.table['MC_ID'] == 0).sum()}\")"
   ]
  },
  {
   "cell_type": "markdown",
   "metadata": {},
   "source": [
    "We can inspect the properties of the simulated events as follows:"
   ]
  },
  {
   "cell_type": "code",
   "execution_count": 12,
   "metadata": {},
   "outputs": [],
   "source": [
    "events.select_offset([0, 1] * u.deg).peek()"
   ]
  },
  {
   "cell_type": "markdown",
   "metadata": {},
   "source": [
    "By default, the `~gammapy.datasets.MapDatasetEventSampler` fills the metadata keyword `OBJECT` in the event list using the first model of the SkyModel object. You can change it with the following commands:"
   ]
  },
  {
   "cell_type": "code",
   "execution_count": 13,
   "metadata": {},
   "outputs": [],
   "source": [
    "events.table.meta[\"OBJECT\"] = dataset.models[0].name"
   ]
  },
  {
   "cell_type": "markdown",
   "metadata": {},
   "source": [
    "Let's write the event list and its GTI extension to a FITS file. We make use of `fits` library in `astropy`:"
   ]
  },
  {
   "cell_type": "code",
   "execution_count": 14,
   "metadata": {},
   "outputs": [],
   "source": [
    "primary_hdu = fits.PrimaryHDU()\n",
    "hdu_evt = fits.BinTableHDU(events.table)\n",
    "hdu_gti = fits.BinTableHDU(dataset.gti.table, name=\"GTI\")\n",
    "hdu_all = fits.HDUList([primary_hdu, hdu_evt, hdu_gti])\n",
    "hdu_all.writeto(\"./event_sampling/events_0001.fits\", overwrite=True)"
   ]
  },
  {
   "cell_type": "markdown",
   "metadata": {},
   "source": [
    "#### Generate a skymap\n",
    "A skymap of the simulated events can be obtained with:"
   ]
  },
  {
   "cell_type": "code",
   "execution_count": 15,
   "metadata": {
    "nbsphinx-thumbnail": {
     "tooltip": "Check out the process of sampling events from a given sky model and obtain a simulated events list."
    }
   },
   "outputs": [
    {
     "data": {
      "image/png": "[encoded data removed]",
      "text/plain": [
       "<Figure size 432x288 with 2 Axes>"
      ]
     },
     "metadata": {
      "needs_background": "light"
     },
     "output_type": "display_data"
    }
   ],
   "source": [
    "counts = Map.create(\n",
    "    frame=\"galactic\", skydir=(0, 0.0), binsz=0.02, npix=(100, 100)\n",
    ")\n",
    "counts.fill_events(events)\n",
    "counts.plot(add_cbar=True);"
   ]
  },
  {
   "cell_type": "markdown",
   "metadata": {},
   "source": [
    "#### Fit the simulated data\n",
    "We can now check the sake of the event sampling by fitting the data (a tutorial of source fitting is [here](../../starting/analysis_2.ipynb#Fit-the-model) and [here](simulate_3d.ipynb). We make use of the same `~gammapy.modeling.models.Models` adopted for the simulation. \n",
    "Hence, we firstly read the `~gammapy.datasets.Dataset` and the model file, and we fill the `~gammapy.datasets.Dataset` with the sampled events."
   ]
  },
  {
   "cell_type": "code",
   "execution_count": 16,
   "metadata": {},
   "outputs": [],
   "source": [
    "models_fit = Models.read(\"./event_sampling/point-pwl.yaml\")\n",
    "\n",
    "counts = Map.from_geom(geom)\n",
    "counts.fill_events(events)\n",
    "\n",
    "dataset.counts = counts\n",
    "dataset.models = models_fit"
   ]
  },
  {
   "cell_type": "markdown",
   "metadata": {},
   "source": [
    "Let's fit the data and look at the results:"
   ]
  },
  {
   "cell_type": "code",
   "execution_count": 17,
   "metadata": {},
   "outputs": [
    {
     "name": "stdout",
     "output_type": "stream",
     "text": [
      "{'optimize_result': OptimizeResult\n",
      "\n",
      "\tbackend    : minuit\n",
      "\tmethod     : minuit\n",
      "\tsuccess    : True\n",
      "\tmessage    : Optimization terminated successfully.\n",
      "\tnfev       : 120\n",
      "\ttotal stat : 71343.23\n",
      ", 'covariance_result': CovarianceResult\n",
      "\n",
      "\tbackend    : minuit\n",
      "\tmethod     : hesse\n",
      "\tsuccess    : True\n",
      "\tmessage    : Hesse terminated successfully.\n",
      "}\n",
      "CPU times: user 43.6 s, sys: 9.89 s, total: 53.5 s\n",
      "Wall time: 53.9 s\n"
     ]
    }
   ],
   "source": [
    "%%time\n",
    "fit = Fit()\n",
    "result = fit.run(dataset)\n",
    "print(result)"
   ]
  },
  {
   "cell_type": "code",
   "execution_count": 19,
   "metadata": {},
   "outputs": [],
   "source": [
    "result.parameters.to_table()"
   ]
  },
  {
   "cell_type": "markdown",
   "metadata": {},
   "source": [
    "The results looks great!"
   ]
  },
  {
   "cell_type": "markdown",
   "metadata": {},
   "source": [
    "## Time variable source using a lightcurve\n",
    "\n",
    "The event sampler can also handle temporal variability of the simulated sources. In this example, we show how \n",
    "to sample a source characterized by an exponential decay, with decay time of 2800 seconds, during the observation. \n",
    "\n",
    "First of all, let's create a lightcurve:"
   ]
  },
  {
   "cell_type": "code",
   "execution_count": 20,
   "metadata": {},
   "outputs": [],
   "source": [
    "t0 = 2800 * u.s\n",
    "t_ref = Time(\"2000-01-01T00:01:04.184\")\n",
    "\n",
    "times = t_ref + livetime * np.linspace(0, 1, 50)\n",
    "expdecay_model = ExpDecayTemporalModel(t_ref=t_ref.mjd * u.d, t0=t0)"
   ]
  },
  {
   "cell_type": "code",
   "execution_count": 21,
   "metadata": {},
   "outputs": [],
   "source": [
    "temporal_model = LightCurveTemplateTemporalModel.read(\"./event_sampling/lc.fits\")\n",
    "\n",
    "spectral_model_pwl.amplitude.value = 2e-10\n",
    "\n",
    "sky_model_pntpwl = SkyModel(\n",
    "    spectral_model=spectral_model_pwl,\n",
    "    spatial_model=spatial_model_point,\n",
    "    temporal_model=expdecay_model,\n",
    "    name=\"point-pwl\",\n",
    ")\n",
    "\n",
    "bkg_model = FoVBackgroundModel(dataset_name=\"my-dataset\")\n",
    "\n",
    "models = Models([sky_model_pntpwl, bkg_model])\n",
    "\n",
    "file_model = \"./event_sampling/point-pwl_decay.yaml\"\n",
    "models.write(file_model, overwrite=True)"
   ]
  },
  {
   "cell_type": "markdown",
   "metadata": {},
   "source": [
    "For simplicity, we use the same dataset defined above:"
   ]
  },
  {
   "cell_type": "code",
   "execution_count": 22,
   "metadata": {},
   "outputs": [
    {
     "name": "stdout",
     "output_type": "stream",
     "text": [
      "DatasetModels\n",
      "\n",
      "Component 0: SkyModel\n",
      "\n",
      "  Name                      : point-pwl\n",
      "  Datasets names            : None\n",
      "  Spectral model type       : PowerLawSpectralModel\n",
      "  Spatial  model type       : PointSpatialModel\n",
      "  Temporal model type       : ExpDecayTemporalModel\n",
      "  Parameters:\n",
      "    index                   :   2.000              \n",
      "    amplitude               :   2.00e-10  1 / (cm2 s TeV)\n",
      "    reference    (frozen)   :   1.000  TeV         \n",
      "    lon_0                   :   0.000  deg         \n",
      "    lat_0                   :   0.500  deg         \n",
      "    t0                      : 2800.000  s           \n",
      "    t_ref        (frozen)   : 51544.001  d           \n",
      "\n",
      "Component 1: FoVBackgroundModel\n",
      "\n",
      "  Name                      : my-dataset-bkg\n",
      "  Datasets names            : ['my-dataset']\n",
      "  Spectral model type       : PowerLawNormSpectralModel\n",
      "  Parameters:\n",
      "    norm                    :   1.000              \n",
      "    tilt         (frozen)   :   0.000              \n",
      "    reference    (frozen)   :   1.000  TeV         \n",
      "\n",
      "\n"
     ]
    }
   ],
   "source": [
    "dataset.models = models\n",
    "print(dataset.models)"
   ]
  },
  {
   "cell_type": "markdown",
   "metadata": {},
   "source": [
    "And now, let's simulate the variable source:"
   ]
  },
  {
   "cell_type": "code",
   "execution_count": 26,
   "metadata": {},
   "outputs": [
    {
     "name": "stdout",
     "output_type": "stream",
     "text": [
      "CPU times: user 4 µs, sys: 0 ns, total: 4 µs\n",
      "Wall time: 31.9 µs\n"
     ]
    }
   ],
   "source": [
    "%%time\n",
    "sampler = MapDatasetEventSampler(random_state=0)\n",
    "events = sampler.run(dataset, observation)"
   ]
  },
  {
   "cell_type": "code",
   "execution_count": null,
   "metadata": {},
   "outputs": [],
   "source": [
    "print(f\"Source events: {(events.table['MC_ID'] == 1).sum()}\")\n",
    "print(f\"Background events: {(events.table['MC_ID'] == 0).sum()}\")"
   ]
  },
  {
   "cell_type": "markdown",
   "metadata": {},
   "source": [
    "We can now inspect the properties of the simulated source. To do that, we adopt the `select_region` function that extracts only the events into a given `SkyRegion` of a `~gammapy.data.event_list.EventList` object:"
   ]
  },
  {
   "cell_type": "code",
   "execution_count": null,
   "metadata": {},
   "outputs": [],
   "source": [
    "src_position = SkyCoord(0.0, 0.5, frame=\"galactic\", unit=\"deg\")\n",
    "\n",
    "on_region_radius = Angle(\"0.15 deg\")\n",
    "on_region = CircleSkyRegion(center=src_position, radius=on_region_radius)\n",
    "\n",
    "src_events = events.select_region(on_region)"
   ]
  },
  {
   "cell_type": "markdown",
   "metadata": {},
   "source": [
    "Then we can have a quick look to the data with the `peek` function:"
   ]
  },
  {
   "cell_type": "code",
   "execution_count": null,
   "metadata": {},
   "outputs": [],
   "source": [
    "src_events.peek()"
   ]
  },
  {
   "cell_type": "markdown",
   "metadata": {},
   "source": [
    "In the right figure of the bottom panel, it is shown the source lightcurve that follows a decay trend as expected."
   ]
  },
  {
   "cell_type": "markdown",
   "metadata": {},
   "source": [
    "## Extended source using a template\n",
    "The event sampler can also work with a template model.\n",
    "Here we use the interstellar emission model map of the Fermi 3FHL, which can be found in the GAMMAPY data repository.\n",
    "\n",
    "We proceed following the same steps showed above and we finally have a look at the event's properties:"
   ]
  },
  {
   "cell_type": "code",
   "execution_count": null,
   "metadata": {},
   "outputs": [],
   "source": [
    "template_model = TemplateSpatialModel.read(\n",
    "    \"$GAMMAPY_DATA/fermi-3fhl-gc/gll_iem_v06_gc.fits.gz\", normalize=False\n",
    ")\n",
    "# we make the model brighter artificially so that it becomes visible over the background\n",
    "diffuse = SkyModel(\n",
    "    spectral_model=PowerLawNormSpectralModel(norm=5),\n",
    "    spatial_model=template_model,\n",
    "    name=\"template-model\",\n",
    ")\n",
    "\n",
    "bkg_model = FoVBackgroundModel(dataset_name=\"my-dataset\")\n",
    "\n",
    "models_diffuse = Models([diffuse, bkg_model])\n",
    "\n",
    "file_model = \"./event_sampling/diffuse.yaml\"\n",
    "models_diffuse.write(file_model, overwrite=True)"
   ]
  },
  {
   "cell_type": "code",
   "execution_count": null,
   "metadata": {},
   "outputs": [],
   "source": [
    "dataset.models = models_diffuse\n",
    "print(dataset.models)"
   ]
  },
  {
   "cell_type": "code",
   "execution_count": null,
   "metadata": {},
   "outputs": [],
   "source": [
    "%%time\n",
    "sampler = MapDatasetEventSampler(random_state=0)\n",
    "events = sampler.run(dataset, observation)"
   ]
  },
  {
   "cell_type": "code",
   "execution_count": null,
   "metadata": {},
   "outputs": [],
   "source": [
    "events.select_offset([0, 1] * u.deg).peek()"
   ]
  },
  {
   "cell_type": "markdown",
   "metadata": {},
   "source": [
    "### Simulate mutiple event list\n",
    "In some user case, you may want to sample events from a number of observations. \n",
    "In this section, we show how to simulate a set of event lists. For simplicity we consider only one point-like source, observed three times for 1 hr and assuming the same pointing position.\n",
    "\n",
    "Let's firstly define the time start and the livetime of each observation:"
   ]
  },
  {
   "cell_type": "code",
   "execution_count": null,
   "metadata": {},
   "outputs": [],
   "source": [
    "tstarts = [1, 5, 7] * u.hr\n",
    "livetimes = [1, 1, 1] * u.hr"
   ]
  },
  {
   "cell_type": "code",
   "execution_count": null,
   "metadata": {},
   "outputs": [],
   "source": [
    "%%time\n",
    "for idx, tstart in enumerate(tstarts):\n",
    "\n",
    "    observation = Observation.create(\n",
    "        obs_id=idx,\n",
    "        pointing=pointing,\n",
    "        tstart=tstart,\n",
    "        livetime=livetimes[idx],\n",
    "        irfs=irfs,\n",
    "    )\n",
    "\n",
    "    dataset = maker.run(empty, observation)\n",
    "    dataset.models = models\n",
    "\n",
    "    sampler = MapDatasetEventSampler(random_state=idx)\n",
    "    events = sampler.run(dataset, observation)\n",
    "    events.table.write(\n",
    "        f\"./event_sampling/events_{idx:04d}.fits\", overwrite=True\n",
    "    )"
   ]
  },
  {
   "cell_type": "markdown",
   "metadata": {},
   "source": [
    "You can now load the event list with `Datastore.from_events_files()` and make your own analysis following the instructions in the [`analysis_2`](analysis_2.ipynb) tutorial."
   ]
  },
  {
   "cell_type": "code",
   "execution_count": null,
   "metadata": {},
   "outputs": [],
   "source": [
    "path = Path(\"./event_sampling/\")\n",
    "paths = list(path.rglob(\"events*.fits\"))\n",
    "data_store = DataStore.from_events_files(paths)\n",
    "data_store.obs_table"
   ]
  },
  {
   "cell_type": "markdown",
   "metadata": {},
   "source": [
    "<!-- ## Read simulated event lists with Datastore.from_events_lists\n",
    "Here we show how to simulate a set of event lists of the same Sky model, but with different GTIs. We make use of the settings we applied previously.\n",
    "Let's define the GTI firstly, chosing a time start and a duration of the observation: -->"
   ]
  },
  {
   "cell_type": "markdown",
   "metadata": {},
   "source": [
    "## Exercises\n",
    "- Try to sample events for an extended source (e.g. a radial gaussian morphology);\n",
    "- Change the spatial model and the spectrum of the simulated Sky model;\n",
    "- Include a temporal model in the simulation"
   ]
  }
 ],
 "metadata": {
  "kernelspec": {
   "display_name": "Python 3",
   "language": "python",
   "name": "python3"
  },
  "language_info": {
   "codemirror_mode": {
    "name": "ipython",
    "version": 3
   },
   "file_extension": ".py",
   "mimetype": "text/x-python",
   "name": "python",
   "nbconvert_exporter": "python",
   "pygments_lexer": "ipython3",
   "version": "3.7.0"
  },
  "latex_envs": {
   "LaTeX_envs_menu_present": true,
   "autoclose": false,
   "autocomplete": true,
   "bibliofile": "biblio.bib",
   "cite_by": "apalike",
   "current_citInitial": 1,
   "eqLabelWithNumbers": true,
   "eqNumInitial": 1,
   "hotkeys": {
    "equation": "Ctrl-E",
    "itemize": "Ctrl-I"
   },
   "labels_anchors": false,
   "latex_user_defs": false,
   "report_style_numbering": false,
   "user_envs_cfg": false
  }
 },
 "nbformat": 4,
 "nbformat_minor": 4
}
