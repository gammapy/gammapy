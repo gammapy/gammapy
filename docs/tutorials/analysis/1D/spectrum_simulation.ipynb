{
 "cells": [
  {
   "cell_type": "markdown",
   "metadata": {},
   "source": [
    "# 1D spectrum simulation\n",
    "\n",
    "## Prerequisites\n",
    "\n",
    "- Knowledge of spectral extraction and datasets used in gammapy, see for instance the [spectral analysis tutorial](spectral_analysis.ipynb)\n",
    "\n",
    "## Context\n",
    "\n",
    "To simulate a specific observation, it is not always necessary to simulate the full photon list. For many uses cases, simulating directly a reduced binned dataset is enough: the IRFs reduced in the correct geometry are combined with a source model to predict an actual number of counts per bin. The latter is then used to simulate a reduced dataset using Poisson probability distribution.\n",
    "\n",
    "This can be done to check the feasibility of a measurement, to test whether fitted parameters really provide a good fit to the data etc.\n",
    "\n",
    "Here we will see how to perform a 1D spectral simulation of a CTA observation, in particular, we will generate OFF observations following the template background stored in the CTA IRFs.\n",
    "\n",
    "**Objective: simulate a number of spectral ON-OFF observations of a source with a power-law spectral model with CTA using the CTA 1DC response, fit them with the assumed spectral model and check that the distribution of fitted parameters is consistent with the input values.**\n",
    "\n",
    "## Proposed approach:\n",
    "\n",
    "We will use the following classes:\n",
    "\n",
    "* `~gammapy.datasets.SpectrumDatasetOnOff`\n",
    "* `~gammapy.datasets.SpectrumDataset`\n",
    "* `~gammapy.irf.load_cta_irfs`\n",
    "* `~gammapy.modeling.models.PowerLawSpectralModel`"
   ]
  },
  {
   "cell_type": "markdown",
   "metadata": {},
   "source": [
    "## Setup\n"
   ]
  },
  {
   "cell_type": "code",
   "execution_count": null,
   "metadata": {},
   "outputs": [],
   "source": [
    "%matplotlib inline\n",
    "import matplotlib.pyplot as plt"
   ]
  },
  {
   "cell_type": "code",
   "execution_count": null,
   "metadata": {},
   "outputs": [],
   "source": [
    "import numpy as np\n",
    "import astropy.units as u\n",
    "from astropy.coordinates import SkyCoord, Angle\n",
    "from regions import CircleSkyRegion\n",
    "from gammapy.datasets import SpectrumDatasetOnOff, SpectrumDataset, Datasets\n",
    "from gammapy.makers import SpectrumDatasetMaker\n",
    "from gammapy.modeling import Fit\n",
    "from gammapy.modeling.models import (\n",
    "    PowerLawSpectralModel,\n",
    "    SkyModel,\n",
    ")\n",
    "from gammapy.irf import load_cta_irfs\n",
    "from gammapy.data import Observation\n",
    "from gammapy.maps import MapAxis, RegionGeom"
   ]
  },
  {
   "cell_type": "markdown",
   "metadata": {},
   "source": [
    "## Simulation of a single spectrum\n",
    "\n",
    "To do a simulation, we need to define the observational parameters like the livetime, the offset, the assumed integration radius, the energy range to perform the simulation for and the choice of spectral model. We then use an in-memory observation which is convolved with the IRFs to get the predicted number of counts. This is Poission fluctuated using the `fake()` to get the simulated counts for each observation.  "
   ]
  },
  {
   "cell_type": "code",
   "execution_count": null,
   "metadata": {},
   "outputs": [],
   "source": [
    "# Define simulation parameters parameters\n",
    "livetime = 1 * u.h\n",
    "\n",
    "pointing = SkyCoord(0, 0, unit=\"deg\", frame=\"galactic\")\n",
    "offset = 0.5 * u.deg\n",
    "\n",
    "# Reconstructed and true energy axis\n",
    "energy_axis = MapAxis.from_edges(\n",
    "    np.logspace(-0.5, 1.0, 10), unit=\"TeV\", name=\"energy\", interp=\"log\"\n",
    ")\n",
    "energy_axis_true = MapAxis.from_edges(\n",
    "    np.logspace(-1.2, 2.0, 31), unit=\"TeV\", name=\"energy_true\", interp=\"log\"\n",
    ")\n",
    "\n",
    "on_region_radius = Angle(\"0.11 deg\")\n",
    "\n",
    "center = pointing.directional_offset_by(\n",
    "    position_angle=0 * u.deg, separation=offset\n",
    ")\n",
    "on_region = CircleSkyRegion(center=center, radius=on_region_radius)"
   ]
  },
  {
   "cell_type": "code",
   "execution_count": null,
   "metadata": {},
   "outputs": [],
   "source": [
    "# Define spectral model - a simple Power Law in this case\n",
    "model_simu = PowerLawSpectralModel(\n",
    "    index=3.0,\n",
    "    amplitude=2.5e-12 * u.Unit(\"cm-2 s-1 TeV-1\"),\n",
    "    reference=1 * u.TeV,\n",
    ")\n",
    "print(model_simu)\n",
    "# we set the sky model used in the dataset\n",
    "model = SkyModel(spectral_model=model_simu, name=\"source\")"
   ]
  },
  {
   "cell_type": "code",
   "execution_count": null,
   "metadata": {},
   "outputs": [],
   "source": [
    "# Load the IRFs\n",
    "# In this simulation, we use the CTA-1DC irfs shipped with gammapy.\n",
    "irfs = load_cta_irfs(\n",
    "    \"$GAMMAPY_DATA/cta-1dc/caldb/data/cta/1dc/bcf/South_z20_50h/irf_file.fits\"\n",
    ")"
   ]
  },
  {
   "cell_type": "code",
   "execution_count": null,
   "metadata": {},
   "outputs": [],
   "source": [
    "obs = Observation.create(pointing=pointing, livetime=livetime, irfs=irfs)\n",
    "print(obs)"
   ]
  },
  {
   "cell_type": "code",
   "execution_count": null,
   "metadata": {},
   "outputs": [],
   "source": [
    "# Make the SpectrumDataset\n",
    "geom = RegionGeom.create(region=on_region, axes=[energy_axis])\n",
    "\n",
    "dataset_empty = SpectrumDataset.create(\n",
    "    geom=geom, energy_axis_true=energy_axis_true, name=\"obs-0\"\n",
    ")\n",
    "maker = SpectrumDatasetMaker(selection=[\"exposure\", \"edisp\", \"background\"])\n",
    "\n",
    "dataset = maker.run(dataset_empty, obs)"
   ]
  },
  {
   "cell_type": "code",
   "execution_count": null,
   "metadata": {},
   "outputs": [],
   "source": [
    "# Set the model on the dataset, and fake\n",
    "dataset.models = model\n",
    "dataset.fake(random_state=42)\n",
    "print(dataset)"
   ]
  },
  {
   "cell_type": "markdown",
   "metadata": {},
   "source": [
    "You can see that backgound counts are now simulated"
   ]
  },
  {
   "cell_type": "markdown",
   "metadata": {},
   "source": [
    "### On-Off analysis\n",
    "\n",
    "To do an on off spectral analysis, which is the usual science case, the standard would be to use `SpectrumDatasetOnOff`, which uses the acceptance to fake off-counts "
   ]
  },
  {
   "cell_type": "code",
   "execution_count": null,
   "metadata": {},
   "outputs": [],
   "source": [
    "dataset_on_off = SpectrumDatasetOnOff.from_spectrum_dataset(\n",
    "    dataset=dataset, acceptance=1, acceptance_off=5\n",
    ")\n",
    "dataset_on_off.fake(npred_background=dataset.npred_background())\n",
    "print(dataset_on_off)"
   ]
  },
  {
   "cell_type": "markdown",
   "metadata": {},
   "source": [
    "You can see that off counts are now simulated as well. We now simulate several spectra using the same set of observation conditions."
   ]
  },
  {
   "cell_type": "code",
   "execution_count": null,
   "metadata": {},
   "outputs": [],
   "source": [
    "%%time\n",
    "\n",
    "n_obs = 100\n",
    "datasets = Datasets()\n",
    "\n",
    "for idx in range(n_obs):\n",
    "    dataset_on_off.fake(\n",
    "        random_state=idx, npred_background=dataset.npred_background()\n",
    "    )\n",
    "    dataset_fake = dataset_on_off.copy(name=f\"obs-{idx}\")\n",
    "    dataset_fake.meta_table[\"OBS_ID\"] = [idx]\n",
    "    datasets.append(dataset_fake)"
   ]
  },
  {
   "cell_type": "code",
   "execution_count": null,
   "metadata": {},
   "outputs": [],
   "source": [
    "table = datasets.info_table()\n",
    "table"
   ]
  },
  {
   "cell_type": "markdown",
   "metadata": {},
   "source": [
    "Before moving on to the fit let's have a look at the simulated observations."
   ]
  },
  {
   "cell_type": "code",
   "execution_count": null,
   "metadata": {},
   "outputs": [],
   "source": [
    "fix, axes = plt.subplots(1, 3, figsize=(12, 4))\n",
    "axes[0].hist(table[\"counts\"])\n",
    "axes[0].set_xlabel(\"Counts\")\n",
    "axes[1].hist(table[\"counts_off\"])\n",
    "axes[1].set_xlabel(\"Counts Off\")\n",
    "axes[2].hist(table[\"excess\"])\n",
    "axes[2].set_xlabel(\"excess\");"
   ]
  },
  {
   "cell_type": "markdown",
   "metadata": {},
   "source": [
    "Now, we fit each simulated spectrum individually "
   ]
  },
  {
   "cell_type": "code",
   "execution_count": null,
   "metadata": {},
   "outputs": [],
   "source": [
    "%%time\n",
    "results = []\n",
    "\n",
    "fit = Fit()\n",
    "\n",
    "for dataset in datasets:\n",
    "    dataset.models = model.copy()\n",
    "    result = fit.optimize(dataset)\n",
    "    results.append(\n",
    "        {\n",
    "            \"index\": result.parameters[\"index\"].value,\n",
    "            \"amplitude\": result.parameters[\"amplitude\"].value,\n",
    "        }\n",
    "    )"
   ]
  },
  {
   "cell_type": "markdown",
   "metadata": {},
   "source": [
    "We take a look at the distribution of the fitted indices. This matches very well with the spectrum that we initially injected."
   ]
  },
  {
   "cell_type": "code",
   "execution_count": null,
   "metadata": {
    "nbsphinx-thumbnail": {
     "tooltip": "Simulate a number of spectral on-off observations of a source with a power-law spectral model using the CTA 1DC response and fit them with the assumed spectral model."
    }
   },
   "outputs": [],
   "source": [
    "index = np.array([_[\"index\"] for _ in results])\n",
    "plt.hist(index, bins=10, alpha=0.5)\n",
    "plt.axvline(x=model_simu.parameters[\"index\"].value, color=\"red\")\n",
    "print(f\"index: {index.mean()} += {index.std()}\")"
   ]
  },
  {
   "cell_type": "markdown",
   "metadata": {},
   "source": [
    "## Exercises\n",
    "\n",
    "* Change the observation time to something longer or shorter. Does the observation and spectrum results change as you expected?\n",
    "* Change the spectral model, e.g. add a cutoff at 5 TeV, or put a steep-spectrum source with spectral index of 4.0\n",
    "* Simulate spectra with the spectral model we just defined. How much observation duration do you need to get back the injected parameters?"
   ]
  },
  {
   "cell_type": "code",
   "execution_count": null,
   "metadata": {},
   "outputs": [],
   "source": []
  }
 ],
 "metadata": {
  "kernelspec": {
   "display_name": "Python 3",
   "language": "python",
   "name": "python3"
  },
  "language_info": {
   "codemirror_mode": {
    "name": "ipython",
    "version": 3
   },
   "file_extension": ".py",
   "mimetype": "text/x-python",
   "name": "python",
   "nbconvert_exporter": "python",
   "pygments_lexer": "ipython3",
   "version": "3.7.0"
  }
 },
 "nbformat": 4,
 "nbformat_minor": 4
}
